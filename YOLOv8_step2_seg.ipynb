{
 "cells": [
  {
   "cell_type": "markdown",
   "id": "37060c00",
   "metadata": {},
   "source": [
    "# YOLOv8 - Segmentação de Defeitos\n",
    "\n"
   ]
  },
  {
   "cell_type": "markdown",
   "id": "8ec1efd3",
   "metadata": {},
   "source": [
    "## 1. Instalar Ultralytics"
   ]
  },
  {
   "cell_type": "code",
   "execution_count": 11,
   "id": "bfe2b1c5",
   "metadata": {},
   "outputs": [],
   "source": [
    "#!pip install ultralytics --upgrade -q\n",
    "\n",
    "from ultralytics import YOLO\n",
    "import os\n",
    "import json\n",
    "import cv2\n",
    "from glob import glob\n",
    "from tqdm import tqdm\n",
    "import shutil\n",
    "from sklearn.model_selection import train_test_split"
   ]
  },
  {
   "cell_type": "markdown",
   "id": "2f6315b9",
   "metadata": {},
   "source": [
    "\n",
    "## 2. Definir caminhos\n"
   ]
  },
  {
   "cell_type": "code",
   "execution_count": 12,
   "id": "fe42bbf6",
   "metadata": {},
   "outputs": [],
   "source": [
    "base_dir = r'D:/blade_30_dataset_complete'\n",
    "images_dir = os.path.join(base_dir, 'images')\n",
    "annotations_dir = os.path.join(base_dir, 'annotations')\n",
    "\n",
    "output_dir = r'D:/datasets/blade_stage2_defects'"
   ]
  },
  {
   "cell_type": "markdown",
   "id": "d6ec0fe4",
   "metadata": {},
   "source": [
    "## 3. Encontrar imagens com JSON correspondente\n"
   ]
  },
  {
   "cell_type": "code",
   "execution_count": 13,
   "id": "6797acf1",
   "metadata": {},
   "outputs": [
    {
     "name": "stdout",
     "output_type": "stream",
     "text": [
      "[⚠️] JSON sem imagem correspondente: 13_116d39e3-2265-4c5f-9cdc-715628847fff\n",
      "✅ Total de pares imagem+json: 260\n"
     ]
    }
   ],
   "source": [
    "json_files = glob(os.path.join(annotations_dir, '*.json'))\n",
    "image_json_pairs = []\n",
    "\n",
    "for json_path in json_files:\n",
    "    base_name = os.path.splitext(os.path.basename(json_path))[0]\n",
    "    image_path = os.path.join(images_dir, f'{base_name}.jpg')\n",
    "    if os.path.exists(image_path):\n",
    "        image_json_pairs.append((image_path, json_path))\n",
    "    else:\n",
    "        print(f\"[⚠️] JSON sem imagem correspondente: {base_name}\")\n",
    "\n",
    "print(f\"✅ Total de pares imagem+json: {len(image_json_pairs)}\")"
   ]
  },
  {
   "cell_type": "markdown",
   "id": "d28d21d5",
   "metadata": {},
   "source": [
    "## 4. Dividir treino/validação\n"
   ]
  },
  {
   "cell_type": "code",
   "execution_count": 14,
   "id": "b673e05b",
   "metadata": {},
   "outputs": [],
   "source": [
    "train_pairs, val_pairs = train_test_split(image_json_pairs, test_size=0.2, random_state=42)\n"
   ]
  },
  {
   "cell_type": "markdown",
   "id": "9b0c0a18",
   "metadata": {},
   "source": [
    "## 5. Função para converter JSON (polygon) para YOLOv8 .txt\n"
   ]
  },
  {
   "cell_type": "code",
   "execution_count": 15,
   "id": "b35cacd8",
   "metadata": {},
   "outputs": [],
   "source": [
    "# ========================\n",
    "def convert_json_to_yolo(json_path, output_txt_path, image_w, image_h):\n",
    "    with open(json_path, 'r') as f:\n",
    "        data = json.load(f)\n",
    "\n",
    "    with open(output_txt_path, 'w') as out:\n",
    "        for shape in data['shapes']:\n",
    "            label = shape['label']\n",
    "            points = shape['points']\n",
    "            if len(points) < 3:\n",
    "                continue\n",
    "            normalized_points = [f\"{x/image_w:.6f} {y/image_h:.6f}\" for x, y in points]\n",
    "            out.write(f\"0 {' '.join(normalized_points)}\\n\")  # classe 0 = defeito"
   ]
  },
  {
   "cell_type": "markdown",
   "id": "1522f455",
   "metadata": {},
   "source": [
    "## 6. Preparar estrutura de pastas\n"
   ]
  },
  {
   "cell_type": "code",
   "execution_count": 16,
   "id": "756cf078",
   "metadata": {},
   "outputs": [],
   "source": [
    "for split in ['train', 'val']:\n",
    "    os.makedirs(os.path.join(output_dir, 'images', split), exist_ok=True)\n",
    "    os.makedirs(os.path.join(output_dir, 'labels', split), exist_ok=True)\n"
   ]
  },
  {
   "cell_type": "markdown",
   "id": "8fd5ff3a",
   "metadata": {},
   "source": [
    "## 7. Processar imagens e anotações\n"
   ]
  },
  {
   "cell_type": "code",
   "execution_count": 17,
   "id": "d9c3e0a6",
   "metadata": {},
   "outputs": [
    {
     "name": "stderr",
     "output_type": "stream",
     "text": [
      "Processando train: 100%|██████████| 208/208 [00:37<00:00,  5.53it/s]\n",
      "Processando val: 100%|██████████| 52/52 [00:08<00:00,  5.88it/s]\n"
     ]
    }
   ],
   "source": [
    "def prepare_defect_split(pairs, split):\n",
    "    for image_path, json_path in tqdm(pairs, desc=f'Processando {split}'):\n",
    "        filename = os.path.basename(image_path)\n",
    "        txt_name = os.path.splitext(filename)[0] + '.txt'\n",
    "\n",
    "        img = cv2.imread(image_path)\n",
    "        h, w = img.shape[:2]\n",
    "\n",
    "        # Salvar imagem\n",
    "        dst_img_path = os.path.join(output_dir, 'images', split, filename)\n",
    "        shutil.copy(image_path, dst_img_path)\n",
    "\n",
    "        # Converter JSON para .txt\n",
    "        dst_lbl_path = os.path.join(output_dir, 'labels', split, txt_name)\n",
    "        convert_json_to_yolo(json_path, dst_lbl_path, w, h)\n",
    "\n",
    "prepare_defect_split(train_pairs, 'train')\n",
    "prepare_defect_split(val_pairs, 'val')"
   ]
  },
  {
   "cell_type": "markdown",
   "id": "6c705c20",
   "metadata": {},
   "source": [
    "## 8. Criar arquivo data.yaml\n"
   ]
  },
  {
   "cell_type": "code",
   "execution_count": 18,
   "id": "3be7f5aa",
   "metadata": {},
   "outputs": [],
   "source": [
    "data_yaml = f\"\"\"\n",
    "path: {output_dir}\n",
    "train: images/train\n",
    "val: images/val\n",
    "\n",
    "nc: 1\n",
    "names: [\"defect\"]\n",
    "\"\"\"\n",
    "\n",
    "with open(os.path.join(output_dir, 'defect.yaml'), 'w') as f:\n",
    "    f.write(data_yaml)\n"
   ]
  },
  {
   "cell_type": "markdown",
   "id": "fa9cd5ab",
   "metadata": {},
   "source": [
    "## 9. Treinar modelo YOLOv8 para defeitos\n"
   ]
  },
  {
   "cell_type": "code",
   "execution_count": 19,
   "id": "a5e14b2a",
   "metadata": {},
   "outputs": [
    {
     "name": "stdout",
     "output_type": "stream",
     "text": [
      "New https://pypi.org/project/ultralytics/8.3.159 available  Update with 'pip install -U ultralytics'\n",
      "Ultralytics 8.3.157  Python-3.12.0 torch-2.7.1+cpu CPU (13th Gen Intel Core(TM) i5-13450HX)\n",
      "\u001b[34m\u001b[1mengine\\trainer: \u001b[0magnostic_nms=False, amp=True, augment=False, auto_augment=randaugment, batch=8, bgr=0.0, box=7.5, cache=False, cfg=None, classes=None, close_mosaic=10, cls=0.5, conf=None, copy_paste=0.0, copy_paste_mode=flip, cos_lr=False, cutmix=0.0, data=D:/datasets/blade_stage2_defects\\defect.yaml, degrees=0.0, deterministic=True, device=cpu, dfl=1.5, dnn=False, dropout=0.0, dynamic=False, embed=None, epochs=85, erasing=0.4, exist_ok=False, fliplr=0.5, flipud=0.0, format=torchscript, fraction=1.0, freeze=None, half=False, hsv_h=0.015, hsv_s=0.7, hsv_v=0.4, imgsz=640, int8=False, iou=0.7, keras=False, kobj=1.0, line_width=None, lr0=0.01, lrf=0.01, mask_ratio=4, max_det=300, mixup=0.0, mode=train, model=yolov8l-seg.pt, momentum=0.937, mosaic=1.0, multi_scale=False, name=blade_defect_segmentation, nbs=64, nms=False, opset=None, optimize=False, optimizer=auto, overlap_mask=True, patience=100, perspective=0.0, plots=True, pose=12.0, pretrained=True, profile=False, project=None, rect=False, resume=False, retina_masks=False, save=True, save_conf=False, save_crop=False, save_dir=runs\\segment\\blade_defect_segmentation, save_frames=False, save_json=False, save_period=-1, save_txt=False, scale=0.5, seed=0, shear=0.0, show=False, show_boxes=True, show_conf=True, show_labels=True, simplify=True, single_cls=False, source=None, split=val, stream_buffer=False, task=segment, time=None, tracker=botsort.yaml, translate=0.1, val=True, verbose=True, vid_stride=1, visualize=False, warmup_bias_lr=0.1, warmup_epochs=3.0, warmup_momentum=0.8, weight_decay=0.0005, workers=8, workspace=None\n",
      "Overriding model.yaml nc=80 with nc=1\n",
      "\n",
      "                   from  n    params  module                                       arguments                     \n",
      "  0                  -1  1      1856  ultralytics.nn.modules.conv.Conv             [3, 64, 3, 2]                 \n",
      "  1                  -1  1     73984  ultralytics.nn.modules.conv.Conv             [64, 128, 3, 2]               \n",
      "  2                  -1  3    279808  ultralytics.nn.modules.block.C2f             [128, 128, 3, True]           \n",
      "  3                  -1  1    295424  ultralytics.nn.modules.conv.Conv             [128, 256, 3, 2]              \n",
      "  4                  -1  6   2101248  ultralytics.nn.modules.block.C2f             [256, 256, 6, True]           \n",
      "  5                  -1  1   1180672  ultralytics.nn.modules.conv.Conv             [256, 512, 3, 2]              \n",
      "  6                  -1  6   8396800  ultralytics.nn.modules.block.C2f             [512, 512, 6, True]           \n",
      "  7                  -1  1   2360320  ultralytics.nn.modules.conv.Conv             [512, 512, 3, 2]              \n",
      "  8                  -1  3   4461568  ultralytics.nn.modules.block.C2f             [512, 512, 3, True]           \n",
      "  9                  -1  1    656896  ultralytics.nn.modules.block.SPPF            [512, 512, 5]                 \n",
      " 10                  -1  1         0  torch.nn.modules.upsampling.Upsample         [None, 2, 'nearest']          \n",
      " 11             [-1, 6]  1         0  ultralytics.nn.modules.conv.Concat           [1]                           \n",
      " 12                  -1  3   4723712  ultralytics.nn.modules.block.C2f             [1024, 512, 3]                \n",
      " 13                  -1  1         0  torch.nn.modules.upsampling.Upsample         [None, 2, 'nearest']          \n",
      " 14             [-1, 4]  1         0  ultralytics.nn.modules.conv.Concat           [1]                           \n",
      " 15                  -1  3   1247744  ultralytics.nn.modules.block.C2f             [768, 256, 3]                 \n",
      " 16                  -1  1    590336  ultralytics.nn.modules.conv.Conv             [256, 256, 3, 2]              \n",
      " 17            [-1, 12]  1         0  ultralytics.nn.modules.conv.Concat           [1]                           \n",
      " 18                  -1  3   4592640  ultralytics.nn.modules.block.C2f             [768, 512, 3]                 \n",
      " 19                  -1  1   2360320  ultralytics.nn.modules.conv.Conv             [512, 512, 3, 2]              \n",
      " 20             [-1, 9]  1         0  ultralytics.nn.modules.conv.Concat           [1]                           \n",
      " 21                  -1  3   4723712  ultralytics.nn.modules.block.C2f             [1024, 512, 3]                \n",
      " 22        [15, 18, 21]  1   7889779  ultralytics.nn.modules.head.Segment          [1, 32, 256, [256, 512, 512]] \n",
      "YOLOv8l-seg summary: 231 layers, 45,936,819 parameters, 45,936,803 gradients, 220.8 GFLOPs\n",
      "\n",
      "Transferred 651/657 items from pretrained weights\n",
      "Freezing layer 'model.22.dfl.conv.weight'\n",
      "\u001b[34m\u001b[1mtrain: \u001b[0mFast image access  (ping: 0.10.0 ms, read: 405.451.9 MB/s, size: 3784.1 KB)\n"
     ]
    },
    {
     "name": "stderr",
     "output_type": "stream",
     "text": [
      "\u001b[34m\u001b[1mtrain: \u001b[0mScanning D:\\datasets\\blade_stage2_defects\\labels\\train.cache... 208 images, 0 backgrounds, 0 corrupt: 100%|██████████| 208/208 [00:00<?, ?it/s]"
     ]
    },
    {
     "name": "stdout",
     "output_type": "stream",
     "text": [
      "\u001b[34m\u001b[1mval: \u001b[0mFast image access  (ping: 0.10.0 ms, read: 420.472.4 MB/s, size: 3432.6 KB)\n"
     ]
    },
    {
     "name": "stderr",
     "output_type": "stream",
     "text": [
      "\n",
      "c:\\Users\\steva\\AppData\\Local\\Programs\\Python\\Python312\\Lib\\site-packages\\torch\\utils\\data\\dataloader.py:665: UserWarning: 'pin_memory' argument is set as true but no accelerator is found, then device pinned memory won't be used.\n",
      "  warnings.warn(warn_msg)\n",
      "\u001b[34m\u001b[1mval: \u001b[0mScanning D:\\datasets\\blade_stage2_defects\\labels\\val.cache... 52 images, 0 backgrounds, 0 corrupt: 100%|██████████| 52/52 [00:00<?, ?it/s]"
     ]
    },
    {
     "name": "stdout",
     "output_type": "stream",
     "text": [
      "Plotting labels to runs\\segment\\blade_defect_segmentation\\labels.jpg... \n"
     ]
    },
    {
     "name": "stderr",
     "output_type": "stream",
     "text": [
      "\n",
      "c:\\Users\\steva\\AppData\\Local\\Programs\\Python\\Python312\\Lib\\site-packages\\torch\\utils\\data\\dataloader.py:665: UserWarning: 'pin_memory' argument is set as true but no accelerator is found, then device pinned memory won't be used.\n",
      "  warnings.warn(warn_msg)\n"
     ]
    },
    {
     "name": "stdout",
     "output_type": "stream",
     "text": [
      "\u001b[34m\u001b[1moptimizer:\u001b[0m 'optimizer=auto' found, ignoring 'lr0=0.01' and 'momentum=0.937' and determining best 'optimizer', 'lr0' and 'momentum' automatically... \n",
      "\u001b[34m\u001b[1moptimizer:\u001b[0m AdamW(lr=0.002, momentum=0.9) with parameter groups 106 weight(decay=0.0), 117 weight(decay=0.0005), 116 bias(decay=0.0)\n",
      "Image sizes 640 train, 640 val\n",
      "Using 0 dataloader workers\n",
      "Logging results to \u001b[1mruns\\segment\\blade_defect_segmentation\u001b[0m\n",
      "Starting training for 85 epochs...\n",
      "\n",
      "      Epoch    GPU_mem   box_loss   seg_loss   cls_loss   dfl_loss  Instances       Size\n"
     ]
    },
    {
     "name": "stderr",
     "output_type": "stream",
     "text": [
      "       1/85         0G      1.715      2.678      3.912      1.352         28        640: 100%|██████████| 26/26 [11:21<00:00, 26.21s/it]\n",
      "                 Class     Images  Instances      Box(P          R      mAP50  mAP50-95)     Mask(P          R      mAP50  mAP50-95): 100%|██████████| 4/4 [00:34<00:00,  8.60s/it]"
     ]
    },
    {
     "name": "stdout",
     "output_type": "stream",
     "text": [
      "                   all         52         74     0.0345      0.027    0.00374    0.00117     0.0129      0.203    0.00604    0.00188\n"
     ]
    },
    {
     "name": "stderr",
     "output_type": "stream",
     "text": [
      "\n"
     ]
    },
    {
     "name": "stdout",
     "output_type": "stream",
     "text": [
      "\n",
      "      Epoch    GPU_mem   box_loss   seg_loss   cls_loss   dfl_loss  Instances       Size\n"
     ]
    },
    {
     "name": "stderr",
     "output_type": "stream",
     "text": [
      "       2/85         0G        2.3      2.797      3.761       1.66         26        640: 100%|██████████| 26/26 [08:38<00:00, 19.95s/it]\n",
      "                 Class     Images  Instances      Box(P          R      mAP50  mAP50-95)     Mask(P          R      mAP50  mAP50-95): 100%|██████████| 4/4 [00:33<00:00,  8.27s/it]"
     ]
    },
    {
     "name": "stdout",
     "output_type": "stream",
     "text": [
      "                   all         52         74   0.000561      0.108   0.000291   0.000139   0.000589      0.122   0.000325   0.000126\n"
     ]
    },
    {
     "name": "stderr",
     "output_type": "stream",
     "text": [
      "\n"
     ]
    },
    {
     "name": "stdout",
     "output_type": "stream",
     "text": [
      "\n",
      "      Epoch    GPU_mem   box_loss   seg_loss   cls_loss   dfl_loss  Instances       Size\n"
     ]
    },
    {
     "name": "stderr",
     "output_type": "stream",
     "text": [
      "       3/85         0G        2.4        2.9      3.195      1.841         28        640: 100%|██████████| 26/26 [08:36<00:00, 19.87s/it]\n",
      "                 Class     Images  Instances      Box(P          R      mAP50  mAP50-95)     Mask(P          R      mAP50  mAP50-95): 100%|██████████| 4/4 [00:34<00:00,  8.53s/it]"
     ]
    },
    {
     "name": "stdout",
     "output_type": "stream",
     "text": [
      "                   all         52         74          0          0          0          0          0          0          0          0\n"
     ]
    },
    {
     "name": "stderr",
     "output_type": "stream",
     "text": [
      "\n"
     ]
    },
    {
     "name": "stdout",
     "output_type": "stream",
     "text": [
      "\n",
      "      Epoch    GPU_mem   box_loss   seg_loss   cls_loss   dfl_loss  Instances       Size\n"
     ]
    },
    {
     "name": "stderr",
     "output_type": "stream",
     "text": [
      "       4/85         0G       2.65      3.294      3.078       2.25         17        640: 100%|██████████| 26/26 [10:08<00:00, 23.39s/it]\n",
      "                 Class     Images  Instances      Box(P          R      mAP50  mAP50-95)     Mask(P          R      mAP50  mAP50-95): 100%|██████████| 4/4 [00:33<00:00,  8.31s/it]"
     ]
    },
    {
     "name": "stdout",
     "output_type": "stream",
     "text": [
      "                   all         52         74          0          0          0          0          0          0          0          0\n"
     ]
    },
    {
     "name": "stderr",
     "output_type": "stream",
     "text": [
      "\n"
     ]
    },
    {
     "name": "stdout",
     "output_type": "stream",
     "text": [
      "\n",
      "      Epoch    GPU_mem   box_loss   seg_loss   cls_loss   dfl_loss  Instances       Size\n"
     ]
    },
    {
     "name": "stderr",
     "output_type": "stream",
     "text": [
      "       5/85         0G      2.485      2.792       2.88      2.042         17        640: 100%|██████████| 26/26 [13:53<00:00, 32.04s/it]\n",
      "                 Class     Images  Instances      Box(P          R      mAP50  mAP50-95)     Mask(P          R      mAP50  mAP50-95): 100%|██████████| 4/4 [01:28<00:00, 22.05s/it]"
     ]
    },
    {
     "name": "stdout",
     "output_type": "stream",
     "text": [
      "                   all         52         74   6.41e-05     0.0135   3.64e-05   1.46e-05          0          0          0          0\n"
     ]
    },
    {
     "name": "stderr",
     "output_type": "stream",
     "text": [
      "\n"
     ]
    },
    {
     "name": "stdout",
     "output_type": "stream",
     "text": [
      "\n",
      "      Epoch    GPU_mem   box_loss   seg_loss   cls_loss   dfl_loss  Instances       Size\n"
     ]
    },
    {
     "name": "stderr",
     "output_type": "stream",
     "text": [
      "       6/85         0G       2.64      2.628      3.074      2.262         17        640: 100%|██████████| 26/26 [19:20<00:00, 44.65s/it]\n",
      "                 Class     Images  Instances      Box(P          R      mAP50  mAP50-95)     Mask(P          R      mAP50  mAP50-95): 100%|██████████| 4/4 [01:24<00:00, 21.08s/it]"
     ]
    },
    {
     "name": "stdout",
     "output_type": "stream",
     "text": [
      "                   all         52         74   0.000386      0.027   0.000205    6.3e-05          0          0          0          0\n"
     ]
    },
    {
     "name": "stderr",
     "output_type": "stream",
     "text": [
      "\n"
     ]
    },
    {
     "name": "stdout",
     "output_type": "stream",
     "text": [
      "\n",
      "      Epoch    GPU_mem   box_loss   seg_loss   cls_loss   dfl_loss  Instances       Size\n"
     ]
    },
    {
     "name": "stderr",
     "output_type": "stream",
     "text": [
      "       7/85         0G      2.729      3.048      2.913      2.104          8        640: 100%|██████████| 26/26 [19:13<00:00, 44.38s/it]\n",
      "                 Class     Images  Instances      Box(P          R      mAP50  mAP50-95)     Mask(P          R      mAP50  mAP50-95): 100%|██████████| 4/4 [01:25<00:00, 21.35s/it]"
     ]
    },
    {
     "name": "stdout",
     "output_type": "stream",
     "text": [
      "                   all         52         74   0.000523     0.0541   0.000279   0.000103   0.000392     0.0405   0.000205   6.72e-05\n"
     ]
    },
    {
     "name": "stderr",
     "output_type": "stream",
     "text": [
      "\n"
     ]
    },
    {
     "name": "stdout",
     "output_type": "stream",
     "text": [
      "\n",
      "      Epoch    GPU_mem   box_loss   seg_loss   cls_loss   dfl_loss  Instances       Size\n"
     ]
    },
    {
     "name": "stderr",
     "output_type": "stream",
     "text": [
      "       8/85         0G      2.587      2.658      2.742      2.127         20        640: 100%|██████████| 26/26 [19:18<00:00, 44.54s/it]\n",
      "                 Class     Images  Instances      Box(P          R      mAP50  mAP50-95)     Mask(P          R      mAP50  mAP50-95): 100%|██████████| 4/4 [01:20<00:00, 20.25s/it]"
     ]
    },
    {
     "name": "stdout",
     "output_type": "stream",
     "text": [
      "                   all         52         74     0.0741     0.0811     0.0103    0.00377     0.0881     0.0946     0.0134    0.00609\n"
     ]
    },
    {
     "name": "stderr",
     "output_type": "stream",
     "text": [
      "\n"
     ]
    },
    {
     "name": "stdout",
     "output_type": "stream",
     "text": [
      "\n",
      "      Epoch    GPU_mem   box_loss   seg_loss   cls_loss   dfl_loss  Instances       Size\n"
     ]
    },
    {
     "name": "stderr",
     "output_type": "stream",
     "text": [
      "       9/85         0G      2.516      2.577      2.511      2.079         21        640: 100%|██████████| 26/26 [19:49<00:00, 45.74s/it]\n",
      "                 Class     Images  Instances      Box(P          R      mAP50  mAP50-95)     Mask(P          R      mAP50  mAP50-95): 100%|██████████| 4/4 [01:24<00:00, 21.22s/it]"
     ]
    },
    {
     "name": "stdout",
     "output_type": "stream",
     "text": [
      "                   all         52         74          0          0          0          0   6.47e-05     0.0135   3.28e-05   2.62e-05\n"
     ]
    },
    {
     "name": "stderr",
     "output_type": "stream",
     "text": [
      "\n"
     ]
    },
    {
     "name": "stdout",
     "output_type": "stream",
     "text": [
      "\n",
      "      Epoch    GPU_mem   box_loss   seg_loss   cls_loss   dfl_loss  Instances       Size\n"
     ]
    },
    {
     "name": "stderr",
     "output_type": "stream",
     "text": [
      "      10/85         0G      2.411      2.277      2.459      1.992         29        640: 100%|██████████| 26/26 [19:21<00:00, 44.68s/it]\n",
      "                 Class     Images  Instances      Box(P          R      mAP50  mAP50-95)     Mask(P          R      mAP50  mAP50-95): 100%|██████████| 4/4 [01:19<00:00, 19.98s/it]"
     ]
    },
    {
     "name": "stdout",
     "output_type": "stream",
     "text": [
      "                   all         52         74      0.471      0.243      0.242     0.0934      0.443       0.23        0.2     0.0898\n"
     ]
    },
    {
     "name": "stderr",
     "output_type": "stream",
     "text": [
      "\n"
     ]
    },
    {
     "name": "stdout",
     "output_type": "stream",
     "text": [
      "\n",
      "      Epoch    GPU_mem   box_loss   seg_loss   cls_loss   dfl_loss  Instances       Size\n"
     ]
    },
    {
     "name": "stderr",
     "output_type": "stream",
     "text": [
      "      11/85         0G      2.396      2.404      2.422      1.988         17        640: 100%|██████████| 26/26 [19:27<00:00, 44.92s/it]\n",
      "                 Class     Images  Instances      Box(P          R      mAP50  mAP50-95)     Mask(P          R      mAP50  mAP50-95): 100%|██████████| 4/4 [01:22<00:00, 20.62s/it]"
     ]
    },
    {
     "name": "stdout",
     "output_type": "stream",
     "text": [
      "                   all         52         74      0.193      0.257      0.107     0.0395      0.145      0.176     0.0663     0.0203\n"
     ]
    },
    {
     "name": "stderr",
     "output_type": "stream",
     "text": [
      "\n"
     ]
    },
    {
     "name": "stdout",
     "output_type": "stream",
     "text": [
      "\n",
      "      Epoch    GPU_mem   box_loss   seg_loss   cls_loss   dfl_loss  Instances       Size\n"
     ]
    },
    {
     "name": "stderr",
     "output_type": "stream",
     "text": [
      "      12/85         0G       2.33      2.287      2.475      1.963         12        640: 100%|██████████| 26/26 [19:20<00:00, 44.63s/it]\n",
      "                 Class     Images  Instances      Box(P          R      mAP50  mAP50-95)     Mask(P          R      mAP50  mAP50-95): 100%|██████████| 4/4 [01:20<00:00, 20.10s/it]"
     ]
    },
    {
     "name": "stdout",
     "output_type": "stream",
     "text": [
      "                   all         52         74     0.0875      0.257     0.0533     0.0214     0.0813      0.311     0.0462     0.0195\n"
     ]
    },
    {
     "name": "stderr",
     "output_type": "stream",
     "text": [
      "\n"
     ]
    },
    {
     "name": "stdout",
     "output_type": "stream",
     "text": [
      "\n",
      "      Epoch    GPU_mem   box_loss   seg_loss   cls_loss   dfl_loss  Instances       Size\n"
     ]
    },
    {
     "name": "stderr",
     "output_type": "stream",
     "text": [
      "      13/85         0G      2.341      2.146      2.334       2.01         24        640: 100%|██████████| 26/26 [18:58<00:00, 43.80s/it]\n",
      "                 Class     Images  Instances      Box(P          R      mAP50  mAP50-95)     Mask(P          R      mAP50  mAP50-95): 100%|██████████| 4/4 [01:21<00:00, 20.46s/it]"
     ]
    },
    {
     "name": "stdout",
     "output_type": "stream",
     "text": [
      "                   all         52         74   0.000777      0.162   0.000452   0.000172   0.000518      0.108    0.00029   0.000129\n"
     ]
    },
    {
     "name": "stderr",
     "output_type": "stream",
     "text": [
      "\n"
     ]
    },
    {
     "name": "stdout",
     "output_type": "stream",
     "text": [
      "\n",
      "      Epoch    GPU_mem   box_loss   seg_loss   cls_loss   dfl_loss  Instances       Size\n"
     ]
    },
    {
     "name": "stderr",
     "output_type": "stream",
     "text": [
      "      14/85         0G      2.279      2.115      2.274      1.899         30        640: 100%|██████████| 26/26 [18:59<00:00, 43.81s/it]\n",
      "                 Class     Images  Instances      Box(P          R      mAP50  mAP50-95)     Mask(P          R      mAP50  mAP50-95): 100%|██████████| 4/4 [01:18<00:00, 19.71s/it]"
     ]
    },
    {
     "name": "stdout",
     "output_type": "stream",
     "text": [
      "                   all         52         74      0.252      0.149      0.102     0.0373      0.119      0.135     0.0705     0.0273\n"
     ]
    },
    {
     "name": "stderr",
     "output_type": "stream",
     "text": [
      "\n"
     ]
    },
    {
     "name": "stdout",
     "output_type": "stream",
     "text": [
      "\n",
      "      Epoch    GPU_mem   box_loss   seg_loss   cls_loss   dfl_loss  Instances       Size\n"
     ]
    },
    {
     "name": "stderr",
     "output_type": "stream",
     "text": [
      "      15/85         0G      2.319      2.139      2.301      1.933         26        640: 100%|██████████| 26/26 [19:34<00:00, 45.18s/it]\n",
      "                 Class     Images  Instances      Box(P          R      mAP50  mAP50-95)     Mask(P          R      mAP50  mAP50-95): 100%|██████████| 4/4 [01:20<00:00, 20.20s/it]"
     ]
    },
    {
     "name": "stdout",
     "output_type": "stream",
     "text": [
      "                   all         52         74      0.502      0.284      0.331      0.124      0.452      0.257       0.27     0.0976\n"
     ]
    },
    {
     "name": "stderr",
     "output_type": "stream",
     "text": [
      "\n"
     ]
    },
    {
     "name": "stdout",
     "output_type": "stream",
     "text": [
      "\n",
      "      Epoch    GPU_mem   box_loss   seg_loss   cls_loss   dfl_loss  Instances       Size\n"
     ]
    },
    {
     "name": "stderr",
     "output_type": "stream",
     "text": [
      "      16/85         0G      2.143      2.141      2.123      1.772         12        640: 100%|██████████| 26/26 [19:30<00:00, 45.02s/it]\n",
      "                 Class     Images  Instances      Box(P          R      mAP50  mAP50-95)     Mask(P          R      mAP50  mAP50-95): 100%|██████████| 4/4 [01:23<00:00, 20.96s/it]"
     ]
    },
    {
     "name": "stdout",
     "output_type": "stream",
     "text": [
      "                   all         52         74       0.57      0.341      0.385      0.151      0.512      0.326        0.3      0.109\n"
     ]
    },
    {
     "name": "stderr",
     "output_type": "stream",
     "text": [
      "\n"
     ]
    },
    {
     "name": "stdout",
     "output_type": "stream",
     "text": [
      "\n",
      "      Epoch    GPU_mem   box_loss   seg_loss   cls_loss   dfl_loss  Instances       Size\n"
     ]
    },
    {
     "name": "stderr",
     "output_type": "stream",
     "text": [
      "      17/85         0G      2.142      1.874      2.167      1.876         26        640: 100%|██████████| 26/26 [19:21<00:00, 44.66s/it]\n",
      "                 Class     Images  Instances      Box(P          R      mAP50  mAP50-95)     Mask(P          R      mAP50  mAP50-95): 100%|██████████| 4/4 [01:18<00:00, 19.70s/it]"
     ]
    },
    {
     "name": "stdout",
     "output_type": "stream",
     "text": [
      "                   all         52         74      0.515      0.359      0.335       0.13      0.515      0.338      0.308       0.12\n"
     ]
    },
    {
     "name": "stderr",
     "output_type": "stream",
     "text": [
      "\n"
     ]
    },
    {
     "name": "stdout",
     "output_type": "stream",
     "text": [
      "\n",
      "      Epoch    GPU_mem   box_loss   seg_loss   cls_loss   dfl_loss  Instances       Size\n"
     ]
    },
    {
     "name": "stderr",
     "output_type": "stream",
     "text": [
      "      18/85         0G      2.184      2.077      2.112      1.722         24        640: 100%|██████████| 26/26 [19:49<00:00, 45.76s/it]\n",
      "                 Class     Images  Instances      Box(P          R      mAP50  mAP50-95)     Mask(P          R      mAP50  mAP50-95): 100%|██████████| 4/4 [01:19<00:00, 19.84s/it]"
     ]
    },
    {
     "name": "stdout",
     "output_type": "stream",
     "text": [
      "                   all         52         74      0.513      0.384      0.364       0.15      0.442      0.405      0.337      0.149\n"
     ]
    },
    {
     "name": "stderr",
     "output_type": "stream",
     "text": [
      "\n"
     ]
    },
    {
     "name": "stdout",
     "output_type": "stream",
     "text": [
      "\n",
      "      Epoch    GPU_mem   box_loss   seg_loss   cls_loss   dfl_loss  Instances       Size\n"
     ]
    },
    {
     "name": "stderr",
     "output_type": "stream",
     "text": [
      "      19/85         0G      2.106      1.881      2.088       1.82         21        640: 100%|██████████| 26/26 [19:46<00:00, 45.65s/it]\n",
      "                 Class     Images  Instances      Box(P          R      mAP50  mAP50-95)     Mask(P          R      mAP50  mAP50-95): 100%|██████████| 4/4 [01:20<00:00, 20.24s/it]"
     ]
    },
    {
     "name": "stdout",
     "output_type": "stream",
     "text": [
      "                   all         52         74      0.648      0.351      0.394       0.16      0.523      0.338        0.3       0.15\n"
     ]
    },
    {
     "name": "stderr",
     "output_type": "stream",
     "text": [
      "\n"
     ]
    },
    {
     "name": "stdout",
     "output_type": "stream",
     "text": [
      "\n",
      "      Epoch    GPU_mem   box_loss   seg_loss   cls_loss   dfl_loss  Instances       Size\n"
     ]
    },
    {
     "name": "stderr",
     "output_type": "stream",
     "text": [
      "      20/85         0G      2.022      1.943      2.026      1.746         25        640: 100%|██████████| 26/26 [19:24<00:00, 44.78s/it]\n",
      "                 Class     Images  Instances      Box(P          R      mAP50  mAP50-95)     Mask(P          R      mAP50  mAP50-95): 100%|██████████| 4/4 [01:21<00:00, 20.31s/it]"
     ]
    },
    {
     "name": "stdout",
     "output_type": "stream",
     "text": [
      "                   all         52         74      0.721      0.349      0.417      0.206        0.6      0.284      0.311       0.13\n"
     ]
    },
    {
     "name": "stderr",
     "output_type": "stream",
     "text": [
      "\n"
     ]
    },
    {
     "name": "stdout",
     "output_type": "stream",
     "text": [
      "\n",
      "      Epoch    GPU_mem   box_loss   seg_loss   cls_loss   dfl_loss  Instances       Size\n"
     ]
    },
    {
     "name": "stderr",
     "output_type": "stream",
     "text": [
      "      21/85         0G      2.088      1.923      2.027      1.754         32        640: 100%|██████████| 26/26 [19:21<00:00, 44.66s/it]\n",
      "                 Class     Images  Instances      Box(P          R      mAP50  mAP50-95)     Mask(P          R      mAP50  mAP50-95): 100%|██████████| 4/4 [01:19<00:00, 19.79s/it]"
     ]
    },
    {
     "name": "stdout",
     "output_type": "stream",
     "text": [
      "                   all         52         74       0.49      0.392       0.39      0.134      0.441      0.351      0.308     0.0919\n"
     ]
    },
    {
     "name": "stderr",
     "output_type": "stream",
     "text": [
      "\n"
     ]
    },
    {
     "name": "stdout",
     "output_type": "stream",
     "text": [
      "\n",
      "      Epoch    GPU_mem   box_loss   seg_loss   cls_loss   dfl_loss  Instances       Size\n"
     ]
    },
    {
     "name": "stderr",
     "output_type": "stream",
     "text": [
      "      22/85         0G      2.017      1.996      2.044      1.654         29        640: 100%|██████████| 26/26 [19:13<00:00, 44.37s/it]\n",
      "                 Class     Images  Instances      Box(P          R      mAP50  mAP50-95)     Mask(P          R      mAP50  mAP50-95): 100%|██████████| 4/4 [01:20<00:00, 20.22s/it]"
     ]
    },
    {
     "name": "stdout",
     "output_type": "stream",
     "text": [
      "                   all         52         74      0.607      0.338      0.396      0.174      0.533      0.297      0.319      0.136\n"
     ]
    },
    {
     "name": "stderr",
     "output_type": "stream",
     "text": [
      "\n"
     ]
    },
    {
     "name": "stdout",
     "output_type": "stream",
     "text": [
      "\n",
      "      Epoch    GPU_mem   box_loss   seg_loss   cls_loss   dfl_loss  Instances       Size\n"
     ]
    },
    {
     "name": "stderr",
     "output_type": "stream",
     "text": [
      "      23/85         0G      1.968      1.932      2.081      1.739         18        640: 100%|██████████| 26/26 [19:55<00:00, 45.98s/it]\n",
      "                 Class     Images  Instances      Box(P          R      mAP50  mAP50-95)     Mask(P          R      mAP50  mAP50-95): 100%|██████████| 4/4 [01:20<00:00, 20.21s/it]"
     ]
    },
    {
     "name": "stdout",
     "output_type": "stream",
     "text": [
      "                   all         52         74      0.556      0.311      0.379      0.175      0.531      0.297      0.337      0.151\n"
     ]
    },
    {
     "name": "stderr",
     "output_type": "stream",
     "text": [
      "\n"
     ]
    },
    {
     "name": "stdout",
     "output_type": "stream",
     "text": [
      "\n",
      "      Epoch    GPU_mem   box_loss   seg_loss   cls_loss   dfl_loss  Instances       Size\n"
     ]
    },
    {
     "name": "stderr",
     "output_type": "stream",
     "text": [
      "      24/85         0G      2.008      1.676      2.025      1.836         12        640: 100%|██████████| 26/26 [19:42<00:00, 45.49s/it]\n",
      "                 Class     Images  Instances      Box(P          R      mAP50  mAP50-95)     Mask(P          R      mAP50  mAP50-95): 100%|██████████| 4/4 [01:20<00:00, 20.12s/it]"
     ]
    },
    {
     "name": "stdout",
     "output_type": "stream",
     "text": [
      "                   all         52         74       0.48      0.405      0.444      0.181      0.736      0.297      0.397      0.165\n"
     ]
    },
    {
     "name": "stderr",
     "output_type": "stream",
     "text": [
      "\n"
     ]
    },
    {
     "name": "stdout",
     "output_type": "stream",
     "text": [
      "\n",
      "      Epoch    GPU_mem   box_loss   seg_loss   cls_loss   dfl_loss  Instances       Size\n"
     ]
    },
    {
     "name": "stderr",
     "output_type": "stream",
     "text": [
      "      25/85         0G      1.921      1.752      1.963      1.629         25        640: 100%|██████████| 26/26 [20:06<00:00, 46.40s/it]\n",
      "                 Class     Images  Instances      Box(P          R      mAP50  mAP50-95)     Mask(P          R      mAP50  mAP50-95): 100%|██████████| 4/4 [01:20<00:00, 20.02s/it]"
     ]
    },
    {
     "name": "stdout",
     "output_type": "stream",
     "text": [
      "                   all         52         74      0.429      0.467      0.438      0.172      0.348      0.405      0.318       0.12\n"
     ]
    },
    {
     "name": "stderr",
     "output_type": "stream",
     "text": [
      "\n"
     ]
    },
    {
     "name": "stdout",
     "output_type": "stream",
     "text": [
      "\n",
      "      Epoch    GPU_mem   box_loss   seg_loss   cls_loss   dfl_loss  Instances       Size\n"
     ]
    },
    {
     "name": "stderr",
     "output_type": "stream",
     "text": [
      "      26/85         0G      1.979       1.69      1.927      1.637         21        640: 100%|██████████| 26/26 [19:18<00:00, 44.55s/it]\n",
      "                 Class     Images  Instances      Box(P          R      mAP50  mAP50-95)     Mask(P          R      mAP50  mAP50-95): 100%|██████████| 4/4 [01:21<00:00, 20.33s/it]"
     ]
    },
    {
     "name": "stdout",
     "output_type": "stream",
     "text": [
      "                   all         52         74      0.505        0.4      0.408      0.196      0.457      0.365      0.363      0.164\n"
     ]
    },
    {
     "name": "stderr",
     "output_type": "stream",
     "text": [
      "\n"
     ]
    },
    {
     "name": "stdout",
     "output_type": "stream",
     "text": [
      "\n",
      "      Epoch    GPU_mem   box_loss   seg_loss   cls_loss   dfl_loss  Instances       Size\n"
     ]
    },
    {
     "name": "stderr",
     "output_type": "stream",
     "text": [
      "      27/85         0G      1.941      1.862      1.906       1.69         29        640: 100%|██████████| 26/26 [19:23<00:00, 44.75s/it]\n",
      "                 Class     Images  Instances      Box(P          R      mAP50  mAP50-95)     Mask(P          R      mAP50  mAP50-95): 100%|██████████| 4/4 [01:20<00:00, 20.12s/it]"
     ]
    },
    {
     "name": "stdout",
     "output_type": "stream",
     "text": [
      "                   all         52         74      0.565      0.392      0.454        0.2      0.467      0.324      0.305      0.136\n"
     ]
    },
    {
     "name": "stderr",
     "output_type": "stream",
     "text": [
      "\n"
     ]
    },
    {
     "name": "stdout",
     "output_type": "stream",
     "text": [
      "\n",
      "      Epoch    GPU_mem   box_loss   seg_loss   cls_loss   dfl_loss  Instances       Size\n"
     ]
    },
    {
     "name": "stderr",
     "output_type": "stream",
     "text": [
      "      28/85         0G      1.898      1.777      1.834      1.591         22        640: 100%|██████████| 26/26 [19:43<00:00, 45.53s/it]\n",
      "                 Class     Images  Instances      Box(P          R      mAP50  mAP50-95)     Mask(P          R      mAP50  mAP50-95): 100%|██████████| 4/4 [01:19<00:00, 19.91s/it]"
     ]
    },
    {
     "name": "stdout",
     "output_type": "stream",
     "text": [
      "                   all         52         74       0.52      0.473      0.467      0.193      0.429      0.432      0.365      0.155\n"
     ]
    },
    {
     "name": "stderr",
     "output_type": "stream",
     "text": [
      "\n"
     ]
    },
    {
     "name": "stdout",
     "output_type": "stream",
     "text": [
      "\n",
      "      Epoch    GPU_mem   box_loss   seg_loss   cls_loss   dfl_loss  Instances       Size\n"
     ]
    },
    {
     "name": "stderr",
     "output_type": "stream",
     "text": [
      "      29/85         0G      1.902      1.733      1.919      1.645         14        640: 100%|██████████| 26/26 [19:17<00:00, 44.51s/it]\n",
      "                 Class     Images  Instances      Box(P          R      mAP50  mAP50-95)     Mask(P          R      mAP50  mAP50-95): 100%|██████████| 4/4 [01:20<00:00, 20.23s/it]"
     ]
    },
    {
     "name": "stdout",
     "output_type": "stream",
     "text": [
      "                   all         52         74      0.741      0.351       0.44      0.196      0.638      0.311      0.377      0.141\n"
     ]
    },
    {
     "name": "stderr",
     "output_type": "stream",
     "text": [
      "\n"
     ]
    },
    {
     "name": "stdout",
     "output_type": "stream",
     "text": [
      "\n",
      "      Epoch    GPU_mem   box_loss   seg_loss   cls_loss   dfl_loss  Instances       Size\n"
     ]
    },
    {
     "name": "stderr",
     "output_type": "stream",
     "text": [
      "      30/85         0G      1.874      1.808      1.895      1.634         26        640: 100%|██████████| 26/26 [19:41<00:00, 45.46s/it]\n",
      "                 Class     Images  Instances      Box(P          R      mAP50  mAP50-95)     Mask(P          R      mAP50  mAP50-95): 100%|██████████| 4/4 [01:20<00:00, 20.02s/it]"
     ]
    },
    {
     "name": "stdout",
     "output_type": "stream",
     "text": [
      "                   all         52         74      0.631      0.439      0.487      0.217      0.468      0.324       0.33      0.153\n"
     ]
    },
    {
     "name": "stderr",
     "output_type": "stream",
     "text": [
      "\n"
     ]
    },
    {
     "name": "stdout",
     "output_type": "stream",
     "text": [
      "\n",
      "      Epoch    GPU_mem   box_loss   seg_loss   cls_loss   dfl_loss  Instances       Size\n"
     ]
    },
    {
     "name": "stderr",
     "output_type": "stream",
     "text": [
      "      31/85         0G      1.916      1.659      1.946      1.668         19        640: 100%|██████████| 26/26 [19:27<00:00, 44.89s/it]\n",
      "                 Class     Images  Instances      Box(P          R      mAP50  mAP50-95)     Mask(P          R      mAP50  mAP50-95): 100%|██████████| 4/4 [01:19<00:00, 19.98s/it]"
     ]
    },
    {
     "name": "stdout",
     "output_type": "stream",
     "text": [
      "                   all         52         74      0.583      0.419      0.455      0.216      0.489      0.405      0.389      0.164\n"
     ]
    },
    {
     "name": "stderr",
     "output_type": "stream",
     "text": [
      "\n"
     ]
    },
    {
     "name": "stdout",
     "output_type": "stream",
     "text": [
      "\n",
      "      Epoch    GPU_mem   box_loss   seg_loss   cls_loss   dfl_loss  Instances       Size\n"
     ]
    },
    {
     "name": "stderr",
     "output_type": "stream",
     "text": [
      "      32/85         0G      1.843       1.62      1.843      1.675         15        640: 100%|██████████| 26/26 [19:31<00:00, 45.06s/it]\n",
      "                 Class     Images  Instances      Box(P          R      mAP50  mAP50-95)     Mask(P          R      mAP50  mAP50-95): 100%|██████████| 4/4 [01:20<00:00, 20.15s/it]"
     ]
    },
    {
     "name": "stdout",
     "output_type": "stream",
     "text": [
      "                   all         52         74      0.697      0.446      0.476      0.214      0.549      0.392      0.394      0.159\n"
     ]
    },
    {
     "name": "stderr",
     "output_type": "stream",
     "text": [
      "\n"
     ]
    },
    {
     "name": "stdout",
     "output_type": "stream",
     "text": [
      "\n",
      "      Epoch    GPU_mem   box_loss   seg_loss   cls_loss   dfl_loss  Instances       Size\n"
     ]
    },
    {
     "name": "stderr",
     "output_type": "stream",
     "text": [
      "      33/85         0G      1.845      1.625      1.826      1.593         20        640: 100%|██████████| 26/26 [19:41<00:00, 45.46s/it]\n",
      "                 Class     Images  Instances      Box(P          R      mAP50  mAP50-95)     Mask(P          R      mAP50  mAP50-95): 100%|██████████| 4/4 [01:20<00:00, 20.06s/it]"
     ]
    },
    {
     "name": "stdout",
     "output_type": "stream",
     "text": [
      "                   all         52         74      0.601      0.365      0.474      0.201      0.553      0.338      0.431      0.163\n"
     ]
    },
    {
     "name": "stderr",
     "output_type": "stream",
     "text": [
      "\n"
     ]
    },
    {
     "name": "stdout",
     "output_type": "stream",
     "text": [
      "\n",
      "      Epoch    GPU_mem   box_loss   seg_loss   cls_loss   dfl_loss  Instances       Size\n"
     ]
    },
    {
     "name": "stderr",
     "output_type": "stream",
     "text": [
      "      34/85         0G      1.873      1.727      1.908      1.666         14        640: 100%|██████████| 26/26 [19:35<00:00, 45.20s/it]\n",
      "                 Class     Images  Instances      Box(P          R      mAP50  mAP50-95)     Mask(P          R      mAP50  mAP50-95): 100%|██████████| 4/4 [01:20<00:00, 20.19s/it]"
     ]
    },
    {
     "name": "stdout",
     "output_type": "stream",
     "text": [
      "                   all         52         74      0.526      0.466      0.482       0.22      0.431      0.378      0.351      0.136\n"
     ]
    },
    {
     "name": "stderr",
     "output_type": "stream",
     "text": [
      "\n"
     ]
    },
    {
     "name": "stdout",
     "output_type": "stream",
     "text": [
      "\n",
      "      Epoch    GPU_mem   box_loss   seg_loss   cls_loss   dfl_loss  Instances       Size\n"
     ]
    },
    {
     "name": "stderr",
     "output_type": "stream",
     "text": [
      "      35/85         0G       1.79      1.683      1.853      1.607         20        640: 100%|██████████| 26/26 [19:42<00:00, 45.48s/it]\n",
      "                 Class     Images  Instances      Box(P          R      mAP50  mAP50-95)     Mask(P          R      mAP50  mAP50-95): 100%|██████████| 4/4 [01:20<00:00, 20.07s/it]"
     ]
    },
    {
     "name": "stdout",
     "output_type": "stream",
     "text": [
      "                   all         52         74       0.67      0.405       0.44      0.208      0.519      0.338      0.309      0.122\n"
     ]
    },
    {
     "name": "stderr",
     "output_type": "stream",
     "text": [
      "\n"
     ]
    },
    {
     "name": "stdout",
     "output_type": "stream",
     "text": [
      "\n",
      "      Epoch    GPU_mem   box_loss   seg_loss   cls_loss   dfl_loss  Instances       Size\n"
     ]
    },
    {
     "name": "stderr",
     "output_type": "stream",
     "text": [
      "      36/85         0G      1.748      1.823      1.707      1.503         31        640: 100%|██████████| 26/26 [19:35<00:00, 45.21s/it]\n",
      "                 Class     Images  Instances      Box(P          R      mAP50  mAP50-95)     Mask(P          R      mAP50  mAP50-95): 100%|██████████| 4/4 [01:20<00:00, 20.16s/it]"
     ]
    },
    {
     "name": "stdout",
     "output_type": "stream",
     "text": [
      "                   all         52         74      0.604      0.365      0.449      0.216      0.566      0.365      0.436      0.191\n"
     ]
    },
    {
     "name": "stderr",
     "output_type": "stream",
     "text": [
      "\n"
     ]
    },
    {
     "name": "stdout",
     "output_type": "stream",
     "text": [
      "\n",
      "      Epoch    GPU_mem   box_loss   seg_loss   cls_loss   dfl_loss  Instances       Size\n"
     ]
    },
    {
     "name": "stderr",
     "output_type": "stream",
     "text": [
      "      37/85         0G      1.862      1.573      1.813      1.653         34        640: 100%|██████████| 26/26 [19:33<00:00, 45.14s/it]\n",
      "                 Class     Images  Instances      Box(P          R      mAP50  mAP50-95)     Mask(P          R      mAP50  mAP50-95): 100%|██████████| 4/4 [01:19<00:00, 19.76s/it]"
     ]
    },
    {
     "name": "stdout",
     "output_type": "stream",
     "text": [
      "                   all         52         74      0.652      0.482      0.536      0.239      0.561      0.414      0.422      0.162\n"
     ]
    },
    {
     "name": "stderr",
     "output_type": "stream",
     "text": [
      "\n"
     ]
    },
    {
     "name": "stdout",
     "output_type": "stream",
     "text": [
      "\n",
      "      Epoch    GPU_mem   box_loss   seg_loss   cls_loss   dfl_loss  Instances       Size\n"
     ]
    },
    {
     "name": "stderr",
     "output_type": "stream",
     "text": [
      "      38/85         0G      1.809       1.78      1.887      1.615         19        640: 100%|██████████| 26/26 [20:30<00:00, 47.34s/it]\n",
      "                 Class     Images  Instances      Box(P          R      mAP50  mAP50-95)     Mask(P          R      mAP50  mAP50-95): 100%|██████████| 4/4 [01:27<00:00, 21.76s/it]"
     ]
    },
    {
     "name": "stdout",
     "output_type": "stream",
     "text": [
      "                   all         52         74      0.771      0.459      0.558      0.262      0.663      0.365      0.381      0.147\n"
     ]
    },
    {
     "name": "stderr",
     "output_type": "stream",
     "text": [
      "\n"
     ]
    },
    {
     "name": "stdout",
     "output_type": "stream",
     "text": [
      "\n",
      "      Epoch    GPU_mem   box_loss   seg_loss   cls_loss   dfl_loss  Instances       Size\n"
     ]
    },
    {
     "name": "stderr",
     "output_type": "stream",
     "text": [
      "      39/85         0G      1.738      1.553      1.734      1.555         17        640: 100%|██████████| 26/26 [24:29<00:00, 56.52s/it]\n",
      "                 Class     Images  Instances      Box(P          R      mAP50  mAP50-95)     Mask(P          R      mAP50  mAP50-95): 100%|██████████| 4/4 [01:28<00:00, 22.18s/it]"
     ]
    },
    {
     "name": "stdout",
     "output_type": "stream",
     "text": [
      "                   all         52         74      0.685      0.514      0.565      0.255      0.573      0.453      0.455      0.193\n"
     ]
    },
    {
     "name": "stderr",
     "output_type": "stream",
     "text": [
      "\n"
     ]
    },
    {
     "name": "stdout",
     "output_type": "stream",
     "text": [
      "\n",
      "      Epoch    GPU_mem   box_loss   seg_loss   cls_loss   dfl_loss  Instances       Size\n"
     ]
    },
    {
     "name": "stderr",
     "output_type": "stream",
     "text": [
      "      40/85         0G      1.838      1.632      1.863      1.642         18        640: 100%|██████████| 26/26 [22:40<00:00, 52.34s/it]\n",
      "                 Class     Images  Instances      Box(P          R      mAP50  mAP50-95)     Mask(P          R      mAP50  mAP50-95): 100%|██████████| 4/4 [01:27<00:00, 21.98s/it]"
     ]
    },
    {
     "name": "stdout",
     "output_type": "stream",
     "text": [
      "                   all         52         74      0.626      0.473      0.522      0.228      0.527      0.392      0.377      0.164\n"
     ]
    },
    {
     "name": "stderr",
     "output_type": "stream",
     "text": [
      "\n"
     ]
    },
    {
     "name": "stdout",
     "output_type": "stream",
     "text": [
      "\n",
      "      Epoch    GPU_mem   box_loss   seg_loss   cls_loss   dfl_loss  Instances       Size\n"
     ]
    },
    {
     "name": "stderr",
     "output_type": "stream",
     "text": [
      "      41/85         0G      1.731      1.542      1.745      1.512         31        640: 100%|██████████| 26/26 [23:56<00:00, 55.24s/it]\n",
      "                 Class     Images  Instances      Box(P          R      mAP50  mAP50-95)     Mask(P          R      mAP50  mAP50-95): 100%|██████████| 4/4 [01:28<00:00, 22.10s/it]"
     ]
    },
    {
     "name": "stdout",
     "output_type": "stream",
     "text": [
      "                   all         52         74      0.795      0.446      0.562      0.272      0.716      0.405      0.473      0.207\n"
     ]
    },
    {
     "name": "stderr",
     "output_type": "stream",
     "text": [
      "\n"
     ]
    },
    {
     "name": "stdout",
     "output_type": "stream",
     "text": [
      "\n",
      "      Epoch    GPU_mem   box_loss   seg_loss   cls_loss   dfl_loss  Instances       Size\n"
     ]
    },
    {
     "name": "stderr",
     "output_type": "stream",
     "text": [
      "      42/85         0G       1.75      1.686      1.688      1.515         19        640: 100%|██████████| 26/26 [20:53<00:00, 48.22s/it]\n",
      "                 Class     Images  Instances      Box(P          R      mAP50  mAP50-95)     Mask(P          R      mAP50  mAP50-95): 100%|██████████| 4/4 [01:19<00:00, 19.84s/it]"
     ]
    },
    {
     "name": "stdout",
     "output_type": "stream",
     "text": [
      "                   all         52         74      0.474      0.432      0.407        0.2       0.43      0.356      0.317      0.131\n"
     ]
    },
    {
     "name": "stderr",
     "output_type": "stream",
     "text": [
      "\n"
     ]
    },
    {
     "name": "stdout",
     "output_type": "stream",
     "text": [
      "\n",
      "      Epoch    GPU_mem   box_loss   seg_loss   cls_loss   dfl_loss  Instances       Size\n"
     ]
    },
    {
     "name": "stderr",
     "output_type": "stream",
     "text": [
      "      43/85         0G      1.718      1.648      1.736       1.55         16        640: 100%|██████████| 26/26 [19:09<00:00, 44.23s/it]\n",
      "                 Class     Images  Instances      Box(P          R      mAP50  mAP50-95)     Mask(P          R      mAP50  mAP50-95): 100%|██████████| 4/4 [01:20<00:00, 20.01s/it]"
     ]
    },
    {
     "name": "stdout",
     "output_type": "stream",
     "text": [
      "                   all         52         74      0.666      0.486      0.559      0.253      0.456      0.486      0.437      0.206\n"
     ]
    },
    {
     "name": "stderr",
     "output_type": "stream",
     "text": [
      "\n"
     ]
    },
    {
     "name": "stdout",
     "output_type": "stream",
     "text": [
      "\n",
      "      Epoch    GPU_mem   box_loss   seg_loss   cls_loss   dfl_loss  Instances       Size\n"
     ]
    },
    {
     "name": "stderr",
     "output_type": "stream",
     "text": [
      "      44/85         0G      1.684      1.612       1.63      1.484         19        640: 100%|██████████| 26/26 [19:36<00:00, 45.25s/it]\n",
      "                 Class     Images  Instances      Box(P          R      mAP50  mAP50-95)     Mask(P          R      mAP50  mAP50-95): 100%|██████████| 4/4 [01:19<00:00, 19.84s/it]"
     ]
    },
    {
     "name": "stdout",
     "output_type": "stream",
     "text": [
      "                   all         52         74      0.603      0.541      0.546      0.257      0.464      0.419      0.402      0.188\n"
     ]
    },
    {
     "name": "stderr",
     "output_type": "stream",
     "text": [
      "\n"
     ]
    },
    {
     "name": "stdout",
     "output_type": "stream",
     "text": [
      "\n",
      "      Epoch    GPU_mem   box_loss   seg_loss   cls_loss   dfl_loss  Instances       Size\n"
     ]
    },
    {
     "name": "stderr",
     "output_type": "stream",
     "text": [
      "      45/85         0G      1.634      1.531      1.539      1.451         12        640: 100%|██████████| 26/26 [19:34<00:00, 45.16s/it]\n",
      "                 Class     Images  Instances      Box(P          R      mAP50  mAP50-95)     Mask(P          R      mAP50  mAP50-95): 100%|██████████| 4/4 [01:20<00:00, 20.10s/it]"
     ]
    },
    {
     "name": "stdout",
     "output_type": "stream",
     "text": [
      "                   all         52         74       0.54      0.514      0.538      0.256      0.465      0.419      0.392      0.178\n"
     ]
    },
    {
     "name": "stderr",
     "output_type": "stream",
     "text": [
      "\n"
     ]
    },
    {
     "name": "stdout",
     "output_type": "stream",
     "text": [
      "\n",
      "      Epoch    GPU_mem   box_loss   seg_loss   cls_loss   dfl_loss  Instances       Size\n"
     ]
    },
    {
     "name": "stderr",
     "output_type": "stream",
     "text": [
      "      46/85         0G      1.669      1.506      1.491      1.469         20        640: 100%|██████████| 26/26 [19:41<00:00, 45.46s/it]\n",
      "                 Class     Images  Instances      Box(P          R      mAP50  mAP50-95)     Mask(P          R      mAP50  mAP50-95): 100%|██████████| 4/4 [01:19<00:00, 19.92s/it]"
     ]
    },
    {
     "name": "stdout",
     "output_type": "stream",
     "text": [
      "                   all         52         74      0.582      0.459      0.525      0.262      0.497      0.365      0.393      0.186\n"
     ]
    },
    {
     "name": "stderr",
     "output_type": "stream",
     "text": [
      "\n"
     ]
    },
    {
     "name": "stdout",
     "output_type": "stream",
     "text": [
      "\n",
      "      Epoch    GPU_mem   box_loss   seg_loss   cls_loss   dfl_loss  Instances       Size\n"
     ]
    },
    {
     "name": "stderr",
     "output_type": "stream",
     "text": [
      "      47/85         0G      1.635      1.406      1.533      1.505         40        640: 100%|██████████| 26/26 [19:48<00:00, 45.70s/it]\n",
      "                 Class     Images  Instances      Box(P          R      mAP50  mAP50-95)     Mask(P          R      mAP50  mAP50-95): 100%|██████████| 4/4 [01:20<00:00, 20.06s/it]"
     ]
    },
    {
     "name": "stdout",
     "output_type": "stream",
     "text": [
      "                   all         52         74      0.748      0.446      0.563      0.249      0.634      0.365      0.385      0.151\n"
     ]
    },
    {
     "name": "stderr",
     "output_type": "stream",
     "text": [
      "\n"
     ]
    },
    {
     "name": "stdout",
     "output_type": "stream",
     "text": [
      "\n",
      "      Epoch    GPU_mem   box_loss   seg_loss   cls_loss   dfl_loss  Instances       Size\n"
     ]
    },
    {
     "name": "stderr",
     "output_type": "stream",
     "text": [
      "      48/85         0G      1.719      1.488      1.699      1.563         28        640: 100%|██████████| 26/26 [20:07<00:00, 46.46s/it]\n",
      "                 Class     Images  Instances      Box(P          R      mAP50  mAP50-95)     Mask(P          R      mAP50  mAP50-95): 100%|██████████| 4/4 [01:19<00:00, 19.88s/it]"
     ]
    },
    {
     "name": "stdout",
     "output_type": "stream",
     "text": [
      "                   all         52         74      0.695      0.493      0.567      0.266      0.553      0.392      0.423      0.163\n"
     ]
    },
    {
     "name": "stderr",
     "output_type": "stream",
     "text": [
      "\n"
     ]
    },
    {
     "name": "stdout",
     "output_type": "stream",
     "text": [
      "\n",
      "      Epoch    GPU_mem   box_loss   seg_loss   cls_loss   dfl_loss  Instances       Size\n"
     ]
    },
    {
     "name": "stderr",
     "output_type": "stream",
     "text": [
      "      49/85         0G      1.684      1.615      1.564      1.491         29        640: 100%|██████████| 26/26 [17:28<00:00, 40.32s/it]\n",
      "                 Class     Images  Instances      Box(P          R      mAP50  mAP50-95)     Mask(P          R      mAP50  mAP50-95): 100%|██████████| 4/4 [00:29<00:00,  7.42s/it]"
     ]
    },
    {
     "name": "stdout",
     "output_type": "stream",
     "text": [
      "                   all         52         74      0.725      0.446      0.554      0.279      0.547      0.338      0.398      0.185\n"
     ]
    },
    {
     "name": "stderr",
     "output_type": "stream",
     "text": [
      "\n"
     ]
    },
    {
     "name": "stdout",
     "output_type": "stream",
     "text": [
      "\n",
      "      Epoch    GPU_mem   box_loss   seg_loss   cls_loss   dfl_loss  Instances       Size\n"
     ]
    },
    {
     "name": "stderr",
     "output_type": "stream",
     "text": [
      "      50/85         0G      1.712      1.482      1.621      1.545         27        640: 100%|██████████| 26/26 [07:31<00:00, 17.35s/it]\n",
      "                 Class     Images  Instances      Box(P          R      mAP50  mAP50-95)     Mask(P          R      mAP50  mAP50-95): 100%|██████████| 4/4 [00:28<00:00,  7.22s/it]"
     ]
    },
    {
     "name": "stdout",
     "output_type": "stream",
     "text": [
      "                   all         52         74      0.599      0.527       0.57      0.251      0.519      0.446      0.452      0.183\n"
     ]
    },
    {
     "name": "stderr",
     "output_type": "stream",
     "text": [
      "\n"
     ]
    },
    {
     "name": "stdout",
     "output_type": "stream",
     "text": [
      "\n",
      "      Epoch    GPU_mem   box_loss   seg_loss   cls_loss   dfl_loss  Instances       Size\n"
     ]
    },
    {
     "name": "stderr",
     "output_type": "stream",
     "text": [
      "      51/85         0G      1.605      1.402      1.515      1.415         10        640: 100%|██████████| 26/26 [06:54<00:00, 15.96s/it]\n",
      "                 Class     Images  Instances      Box(P          R      mAP50  mAP50-95)     Mask(P          R      mAP50  mAP50-95): 100%|██████████| 4/4 [00:29<00:00,  7.38s/it]"
     ]
    },
    {
     "name": "stdout",
     "output_type": "stream",
     "text": [
      "                   all         52         74      0.666      0.486      0.545      0.286      0.534      0.387      0.438      0.181\n"
     ]
    },
    {
     "name": "stderr",
     "output_type": "stream",
     "text": [
      "\n"
     ]
    },
    {
     "name": "stdout",
     "output_type": "stream",
     "text": [
      "\n",
      "      Epoch    GPU_mem   box_loss   seg_loss   cls_loss   dfl_loss  Instances       Size\n"
     ]
    },
    {
     "name": "stderr",
     "output_type": "stream",
     "text": [
      "      52/85         0G      1.615      1.389      1.549      1.458         25        640: 100%|██████████| 26/26 [06:55<00:00, 15.99s/it]\n",
      "                 Class     Images  Instances      Box(P          R      mAP50  mAP50-95)     Mask(P          R      mAP50  mAP50-95): 100%|██████████| 4/4 [00:29<00:00,  7.37s/it]"
     ]
    },
    {
     "name": "stdout",
     "output_type": "stream",
     "text": [
      "                   all         52         74      0.598      0.442      0.542      0.266      0.512      0.378      0.454      0.194\n"
     ]
    },
    {
     "name": "stderr",
     "output_type": "stream",
     "text": [
      "\n"
     ]
    },
    {
     "name": "stdout",
     "output_type": "stream",
     "text": [
      "\n",
      "      Epoch    GPU_mem   box_loss   seg_loss   cls_loss   dfl_loss  Instances       Size\n"
     ]
    },
    {
     "name": "stderr",
     "output_type": "stream",
     "text": [
      "      53/85         0G      1.624      1.336      1.585      1.499         22        640: 100%|██████████| 26/26 [06:45<00:00, 15.59s/it]\n",
      "                 Class     Images  Instances      Box(P          R      mAP50  mAP50-95)     Mask(P          R      mAP50  mAP50-95): 100%|██████████| 4/4 [00:29<00:00,  7.30s/it]"
     ]
    },
    {
     "name": "stdout",
     "output_type": "stream",
     "text": [
      "                   all         52         74      0.549      0.486      0.539       0.26      0.473      0.419      0.431      0.198\n"
     ]
    },
    {
     "name": "stderr",
     "output_type": "stream",
     "text": [
      "\n"
     ]
    },
    {
     "name": "stdout",
     "output_type": "stream",
     "text": [
      "\n",
      "      Epoch    GPU_mem   box_loss   seg_loss   cls_loss   dfl_loss  Instances       Size\n"
     ]
    },
    {
     "name": "stderr",
     "output_type": "stream",
     "text": [
      "      54/85         0G      1.577      1.426      1.484      1.438         26        640: 100%|██████████| 26/26 [06:42<00:00, 15.47s/it]\n",
      "                 Class     Images  Instances      Box(P          R      mAP50  mAP50-95)     Mask(P          R      mAP50  mAP50-95): 100%|██████████| 4/4 [00:28<00:00,  7.18s/it]"
     ]
    },
    {
     "name": "stdout",
     "output_type": "stream",
     "text": [
      "                   all         52         74      0.728      0.514      0.598      0.262      0.668      0.419      0.462      0.172\n"
     ]
    },
    {
     "name": "stderr",
     "output_type": "stream",
     "text": [
      "\n"
     ]
    },
    {
     "name": "stdout",
     "output_type": "stream",
     "text": [
      "\n",
      "      Epoch    GPU_mem   box_loss   seg_loss   cls_loss   dfl_loss  Instances       Size\n"
     ]
    },
    {
     "name": "stderr",
     "output_type": "stream",
     "text": [
      "      55/85         0G      1.629      1.443      1.478      1.446         29        640: 100%|██████████| 26/26 [06:48<00:00, 15.71s/it]\n",
      "                 Class     Images  Instances      Box(P          R      mAP50  mAP50-95)     Mask(P          R      mAP50  mAP50-95): 100%|██████████| 4/4 [00:29<00:00,  7.40s/it]"
     ]
    },
    {
     "name": "stdout",
     "output_type": "stream",
     "text": [
      "                   all         52         74      0.744       0.51      0.586      0.282      0.696      0.432      0.473      0.199\n"
     ]
    },
    {
     "name": "stderr",
     "output_type": "stream",
     "text": [
      "\n"
     ]
    },
    {
     "name": "stdout",
     "output_type": "stream",
     "text": [
      "\n",
      "      Epoch    GPU_mem   box_loss   seg_loss   cls_loss   dfl_loss  Instances       Size\n"
     ]
    },
    {
     "name": "stderr",
     "output_type": "stream",
     "text": [
      "      56/85         0G      1.568      1.285      1.404      1.459         16        640: 100%|██████████| 26/26 [06:44<00:00, 15.56s/it]\n",
      "                 Class     Images  Instances      Box(P          R      mAP50  mAP50-95)     Mask(P          R      mAP50  mAP50-95): 100%|██████████| 4/4 [00:29<00:00,  7.30s/it]"
     ]
    },
    {
     "name": "stdout",
     "output_type": "stream",
     "text": [
      "                   all         52         74      0.715      0.514      0.601      0.292      0.597      0.421       0.45      0.167\n"
     ]
    },
    {
     "name": "stderr",
     "output_type": "stream",
     "text": [
      "\n"
     ]
    },
    {
     "name": "stdout",
     "output_type": "stream",
     "text": [
      "\n",
      "      Epoch    GPU_mem   box_loss   seg_loss   cls_loss   dfl_loss  Instances       Size\n"
     ]
    },
    {
     "name": "stderr",
     "output_type": "stream",
     "text": [
      "      57/85         0G      1.561      1.371      1.535      1.495         22        640: 100%|██████████| 26/26 [09:38<00:00, 22.24s/it]\n",
      "                 Class     Images  Instances      Box(P          R      mAP50  mAP50-95)     Mask(P          R      mAP50  mAP50-95): 100%|██████████| 4/4 [00:28<00:00,  7.21s/it]"
     ]
    },
    {
     "name": "stdout",
     "output_type": "stream",
     "text": [
      "                   all         52         74       0.69      0.432      0.546      0.275       0.58      0.392      0.463      0.177\n"
     ]
    },
    {
     "name": "stderr",
     "output_type": "stream",
     "text": [
      "\n"
     ]
    },
    {
     "name": "stdout",
     "output_type": "stream",
     "text": [
      "\n",
      "      Epoch    GPU_mem   box_loss   seg_loss   cls_loss   dfl_loss  Instances       Size\n"
     ]
    },
    {
     "name": "stderr",
     "output_type": "stream",
     "text": [
      "      58/85         0G      1.618      1.292      1.481      1.464         22        640: 100%|██████████| 26/26 [06:35<00:00, 15.21s/it]\n",
      "                 Class     Images  Instances      Box(P          R      mAP50  mAP50-95)     Mask(P          R      mAP50  mAP50-95): 100%|██████████| 4/4 [00:30<00:00,  7.56s/it]"
     ]
    },
    {
     "name": "stdout",
     "output_type": "stream",
     "text": [
      "                   all         52         74      0.556      0.558      0.581       0.29      0.501      0.486      0.486       0.19\n"
     ]
    },
    {
     "name": "stderr",
     "output_type": "stream",
     "text": [
      "\n"
     ]
    },
    {
     "name": "stdout",
     "output_type": "stream",
     "text": [
      "\n",
      "      Epoch    GPU_mem   box_loss   seg_loss   cls_loss   dfl_loss  Instances       Size\n"
     ]
    },
    {
     "name": "stderr",
     "output_type": "stream",
     "text": [
      "      59/85         0G      1.599      1.366      1.548      1.518         16        640: 100%|██████████| 26/26 [08:18<00:00, 19.16s/it]\n",
      "                 Class     Images  Instances      Box(P          R      mAP50  mAP50-95)     Mask(P          R      mAP50  mAP50-95): 100%|██████████| 4/4 [00:28<00:00,  7.22s/it]"
     ]
    },
    {
     "name": "stdout",
     "output_type": "stream",
     "text": [
      "                   all         52         74      0.734      0.447       0.59      0.291      0.656      0.419       0.48      0.194\n"
     ]
    },
    {
     "name": "stderr",
     "output_type": "stream",
     "text": [
      "\n"
     ]
    },
    {
     "name": "stdout",
     "output_type": "stream",
     "text": [
      "\n",
      "      Epoch    GPU_mem   box_loss   seg_loss   cls_loss   dfl_loss  Instances       Size\n"
     ]
    },
    {
     "name": "stderr",
     "output_type": "stream",
     "text": [
      "      60/85         0G      1.508      1.311      1.431      1.382         22        640: 100%|██████████| 26/26 [07:03<00:00, 16.28s/it]\n",
      "                 Class     Images  Instances      Box(P          R      mAP50  mAP50-95)     Mask(P          R      mAP50  mAP50-95): 100%|██████████| 4/4 [00:29<00:00,  7.38s/it]"
     ]
    },
    {
     "name": "stdout",
     "output_type": "stream",
     "text": [
      "                   all         52         74      0.671      0.527      0.622      0.303       0.58      0.449       0.49      0.214\n"
     ]
    },
    {
     "name": "stderr",
     "output_type": "stream",
     "text": [
      "\n"
     ]
    },
    {
     "name": "stdout",
     "output_type": "stream",
     "text": [
      "\n",
      "      Epoch    GPU_mem   box_loss   seg_loss   cls_loss   dfl_loss  Instances       Size\n"
     ]
    },
    {
     "name": "stderr",
     "output_type": "stream",
     "text": [
      "      61/85         0G      1.614      1.365      1.581      1.494         18        640: 100%|██████████| 26/26 [13:12<00:00, 30.48s/it]\n",
      "                 Class     Images  Instances      Box(P          R      mAP50  mAP50-95)     Mask(P          R      mAP50  mAP50-95): 100%|██████████| 4/4 [00:30<00:00,  7.59s/it]"
     ]
    },
    {
     "name": "stdout",
     "output_type": "stream",
     "text": [
      "                   all         52         74      0.682      0.446      0.564      0.269      0.566      0.365      0.408       0.17\n"
     ]
    },
    {
     "name": "stderr",
     "output_type": "stream",
     "text": [
      "\n"
     ]
    },
    {
     "name": "stdout",
     "output_type": "stream",
     "text": [
      "\n",
      "      Epoch    GPU_mem   box_loss   seg_loss   cls_loss   dfl_loss  Instances       Size\n"
     ]
    },
    {
     "name": "stderr",
     "output_type": "stream",
     "text": [
      "      62/85         0G      1.513      1.314      1.331      1.332         18        640: 100%|██████████| 26/26 [07:17<00:00, 16.82s/it]\n",
      "                 Class     Images  Instances      Box(P          R      mAP50  mAP50-95)     Mask(P          R      mAP50  mAP50-95): 100%|██████████| 4/4 [00:29<00:00,  7.27s/it]"
     ]
    },
    {
     "name": "stdout",
     "output_type": "stream",
     "text": [
      "                   all         52         74      0.633      0.554      0.604       0.31       0.54      0.473      0.498      0.212\n"
     ]
    },
    {
     "name": "stderr",
     "output_type": "stream",
     "text": [
      "\n"
     ]
    },
    {
     "name": "stdout",
     "output_type": "stream",
     "text": [
      "\n",
      "      Epoch    GPU_mem   box_loss   seg_loss   cls_loss   dfl_loss  Instances       Size\n"
     ]
    },
    {
     "name": "stderr",
     "output_type": "stream",
     "text": [
      "      63/85         0G      1.521       1.29      1.365      1.356         20        640: 100%|██████████| 26/26 [07:12<00:00, 16.62s/it]\n",
      "                 Class     Images  Instances      Box(P          R      mAP50  mAP50-95)     Mask(P          R      mAP50  mAP50-95): 100%|██████████| 4/4 [00:30<00:00,  7.64s/it]"
     ]
    },
    {
     "name": "stdout",
     "output_type": "stream",
     "text": [
      "                   all         52         74      0.796        0.5      0.659      0.309       0.55      0.473      0.495      0.201\n"
     ]
    },
    {
     "name": "stderr",
     "output_type": "stream",
     "text": [
      "\n"
     ]
    },
    {
     "name": "stdout",
     "output_type": "stream",
     "text": [
      "\n",
      "      Epoch    GPU_mem   box_loss   seg_loss   cls_loss   dfl_loss  Instances       Size\n"
     ]
    },
    {
     "name": "stderr",
     "output_type": "stream",
     "text": [
      "      64/85         0G      1.498      1.299      1.361      1.344         19        640: 100%|██████████| 26/26 [10:45<00:00, 24.83s/it]\n",
      "                 Class     Images  Instances      Box(P          R      mAP50  mAP50-95)     Mask(P          R      mAP50  mAP50-95): 100%|██████████| 4/4 [01:25<00:00, 21.39s/it]"
     ]
    },
    {
     "name": "stdout",
     "output_type": "stream",
     "text": [
      "                   all         52         74      0.762      0.563      0.675      0.323      0.577        0.5      0.501      0.208\n"
     ]
    },
    {
     "name": "stderr",
     "output_type": "stream",
     "text": [
      "\n"
     ]
    },
    {
     "name": "stdout",
     "output_type": "stream",
     "text": [
      "\n",
      "      Epoch    GPU_mem   box_loss   seg_loss   cls_loss   dfl_loss  Instances       Size\n"
     ]
    },
    {
     "name": "stderr",
     "output_type": "stream",
     "text": [
      "      65/85         0G      1.472      1.353      1.316      1.324         13        640: 100%|██████████| 26/26 [22:51<00:00, 52.76s/it]\n",
      "                 Class     Images  Instances      Box(P          R      mAP50  mAP50-95)     Mask(P          R      mAP50  mAP50-95): 100%|██████████| 4/4 [01:24<00:00, 21.03s/it]"
     ]
    },
    {
     "name": "stdout",
     "output_type": "stream",
     "text": [
      "                   all         52         74      0.813      0.527      0.669      0.325      0.672      0.446      0.505      0.224\n"
     ]
    },
    {
     "name": "stderr",
     "output_type": "stream",
     "text": [
      "\n"
     ]
    },
    {
     "name": "stdout",
     "output_type": "stream",
     "text": [
      "\n",
      "      Epoch    GPU_mem   box_loss   seg_loss   cls_loss   dfl_loss  Instances       Size\n"
     ]
    },
    {
     "name": "stderr",
     "output_type": "stream",
     "text": [
      "      66/85         0G      1.466      1.349      1.283       1.31         26        640: 100%|██████████| 26/26 [24:10<00:00, 55.77s/it]\n",
      "                 Class     Images  Instances      Box(P          R      mAP50  mAP50-95)     Mask(P          R      mAP50  mAP50-95): 100%|██████████| 4/4 [01:25<00:00, 21.35s/it]"
     ]
    },
    {
     "name": "stdout",
     "output_type": "stream",
     "text": [
      "                   all         52         74      0.744      0.527       0.63      0.318      0.609       0.42      0.466      0.205\n"
     ]
    },
    {
     "name": "stderr",
     "output_type": "stream",
     "text": [
      "\n"
     ]
    },
    {
     "name": "stdout",
     "output_type": "stream",
     "text": [
      "\n",
      "      Epoch    GPU_mem   box_loss   seg_loss   cls_loss   dfl_loss  Instances       Size\n"
     ]
    },
    {
     "name": "stderr",
     "output_type": "stream",
     "text": [
      "      67/85         0G      1.443      1.302      1.275       1.36         28        640: 100%|██████████| 26/26 [22:50<00:00, 52.72s/it]\n",
      "                 Class     Images  Instances      Box(P          R      mAP50  mAP50-95)     Mask(P          R      mAP50  mAP50-95): 100%|██████████| 4/4 [01:21<00:00, 20.41s/it]"
     ]
    },
    {
     "name": "stdout",
     "output_type": "stream",
     "text": [
      "                   all         52         74       0.75        0.5      0.622      0.304      0.608      0.405      0.451      0.203\n"
     ]
    },
    {
     "name": "stderr",
     "output_type": "stream",
     "text": [
      "\n"
     ]
    },
    {
     "name": "stdout",
     "output_type": "stream",
     "text": [
      "\n",
      "      Epoch    GPU_mem   box_loss   seg_loss   cls_loss   dfl_loss  Instances       Size\n"
     ]
    },
    {
     "name": "stderr",
     "output_type": "stream",
     "text": [
      "      68/85         0G      1.382      1.351      1.283       1.33         29        640: 100%|██████████| 26/26 [26:06<00:00, 60.24s/it]\n",
      "                 Class     Images  Instances      Box(P          R      mAP50  mAP50-95)     Mask(P          R      mAP50  mAP50-95): 100%|██████████| 4/4 [01:33<00:00, 23.27s/it]"
     ]
    },
    {
     "name": "stdout",
     "output_type": "stream",
     "text": [
      "                   all         52         74       0.68      0.527      0.614      0.331      0.633      0.446      0.513      0.222\n"
     ]
    },
    {
     "name": "stderr",
     "output_type": "stream",
     "text": [
      "\n"
     ]
    },
    {
     "name": "stdout",
     "output_type": "stream",
     "text": [
      "\n",
      "      Epoch    GPU_mem   box_loss   seg_loss   cls_loss   dfl_loss  Instances       Size\n"
     ]
    },
    {
     "name": "stderr",
     "output_type": "stream",
     "text": [
      "      69/85         0G      1.485      1.226      1.304      1.412         26        640: 100%|██████████| 26/26 [27:59<00:00, 64.59s/it]\n",
      "                 Class     Images  Instances      Box(P          R      mAP50  mAP50-95)     Mask(P          R      mAP50  mAP50-95): 100%|██████████| 4/4 [01:31<00:00, 22.76s/it]"
     ]
    },
    {
     "name": "stdout",
     "output_type": "stream",
     "text": [
      "                   all         52         74      0.761      0.527       0.64      0.323      0.647      0.445      0.509      0.214\n"
     ]
    },
    {
     "name": "stderr",
     "output_type": "stream",
     "text": [
      "\n"
     ]
    },
    {
     "name": "stdout",
     "output_type": "stream",
     "text": [
      "\n",
      "      Epoch    GPU_mem   box_loss   seg_loss   cls_loss   dfl_loss  Instances       Size\n"
     ]
    },
    {
     "name": "stderr",
     "output_type": "stream",
     "text": [
      "      70/85         0G      1.444      1.314      1.339       1.42         21        640: 100%|██████████| 26/26 [25:14<00:00, 58.25s/it]\n",
      "                 Class     Images  Instances      Box(P          R      mAP50  mAP50-95)     Mask(P          R      mAP50  mAP50-95): 100%|██████████| 4/4 [01:30<00:00, 22.56s/it]"
     ]
    },
    {
     "name": "stdout",
     "output_type": "stream",
     "text": [
      "                   all         52         74       0.76      0.514      0.637      0.318      0.581      0.507      0.517      0.203\n"
     ]
    },
    {
     "name": "stderr",
     "output_type": "stream",
     "text": [
      "\n"
     ]
    },
    {
     "name": "stdout",
     "output_type": "stream",
     "text": [
      "\n",
      "      Epoch    GPU_mem   box_loss   seg_loss   cls_loss   dfl_loss  Instances       Size\n"
     ]
    },
    {
     "name": "stderr",
     "output_type": "stream",
     "text": [
      "      71/85         0G      1.427      1.273      1.282      1.354         17        640: 100%|██████████| 26/26 [14:53<00:00, 34.37s/it]\n",
      "                 Class     Images  Instances      Box(P          R      mAP50  mAP50-95)     Mask(P          R      mAP50  mAP50-95): 100%|██████████| 4/4 [00:34<00:00,  8.59s/it]"
     ]
    },
    {
     "name": "stdout",
     "output_type": "stream",
     "text": [
      "                   all         52         74       0.73        0.5      0.574      0.304      0.624      0.432      0.474      0.216\n"
     ]
    },
    {
     "name": "stderr",
     "output_type": "stream",
     "text": [
      "\n"
     ]
    },
    {
     "name": "stdout",
     "output_type": "stream",
     "text": [
      "\n",
      "      Epoch    GPU_mem   box_loss   seg_loss   cls_loss   dfl_loss  Instances       Size\n"
     ]
    },
    {
     "name": "stderr",
     "output_type": "stream",
     "text": [
      "      72/85         0G      1.414       1.14      1.278      1.348         19        640: 100%|██████████| 26/26 [06:53<00:00, 15.91s/it]\n",
      "                 Class     Images  Instances      Box(P          R      mAP50  mAP50-95)     Mask(P          R      mAP50  mAP50-95): 100%|██████████| 4/4 [00:28<00:00,  7.22s/it]"
     ]
    },
    {
     "name": "stdout",
     "output_type": "stream",
     "text": [
      "                   all         52         74      0.762      0.527      0.641      0.309      0.626      0.432      0.449      0.188\n"
     ]
    },
    {
     "name": "stderr",
     "output_type": "stream",
     "text": [
      "\n"
     ]
    },
    {
     "name": "stdout",
     "output_type": "stream",
     "text": [
      "\n",
      "      Epoch    GPU_mem   box_loss   seg_loss   cls_loss   dfl_loss  Instances       Size\n"
     ]
    },
    {
     "name": "stderr",
     "output_type": "stream",
     "text": [
      "      73/85         0G      1.387      1.223      1.267      1.316         27        640: 100%|██████████| 26/26 [06:29<00:00, 14.98s/it]\n",
      "                 Class     Images  Instances      Box(P          R      mAP50  mAP50-95)     Mask(P          R      mAP50  mAP50-95): 100%|██████████| 4/4 [00:28<00:00,  7.25s/it]"
     ]
    },
    {
     "name": "stdout",
     "output_type": "stream",
     "text": [
      "                   all         52         74      0.714      0.574      0.635      0.328      0.578      0.486      0.481      0.221\n"
     ]
    },
    {
     "name": "stderr",
     "output_type": "stream",
     "text": [
      "\n"
     ]
    },
    {
     "name": "stdout",
     "output_type": "stream",
     "text": [
      "\n",
      "      Epoch    GPU_mem   box_loss   seg_loss   cls_loss   dfl_loss  Instances       Size\n"
     ]
    },
    {
     "name": "stderr",
     "output_type": "stream",
     "text": [
      "      74/85         0G      1.437      1.248      1.335      1.423         27        640: 100%|██████████| 26/26 [06:35<00:00, 15.21s/it]\n",
      "                 Class     Images  Instances      Box(P          R      mAP50  mAP50-95)     Mask(P          R      mAP50  mAP50-95): 100%|██████████| 4/4 [00:29<00:00,  7.36s/it]"
     ]
    },
    {
     "name": "stdout",
     "output_type": "stream",
     "text": [
      "                   all         52         74      0.704      0.581      0.644       0.33       0.58      0.473      0.481      0.223\n"
     ]
    },
    {
     "name": "stderr",
     "output_type": "stream",
     "text": [
      "\n"
     ]
    },
    {
     "name": "stdout",
     "output_type": "stream",
     "text": [
      "\n",
      "      Epoch    GPU_mem   box_loss   seg_loss   cls_loss   dfl_loss  Instances       Size\n"
     ]
    },
    {
     "name": "stderr",
     "output_type": "stream",
     "text": [
      "      75/85         0G       1.42      1.148       1.36      1.397         16        640: 100%|██████████| 26/26 [06:34<00:00, 15.17s/it]\n",
      "                 Class     Images  Instances      Box(P          R      mAP50  mAP50-95)     Mask(P          R      mAP50  mAP50-95): 100%|██████████| 4/4 [00:29<00:00,  7.34s/it]"
     ]
    },
    {
     "name": "stdout",
     "output_type": "stream",
     "text": [
      "                   all         52         74      0.707      0.568      0.662      0.334      0.589      0.484      0.487      0.222\n"
     ]
    },
    {
     "name": "stderr",
     "output_type": "stream",
     "text": [
      "\n"
     ]
    },
    {
     "name": "stdout",
     "output_type": "stream",
     "text": [
      "Closing dataloader mosaic\n",
      "\n",
      "      Epoch    GPU_mem   box_loss   seg_loss   cls_loss   dfl_loss  Instances       Size\n"
     ]
    },
    {
     "name": "stderr",
     "output_type": "stream",
     "text": [
      "c:\\Users\\steva\\AppData\\Local\\Programs\\Python\\Python312\\Lib\\site-packages\\torch\\utils\\data\\dataloader.py:665: UserWarning: 'pin_memory' argument is set as true but no accelerator is found, then device pinned memory won't be used.\n",
      "  warnings.warn(warn_msg)\n",
      "      76/85         0G       1.44      1.323      1.348      1.289         13        640: 100%|██████████| 26/26 [06:52<00:00, 15.87s/it]\n",
      "                 Class     Images  Instances      Box(P          R      mAP50  mAP50-95)     Mask(P          R      mAP50  mAP50-95): 100%|██████████| 4/4 [00:28<00:00,  7.25s/it]"
     ]
    },
    {
     "name": "stdout",
     "output_type": "stream",
     "text": [
      "                   all         52         74      0.729      0.554      0.648      0.321      0.606      0.486      0.469      0.203\n"
     ]
    },
    {
     "name": "stderr",
     "output_type": "stream",
     "text": [
      "\n"
     ]
    },
    {
     "name": "stdout",
     "output_type": "stream",
     "text": [
      "\n",
      "      Epoch    GPU_mem   box_loss   seg_loss   cls_loss   dfl_loss  Instances       Size\n"
     ]
    },
    {
     "name": "stderr",
     "output_type": "stream",
     "text": [
      "      77/85         0G       1.38      1.191      1.257        1.3         13        640: 100%|██████████| 26/26 [07:04<00:00, 16.35s/it]\n",
      "                 Class     Images  Instances      Box(P          R      mAP50  mAP50-95)     Mask(P          R      mAP50  mAP50-95): 100%|██████████| 4/4 [00:30<00:00,  7.51s/it]"
     ]
    },
    {
     "name": "stdout",
     "output_type": "stream",
     "text": [
      "                   all         52         74      0.783      0.536      0.645      0.319      0.696      0.473      0.492      0.198\n"
     ]
    },
    {
     "name": "stderr",
     "output_type": "stream",
     "text": [
      "\n"
     ]
    },
    {
     "name": "stdout",
     "output_type": "stream",
     "text": [
      "\n",
      "      Epoch    GPU_mem   box_loss   seg_loss   cls_loss   dfl_loss  Instances       Size\n"
     ]
    },
    {
     "name": "stderr",
     "output_type": "stream",
     "text": [
      "      78/85         0G      1.387      1.252      1.188      1.243         10        640: 100%|██████████| 26/26 [06:49<00:00, 15.75s/it]\n",
      "                 Class     Images  Instances      Box(P          R      mAP50  mAP50-95)     Mask(P          R      mAP50  mAP50-95): 100%|██████████| 4/4 [00:29<00:00,  7.39s/it]"
     ]
    },
    {
     "name": "stdout",
     "output_type": "stream",
     "text": [
      "                   all         52         74      0.806      0.563      0.657      0.337       0.68      0.473      0.459      0.192\n"
     ]
    },
    {
     "name": "stderr",
     "output_type": "stream",
     "text": [
      "\n"
     ]
    },
    {
     "name": "stdout",
     "output_type": "stream",
     "text": [
      "\n",
      "      Epoch    GPU_mem   box_loss   seg_loss   cls_loss   dfl_loss  Instances       Size\n"
     ]
    },
    {
     "name": "stderr",
     "output_type": "stream",
     "text": [
      "      79/85         0G      1.313      1.227      1.177      1.293         16        640: 100%|██████████| 26/26 [06:57<00:00, 16.07s/it]\n",
      "                 Class     Images  Instances      Box(P          R      mAP50  mAP50-95)     Mask(P          R      mAP50  mAP50-95): 100%|██████████| 4/4 [00:30<00:00,  7.59s/it]"
     ]
    },
    {
     "name": "stdout",
     "output_type": "stream",
     "text": [
      "                   all         52         74      0.771      0.545      0.661      0.344      0.661      0.446      0.483      0.204\n"
     ]
    },
    {
     "name": "stderr",
     "output_type": "stream",
     "text": [
      "\n"
     ]
    },
    {
     "name": "stdout",
     "output_type": "stream",
     "text": [
      "\n",
      "      Epoch    GPU_mem   box_loss   seg_loss   cls_loss   dfl_loss  Instances       Size\n"
     ]
    },
    {
     "name": "stderr",
     "output_type": "stream",
     "text": [
      "      80/85         0G      1.362      1.219      1.187      1.285         10        640: 100%|██████████| 26/26 [06:52<00:00, 15.85s/it]\n",
      "                 Class     Images  Instances      Box(P          R      mAP50  mAP50-95)     Mask(P          R      mAP50  mAP50-95): 100%|██████████| 4/4 [00:28<00:00,  7.20s/it]"
     ]
    },
    {
     "name": "stdout",
     "output_type": "stream",
     "text": [
      "                   all         52         74      0.699      0.628      0.659      0.344      0.565      0.508       0.47      0.211\n"
     ]
    },
    {
     "name": "stderr",
     "output_type": "stream",
     "text": [
      "\n"
     ]
    },
    {
     "name": "stdout",
     "output_type": "stream",
     "text": [
      "\n",
      "      Epoch    GPU_mem   box_loss   seg_loss   cls_loss   dfl_loss  Instances       Size\n"
     ]
    },
    {
     "name": "stderr",
     "output_type": "stream",
     "text": [
      "      81/85         0G      1.401       1.22      1.151      1.316         17        640: 100%|██████████| 26/26 [06:28<00:00, 14.94s/it]\n",
      "                 Class     Images  Instances      Box(P          R      mAP50  mAP50-95)     Mask(P          R      mAP50  mAP50-95): 100%|██████████| 4/4 [00:29<00:00,  7.26s/it]"
     ]
    },
    {
     "name": "stdout",
     "output_type": "stream",
     "text": [
      "                   all         52         74      0.719      0.622      0.663      0.357      0.595      0.527      0.499      0.238\n"
     ]
    },
    {
     "name": "stderr",
     "output_type": "stream",
     "text": [
      "\n"
     ]
    },
    {
     "name": "stdout",
     "output_type": "stream",
     "text": [
      "\n",
      "      Epoch    GPU_mem   box_loss   seg_loss   cls_loss   dfl_loss  Instances       Size\n"
     ]
    },
    {
     "name": "stderr",
     "output_type": "stream",
     "text": [
      "      82/85         0G       1.32      1.338      1.173      1.277          8        640: 100%|██████████| 26/26 [06:25<00:00, 14.82s/it]\n",
      "                 Class     Images  Instances      Box(P          R      mAP50  mAP50-95)     Mask(P          R      mAP50  mAP50-95): 100%|██████████| 4/4 [00:28<00:00,  7.19s/it]"
     ]
    },
    {
     "name": "stdout",
     "output_type": "stream",
     "text": [
      "                   all         52         74      0.764      0.595      0.676      0.368      0.632      0.486      0.528      0.238\n"
     ]
    },
    {
     "name": "stderr",
     "output_type": "stream",
     "text": [
      "\n"
     ]
    },
    {
     "name": "stdout",
     "output_type": "stream",
     "text": [
      "\n",
      "      Epoch    GPU_mem   box_loss   seg_loss   cls_loss   dfl_loss  Instances       Size\n"
     ]
    },
    {
     "name": "stderr",
     "output_type": "stream",
     "text": [
      "      83/85         0G      1.343      1.137      1.194      1.312         10        640: 100%|██████████| 26/26 [06:25<00:00, 14.81s/it]\n",
      "                 Class     Images  Instances      Box(P          R      mAP50  mAP50-95)     Mask(P          R      mAP50  mAP50-95): 100%|██████████| 4/4 [00:28<00:00,  7.20s/it]"
     ]
    },
    {
     "name": "stdout",
     "output_type": "stream",
     "text": [
      "                   all         52         74      0.785      0.593      0.673      0.368       0.67        0.5      0.537      0.241\n"
     ]
    },
    {
     "name": "stderr",
     "output_type": "stream",
     "text": [
      "\n"
     ]
    },
    {
     "name": "stdout",
     "output_type": "stream",
     "text": [
      "\n",
      "      Epoch    GPU_mem   box_loss   seg_loss   cls_loss   dfl_loss  Instances       Size\n"
     ]
    },
    {
     "name": "stderr",
     "output_type": "stream",
     "text": [
      "      84/85         0G      1.307      1.103      1.103      1.261         20        640: 100%|██████████| 26/26 [06:20<00:00, 14.65s/it]\n",
      "                 Class     Images  Instances      Box(P          R      mAP50  mAP50-95)     Mask(P          R      mAP50  mAP50-95): 100%|██████████| 4/4 [00:28<00:00,  7.19s/it]"
     ]
    },
    {
     "name": "stdout",
     "output_type": "stream",
     "text": [
      "                   all         52         74      0.743      0.585       0.67      0.359      0.648      0.486        0.5      0.236\n"
     ]
    },
    {
     "name": "stderr",
     "output_type": "stream",
     "text": [
      "\n"
     ]
    },
    {
     "name": "stdout",
     "output_type": "stream",
     "text": [
      "\n",
      "      Epoch    GPU_mem   box_loss   seg_loss   cls_loss   dfl_loss  Instances       Size\n"
     ]
    },
    {
     "name": "stderr",
     "output_type": "stream",
     "text": [
      "      85/85         0G      1.366      1.236      1.132      1.268         10        640: 100%|██████████| 26/26 [06:21<00:00, 14.67s/it]\n",
      "                 Class     Images  Instances      Box(P          R      mAP50  mAP50-95)     Mask(P          R      mAP50  mAP50-95): 100%|██████████| 4/4 [00:28<00:00,  7.20s/it]"
     ]
    },
    {
     "name": "stdout",
     "output_type": "stream",
     "text": [
      "                   all         52         74      0.743      0.585      0.674      0.351      0.634      0.473      0.482      0.229\n"
     ]
    },
    {
     "name": "stderr",
     "output_type": "stream",
     "text": [
      "\n"
     ]
    },
    {
     "name": "stdout",
     "output_type": "stream",
     "text": [
      "\n",
      "85 epochs completed in 23.206 hours.\n",
      "Optimizer stripped from runs\\segment\\blade_defect_segmentation\\weights\\last.pt, 92.3MB\n",
      "Optimizer stripped from runs\\segment\\blade_defect_segmentation\\weights\\best.pt, 92.3MB\n",
      "\n",
      "Validating runs\\segment\\blade_defect_segmentation\\weights\\best.pt...\n",
      "Ultralytics 8.3.157  Python-3.12.0 torch-2.7.1+cpu CPU (13th Gen Intel Core(TM) i5-13450HX)\n",
      "YOLOv8l-seg summary (fused): 125 layers, 45,912,659 parameters, 0 gradients, 220.1 GFLOPs\n"
     ]
    },
    {
     "name": "stderr",
     "output_type": "stream",
     "text": [
      "                 Class     Images  Instances      Box(P          R      mAP50  mAP50-95)     Mask(P          R      mAP50  mAP50-95):   0%|          | 0/4 [00:00<?, ?it/s]"
     ]
    },
    {
     "name": "stdout",
     "output_type": "stream",
     "text": [
      "WARNING Limiting validation plots to first 50 items per image for speed...\n",
      "WARNING Limiting validation plots to first 50 items per image for speed...\n",
      "WARNING Limiting validation plots to first 50 items per image for speed...\n"
     ]
    },
    {
     "name": "stderr",
     "output_type": "stream",
     "text": [
      "                 Class     Images  Instances      Box(P          R      mAP50  mAP50-95)     Mask(P          R      mAP50  mAP50-95):  25%|██▌       | 1/4 [00:08<00:25,  8.33s/it]"
     ]
    },
    {
     "name": "stdout",
     "output_type": "stream",
     "text": [
      "WARNING Limiting validation plots to first 50 items per image for speed...\n",
      "WARNING Limiting validation plots to first 50 items per image for speed...\n",
      "WARNING Limiting validation plots to first 50 items per image for speed...\n",
      "WARNING Limiting validation plots to first 50 items per image for speed...\n",
      "WARNING Limiting validation plots to first 50 items per image for speed...\n"
     ]
    },
    {
     "name": "stderr",
     "output_type": "stream",
     "text": [
      "                 Class     Images  Instances      Box(P          R      mAP50  mAP50-95)     Mask(P          R      mAP50  mAP50-95):  50%|█████     | 2/4 [00:16<00:16,  8.28s/it]"
     ]
    },
    {
     "name": "stdout",
     "output_type": "stream",
     "text": [
      "WARNING Limiting validation plots to first 50 items per image for speed...\n",
      "WARNING Limiting validation plots to first 50 items per image for speed...\n",
      "WARNING Limiting validation plots to first 50 items per image for speed...\n"
     ]
    },
    {
     "name": "stderr",
     "output_type": "stream",
     "text": [
      "                 Class     Images  Instances      Box(P          R      mAP50  mAP50-95)     Mask(P          R      mAP50  mAP50-95): 100%|██████████| 4/4 [00:27<00:00,  6.77s/it]\n"
     ]
    },
    {
     "name": "stdout",
     "output_type": "stream",
     "text": [
      "                   all         52         74      0.785      0.593      0.673      0.367       0.67        0.5      0.537      0.241\n",
      "Speed: 2.3ms preprocess, 378.1ms inference, 0.0ms loss, 1.8ms postprocess per image\n",
      "Results saved to \u001b[1mruns\\segment\\blade_defect_segmentation\u001b[0m\n"
     ]
    },
    {
     "data": {
      "text/plain": [
       "ultralytics.utils.metrics.SegmentMetrics object with attributes:\n",
       "\n",
       "ap_class_index: array([0])\n",
       "box: ultralytics.utils.metrics.Metric object\n",
       "confusion_matrix: <ultralytics.utils.metrics.ConfusionMatrix object at 0x00000284B72AE000>\n",
       "curves: ['Precision-Recall(B)', 'F1-Confidence(B)', 'Precision-Confidence(B)', 'Recall-Confidence(B)', 'Precision-Recall(M)', 'F1-Confidence(M)', 'Precision-Confidence(M)', 'Recall-Confidence(M)']\n",
       "curves_results: [[array([          0,    0.001001,    0.002002,    0.003003,    0.004004,    0.005005,    0.006006,    0.007007,    0.008008,    0.009009,     0.01001,    0.011011,    0.012012,    0.013013,    0.014014,    0.015015,    0.016016,    0.017017,    0.018018,    0.019019,     0.02002,    0.021021,    0.022022,    0.023023,\n",
       "          0.024024,    0.025025,    0.026026,    0.027027,    0.028028,    0.029029,     0.03003,    0.031031,    0.032032,    0.033033,    0.034034,    0.035035,    0.036036,    0.037037,    0.038038,    0.039039,     0.04004,    0.041041,    0.042042,    0.043043,    0.044044,    0.045045,    0.046046,    0.047047,\n",
       "          0.048048,    0.049049,     0.05005,    0.051051,    0.052052,    0.053053,    0.054054,    0.055055,    0.056056,    0.057057,    0.058058,    0.059059,     0.06006,    0.061061,    0.062062,    0.063063,    0.064064,    0.065065,    0.066066,    0.067067,    0.068068,    0.069069,     0.07007,    0.071071,\n",
       "          0.072072,    0.073073,    0.074074,    0.075075,    0.076076,    0.077077,    0.078078,    0.079079,     0.08008,    0.081081,    0.082082,    0.083083,    0.084084,    0.085085,    0.086086,    0.087087,    0.088088,    0.089089,     0.09009,    0.091091,    0.092092,    0.093093,    0.094094,    0.095095,\n",
       "          0.096096,    0.097097,    0.098098,    0.099099,      0.1001,      0.1011,      0.1021,      0.1031,      0.1041,     0.10511,     0.10611,     0.10711,     0.10811,     0.10911,     0.11011,     0.11111,     0.11211,     0.11311,     0.11411,     0.11512,     0.11612,     0.11712,     0.11812,     0.11912,\n",
       "           0.12012,     0.12112,     0.12212,     0.12312,     0.12412,     0.12513,     0.12613,     0.12713,     0.12813,     0.12913,     0.13013,     0.13113,     0.13213,     0.13313,     0.13413,     0.13514,     0.13614,     0.13714,     0.13814,     0.13914,     0.14014,     0.14114,     0.14214,     0.14314,\n",
       "           0.14414,     0.14515,     0.14615,     0.14715,     0.14815,     0.14915,     0.15015,     0.15115,     0.15215,     0.15315,     0.15415,     0.15516,     0.15616,     0.15716,     0.15816,     0.15916,     0.16016,     0.16116,     0.16216,     0.16316,     0.16416,     0.16517,     0.16617,     0.16717,\n",
       "           0.16817,     0.16917,     0.17017,     0.17117,     0.17217,     0.17317,     0.17417,     0.17518,     0.17618,     0.17718,     0.17818,     0.17918,     0.18018,     0.18118,     0.18218,     0.18318,     0.18418,     0.18519,     0.18619,     0.18719,     0.18819,     0.18919,     0.19019,     0.19119,\n",
       "           0.19219,     0.19319,     0.19419,      0.1952,      0.1962,      0.1972,      0.1982,      0.1992,      0.2002,      0.2012,      0.2022,      0.2032,      0.2042,     0.20521,     0.20621,     0.20721,     0.20821,     0.20921,     0.21021,     0.21121,     0.21221,     0.21321,     0.21421,     0.21522,\n",
       "           0.21622,     0.21722,     0.21822,     0.21922,     0.22022,     0.22122,     0.22222,     0.22322,     0.22422,     0.22523,     0.22623,     0.22723,     0.22823,     0.22923,     0.23023,     0.23123,     0.23223,     0.23323,     0.23423,     0.23524,     0.23624,     0.23724,     0.23824,     0.23924,\n",
       "           0.24024,     0.24124,     0.24224,     0.24324,     0.24424,     0.24525,     0.24625,     0.24725,     0.24825,     0.24925,     0.25025,     0.25125,     0.25225,     0.25325,     0.25425,     0.25526,     0.25626,     0.25726,     0.25826,     0.25926,     0.26026,     0.26126,     0.26226,     0.26326,\n",
       "           0.26426,     0.26527,     0.26627,     0.26727,     0.26827,     0.26927,     0.27027,     0.27127,     0.27227,     0.27327,     0.27427,     0.27528,     0.27628,     0.27728,     0.27828,     0.27928,     0.28028,     0.28128,     0.28228,     0.28328,     0.28428,     0.28529,     0.28629,     0.28729,\n",
       "           0.28829,     0.28929,     0.29029,     0.29129,     0.29229,     0.29329,     0.29429,      0.2953,      0.2963,      0.2973,      0.2983,      0.2993,      0.3003,      0.3013,      0.3023,      0.3033,      0.3043,     0.30531,     0.30631,     0.30731,     0.30831,     0.30931,     0.31031,     0.31131,\n",
       "           0.31231,     0.31331,     0.31431,     0.31532,     0.31632,     0.31732,     0.31832,     0.31932,     0.32032,     0.32132,     0.32232,     0.32332,     0.32432,     0.32533,     0.32633,     0.32733,     0.32833,     0.32933,     0.33033,     0.33133,     0.33233,     0.33333,     0.33433,     0.33534,\n",
       "           0.33634,     0.33734,     0.33834,     0.33934,     0.34034,     0.34134,     0.34234,     0.34334,     0.34434,     0.34535,     0.34635,     0.34735,     0.34835,     0.34935,     0.35035,     0.35135,     0.35235,     0.35335,     0.35435,     0.35536,     0.35636,     0.35736,     0.35836,     0.35936,\n",
       "           0.36036,     0.36136,     0.36236,     0.36336,     0.36436,     0.36537,     0.36637,     0.36737,     0.36837,     0.36937,     0.37037,     0.37137,     0.37237,     0.37337,     0.37437,     0.37538,     0.37638,     0.37738,     0.37838,     0.37938,     0.38038,     0.38138,     0.38238,     0.38338,\n",
       "           0.38438,     0.38539,     0.38639,     0.38739,     0.38839,     0.38939,     0.39039,     0.39139,     0.39239,     0.39339,     0.39439,      0.3954,      0.3964,      0.3974,      0.3984,      0.3994,      0.4004,      0.4014,      0.4024,      0.4034,      0.4044,     0.40541,     0.40641,     0.40741,\n",
       "           0.40841,     0.40941,     0.41041,     0.41141,     0.41241,     0.41341,     0.41441,     0.41542,     0.41642,     0.41742,     0.41842,     0.41942,     0.42042,     0.42142,     0.42242,     0.42342,     0.42442,     0.42543,     0.42643,     0.42743,     0.42843,     0.42943,     0.43043,     0.43143,\n",
       "           0.43243,     0.43343,     0.43443,     0.43544,     0.43644,     0.43744,     0.43844,     0.43944,     0.44044,     0.44144,     0.44244,     0.44344,     0.44444,     0.44545,     0.44645,     0.44745,     0.44845,     0.44945,     0.45045,     0.45145,     0.45245,     0.45345,     0.45445,     0.45546,\n",
       "           0.45646,     0.45746,     0.45846,     0.45946,     0.46046,     0.46146,     0.46246,     0.46346,     0.46446,     0.46547,     0.46647,     0.46747,     0.46847,     0.46947,     0.47047,     0.47147,     0.47247,     0.47347,     0.47447,     0.47548,     0.47648,     0.47748,     0.47848,     0.47948,\n",
       "           0.48048,     0.48148,     0.48248,     0.48348,     0.48448,     0.48549,     0.48649,     0.48749,     0.48849,     0.48949,     0.49049,     0.49149,     0.49249,     0.49349,     0.49449,      0.4955,      0.4965,      0.4975,      0.4985,      0.4995,      0.5005,      0.5015,      0.5025,      0.5035,\n",
       "            0.5045,     0.50551,     0.50651,     0.50751,     0.50851,     0.50951,     0.51051,     0.51151,     0.51251,     0.51351,     0.51451,     0.51552,     0.51652,     0.51752,     0.51852,     0.51952,     0.52052,     0.52152,     0.52252,     0.52352,     0.52452,     0.52553,     0.52653,     0.52753,\n",
       "           0.52853,     0.52953,     0.53053,     0.53153,     0.53253,     0.53353,     0.53453,     0.53554,     0.53654,     0.53754,     0.53854,     0.53954,     0.54054,     0.54154,     0.54254,     0.54354,     0.54454,     0.54555,     0.54655,     0.54755,     0.54855,     0.54955,     0.55055,     0.55155,\n",
       "           0.55255,     0.55355,     0.55455,     0.55556,     0.55656,     0.55756,     0.55856,     0.55956,     0.56056,     0.56156,     0.56256,     0.56356,     0.56456,     0.56557,     0.56657,     0.56757,     0.56857,     0.56957,     0.57057,     0.57157,     0.57257,     0.57357,     0.57457,     0.57558,\n",
       "           0.57658,     0.57758,     0.57858,     0.57958,     0.58058,     0.58158,     0.58258,     0.58358,     0.58458,     0.58559,     0.58659,     0.58759,     0.58859,     0.58959,     0.59059,     0.59159,     0.59259,     0.59359,     0.59459,      0.5956,      0.5966,      0.5976,      0.5986,      0.5996,\n",
       "            0.6006,      0.6016,      0.6026,      0.6036,      0.6046,     0.60561,     0.60661,     0.60761,     0.60861,     0.60961,     0.61061,     0.61161,     0.61261,     0.61361,     0.61461,     0.61562,     0.61662,     0.61762,     0.61862,     0.61962,     0.62062,     0.62162,     0.62262,     0.62362,\n",
       "           0.62462,     0.62563,     0.62663,     0.62763,     0.62863,     0.62963,     0.63063,     0.63163,     0.63263,     0.63363,     0.63463,     0.63564,     0.63664,     0.63764,     0.63864,     0.63964,     0.64064,     0.64164,     0.64264,     0.64364,     0.64464,     0.64565,     0.64665,     0.64765,\n",
       "           0.64865,     0.64965,     0.65065,     0.65165,     0.65265,     0.65365,     0.65465,     0.65566,     0.65666,     0.65766,     0.65866,     0.65966,     0.66066,     0.66166,     0.66266,     0.66366,     0.66466,     0.66567,     0.66667,     0.66767,     0.66867,     0.66967,     0.67067,     0.67167,\n",
       "           0.67267,     0.67367,     0.67467,     0.67568,     0.67668,     0.67768,     0.67868,     0.67968,     0.68068,     0.68168,     0.68268,     0.68368,     0.68468,     0.68569,     0.68669,     0.68769,     0.68869,     0.68969,     0.69069,     0.69169,     0.69269,     0.69369,     0.69469,      0.6957,\n",
       "            0.6967,      0.6977,      0.6987,      0.6997,      0.7007,      0.7017,      0.7027,      0.7037,      0.7047,     0.70571,     0.70671,     0.70771,     0.70871,     0.70971,     0.71071,     0.71171,     0.71271,     0.71371,     0.71471,     0.71572,     0.71672,     0.71772,     0.71872,     0.71972,\n",
       "           0.72072,     0.72172,     0.72272,     0.72372,     0.72472,     0.72573,     0.72673,     0.72773,     0.72873,     0.72973,     0.73073,     0.73173,     0.73273,     0.73373,     0.73473,     0.73574,     0.73674,     0.73774,     0.73874,     0.73974,     0.74074,     0.74174,     0.74274,     0.74374,\n",
       "           0.74474,     0.74575,     0.74675,     0.74775,     0.74875,     0.74975,     0.75075,     0.75175,     0.75275,     0.75375,     0.75475,     0.75576,     0.75676,     0.75776,     0.75876,     0.75976,     0.76076,     0.76176,     0.76276,     0.76376,     0.76476,     0.76577,     0.76677,     0.76777,\n",
       "           0.76877,     0.76977,     0.77077,     0.77177,     0.77277,     0.77377,     0.77477,     0.77578,     0.77678,     0.77778,     0.77878,     0.77978,     0.78078,     0.78178,     0.78278,     0.78378,     0.78478,     0.78579,     0.78679,     0.78779,     0.78879,     0.78979,     0.79079,     0.79179,\n",
       "           0.79279,     0.79379,     0.79479,      0.7958,      0.7968,      0.7978,      0.7988,      0.7998,      0.8008,      0.8018,      0.8028,      0.8038,      0.8048,     0.80581,     0.80681,     0.80781,     0.80881,     0.80981,     0.81081,     0.81181,     0.81281,     0.81381,     0.81481,     0.81582,\n",
       "           0.81682,     0.81782,     0.81882,     0.81982,     0.82082,     0.82182,     0.82282,     0.82382,     0.82482,     0.82583,     0.82683,     0.82783,     0.82883,     0.82983,     0.83083,     0.83183,     0.83283,     0.83383,     0.83483,     0.83584,     0.83684,     0.83784,     0.83884,     0.83984,\n",
       "           0.84084,     0.84184,     0.84284,     0.84384,     0.84484,     0.84585,     0.84685,     0.84785,     0.84885,     0.84985,     0.85085,     0.85185,     0.85285,     0.85385,     0.85485,     0.85586,     0.85686,     0.85786,     0.85886,     0.85986,     0.86086,     0.86186,     0.86286,     0.86386,\n",
       "           0.86486,     0.86587,     0.86687,     0.86787,     0.86887,     0.86987,     0.87087,     0.87187,     0.87287,     0.87387,     0.87487,     0.87588,     0.87688,     0.87788,     0.87888,     0.87988,     0.88088,     0.88188,     0.88288,     0.88388,     0.88488,     0.88589,     0.88689,     0.88789,\n",
       "           0.88889,     0.88989,     0.89089,     0.89189,     0.89289,     0.89389,     0.89489,      0.8959,      0.8969,      0.8979,      0.8989,      0.8999,      0.9009,      0.9019,      0.9029,      0.9039,      0.9049,     0.90591,     0.90691,     0.90791,     0.90891,     0.90991,     0.91091,     0.91191,\n",
       "           0.91291,     0.91391,     0.91491,     0.91592,     0.91692,     0.91792,     0.91892,     0.91992,     0.92092,     0.92192,     0.92292,     0.92392,     0.92492,     0.92593,     0.92693,     0.92793,     0.92893,     0.92993,     0.93093,     0.93193,     0.93293,     0.93393,     0.93493,     0.93594,\n",
       "           0.93694,     0.93794,     0.93894,     0.93994,     0.94094,     0.94194,     0.94294,     0.94394,     0.94494,     0.94595,     0.94695,     0.94795,     0.94895,     0.94995,     0.95095,     0.95195,     0.95295,     0.95395,     0.95495,     0.95596,     0.95696,     0.95796,     0.95896,     0.95996,\n",
       "           0.96096,     0.96196,     0.96296,     0.96396,     0.96496,     0.96597,     0.96697,     0.96797,     0.96897,     0.96997,     0.97097,     0.97197,     0.97297,     0.97397,     0.97497,     0.97598,     0.97698,     0.97798,     0.97898,     0.97998,     0.98098,     0.98198,     0.98298,     0.98398,\n",
       "           0.98498,     0.98599,     0.98699,     0.98799,     0.98899,     0.98999,     0.99099,     0.99199,     0.99299,     0.99399,     0.99499,       0.996,       0.997,       0.998,       0.999,           1]), array([[          1,           1,           1,           1,           1,           1,           1,           1,           1,           1,           1,           1,           1,           1,           1,           1,           1,           1,           1,           1,           1,           1,           1,\n",
       "                  1,           1,           1,           1,           1,           1,           1,           1,           1,           1,           1,           1,           1,           1,           1,           1,           1,           1,           1,           1,           1,           1,           1,\n",
       "                  1,           1,           1,           1,           1,           1,           1,           1,           1,           1,           1,           1,           1,           1,           1,           1,           1,           1,           1,           1,           1,           1,           1,\n",
       "                  1,           1,           1,           1,           1,           1,           1,           1,           1,           1,           1,           1,           1,           1,           1,           1,           1,           1,           1,           1,           1,           1,           1,\n",
       "                  1,           1,           1,           1,           1,           1,           1,           1,           1,           1,           1,           1,           1,           1,           1,           1,           1,           1,           1,           1,           1,           1,           1,\n",
       "                  1,           1,           1,           1,           1,           1,           1,           1,           1,           1,           1,           1,           1,           1,           1,           1,           1,           1,           1,           1,           1,           1,           1,\n",
       "                  1,           1,           1,           1,           1,           1,           1,           1,           1,           1,           1,           1,           1,           1,           1,           1,           1,           1,           1,           1,           1,           1,           1,\n",
       "                  1,           1,           1,           1,           1,           1,           1,           1,           1,           1,           1,           1,           1,           1,           1,           1,           1,           1,           1,           1,           1,           1,           1,\n",
       "                  1,           1,           1,           1,           1,           1,           1,           1,           1,           1,           1,           1,           1,           1,           1,           1,           1,           1,           1,           1,           1,           1,           1,\n",
       "                  1,           1,           1,           1,           1,           1,           1,           1,           1,           1,           1,           1,           1,           1,           1,           1,           1,           1,           1,           1,           1,           1,           1,\n",
       "            0.95238,     0.95238,     0.95238,     0.95238,     0.95238,     0.95238,     0.95238,     0.95238,     0.95238,     0.95238,     0.95238,     0.95238,     0.95238,     0.95238,     0.95238,     0.95238,     0.95238,     0.95238,     0.95238,     0.95238,     0.95238,     0.95238,     0.95238,\n",
       "            0.95238,     0.95238,     0.95238,     0.95238,     0.95238,     0.95238,     0.95238,     0.95238,     0.95238,     0.95238,     0.95238,     0.95238,     0.95238,     0.95238,     0.95238,     0.95238,     0.95238,     0.92593,     0.92593,     0.92593,     0.92593,     0.92593,     0.92593,\n",
       "            0.92593,     0.92593,     0.92593,     0.92593,     0.92593,     0.92593,     0.92593,     0.92593,     0.92593,     0.92593,     0.92593,     0.92593,     0.92593,     0.92593,     0.92593,     0.92593,     0.92593,     0.92593,     0.92593,     0.92593,     0.92593,     0.92593,     0.92593,\n",
       "            0.92593,     0.92593,     0.92593,     0.92593,     0.92593,     0.92593,     0.92593,     0.92593,     0.92593,     0.92593,     0.92593,     0.92593,     0.92593,     0.92593,     0.92593,     0.92593,     0.92593,     0.92593,     0.92593,     0.92593,     0.92593,     0.92593,     0.92593,\n",
       "            0.92593,     0.92593,     0.92593,     0.92593,     0.92593,     0.92593,     0.92593,     0.92593,     0.92593,     0.92593,     0.92593,     0.92593,     0.92593,     0.92593,     0.92593,     0.92593,     0.89655,     0.89655,     0.89655,     0.89655,     0.89655,     0.89655,     0.89655,\n",
       "            0.89655,     0.89655,     0.89655,     0.89655,     0.89655,     0.89655,     0.88889,     0.88889,     0.88889,     0.88889,     0.88889,     0.88889,     0.88889,     0.88889,     0.88889,     0.88889,     0.88889,     0.88889,     0.88889,     0.88889,     0.88889,     0.88889,     0.88889,\n",
       "            0.88889,     0.88889,     0.88889,     0.88889,     0.88889,     0.88889,     0.88889,     0.88889,     0.88889,     0.88889,     0.88889,     0.88889,     0.88889,     0.88889,     0.88889,     0.88889,     0.88889,     0.88889,     0.88889,     0.88889,     0.88889,     0.88889,     0.88889,\n",
       "            0.88889,     0.88889,     0.88889,     0.88889,     0.88889,     0.88889,     0.88889,     0.88889,     0.88889,     0.88889,     0.88889,     0.88889,     0.88889,     0.88889,     0.88889,     0.88889,     0.88889,     0.88889,     0.88889,     0.88889,     0.88889,     0.88889,     0.88889,\n",
       "            0.88889,     0.88889,     0.88889,     0.88889,     0.88889,     0.88889,     0.88889,     0.88889,     0.88889,     0.88889,     0.88889,     0.88889,     0.88889,     0.88889,     0.88889,     0.88889,     0.88889,     0.88889,       0.825,       0.825,       0.825,       0.825,       0.825,\n",
       "              0.825,       0.825,       0.825,       0.825,       0.825,       0.825,       0.825,       0.825,       0.825,     0.80435,     0.80435,     0.80435,     0.80435,     0.80435,     0.80435,     0.80435,     0.80435,     0.80435,     0.80435,     0.80435,     0.80435,     0.80435,     0.80435,\n",
       "            0.80435,     0.80435,     0.80435,     0.80435,     0.80435,     0.80435,     0.80435,     0.80435,     0.80435,     0.80435,     0.80435,     0.80435,     0.80435,     0.80435,     0.80435,     0.80435,     0.80435,     0.80435,     0.80435,     0.80435,     0.80435,     0.80435,     0.80435,\n",
       "            0.80435,     0.80435,     0.80435,     0.80435,     0.80435,     0.80435,     0.80435,     0.80435,     0.80435,     0.80435,     0.80435,     0.80435,     0.80435,     0.80435,     0.80435,     0.80435,     0.80435,         0.8,         0.8,         0.8,         0.8,         0.8,         0.8,\n",
       "                0.8,         0.8,         0.8,         0.8,         0.8,         0.8,         0.8,         0.8,         0.8,         0.8,         0.8,         0.8,         0.8,         0.8,         0.8,         0.8,         0.8,         0.8,         0.8,         0.8,         0.8,         0.8,         0.8,\n",
       "                0.8,         0.8,         0.8,         0.8,         0.8,         0.8,         0.8,         0.8,         0.8,         0.8,         0.8,     0.78846,     0.78846,     0.78846,     0.78846,     0.78846,     0.78846,     0.78846,     0.78846,     0.78846,     0.78846,     0.78846,     0.78846,\n",
       "            0.78846,     0.78846,     0.78571,     0.78571,     0.78571,     0.78571,     0.78571,     0.78571,     0.78571,     0.78571,     0.78571,     0.78571,     0.78571,     0.78571,     0.78571,     0.78571,     0.78571,     0.78571,     0.78571,     0.78571,     0.78571,     0.78571,     0.78571,\n",
       "            0.78571,     0.78571,     0.78571,     0.78571,     0.78571,     0.78571,     0.78571,     0.78571,     0.78571,     0.78571,     0.78571,     0.78571,     0.78571,     0.78571,     0.78571,     0.78571,     0.78571,     0.78571,     0.78571,     0.77586,     0.77586,     0.77586,     0.77586,\n",
       "            0.77586,     0.77586,     0.77586,     0.77586,     0.77586,     0.77586,     0.77586,     0.77586,     0.77586,     0.77586,     0.68657,     0.68657,     0.68657,     0.68657,     0.68657,     0.68657,     0.68657,     0.68657,     0.68657,     0.68657,     0.68657,     0.68657,     0.68657,\n",
       "            0.64384,     0.64384,     0.64384,     0.64384,     0.64384,     0.64384,     0.64384,     0.64384,     0.64384,     0.64384,     0.64384,     0.64384,     0.64384,     0.64384,         0.6,         0.6,         0.6,         0.6,         0.6,         0.6,         0.6,         0.6,         0.6,\n",
       "                0.6,         0.6,         0.6,         0.6,     0.46226,     0.46226,     0.46226,     0.46226,     0.46226,     0.46226,     0.46226,     0.46226,     0.46226,     0.46226,     0.46226,     0.46226,     0.46226,     0.46226,     0.45455,     0.45455,     0.45455,     0.45455,     0.45455,\n",
       "            0.45455,     0.45455,     0.45455,     0.45455,     0.45455,     0.45455,     0.45455,     0.45455,     0.45217,     0.45217,     0.45217,     0.45217,     0.45217,     0.45217,     0.45217,     0.45217,     0.45217,     0.45217,     0.45217,     0.45217,     0.45217,     0.45217,     0.45217,\n",
       "            0.45217,     0.45217,     0.45217,     0.45217,     0.45217,     0.45217,     0.45217,     0.45217,     0.45217,     0.45217,     0.45217,     0.45217,     0.43089,     0.43089,     0.43089,     0.43089,     0.43089,     0.43089,     0.43089,     0.43089,     0.43089,     0.43089,     0.43089,\n",
       "            0.43089,     0.43089,     0.43089,     0.39041,     0.39041,     0.39041,     0.39041,     0.39041,     0.39041,     0.39041,     0.39041,     0.39041,     0.39041,     0.39041,     0.39041,     0.39041,     0.39041,     0.39041,     0.39041,     0.39041,     0.39041,     0.39041,     0.39041,\n",
       "            0.39041,     0.39041,     0.39041,     0.39041,     0.39041,     0.39041,     0.39041,     0.39041,     0.39041,     0.39041,     0.39041,     0.39041,     0.39041,     0.39041,     0.39041,     0.39041,     0.39041,     0.39041,     0.39041,     0.39041,     0.39041,     0.39041,     0.39041,\n",
       "            0.39041,     0.39041,     0.39041,     0.39041,     0.39041,     0.39041,     0.39041,     0.39041,     0.39041,     0.39041,     0.39041,     0.37908,     0.37908,     0.37908,     0.37908,     0.37908,     0.37908,     0.37908,     0.37908,     0.37908,     0.37908,     0.37908,     0.37908,\n",
       "            0.37908,     0.35119,     0.35119,     0.35119,     0.35119,     0.35119,     0.35119,     0.35119,     0.35119,     0.35119,     0.35119,     0.35119,     0.35119,     0.35119,     0.35119,     0.34884,     0.34884,     0.34884,     0.34884,     0.34884,     0.34884,     0.34884,     0.34884,\n",
       "            0.34884,     0.34884,     0.34884,     0.34884,     0.34884,     0.33152,     0.33152,     0.33152,     0.33152,     0.33152,     0.33152,     0.33152,     0.33152,     0.33152,     0.33152,     0.33152,     0.33152,     0.33152,     0.33152,     0.27803,     0.27803,     0.27803,     0.27803,\n",
       "            0.27803,     0.27803,     0.27803,     0.27803,     0.27803,     0.27803,     0.27803,     0.27803,     0.27803,     0.26471,     0.26471,     0.26471,     0.26471,     0.26471,     0.26471,     0.26471,     0.26471,     0.26471,     0.26471,     0.26471,     0.26471,     0.26471,     0.26471,\n",
       "            0.23022,     0.23022,     0.23022,     0.23022,     0.23022,     0.23022,     0.23022,     0.23022,     0.23022,     0.23022,     0.23022,     0.23022,     0.23022,     0.18732,     0.18732,     0.18732,     0.18732,     0.18732,     0.18732,     0.18732,     0.18732,     0.18732,     0.18732,\n",
       "            0.18732,     0.18732,     0.18732,     0.18732,     0.13636,     0.13636,     0.13636,     0.13636,     0.13636,     0.13636,     0.13636,     0.13636,     0.13636,     0.13636,     0.13636,     0.13636,     0.13636,     0.12835,     0.12835,     0.12835,     0.12835,     0.12835,     0.12835,\n",
       "            0.12835,     0.12835,     0.12835,     0.12835,     0.12835,     0.12835,     0.12835,     0.12835,      0.1124,      0.1124,      0.1124,      0.1124,      0.1124,      0.1124,      0.1124,      0.1124,      0.1124,      0.1124,      0.1124,      0.1124,      0.1124,      0.1124,     0.10088,\n",
       "            0.10088,     0.10088,     0.10088,     0.10088,     0.10088,     0.10088,     0.10088,     0.10088,     0.10088,     0.10088,     0.10088,     0.10088,    0.045425,    0.045425,    0.045425,    0.045425,    0.045425,    0.045425,    0.045425,    0.045425,    0.045425,    0.045425,    0.045425,\n",
       "           0.045425,    0.045425,     0.03823,    0.037523,    0.036815,    0.036107,    0.035399,    0.034691,    0.033983,    0.033275,    0.032567,    0.031859,    0.031151,    0.030443,    0.029735,    0.029027,    0.028319,    0.027611,    0.026903,    0.026195,    0.025487,    0.024779,    0.024071,\n",
       "           0.023363,    0.022655,    0.021947,    0.021239,    0.020531,    0.019823,    0.019115,    0.018407,    0.017699,    0.016991,    0.016283,    0.015575,    0.014867,    0.014159,    0.013451,    0.012743,    0.012036,    0.011328,     0.01062,   0.0099116,   0.0092036,   0.0084957,   0.0077877,\n",
       "          0.0070797,   0.0063717,   0.0056638,   0.0049558,   0.0042478,   0.0035399,   0.0028319,   0.0021239,   0.0014159,  0.00070797,           0]]), 'Recall', 'Precision'], [array([          0,    0.001001,    0.002002,    0.003003,    0.004004,    0.005005,    0.006006,    0.007007,    0.008008,    0.009009,     0.01001,    0.011011,    0.012012,    0.013013,    0.014014,    0.015015,    0.016016,    0.017017,    0.018018,    0.019019,     0.02002,    0.021021,    0.022022,    0.023023,\n",
       "          0.024024,    0.025025,    0.026026,    0.027027,    0.028028,    0.029029,     0.03003,    0.031031,    0.032032,    0.033033,    0.034034,    0.035035,    0.036036,    0.037037,    0.038038,    0.039039,     0.04004,    0.041041,    0.042042,    0.043043,    0.044044,    0.045045,    0.046046,    0.047047,\n",
       "          0.048048,    0.049049,     0.05005,    0.051051,    0.052052,    0.053053,    0.054054,    0.055055,    0.056056,    0.057057,    0.058058,    0.059059,     0.06006,    0.061061,    0.062062,    0.063063,    0.064064,    0.065065,    0.066066,    0.067067,    0.068068,    0.069069,     0.07007,    0.071071,\n",
       "          0.072072,    0.073073,    0.074074,    0.075075,    0.076076,    0.077077,    0.078078,    0.079079,     0.08008,    0.081081,    0.082082,    0.083083,    0.084084,    0.085085,    0.086086,    0.087087,    0.088088,    0.089089,     0.09009,    0.091091,    0.092092,    0.093093,    0.094094,    0.095095,\n",
       "          0.096096,    0.097097,    0.098098,    0.099099,      0.1001,      0.1011,      0.1021,      0.1031,      0.1041,     0.10511,     0.10611,     0.10711,     0.10811,     0.10911,     0.11011,     0.11111,     0.11211,     0.11311,     0.11411,     0.11512,     0.11612,     0.11712,     0.11812,     0.11912,\n",
       "           0.12012,     0.12112,     0.12212,     0.12312,     0.12412,     0.12513,     0.12613,     0.12713,     0.12813,     0.12913,     0.13013,     0.13113,     0.13213,     0.13313,     0.13413,     0.13514,     0.13614,     0.13714,     0.13814,     0.13914,     0.14014,     0.14114,     0.14214,     0.14314,\n",
       "           0.14414,     0.14515,     0.14615,     0.14715,     0.14815,     0.14915,     0.15015,     0.15115,     0.15215,     0.15315,     0.15415,     0.15516,     0.15616,     0.15716,     0.15816,     0.15916,     0.16016,     0.16116,     0.16216,     0.16316,     0.16416,     0.16517,     0.16617,     0.16717,\n",
       "           0.16817,     0.16917,     0.17017,     0.17117,     0.17217,     0.17317,     0.17417,     0.17518,     0.17618,     0.17718,     0.17818,     0.17918,     0.18018,     0.18118,     0.18218,     0.18318,     0.18418,     0.18519,     0.18619,     0.18719,     0.18819,     0.18919,     0.19019,     0.19119,\n",
       "           0.19219,     0.19319,     0.19419,      0.1952,      0.1962,      0.1972,      0.1982,      0.1992,      0.2002,      0.2012,      0.2022,      0.2032,      0.2042,     0.20521,     0.20621,     0.20721,     0.20821,     0.20921,     0.21021,     0.21121,     0.21221,     0.21321,     0.21421,     0.21522,\n",
       "           0.21622,     0.21722,     0.21822,     0.21922,     0.22022,     0.22122,     0.22222,     0.22322,     0.22422,     0.22523,     0.22623,     0.22723,     0.22823,     0.22923,     0.23023,     0.23123,     0.23223,     0.23323,     0.23423,     0.23524,     0.23624,     0.23724,     0.23824,     0.23924,\n",
       "           0.24024,     0.24124,     0.24224,     0.24324,     0.24424,     0.24525,     0.24625,     0.24725,     0.24825,     0.24925,     0.25025,     0.25125,     0.25225,     0.25325,     0.25425,     0.25526,     0.25626,     0.25726,     0.25826,     0.25926,     0.26026,     0.26126,     0.26226,     0.26326,\n",
       "           0.26426,     0.26527,     0.26627,     0.26727,     0.26827,     0.26927,     0.27027,     0.27127,     0.27227,     0.27327,     0.27427,     0.27528,     0.27628,     0.27728,     0.27828,     0.27928,     0.28028,     0.28128,     0.28228,     0.28328,     0.28428,     0.28529,     0.28629,     0.28729,\n",
       "           0.28829,     0.28929,     0.29029,     0.29129,     0.29229,     0.29329,     0.29429,      0.2953,      0.2963,      0.2973,      0.2983,      0.2993,      0.3003,      0.3013,      0.3023,      0.3033,      0.3043,     0.30531,     0.30631,     0.30731,     0.30831,     0.30931,     0.31031,     0.31131,\n",
       "           0.31231,     0.31331,     0.31431,     0.31532,     0.31632,     0.31732,     0.31832,     0.31932,     0.32032,     0.32132,     0.32232,     0.32332,     0.32432,     0.32533,     0.32633,     0.32733,     0.32833,     0.32933,     0.33033,     0.33133,     0.33233,     0.33333,     0.33433,     0.33534,\n",
       "           0.33634,     0.33734,     0.33834,     0.33934,     0.34034,     0.34134,     0.34234,     0.34334,     0.34434,     0.34535,     0.34635,     0.34735,     0.34835,     0.34935,     0.35035,     0.35135,     0.35235,     0.35335,     0.35435,     0.35536,     0.35636,     0.35736,     0.35836,     0.35936,\n",
       "           0.36036,     0.36136,     0.36236,     0.36336,     0.36436,     0.36537,     0.36637,     0.36737,     0.36837,     0.36937,     0.37037,     0.37137,     0.37237,     0.37337,     0.37437,     0.37538,     0.37638,     0.37738,     0.37838,     0.37938,     0.38038,     0.38138,     0.38238,     0.38338,\n",
       "           0.38438,     0.38539,     0.38639,     0.38739,     0.38839,     0.38939,     0.39039,     0.39139,     0.39239,     0.39339,     0.39439,      0.3954,      0.3964,      0.3974,      0.3984,      0.3994,      0.4004,      0.4014,      0.4024,      0.4034,      0.4044,     0.40541,     0.40641,     0.40741,\n",
       "           0.40841,     0.40941,     0.41041,     0.41141,     0.41241,     0.41341,     0.41441,     0.41542,     0.41642,     0.41742,     0.41842,     0.41942,     0.42042,     0.42142,     0.42242,     0.42342,     0.42442,     0.42543,     0.42643,     0.42743,     0.42843,     0.42943,     0.43043,     0.43143,\n",
       "           0.43243,     0.43343,     0.43443,     0.43544,     0.43644,     0.43744,     0.43844,     0.43944,     0.44044,     0.44144,     0.44244,     0.44344,     0.44444,     0.44545,     0.44645,     0.44745,     0.44845,     0.44945,     0.45045,     0.45145,     0.45245,     0.45345,     0.45445,     0.45546,\n",
       "           0.45646,     0.45746,     0.45846,     0.45946,     0.46046,     0.46146,     0.46246,     0.46346,     0.46446,     0.46547,     0.46647,     0.46747,     0.46847,     0.46947,     0.47047,     0.47147,     0.47247,     0.47347,     0.47447,     0.47548,     0.47648,     0.47748,     0.47848,     0.47948,\n",
       "           0.48048,     0.48148,     0.48248,     0.48348,     0.48448,     0.48549,     0.48649,     0.48749,     0.48849,     0.48949,     0.49049,     0.49149,     0.49249,     0.49349,     0.49449,      0.4955,      0.4965,      0.4975,      0.4985,      0.4995,      0.5005,      0.5015,      0.5025,      0.5035,\n",
       "            0.5045,     0.50551,     0.50651,     0.50751,     0.50851,     0.50951,     0.51051,     0.51151,     0.51251,     0.51351,     0.51451,     0.51552,     0.51652,     0.51752,     0.51852,     0.51952,     0.52052,     0.52152,     0.52252,     0.52352,     0.52452,     0.52553,     0.52653,     0.52753,\n",
       "           0.52853,     0.52953,     0.53053,     0.53153,     0.53253,     0.53353,     0.53453,     0.53554,     0.53654,     0.53754,     0.53854,     0.53954,     0.54054,     0.54154,     0.54254,     0.54354,     0.54454,     0.54555,     0.54655,     0.54755,     0.54855,     0.54955,     0.55055,     0.55155,\n",
       "           0.55255,     0.55355,     0.55455,     0.55556,     0.55656,     0.55756,     0.55856,     0.55956,     0.56056,     0.56156,     0.56256,     0.56356,     0.56456,     0.56557,     0.56657,     0.56757,     0.56857,     0.56957,     0.57057,     0.57157,     0.57257,     0.57357,     0.57457,     0.57558,\n",
       "           0.57658,     0.57758,     0.57858,     0.57958,     0.58058,     0.58158,     0.58258,     0.58358,     0.58458,     0.58559,     0.58659,     0.58759,     0.58859,     0.58959,     0.59059,     0.59159,     0.59259,     0.59359,     0.59459,      0.5956,      0.5966,      0.5976,      0.5986,      0.5996,\n",
       "            0.6006,      0.6016,      0.6026,      0.6036,      0.6046,     0.60561,     0.60661,     0.60761,     0.60861,     0.60961,     0.61061,     0.61161,     0.61261,     0.61361,     0.61461,     0.61562,     0.61662,     0.61762,     0.61862,     0.61962,     0.62062,     0.62162,     0.62262,     0.62362,\n",
       "           0.62462,     0.62563,     0.62663,     0.62763,     0.62863,     0.62963,     0.63063,     0.63163,     0.63263,     0.63363,     0.63463,     0.63564,     0.63664,     0.63764,     0.63864,     0.63964,     0.64064,     0.64164,     0.64264,     0.64364,     0.64464,     0.64565,     0.64665,     0.64765,\n",
       "           0.64865,     0.64965,     0.65065,     0.65165,     0.65265,     0.65365,     0.65465,     0.65566,     0.65666,     0.65766,     0.65866,     0.65966,     0.66066,     0.66166,     0.66266,     0.66366,     0.66466,     0.66567,     0.66667,     0.66767,     0.66867,     0.66967,     0.67067,     0.67167,\n",
       "           0.67267,     0.67367,     0.67467,     0.67568,     0.67668,     0.67768,     0.67868,     0.67968,     0.68068,     0.68168,     0.68268,     0.68368,     0.68468,     0.68569,     0.68669,     0.68769,     0.68869,     0.68969,     0.69069,     0.69169,     0.69269,     0.69369,     0.69469,      0.6957,\n",
       "            0.6967,      0.6977,      0.6987,      0.6997,      0.7007,      0.7017,      0.7027,      0.7037,      0.7047,     0.70571,     0.70671,     0.70771,     0.70871,     0.70971,     0.71071,     0.71171,     0.71271,     0.71371,     0.71471,     0.71572,     0.71672,     0.71772,     0.71872,     0.71972,\n",
       "           0.72072,     0.72172,     0.72272,     0.72372,     0.72472,     0.72573,     0.72673,     0.72773,     0.72873,     0.72973,     0.73073,     0.73173,     0.73273,     0.73373,     0.73473,     0.73574,     0.73674,     0.73774,     0.73874,     0.73974,     0.74074,     0.74174,     0.74274,     0.74374,\n",
       "           0.74474,     0.74575,     0.74675,     0.74775,     0.74875,     0.74975,     0.75075,     0.75175,     0.75275,     0.75375,     0.75475,     0.75576,     0.75676,     0.75776,     0.75876,     0.75976,     0.76076,     0.76176,     0.76276,     0.76376,     0.76476,     0.76577,     0.76677,     0.76777,\n",
       "           0.76877,     0.76977,     0.77077,     0.77177,     0.77277,     0.77377,     0.77477,     0.77578,     0.77678,     0.77778,     0.77878,     0.77978,     0.78078,     0.78178,     0.78278,     0.78378,     0.78478,     0.78579,     0.78679,     0.78779,     0.78879,     0.78979,     0.79079,     0.79179,\n",
       "           0.79279,     0.79379,     0.79479,      0.7958,      0.7968,      0.7978,      0.7988,      0.7998,      0.8008,      0.8018,      0.8028,      0.8038,      0.8048,     0.80581,     0.80681,     0.80781,     0.80881,     0.80981,     0.81081,     0.81181,     0.81281,     0.81381,     0.81481,     0.81582,\n",
       "           0.81682,     0.81782,     0.81882,     0.81982,     0.82082,     0.82182,     0.82282,     0.82382,     0.82482,     0.82583,     0.82683,     0.82783,     0.82883,     0.82983,     0.83083,     0.83183,     0.83283,     0.83383,     0.83483,     0.83584,     0.83684,     0.83784,     0.83884,     0.83984,\n",
       "           0.84084,     0.84184,     0.84284,     0.84384,     0.84484,     0.84585,     0.84685,     0.84785,     0.84885,     0.84985,     0.85085,     0.85185,     0.85285,     0.85385,     0.85485,     0.85586,     0.85686,     0.85786,     0.85886,     0.85986,     0.86086,     0.86186,     0.86286,     0.86386,\n",
       "           0.86486,     0.86587,     0.86687,     0.86787,     0.86887,     0.86987,     0.87087,     0.87187,     0.87287,     0.87387,     0.87487,     0.87588,     0.87688,     0.87788,     0.87888,     0.87988,     0.88088,     0.88188,     0.88288,     0.88388,     0.88488,     0.88589,     0.88689,     0.88789,\n",
       "           0.88889,     0.88989,     0.89089,     0.89189,     0.89289,     0.89389,     0.89489,      0.8959,      0.8969,      0.8979,      0.8989,      0.8999,      0.9009,      0.9019,      0.9029,      0.9039,      0.9049,     0.90591,     0.90691,     0.90791,     0.90891,     0.90991,     0.91091,     0.91191,\n",
       "           0.91291,     0.91391,     0.91491,     0.91592,     0.91692,     0.91792,     0.91892,     0.91992,     0.92092,     0.92192,     0.92292,     0.92392,     0.92492,     0.92593,     0.92693,     0.92793,     0.92893,     0.92993,     0.93093,     0.93193,     0.93293,     0.93393,     0.93493,     0.93594,\n",
       "           0.93694,     0.93794,     0.93894,     0.93994,     0.94094,     0.94194,     0.94294,     0.94394,     0.94494,     0.94595,     0.94695,     0.94795,     0.94895,     0.94995,     0.95095,     0.95195,     0.95295,     0.95395,     0.95495,     0.95596,     0.95696,     0.95796,     0.95896,     0.95996,\n",
       "           0.96096,     0.96196,     0.96296,     0.96396,     0.96496,     0.96597,     0.96697,     0.96797,     0.96897,     0.96997,     0.97097,     0.97197,     0.97297,     0.97397,     0.97497,     0.97598,     0.97698,     0.97798,     0.97898,     0.97998,     0.98098,     0.98198,     0.98298,     0.98398,\n",
       "           0.98498,     0.98599,     0.98699,     0.98799,     0.98899,     0.98999,     0.99099,     0.99199,     0.99299,     0.99399,     0.99499,       0.996,       0.997,       0.998,       0.999,           1]), array([[   0.073491,    0.073495,    0.091754,     0.10637,     0.12059,     0.13349,     0.14369,     0.15541,     0.16682,     0.18028,     0.18818,     0.19984,     0.20806,     0.21812,     0.22452,     0.22613,     0.23349,      0.2355,      0.2454,     0.25222,     0.25644,      0.2666,     0.27307,\n",
       "            0.27805,     0.28352,     0.29081,     0.29871,     0.30474,     0.30541,     0.30978,     0.31296,     0.31542,     0.31717,     0.32494,     0.32766,     0.33251,     0.33854,     0.34348,     0.34622,     0.34837,     0.35333,     0.35878,     0.36076,     0.36342,      0.3627,      0.3687,\n",
       "            0.37085,     0.37146,     0.37275,     0.37563,     0.37897,     0.38154,     0.38544,     0.38708,     0.39236,     0.40032,     0.39932,     0.40313,     0.40902,     0.41395,     0.41227,     0.41529,     0.41748,     0.42435,     0.43143,     0.43476,     0.44025,     0.44515,     0.44755,\n",
       "             0.4542,     0.45719,     0.45786,     0.45853,     0.46157,     0.46908,     0.47201,     0.46754,     0.47368,     0.47618,      0.4773,     0.47944,     0.48289,     0.48446,     0.48671,     0.48219,     0.48595,     0.48211,     0.48505,     0.49121,     0.49387,     0.49491,     0.49627,\n",
       "            0.49889,     0.50804,      0.5095,     0.51027,     0.51083,     0.50497,     0.50734,     0.51088,     0.51337,     0.51448,     0.50512,     0.50303,      0.4953,     0.49387,     0.49523,     0.49688,      0.4988,     0.50118,     0.50393,      0.5098,     0.51292,     0.51619,      0.5203,\n",
       "            0.52135,     0.52241,     0.52354,     0.52467,     0.52793,       0.529,     0.53012,     0.53196,     0.53357,     0.53504,     0.53579,     0.53209,     0.53423,     0.53728,        0.54,     0.54151,     0.54504,     0.54567,      0.5463,     0.54693,     0.54776,     0.54906,     0.54807,\n",
       "            0.53486,     0.53621,     0.53756,     0.53897,     0.53738,     0.54234,     0.53675,     0.53935,     0.54008,     0.54081,     0.54154,     0.54227,     0.54354,     0.54491,     0.54731,     0.55047,     0.55312,     0.55546,     0.55796,     0.55889,     0.55969,      0.5605,      0.5613,\n",
       "            0.56232,     0.56338,     0.56443,      0.5658,     0.56728,     0.56878,     0.57032,     0.57401,     0.57582,     0.57687,     0.57793,     0.57879,     0.57954,     0.58029,     0.58103,     0.58178,     0.58252,     0.58327,     0.58401,     0.58475,     0.58586,     0.58871,     0.59013,\n",
       "            0.59142,     0.59283,     0.59564,     0.59655,      0.5969,     0.59725,     0.59761,     0.59796,     0.59831,     0.59867,     0.59902,     0.59937,     0.59972,      0.6044,     0.60825,     0.61165,     0.61252,     0.61338,     0.61425,     0.61511,     0.61812,     0.61958,      0.6199,\n",
       "            0.62022,     0.62054,     0.62086,     0.62118,      0.6215,     0.62182,     0.62214,     0.62246,     0.62278,      0.6231,     0.61855,     0.61526,     0.61625,     0.61724,     0.61823,     0.61869,     0.61903,     0.61937,      0.6197,     0.62004,     0.62037,     0.62071,     0.62104,\n",
       "            0.62137,     0.62171,     0.62204,     0.62237,     0.62305,     0.62399,     0.62493,     0.62586,     0.62671,     0.62704,     0.62737,     0.62769,     0.62802,     0.62834,     0.62867,       0.629,     0.62932,     0.62965,     0.62997,     0.63029,     0.63062,     0.63167,      0.6352,\n",
       "             0.6361,       0.637,      0.6379,     0.63879,     0.63846,     0.63456,     0.63065,     0.63191,     0.63393,     0.63588,      0.6378,     0.63915,     0.63974,     0.64033,     0.64093,     0.64152,     0.64211,      0.6427,     0.64328,     0.64358,     0.64384,     0.64409,     0.64435,\n",
       "             0.6446,     0.64486,     0.64511,     0.64537,     0.64562,     0.64588,     0.64613,     0.64638,     0.64664,     0.64689,     0.64714,      0.6474,     0.64765,     0.64792,     0.64847,     0.64902,     0.64956,     0.65011,     0.65065,      0.6512,     0.65174,     0.65228,     0.64928,\n",
       "            0.64414,     0.64328,     0.64384,      0.6444,     0.64496,     0.64552,     0.64608,     0.64664,     0.64719,     0.64765,     0.64801,     0.64836,     0.64871,     0.64906,     0.64942,     0.64977,     0.65012,     0.65047,     0.65082,     0.65117,     0.65152,     0.65187,     0.65224,\n",
       "            0.65277,      0.6533,     0.65383,     0.65436,     0.65489,     0.65542,     0.65595,     0.65647,       0.657,     0.65757,     0.65815,     0.65872,     0.65928,     0.65985,     0.66042,     0.66099,     0.66155,     0.66677,     0.66698,     0.66718,     0.66739,     0.66759,      0.6678,\n",
       "              0.668,     0.66821,     0.66841,     0.66862,     0.66882,     0.66902,     0.66923,     0.66943,     0.66964,     0.66984,     0.67004,     0.67024,     0.67045,     0.67065,     0.67085,     0.67106,     0.67126,     0.67146,     0.67208,      0.6765,     0.67789,     0.67914,     0.68038,\n",
       "            0.68161,     0.68037,     0.67863,     0.67689,     0.67514,     0.67339,     0.67216,     0.67688,     0.67667,     0.67645,     0.67624,     0.67602,     0.67581,     0.67559,     0.67538,     0.67516,     0.67495,     0.67474,     0.67452,     0.67431,     0.67409,     0.67388,     0.67366,\n",
       "            0.67345,     0.67323,     0.67302,      0.6728,     0.67259,     0.67237,     0.67216,     0.67194,     0.67173,     0.67151,      0.6713,     0.67108,     0.67086,     0.67065,     0.67043,     0.67022,        0.67,     0.66979,     0.66957,     0.66935,     0.66914,     0.66892,     0.66871,\n",
       "            0.66849,     0.66827,     0.66806,     0.66784,     0.66763,     0.66741,     0.66719,     0.66698,     0.66676,     0.66597,     0.66473,     0.66349,     0.66225,       0.661,     0.65976,     0.65851,     0.65726,     0.65557,     0.65194,     0.64829,     0.64575,     0.64602,     0.64629,\n",
       "            0.64657,     0.64684,     0.64711,     0.64738,     0.64765,     0.64792,      0.6482,     0.64847,     0.64874,     0.64901,     0.64928,     0.64954,     0.64981,     0.65008,     0.65035,     0.65062,     0.65059,        0.65,     0.64941,     0.64882,     0.64823,     0.64764,     0.64705,\n",
       "            0.64646,     0.64586,     0.64527,     0.64468,     0.64409,     0.64349,      0.6429,      0.6423,     0.64171,     0.64112,     0.64052,     0.64026,     0.64232,     0.64437,     0.64497,     0.64466,     0.64435,     0.64404,     0.64373,     0.64342,     0.64311,      0.6428,     0.64248,\n",
       "            0.64217,     0.64186,     0.64155,     0.64124,     0.64093,     0.64061,      0.6403,     0.63999,     0.63968,     0.63937,     0.63905,     0.63874,     0.63843,     0.63812,      0.6378,     0.63749,     0.63718,     0.63686,     0.63655,     0.63624,     0.63592,     0.63561,      0.6353,\n",
       "            0.63498,     0.63467,     0.63435,     0.63394,     0.63332,     0.63271,     0.63209,     0.63147,     0.63086,     0.63024,     0.62962,       0.629,     0.62839,     0.62777,     0.62715,     0.62653,     0.62591,     0.62529,     0.62467,     0.62405,     0.62342,     0.62272,     0.62177,\n",
       "            0.62082,     0.61986,     0.61891,     0.61795,     0.61699,     0.61603,     0.61507,     0.61411,     0.61315,     0.61219,     0.61186,     0.61268,     0.61349,      0.6143,     0.61511,     0.61591,     0.61473,     0.60469,      0.6042,     0.60371,     0.60323,     0.60274,     0.60225,\n",
       "            0.60176,     0.60128,     0.60079,      0.6003,     0.59981,     0.59932,     0.59883,     0.59834,     0.59785,     0.59736,     0.59687,     0.59638,     0.59589,      0.5954,      0.5949,     0.59441,     0.59392,     0.59343,     0.59255,      0.5914,     0.59024,     0.58908,     0.58792,\n",
       "            0.58675,     0.58559,     0.58443,     0.58326,     0.58209,     0.57999,     0.57478,     0.56955,     0.56981,     0.57074,     0.57168,     0.57261,     0.57353,     0.57689,     0.57634,     0.57191,     0.56746,     0.56714,     0.56815,     0.56915,     0.57014,     0.57113,     0.57343,\n",
       "            0.57627,     0.57683,     0.57712,     0.57741,      0.5777,     0.57799,     0.57827,     0.57856,     0.57885,     0.57913,     0.57942,      0.5797,     0.57998,     0.58027,     0.58055,     0.58083,     0.58111,     0.58139,     0.58167,     0.58114,     0.57972,     0.57829,     0.57686,\n",
       "            0.57543,       0.574,     0.57256,     0.57112,     0.56968,     0.56798,     0.56591,     0.56383,     0.56175,     0.55966,     0.55756,      0.5555,      0.5542,      0.5529,      0.5516,      0.5503,     0.54899,     0.54769,     0.54638,     0.54506,     0.54375,     0.54244,      0.5417,\n",
       "             0.5412,     0.54071,     0.54021,     0.53971,     0.53921,     0.53871,     0.53821,     0.53771,     0.53721,     0.53671,     0.53621,     0.53571,     0.53521,      0.5347,      0.5342,      0.5337,      0.5332,      0.5327,     0.53219,     0.53169,     0.53119,     0.53068,     0.53018,\n",
       "            0.52967,     0.52917,     0.52866,     0.52812,     0.52749,     0.52685,     0.52622,     0.52559,     0.52495,     0.52432,     0.52368,     0.52304,     0.52241,     0.52177,     0.52113,     0.52049,     0.51986,     0.51922,     0.51858,     0.51794,      0.5173,     0.51666,     0.51602,\n",
       "            0.51537,     0.51473,     0.51354,     0.51108,     0.50862,     0.50614,     0.50367,     0.50118,     0.50334,     0.50402,     0.50292,     0.50181,      0.5007,     0.49959,     0.49848,     0.49737,     0.49626,     0.49514,     0.49403,     0.49291,     0.49179,     0.49067,     0.49305,\n",
       "            0.49454,     0.49368,     0.49281,     0.49194,     0.49107,      0.4902,     0.48933,     0.48846,     0.48759,     0.48672,     0.48584,     0.48497,     0.48409,     0.48322,     0.48234,     0.48146,     0.48058,     0.46938,     0.45902,     0.45235,     0.43219,     0.42879,     0.42537,\n",
       "            0.42195,     0.41851,      0.4168,     0.41709,     0.41738,     0.41766,     0.41795,     0.41823,     0.41851,     0.41879,     0.41907,     0.41935,     0.41962,      0.4199,     0.42017,     0.42045,     0.42072,     0.42099,     0.41911,     0.41655,     0.41399,     0.41142,     0.40884,\n",
       "            0.40625,     0.39971,     0.37393,     0.36971,     0.36988,     0.37005,     0.37022,     0.37038,     0.37055,     0.37071,     0.37088,     0.37104,      0.3712,     0.37137,     0.37153,     0.37169,     0.37185,     0.37201,     0.37217,     0.37233,     0.37249,     0.37264,      0.3728,\n",
       "            0.37296,     0.37311,     0.37327,     0.37343,     0.37358,     0.35545,     0.35247,     0.34948,     0.34648,     0.34347,     0.34045,     0.33742,     0.31442,     0.30924,     0.30404,     0.29884,     0.29753,     0.29621,      0.2949,     0.29358,     0.29226,     0.29094,     0.28961,\n",
       "            0.28829,     0.28696,     0.28563,      0.2843,     0.28296,     0.28163,     0.28029,     0.27899,     0.27808,     0.27717,     0.27625,     0.27534,     0.27443,     0.27351,      0.2726,     0.27168,     0.27076,     0.26984,     0.26892,       0.268,     0.26708,     0.26616,     0.26524,\n",
       "            0.26431,     0.26339,     0.26246,     0.26153,      0.2606,     0.25967,     0.25794,     0.24754,     0.23482,     0.21614,      0.2145,     0.21287,     0.21123,     0.20958,     0.20794,     0.20629,     0.20464,     0.20298,     0.20133,     0.19966,       0.198,     0.19633,     0.19244,\n",
       "            0.18259,     0.17282,     0.17171,     0.17061,      0.1695,      0.1684,     0.16729,     0.16618,     0.16507,     0.16396,     0.16284,     0.16173,     0.16061,     0.15949,     0.15838,     0.15726,     0.15613,     0.15501,     0.15389,     0.15276,     0.15163,     0.15051,     0.14749,\n",
       "            0.14294,     0.13836,     0.13376,     0.12914,     0.12052,     0.10688,     0.10125,    0.099339,    0.097421,      0.0955,    0.093575,    0.091646,    0.089713,    0.087776,    0.085835,     0.08389,    0.081942,    0.079989,    0.078032,    0.077117,    0.076264,     0.07541,    0.074555,\n",
       "             0.0737,    0.072843,    0.071986,    0.071128,     0.07027,     0.06941,     0.06855,    0.067689,    0.066828,    0.065965,    0.065102,    0.064238,    0.063373,    0.062508,    0.061641,    0.060774,    0.059906,    0.059038,    0.058168,    0.057298,    0.056427,    0.055555,    0.054683,\n",
       "            0.05381,    0.052936,    0.051811,    0.050553,    0.049293,    0.048031,    0.046768,    0.045503,    0.044236,    0.042968,    0.041698,    0.040427,    0.039154,    0.037879,    0.036602,    0.035324,    0.034044,    0.032763,     0.03148,    0.030195,    0.028908,     0.02762,           0,\n",
       "                  0,           0,           0,           0,           0,           0,           0,           0,           0,           0,           0,           0,           0,           0,           0,           0,           0,           0,           0,           0,           0,           0,           0,\n",
       "                  0,           0,           0,           0,           0,           0,           0,           0,           0,           0,           0,           0,           0,           0,           0,           0,           0,           0,           0,           0,           0,           0,           0,\n",
       "                  0,           0,           0,           0,           0,           0,           0,           0,           0,           0,           0]]), 'Confidence', 'F1'], [array([          0,    0.001001,    0.002002,    0.003003,    0.004004,    0.005005,    0.006006,    0.007007,    0.008008,    0.009009,     0.01001,    0.011011,    0.012012,    0.013013,    0.014014,    0.015015,    0.016016,    0.017017,    0.018018,    0.019019,     0.02002,    0.021021,    0.022022,    0.023023,\n",
       "          0.024024,    0.025025,    0.026026,    0.027027,    0.028028,    0.029029,     0.03003,    0.031031,    0.032032,    0.033033,    0.034034,    0.035035,    0.036036,    0.037037,    0.038038,    0.039039,     0.04004,    0.041041,    0.042042,    0.043043,    0.044044,    0.045045,    0.046046,    0.047047,\n",
       "          0.048048,    0.049049,     0.05005,    0.051051,    0.052052,    0.053053,    0.054054,    0.055055,    0.056056,    0.057057,    0.058058,    0.059059,     0.06006,    0.061061,    0.062062,    0.063063,    0.064064,    0.065065,    0.066066,    0.067067,    0.068068,    0.069069,     0.07007,    0.071071,\n",
       "          0.072072,    0.073073,    0.074074,    0.075075,    0.076076,    0.077077,    0.078078,    0.079079,     0.08008,    0.081081,    0.082082,    0.083083,    0.084084,    0.085085,    0.086086,    0.087087,    0.088088,    0.089089,     0.09009,    0.091091,    0.092092,    0.093093,    0.094094,    0.095095,\n",
       "          0.096096,    0.097097,    0.098098,    0.099099,      0.1001,      0.1011,      0.1021,      0.1031,      0.1041,     0.10511,     0.10611,     0.10711,     0.10811,     0.10911,     0.11011,     0.11111,     0.11211,     0.11311,     0.11411,     0.11512,     0.11612,     0.11712,     0.11812,     0.11912,\n",
       "           0.12012,     0.12112,     0.12212,     0.12312,     0.12412,     0.12513,     0.12613,     0.12713,     0.12813,     0.12913,     0.13013,     0.13113,     0.13213,     0.13313,     0.13413,     0.13514,     0.13614,     0.13714,     0.13814,     0.13914,     0.14014,     0.14114,     0.14214,     0.14314,\n",
       "           0.14414,     0.14515,     0.14615,     0.14715,     0.14815,     0.14915,     0.15015,     0.15115,     0.15215,     0.15315,     0.15415,     0.15516,     0.15616,     0.15716,     0.15816,     0.15916,     0.16016,     0.16116,     0.16216,     0.16316,     0.16416,     0.16517,     0.16617,     0.16717,\n",
       "           0.16817,     0.16917,     0.17017,     0.17117,     0.17217,     0.17317,     0.17417,     0.17518,     0.17618,     0.17718,     0.17818,     0.17918,     0.18018,     0.18118,     0.18218,     0.18318,     0.18418,     0.18519,     0.18619,     0.18719,     0.18819,     0.18919,     0.19019,     0.19119,\n",
       "           0.19219,     0.19319,     0.19419,      0.1952,      0.1962,      0.1972,      0.1982,      0.1992,      0.2002,      0.2012,      0.2022,      0.2032,      0.2042,     0.20521,     0.20621,     0.20721,     0.20821,     0.20921,     0.21021,     0.21121,     0.21221,     0.21321,     0.21421,     0.21522,\n",
       "           0.21622,     0.21722,     0.21822,     0.21922,     0.22022,     0.22122,     0.22222,     0.22322,     0.22422,     0.22523,     0.22623,     0.22723,     0.22823,     0.22923,     0.23023,     0.23123,     0.23223,     0.23323,     0.23423,     0.23524,     0.23624,     0.23724,     0.23824,     0.23924,\n",
       "           0.24024,     0.24124,     0.24224,     0.24324,     0.24424,     0.24525,     0.24625,     0.24725,     0.24825,     0.24925,     0.25025,     0.25125,     0.25225,     0.25325,     0.25425,     0.25526,     0.25626,     0.25726,     0.25826,     0.25926,     0.26026,     0.26126,     0.26226,     0.26326,\n",
       "           0.26426,     0.26527,     0.26627,     0.26727,     0.26827,     0.26927,     0.27027,     0.27127,     0.27227,     0.27327,     0.27427,     0.27528,     0.27628,     0.27728,     0.27828,     0.27928,     0.28028,     0.28128,     0.28228,     0.28328,     0.28428,     0.28529,     0.28629,     0.28729,\n",
       "           0.28829,     0.28929,     0.29029,     0.29129,     0.29229,     0.29329,     0.29429,      0.2953,      0.2963,      0.2973,      0.2983,      0.2993,      0.3003,      0.3013,      0.3023,      0.3033,      0.3043,     0.30531,     0.30631,     0.30731,     0.30831,     0.30931,     0.31031,     0.31131,\n",
       "           0.31231,     0.31331,     0.31431,     0.31532,     0.31632,     0.31732,     0.31832,     0.31932,     0.32032,     0.32132,     0.32232,     0.32332,     0.32432,     0.32533,     0.32633,     0.32733,     0.32833,     0.32933,     0.33033,     0.33133,     0.33233,     0.33333,     0.33433,     0.33534,\n",
       "           0.33634,     0.33734,     0.33834,     0.33934,     0.34034,     0.34134,     0.34234,     0.34334,     0.34434,     0.34535,     0.34635,     0.34735,     0.34835,     0.34935,     0.35035,     0.35135,     0.35235,     0.35335,     0.35435,     0.35536,     0.35636,     0.35736,     0.35836,     0.35936,\n",
       "           0.36036,     0.36136,     0.36236,     0.36336,     0.36436,     0.36537,     0.36637,     0.36737,     0.36837,     0.36937,     0.37037,     0.37137,     0.37237,     0.37337,     0.37437,     0.37538,     0.37638,     0.37738,     0.37838,     0.37938,     0.38038,     0.38138,     0.38238,     0.38338,\n",
       "           0.38438,     0.38539,     0.38639,     0.38739,     0.38839,     0.38939,     0.39039,     0.39139,     0.39239,     0.39339,     0.39439,      0.3954,      0.3964,      0.3974,      0.3984,      0.3994,      0.4004,      0.4014,      0.4024,      0.4034,      0.4044,     0.40541,     0.40641,     0.40741,\n",
       "           0.40841,     0.40941,     0.41041,     0.41141,     0.41241,     0.41341,     0.41441,     0.41542,     0.41642,     0.41742,     0.41842,     0.41942,     0.42042,     0.42142,     0.42242,     0.42342,     0.42442,     0.42543,     0.42643,     0.42743,     0.42843,     0.42943,     0.43043,     0.43143,\n",
       "           0.43243,     0.43343,     0.43443,     0.43544,     0.43644,     0.43744,     0.43844,     0.43944,     0.44044,     0.44144,     0.44244,     0.44344,     0.44444,     0.44545,     0.44645,     0.44745,     0.44845,     0.44945,     0.45045,     0.45145,     0.45245,     0.45345,     0.45445,     0.45546,\n",
       "           0.45646,     0.45746,     0.45846,     0.45946,     0.46046,     0.46146,     0.46246,     0.46346,     0.46446,     0.46547,     0.46647,     0.46747,     0.46847,     0.46947,     0.47047,     0.47147,     0.47247,     0.47347,     0.47447,     0.47548,     0.47648,     0.47748,     0.47848,     0.47948,\n",
       "           0.48048,     0.48148,     0.48248,     0.48348,     0.48448,     0.48549,     0.48649,     0.48749,     0.48849,     0.48949,     0.49049,     0.49149,     0.49249,     0.49349,     0.49449,      0.4955,      0.4965,      0.4975,      0.4985,      0.4995,      0.5005,      0.5015,      0.5025,      0.5035,\n",
       "            0.5045,     0.50551,     0.50651,     0.50751,     0.50851,     0.50951,     0.51051,     0.51151,     0.51251,     0.51351,     0.51451,     0.51552,     0.51652,     0.51752,     0.51852,     0.51952,     0.52052,     0.52152,     0.52252,     0.52352,     0.52452,     0.52553,     0.52653,     0.52753,\n",
       "           0.52853,     0.52953,     0.53053,     0.53153,     0.53253,     0.53353,     0.53453,     0.53554,     0.53654,     0.53754,     0.53854,     0.53954,     0.54054,     0.54154,     0.54254,     0.54354,     0.54454,     0.54555,     0.54655,     0.54755,     0.54855,     0.54955,     0.55055,     0.55155,\n",
       "           0.55255,     0.55355,     0.55455,     0.55556,     0.55656,     0.55756,     0.55856,     0.55956,     0.56056,     0.56156,     0.56256,     0.56356,     0.56456,     0.56557,     0.56657,     0.56757,     0.56857,     0.56957,     0.57057,     0.57157,     0.57257,     0.57357,     0.57457,     0.57558,\n",
       "           0.57658,     0.57758,     0.57858,     0.57958,     0.58058,     0.58158,     0.58258,     0.58358,     0.58458,     0.58559,     0.58659,     0.58759,     0.58859,     0.58959,     0.59059,     0.59159,     0.59259,     0.59359,     0.59459,      0.5956,      0.5966,      0.5976,      0.5986,      0.5996,\n",
       "            0.6006,      0.6016,      0.6026,      0.6036,      0.6046,     0.60561,     0.60661,     0.60761,     0.60861,     0.60961,     0.61061,     0.61161,     0.61261,     0.61361,     0.61461,     0.61562,     0.61662,     0.61762,     0.61862,     0.61962,     0.62062,     0.62162,     0.62262,     0.62362,\n",
       "           0.62462,     0.62563,     0.62663,     0.62763,     0.62863,     0.62963,     0.63063,     0.63163,     0.63263,     0.63363,     0.63463,     0.63564,     0.63664,     0.63764,     0.63864,     0.63964,     0.64064,     0.64164,     0.64264,     0.64364,     0.64464,     0.64565,     0.64665,     0.64765,\n",
       "           0.64865,     0.64965,     0.65065,     0.65165,     0.65265,     0.65365,     0.65465,     0.65566,     0.65666,     0.65766,     0.65866,     0.65966,     0.66066,     0.66166,     0.66266,     0.66366,     0.66466,     0.66567,     0.66667,     0.66767,     0.66867,     0.66967,     0.67067,     0.67167,\n",
       "           0.67267,     0.67367,     0.67467,     0.67568,     0.67668,     0.67768,     0.67868,     0.67968,     0.68068,     0.68168,     0.68268,     0.68368,     0.68468,     0.68569,     0.68669,     0.68769,     0.68869,     0.68969,     0.69069,     0.69169,     0.69269,     0.69369,     0.69469,      0.6957,\n",
       "            0.6967,      0.6977,      0.6987,      0.6997,      0.7007,      0.7017,      0.7027,      0.7037,      0.7047,     0.70571,     0.70671,     0.70771,     0.70871,     0.70971,     0.71071,     0.71171,     0.71271,     0.71371,     0.71471,     0.71572,     0.71672,     0.71772,     0.71872,     0.71972,\n",
       "           0.72072,     0.72172,     0.72272,     0.72372,     0.72472,     0.72573,     0.72673,     0.72773,     0.72873,     0.72973,     0.73073,     0.73173,     0.73273,     0.73373,     0.73473,     0.73574,     0.73674,     0.73774,     0.73874,     0.73974,     0.74074,     0.74174,     0.74274,     0.74374,\n",
       "           0.74474,     0.74575,     0.74675,     0.74775,     0.74875,     0.74975,     0.75075,     0.75175,     0.75275,     0.75375,     0.75475,     0.75576,     0.75676,     0.75776,     0.75876,     0.75976,     0.76076,     0.76176,     0.76276,     0.76376,     0.76476,     0.76577,     0.76677,     0.76777,\n",
       "           0.76877,     0.76977,     0.77077,     0.77177,     0.77277,     0.77377,     0.77477,     0.77578,     0.77678,     0.77778,     0.77878,     0.77978,     0.78078,     0.78178,     0.78278,     0.78378,     0.78478,     0.78579,     0.78679,     0.78779,     0.78879,     0.78979,     0.79079,     0.79179,\n",
       "           0.79279,     0.79379,     0.79479,      0.7958,      0.7968,      0.7978,      0.7988,      0.7998,      0.8008,      0.8018,      0.8028,      0.8038,      0.8048,     0.80581,     0.80681,     0.80781,     0.80881,     0.80981,     0.81081,     0.81181,     0.81281,     0.81381,     0.81481,     0.81582,\n",
       "           0.81682,     0.81782,     0.81882,     0.81982,     0.82082,     0.82182,     0.82282,     0.82382,     0.82482,     0.82583,     0.82683,     0.82783,     0.82883,     0.82983,     0.83083,     0.83183,     0.83283,     0.83383,     0.83483,     0.83584,     0.83684,     0.83784,     0.83884,     0.83984,\n",
       "           0.84084,     0.84184,     0.84284,     0.84384,     0.84484,     0.84585,     0.84685,     0.84785,     0.84885,     0.84985,     0.85085,     0.85185,     0.85285,     0.85385,     0.85485,     0.85586,     0.85686,     0.85786,     0.85886,     0.85986,     0.86086,     0.86186,     0.86286,     0.86386,\n",
       "           0.86486,     0.86587,     0.86687,     0.86787,     0.86887,     0.86987,     0.87087,     0.87187,     0.87287,     0.87387,     0.87487,     0.87588,     0.87688,     0.87788,     0.87888,     0.87988,     0.88088,     0.88188,     0.88288,     0.88388,     0.88488,     0.88589,     0.88689,     0.88789,\n",
       "           0.88889,     0.88989,     0.89089,     0.89189,     0.89289,     0.89389,     0.89489,      0.8959,      0.8969,      0.8979,      0.8989,      0.8999,      0.9009,      0.9019,      0.9029,      0.9039,      0.9049,     0.90591,     0.90691,     0.90791,     0.90891,     0.90991,     0.91091,     0.91191,\n",
       "           0.91291,     0.91391,     0.91491,     0.91592,     0.91692,     0.91792,     0.91892,     0.91992,     0.92092,     0.92192,     0.92292,     0.92392,     0.92492,     0.92593,     0.92693,     0.92793,     0.92893,     0.92993,     0.93093,     0.93193,     0.93293,     0.93393,     0.93493,     0.93594,\n",
       "           0.93694,     0.93794,     0.93894,     0.93994,     0.94094,     0.94194,     0.94294,     0.94394,     0.94494,     0.94595,     0.94695,     0.94795,     0.94895,     0.94995,     0.95095,     0.95195,     0.95295,     0.95395,     0.95495,     0.95596,     0.95696,     0.95796,     0.95896,     0.95996,\n",
       "           0.96096,     0.96196,     0.96296,     0.96396,     0.96496,     0.96597,     0.96697,     0.96797,     0.96897,     0.96997,     0.97097,     0.97197,     0.97297,     0.97397,     0.97497,     0.97598,     0.97698,     0.97798,     0.97898,     0.97998,     0.98098,     0.98198,     0.98298,     0.98398,\n",
       "           0.98498,     0.98599,     0.98699,     0.98799,     0.98899,     0.98999,     0.99099,     0.99199,     0.99299,     0.99399,     0.99499,       0.996,       0.997,       0.998,       0.999,           1]), array([[    0.03823,    0.038233,    0.048251,    0.056402,    0.064463,    0.071889,    0.077842,    0.084768,    0.091607,    0.099784,     0.10483,     0.11211,     0.11753,     0.12399,     0.12815,     0.12948,     0.13433,     0.13598,     0.14262,     0.14725,     0.15013,     0.15715,     0.16166,\n",
       "            0.16517,     0.16904,     0.17425,     0.17995,     0.18435,     0.18545,     0.18868,     0.19105,     0.19288,     0.19419,     0.20005,     0.20212,     0.20582,     0.21046,      0.2143,     0.21643,     0.21811,     0.22202,     0.22634,     0.22791,     0.23009,     0.23044,     0.23531,\n",
       "            0.23705,     0.23755,     0.23861,     0.24097,     0.24374,     0.24586,     0.24911,     0.25049,     0.25492,     0.26169,     0.26213,     0.26542,     0.27055,     0.27488,     0.27488,     0.27756,     0.27952,     0.28572,     0.29217,     0.29523,     0.30032,      0.3049,     0.30716,\n",
       "            0.31346,     0.31632,     0.31695,     0.31759,     0.32052,     0.32781,     0.33068,     0.32848,     0.33457,     0.33706,     0.33819,     0.34034,     0.34384,     0.34543,     0.34771,      0.3456,     0.34948,     0.34812,      0.3512,     0.35769,     0.36051,     0.36163,     0.36308,\n",
       "            0.36589,     0.37582,     0.37742,     0.37827,     0.37897,     0.37534,     0.37823,     0.38218,     0.38498,     0.38811,     0.38227,     0.38218,     0.37732,     0.37688,     0.37846,     0.38039,     0.38264,     0.38545,     0.38872,     0.39574,     0.39952,      0.4035,     0.40855,\n",
       "            0.40984,     0.41116,     0.41256,     0.41397,     0.41803,     0.41938,     0.42078,     0.42311,     0.42515,     0.42702,     0.42947,     0.42715,     0.43091,      0.4349,     0.43847,     0.44047,     0.44515,       0.446,     0.44684,     0.44769,      0.4488,     0.45055,      0.4508,\n",
       "            0.44262,     0.44447,     0.44632,     0.45171,     0.45217,     0.45924,     0.45778,     0.46157,     0.46264,     0.46372,     0.46479,     0.46586,     0.46775,     0.46978,     0.47335,      0.4781,     0.48212,     0.48568,     0.48952,     0.49095,     0.49219,     0.49344,     0.49468,\n",
       "            0.49627,     0.49792,     0.49956,     0.50171,     0.50405,     0.50643,     0.50886,     0.51478,     0.51769,      0.5194,     0.52111,     0.52252,     0.52374,     0.52496,     0.52618,      0.5274,     0.52863,     0.52986,     0.53109,     0.53232,     0.53416,     0.53891,      0.5413,\n",
       "            0.54347,     0.54586,     0.55064,     0.55219,      0.5528,     0.55341,     0.55401,     0.55462,     0.55523,     0.55583,     0.55644,     0.55705,     0.55765,     0.56581,     0.57259,     0.57864,      0.5802,     0.58176,     0.58331,     0.58487,     0.59034,       0.593,     0.59359,\n",
       "            0.59418,     0.59477,     0.59536,     0.59595,     0.59654,     0.59713,     0.59772,     0.59831,      0.5989,     0.59949,     0.59728,     0.59659,     0.59846,     0.60033,     0.60221,     0.60308,     0.60372,     0.60436,       0.605,     0.60564,     0.60628,     0.60692,     0.60756,\n",
       "             0.6082,     0.60883,     0.60947,     0.61011,     0.61142,     0.61323,     0.61504,     0.61685,     0.61851,     0.61914,     0.61978,     0.62042,     0.62106,      0.6217,     0.62234,     0.62297,     0.62361,     0.62425,     0.62489,     0.62553,     0.62616,     0.62825,     0.63527,\n",
       "            0.63707,     0.63888,     0.64069,     0.64249,      0.6433,     0.64123,     0.63916,     0.64253,     0.64673,     0.65081,     0.65485,     0.65769,     0.65895,     0.66021,     0.66147,     0.66273,     0.66399,     0.66525,     0.66651,     0.66715,      0.6677,     0.66825,      0.6688,\n",
       "            0.66935,      0.6699,     0.67045,       0.671,     0.67155,      0.6721,     0.67265,      0.6732,     0.67375,      0.6743,     0.67485,      0.6754,     0.67595,     0.67654,     0.67774,     0.67894,     0.68013,     0.68133,     0.68253,     0.68372,     0.68492,     0.68612,     0.68498,\n",
       "            0.68245,     0.68277,     0.68404,     0.68531,     0.68658,     0.68785,     0.68911,     0.69038,     0.69165,      0.6927,     0.69351,     0.69432,     0.69513,     0.69594,     0.69675,     0.69755,     0.69836,     0.69917,     0.69998,     0.70079,      0.7016,     0.70241,     0.70327,\n",
       "            0.70451,     0.70575,     0.70699,     0.70823,     0.70947,     0.71071,     0.71195,     0.71319,     0.71444,      0.7158,     0.71716,     0.71851,     0.71987,     0.72122,     0.72258,     0.72393,     0.72529,     0.73797,     0.73847,     0.73897,     0.73948,     0.73998,     0.74048,\n",
       "            0.74099,     0.74149,     0.74199,      0.7425,       0.743,      0.7435,     0.74401,     0.74451,     0.74501,     0.74552,     0.74602,     0.74653,     0.74703,     0.74753,     0.74804,     0.74854,     0.74904,     0.74955,     0.75109,     0.76221,     0.76576,     0.76895,     0.77214,\n",
       "            0.77533,     0.77529,     0.77461,     0.77393,     0.77325,     0.77257,     0.77299,      0.7857,     0.78562,     0.78553,     0.78545,     0.78537,     0.78529,     0.78521,     0.78513,     0.78504,     0.78496,     0.78488,      0.7848,     0.78472,     0.78463,     0.78455,     0.78447,\n",
       "            0.78439,     0.78431,     0.78423,     0.78414,     0.78406,     0.78398,      0.7839,     0.78382,     0.78373,     0.78365,     0.78357,     0.78349,     0.78341,     0.78333,     0.78324,     0.78316,     0.78308,       0.783,     0.78292,     0.78284,     0.78275,     0.78267,     0.78259,\n",
       "            0.78251,     0.78243,     0.78234,     0.78226,     0.78218,      0.7821,     0.78202,     0.78194,     0.78185,     0.78155,     0.78106,     0.78058,      0.7801,     0.77962,     0.77913,     0.77865,     0.77817,     0.77751,     0.77606,     0.77462,     0.77381,     0.77459,     0.77538,\n",
       "            0.77616,     0.77695,     0.77773,     0.77852,      0.7793,     0.78009,     0.78088,     0.78166,     0.78245,     0.78323,     0.78402,      0.7848,     0.78559,     0.78637,     0.78716,     0.78795,     0.78838,     0.78816,     0.78793,      0.7877,     0.78747,     0.78724,     0.78702,\n",
       "            0.78679,     0.78656,     0.78633,     0.78611,     0.78588,     0.78565,     0.78542,      0.7852,     0.78497,     0.78474,     0.78451,      0.7851,     0.79133,     0.79756,     0.79993,     0.79981,      0.7997,     0.79958,     0.79947,     0.79935,     0.79924,     0.79912,       0.799,\n",
       "            0.79889,     0.79877,     0.79866,     0.79854,     0.79843,     0.79831,     0.79819,     0.79808,     0.79796,     0.79785,     0.79773,     0.79762,      0.7975,     0.79738,     0.79727,     0.79715,     0.79704,     0.79692,     0.79681,     0.79669,     0.79657,     0.79646,     0.79634,\n",
       "            0.79623,     0.79611,       0.796,     0.79584,      0.7956,     0.79537,     0.79513,      0.7949,     0.79466,     0.79443,     0.79419,     0.79396,     0.79372,     0.79349,     0.79325,     0.79302,     0.79278,     0.79255,     0.79232,     0.79208,     0.79185,     0.79158,      0.7912,\n",
       "            0.79083,     0.79046,     0.79009,     0.78971,     0.78934,     0.78897,     0.78859,     0.78822,     0.78785,     0.78747,      0.7882,     0.79092,     0.79363,     0.79635,     0.79907,     0.80178,     0.80362,     0.79986,     0.79968,     0.79949,      0.7993,     0.79911,     0.79892,\n",
       "            0.79873,     0.79855,     0.79836,     0.79817,     0.79798,     0.79779,      0.7976,     0.79742,     0.79723,     0.79704,     0.79685,     0.79666,     0.79648,     0.79629,      0.7961,     0.79591,     0.79572,     0.79553,     0.79519,     0.79473,     0.79427,     0.79381,     0.79335,\n",
       "            0.79289,     0.79243,     0.79197,     0.79151,     0.79105,      0.7902,     0.78808,     0.78595,     0.78893,     0.79254,     0.79615,     0.79976,     0.80337,     0.81669,     0.82406,     0.82248,      0.8209,     0.82374,     0.82801,     0.83227,     0.83654,      0.8408,     0.85087,\n",
       "            0.86349,     0.86603,     0.86733,     0.86864,     0.86994,     0.87125,     0.87255,     0.87385,     0.87516,     0.87646,     0.87777,     0.87907,     0.88038,     0.88168,     0.88299,     0.88429,     0.88559,      0.8869,      0.8882,     0.88872,     0.88837,     0.88802,     0.88767,\n",
       "            0.88732,     0.88697,     0.88662,     0.88627,     0.88592,      0.8855,     0.88498,     0.88445,     0.88392,     0.88339,     0.88286,     0.88234,     0.88199,     0.88165,      0.8813,     0.88096,     0.88061,     0.88027,     0.87992,     0.87958,     0.87923,     0.87889,     0.87869,\n",
       "            0.87855,     0.87841,     0.87828,     0.87814,       0.878,     0.87786,     0.87772,     0.87758,     0.87745,     0.87731,     0.87717,     0.87703,     0.87689,     0.87676,     0.87662,     0.87648,     0.87634,      0.8762,     0.87607,     0.87593,     0.87579,     0.87565,     0.87551,\n",
       "            0.87537,     0.87524,      0.8751,     0.87495,     0.87476,     0.87458,      0.8744,     0.87421,     0.87403,     0.87385,     0.87366,     0.87348,      0.8733,     0.87311,     0.87293,     0.87275,     0.87256,     0.87238,      0.8722,     0.87201,     0.87183,     0.87165,     0.87146,\n",
       "            0.87128,      0.8711,     0.87074,        0.87,     0.86925,     0.86851,     0.86776,     0.86702,     0.88708,     0.89634,     0.89606,     0.89578,      0.8955,     0.89522,     0.89494,     0.89466,     0.89438,      0.8941,     0.89382,     0.89354,     0.89326,     0.89298,     0.91208,\n",
       "            0.92583,     0.92566,      0.9255,     0.92533,     0.92517,       0.925,     0.92484,     0.92467,     0.92451,     0.92434,     0.92418,     0.92401,     0.92385,     0.92368,     0.92352,     0.92335,     0.92319,     0.92094,      0.9188,     0.91738,     0.91285,     0.91202,     0.91119,\n",
       "            0.91036,     0.90953,     0.91038,     0.91313,     0.91589,     0.91865,      0.9214,     0.92416,     0.92692,     0.92967,     0.93243,     0.93519,     0.93794,      0.9407,     0.94345,     0.94621,     0.94897,     0.95172,      0.9521,     0.95174,     0.95137,     0.95101,     0.95064,\n",
       "            0.95028,      0.9493,     0.94517,     0.94639,     0.94859,      0.9508,       0.953,     0.95521,     0.95742,     0.95962,     0.96183,     0.96403,     0.96624,     0.96845,     0.97065,     0.97286,     0.97506,     0.97727,     0.97947,     0.98168,     0.98389,     0.98609,      0.9883,\n",
       "             0.9905,     0.99271,     0.99492,     0.99712,     0.99933,           1,           1,           1,           1,           1,           1,           1,           1,           1,           1,           1,           1,           1,           1,           1,           1,           1,           1,\n",
       "                  1,           1,           1,           1,           1,           1,           1,           1,           1,           1,           1,           1,           1,           1,           1,           1,           1,           1,           1,           1,           1,           1,           1,\n",
       "                  1,           1,           1,           1,           1,           1,           1,           1,           1,           1,           1,           1,           1,           1,           1,           1,           1,           1,           1,           1,           1,           1,           1,\n",
       "                  1,           1,           1,           1,           1,           1,           1,           1,           1,           1,           1,           1,           1,           1,           1,           1,           1,           1,           1,           1,           1,           1,           1,\n",
       "                  1,           1,           1,           1,           1,           1,           1,           1,           1,           1,           1,           1,           1,           1,           1,           1,           1,           1,           1,           1,           1,           1,           1,\n",
       "                  1,           1,           1,           1,           1,           1,           1,           1,           1,           1,           1,           1,           1,           1,           1,           1,           1,           1,           1,           1,           1,           1,           1,\n",
       "                  1,           1,           1,           1,           1,           1,           1,           1,           1,           1,           1,           1,           1,           1,           1,           1,           1,           1,           1,           1,           1,           1,           1,\n",
       "                  1,           1,           1,           1,           1,           1,           1,           1,           1,           1,           1,           1,           1,           1,           1,           1,           1,           1,           1,           1,           1,           1,           1,\n",
       "                  1,           1,           1,           1,           1,           1,           1,           1,           1,           1,           1,           1,           1,           1,           1,           1,           1,           1,           1,           1,           1,           1,           1,\n",
       "                  1,           1,           1,           1,           1,           1,           1,           1,           1,           1,           1]]), 'Confidence', 'Precision'], [array([          0,    0.001001,    0.002002,    0.003003,    0.004004,    0.005005,    0.006006,    0.007007,    0.008008,    0.009009,     0.01001,    0.011011,    0.012012,    0.013013,    0.014014,    0.015015,    0.016016,    0.017017,    0.018018,    0.019019,     0.02002,    0.021021,    0.022022,    0.023023,\n",
       "          0.024024,    0.025025,    0.026026,    0.027027,    0.028028,    0.029029,     0.03003,    0.031031,    0.032032,    0.033033,    0.034034,    0.035035,    0.036036,    0.037037,    0.038038,    0.039039,     0.04004,    0.041041,    0.042042,    0.043043,    0.044044,    0.045045,    0.046046,    0.047047,\n",
       "          0.048048,    0.049049,     0.05005,    0.051051,    0.052052,    0.053053,    0.054054,    0.055055,    0.056056,    0.057057,    0.058058,    0.059059,     0.06006,    0.061061,    0.062062,    0.063063,    0.064064,    0.065065,    0.066066,    0.067067,    0.068068,    0.069069,     0.07007,    0.071071,\n",
       "          0.072072,    0.073073,    0.074074,    0.075075,    0.076076,    0.077077,    0.078078,    0.079079,     0.08008,    0.081081,    0.082082,    0.083083,    0.084084,    0.085085,    0.086086,    0.087087,    0.088088,    0.089089,     0.09009,    0.091091,    0.092092,    0.093093,    0.094094,    0.095095,\n",
       "          0.096096,    0.097097,    0.098098,    0.099099,      0.1001,      0.1011,      0.1021,      0.1031,      0.1041,     0.10511,     0.10611,     0.10711,     0.10811,     0.10911,     0.11011,     0.11111,     0.11211,     0.11311,     0.11411,     0.11512,     0.11612,     0.11712,     0.11812,     0.11912,\n",
       "           0.12012,     0.12112,     0.12212,     0.12312,     0.12412,     0.12513,     0.12613,     0.12713,     0.12813,     0.12913,     0.13013,     0.13113,     0.13213,     0.13313,     0.13413,     0.13514,     0.13614,     0.13714,     0.13814,     0.13914,     0.14014,     0.14114,     0.14214,     0.14314,\n",
       "           0.14414,     0.14515,     0.14615,     0.14715,     0.14815,     0.14915,     0.15015,     0.15115,     0.15215,     0.15315,     0.15415,     0.15516,     0.15616,     0.15716,     0.15816,     0.15916,     0.16016,     0.16116,     0.16216,     0.16316,     0.16416,     0.16517,     0.16617,     0.16717,\n",
       "           0.16817,     0.16917,     0.17017,     0.17117,     0.17217,     0.17317,     0.17417,     0.17518,     0.17618,     0.17718,     0.17818,     0.17918,     0.18018,     0.18118,     0.18218,     0.18318,     0.18418,     0.18519,     0.18619,     0.18719,     0.18819,     0.18919,     0.19019,     0.19119,\n",
       "           0.19219,     0.19319,     0.19419,      0.1952,      0.1962,      0.1972,      0.1982,      0.1992,      0.2002,      0.2012,      0.2022,      0.2032,      0.2042,     0.20521,     0.20621,     0.20721,     0.20821,     0.20921,     0.21021,     0.21121,     0.21221,     0.21321,     0.21421,     0.21522,\n",
       "           0.21622,     0.21722,     0.21822,     0.21922,     0.22022,     0.22122,     0.22222,     0.22322,     0.22422,     0.22523,     0.22623,     0.22723,     0.22823,     0.22923,     0.23023,     0.23123,     0.23223,     0.23323,     0.23423,     0.23524,     0.23624,     0.23724,     0.23824,     0.23924,\n",
       "           0.24024,     0.24124,     0.24224,     0.24324,     0.24424,     0.24525,     0.24625,     0.24725,     0.24825,     0.24925,     0.25025,     0.25125,     0.25225,     0.25325,     0.25425,     0.25526,     0.25626,     0.25726,     0.25826,     0.25926,     0.26026,     0.26126,     0.26226,     0.26326,\n",
       "           0.26426,     0.26527,     0.26627,     0.26727,     0.26827,     0.26927,     0.27027,     0.27127,     0.27227,     0.27327,     0.27427,     0.27528,     0.27628,     0.27728,     0.27828,     0.27928,     0.28028,     0.28128,     0.28228,     0.28328,     0.28428,     0.28529,     0.28629,     0.28729,\n",
       "           0.28829,     0.28929,     0.29029,     0.29129,     0.29229,     0.29329,     0.29429,      0.2953,      0.2963,      0.2973,      0.2983,      0.2993,      0.3003,      0.3013,      0.3023,      0.3033,      0.3043,     0.30531,     0.30631,     0.30731,     0.30831,     0.30931,     0.31031,     0.31131,\n",
       "           0.31231,     0.31331,     0.31431,     0.31532,     0.31632,     0.31732,     0.31832,     0.31932,     0.32032,     0.32132,     0.32232,     0.32332,     0.32432,     0.32533,     0.32633,     0.32733,     0.32833,     0.32933,     0.33033,     0.33133,     0.33233,     0.33333,     0.33433,     0.33534,\n",
       "           0.33634,     0.33734,     0.33834,     0.33934,     0.34034,     0.34134,     0.34234,     0.34334,     0.34434,     0.34535,     0.34635,     0.34735,     0.34835,     0.34935,     0.35035,     0.35135,     0.35235,     0.35335,     0.35435,     0.35536,     0.35636,     0.35736,     0.35836,     0.35936,\n",
       "           0.36036,     0.36136,     0.36236,     0.36336,     0.36436,     0.36537,     0.36637,     0.36737,     0.36837,     0.36937,     0.37037,     0.37137,     0.37237,     0.37337,     0.37437,     0.37538,     0.37638,     0.37738,     0.37838,     0.37938,     0.38038,     0.38138,     0.38238,     0.38338,\n",
       "           0.38438,     0.38539,     0.38639,     0.38739,     0.38839,     0.38939,     0.39039,     0.39139,     0.39239,     0.39339,     0.39439,      0.3954,      0.3964,      0.3974,      0.3984,      0.3994,      0.4004,      0.4014,      0.4024,      0.4034,      0.4044,     0.40541,     0.40641,     0.40741,\n",
       "           0.40841,     0.40941,     0.41041,     0.41141,     0.41241,     0.41341,     0.41441,     0.41542,     0.41642,     0.41742,     0.41842,     0.41942,     0.42042,     0.42142,     0.42242,     0.42342,     0.42442,     0.42543,     0.42643,     0.42743,     0.42843,     0.42943,     0.43043,     0.43143,\n",
       "           0.43243,     0.43343,     0.43443,     0.43544,     0.43644,     0.43744,     0.43844,     0.43944,     0.44044,     0.44144,     0.44244,     0.44344,     0.44444,     0.44545,     0.44645,     0.44745,     0.44845,     0.44945,     0.45045,     0.45145,     0.45245,     0.45345,     0.45445,     0.45546,\n",
       "           0.45646,     0.45746,     0.45846,     0.45946,     0.46046,     0.46146,     0.46246,     0.46346,     0.46446,     0.46547,     0.46647,     0.46747,     0.46847,     0.46947,     0.47047,     0.47147,     0.47247,     0.47347,     0.47447,     0.47548,     0.47648,     0.47748,     0.47848,     0.47948,\n",
       "           0.48048,     0.48148,     0.48248,     0.48348,     0.48448,     0.48549,     0.48649,     0.48749,     0.48849,     0.48949,     0.49049,     0.49149,     0.49249,     0.49349,     0.49449,      0.4955,      0.4965,      0.4975,      0.4985,      0.4995,      0.5005,      0.5015,      0.5025,      0.5035,\n",
       "            0.5045,     0.50551,     0.50651,     0.50751,     0.50851,     0.50951,     0.51051,     0.51151,     0.51251,     0.51351,     0.51451,     0.51552,     0.51652,     0.51752,     0.51852,     0.51952,     0.52052,     0.52152,     0.52252,     0.52352,     0.52452,     0.52553,     0.52653,     0.52753,\n",
       "           0.52853,     0.52953,     0.53053,     0.53153,     0.53253,     0.53353,     0.53453,     0.53554,     0.53654,     0.53754,     0.53854,     0.53954,     0.54054,     0.54154,     0.54254,     0.54354,     0.54454,     0.54555,     0.54655,     0.54755,     0.54855,     0.54955,     0.55055,     0.55155,\n",
       "           0.55255,     0.55355,     0.55455,     0.55556,     0.55656,     0.55756,     0.55856,     0.55956,     0.56056,     0.56156,     0.56256,     0.56356,     0.56456,     0.56557,     0.56657,     0.56757,     0.56857,     0.56957,     0.57057,     0.57157,     0.57257,     0.57357,     0.57457,     0.57558,\n",
       "           0.57658,     0.57758,     0.57858,     0.57958,     0.58058,     0.58158,     0.58258,     0.58358,     0.58458,     0.58559,     0.58659,     0.58759,     0.58859,     0.58959,     0.59059,     0.59159,     0.59259,     0.59359,     0.59459,      0.5956,      0.5966,      0.5976,      0.5986,      0.5996,\n",
       "            0.6006,      0.6016,      0.6026,      0.6036,      0.6046,     0.60561,     0.60661,     0.60761,     0.60861,     0.60961,     0.61061,     0.61161,     0.61261,     0.61361,     0.61461,     0.61562,     0.61662,     0.61762,     0.61862,     0.61962,     0.62062,     0.62162,     0.62262,     0.62362,\n",
       "           0.62462,     0.62563,     0.62663,     0.62763,     0.62863,     0.62963,     0.63063,     0.63163,     0.63263,     0.63363,     0.63463,     0.63564,     0.63664,     0.63764,     0.63864,     0.63964,     0.64064,     0.64164,     0.64264,     0.64364,     0.64464,     0.64565,     0.64665,     0.64765,\n",
       "           0.64865,     0.64965,     0.65065,     0.65165,     0.65265,     0.65365,     0.65465,     0.65566,     0.65666,     0.65766,     0.65866,     0.65966,     0.66066,     0.66166,     0.66266,     0.66366,     0.66466,     0.66567,     0.66667,     0.66767,     0.66867,     0.66967,     0.67067,     0.67167,\n",
       "           0.67267,     0.67367,     0.67467,     0.67568,     0.67668,     0.67768,     0.67868,     0.67968,     0.68068,     0.68168,     0.68268,     0.68368,     0.68468,     0.68569,     0.68669,     0.68769,     0.68869,     0.68969,     0.69069,     0.69169,     0.69269,     0.69369,     0.69469,      0.6957,\n",
       "            0.6967,      0.6977,      0.6987,      0.6997,      0.7007,      0.7017,      0.7027,      0.7037,      0.7047,     0.70571,     0.70671,     0.70771,     0.70871,     0.70971,     0.71071,     0.71171,     0.71271,     0.71371,     0.71471,     0.71572,     0.71672,     0.71772,     0.71872,     0.71972,\n",
       "           0.72072,     0.72172,     0.72272,     0.72372,     0.72472,     0.72573,     0.72673,     0.72773,     0.72873,     0.72973,     0.73073,     0.73173,     0.73273,     0.73373,     0.73473,     0.73574,     0.73674,     0.73774,     0.73874,     0.73974,     0.74074,     0.74174,     0.74274,     0.74374,\n",
       "           0.74474,     0.74575,     0.74675,     0.74775,     0.74875,     0.74975,     0.75075,     0.75175,     0.75275,     0.75375,     0.75475,     0.75576,     0.75676,     0.75776,     0.75876,     0.75976,     0.76076,     0.76176,     0.76276,     0.76376,     0.76476,     0.76577,     0.76677,     0.76777,\n",
       "           0.76877,     0.76977,     0.77077,     0.77177,     0.77277,     0.77377,     0.77477,     0.77578,     0.77678,     0.77778,     0.77878,     0.77978,     0.78078,     0.78178,     0.78278,     0.78378,     0.78478,     0.78579,     0.78679,     0.78779,     0.78879,     0.78979,     0.79079,     0.79179,\n",
       "           0.79279,     0.79379,     0.79479,      0.7958,      0.7968,      0.7978,      0.7988,      0.7998,      0.8008,      0.8018,      0.8028,      0.8038,      0.8048,     0.80581,     0.80681,     0.80781,     0.80881,     0.80981,     0.81081,     0.81181,     0.81281,     0.81381,     0.81481,     0.81582,\n",
       "           0.81682,     0.81782,     0.81882,     0.81982,     0.82082,     0.82182,     0.82282,     0.82382,     0.82482,     0.82583,     0.82683,     0.82783,     0.82883,     0.82983,     0.83083,     0.83183,     0.83283,     0.83383,     0.83483,     0.83584,     0.83684,     0.83784,     0.83884,     0.83984,\n",
       "           0.84084,     0.84184,     0.84284,     0.84384,     0.84484,     0.84585,     0.84685,     0.84785,     0.84885,     0.84985,     0.85085,     0.85185,     0.85285,     0.85385,     0.85485,     0.85586,     0.85686,     0.85786,     0.85886,     0.85986,     0.86086,     0.86186,     0.86286,     0.86386,\n",
       "           0.86486,     0.86587,     0.86687,     0.86787,     0.86887,     0.86987,     0.87087,     0.87187,     0.87287,     0.87387,     0.87487,     0.87588,     0.87688,     0.87788,     0.87888,     0.87988,     0.88088,     0.88188,     0.88288,     0.88388,     0.88488,     0.88589,     0.88689,     0.88789,\n",
       "           0.88889,     0.88989,     0.89089,     0.89189,     0.89289,     0.89389,     0.89489,      0.8959,      0.8969,      0.8979,      0.8989,      0.8999,      0.9009,      0.9019,      0.9029,      0.9039,      0.9049,     0.90591,     0.90691,     0.90791,     0.90891,     0.90991,     0.91091,     0.91191,\n",
       "           0.91291,     0.91391,     0.91491,     0.91592,     0.91692,     0.91792,     0.91892,     0.91992,     0.92092,     0.92192,     0.92292,     0.92392,     0.92492,     0.92593,     0.92693,     0.92793,     0.92893,     0.92993,     0.93093,     0.93193,     0.93293,     0.93393,     0.93493,     0.93594,\n",
       "           0.93694,     0.93794,     0.93894,     0.93994,     0.94094,     0.94194,     0.94294,     0.94394,     0.94494,     0.94595,     0.94695,     0.94795,     0.94895,     0.94995,     0.95095,     0.95195,     0.95295,     0.95395,     0.95495,     0.95596,     0.95696,     0.95796,     0.95896,     0.95996,\n",
       "           0.96096,     0.96196,     0.96296,     0.96396,     0.96496,     0.96597,     0.96697,     0.96797,     0.96897,     0.96997,     0.97097,     0.97197,     0.97297,     0.97397,     0.97497,     0.97598,     0.97698,     0.97798,     0.97898,     0.97998,     0.98098,     0.98198,     0.98298,     0.98398,\n",
       "           0.98498,     0.98599,     0.98699,     0.98799,     0.98899,     0.98999,     0.99099,     0.99199,     0.99299,     0.99399,     0.99499,       0.996,       0.997,       0.998,       0.999,           1]), array([[    0.94595,     0.94595,     0.93243,     0.93243,     0.93243,     0.93243,     0.93243,     0.93243,     0.93243,     0.93243,     0.91892,     0.91892,     0.90541,     0.90541,     0.90541,     0.89189,     0.89189,     0.87838,     0.87838,     0.87838,     0.87838,     0.87838,     0.87838,\n",
       "            0.87838,     0.87838,     0.87838,     0.87838,     0.87838,     0.86486,     0.86486,     0.86486,     0.86486,     0.86486,     0.86486,     0.86486,     0.86486,     0.86486,     0.86486,     0.86486,     0.86486,     0.86486,     0.86486,     0.86486,     0.86424,     0.85135,     0.85135,\n",
       "            0.85135,     0.85135,     0.85135,     0.85135,     0.85135,     0.85135,     0.85135,     0.85135,     0.85135,     0.85135,     0.83784,     0.83784,     0.83784,     0.83784,     0.82432,     0.82432,     0.82432,     0.82432,     0.82432,     0.82432,     0.82432,     0.82432,     0.82432,\n",
       "            0.82432,     0.82432,     0.82432,     0.82432,     0.82432,     0.82432,     0.82432,     0.81081,     0.81081,     0.81081,     0.81081,     0.81081,     0.81081,     0.81081,     0.81081,      0.7973,      0.7973,     0.78378,     0.78378,     0.78378,     0.78378,     0.78378,     0.78378,\n",
       "            0.78378,     0.78378,     0.78378,     0.78378,      0.7834,     0.77139,     0.77027,     0.77027,     0.77027,     0.76287,     0.74429,     0.73566,     0.72062,     0.71622,     0.71622,     0.71622,     0.71622,     0.71622,     0.71622,     0.71622,     0.71622,     0.71622,     0.71622,\n",
       "            0.71622,     0.71622,     0.71622,     0.71622,     0.71622,     0.71622,     0.71622,     0.71622,     0.71622,     0.71622,     0.71208,     0.70537,      0.7027,      0.7027,      0.7027,      0.7027,      0.7027,      0.7027,      0.7027,      0.7027,      0.7027,      0.7027,     0.69885,\n",
       "            0.67568,     0.67568,     0.67568,     0.66801,     0.66216,     0.66216,     0.64865,     0.64865,     0.64865,     0.64865,     0.64865,     0.64865,     0.64865,     0.64865,     0.64865,     0.64865,     0.64865,     0.64865,     0.64865,     0.64865,     0.64865,     0.64865,     0.64865,\n",
       "            0.64865,     0.64865,     0.64865,     0.64865,     0.64865,     0.64865,     0.64865,     0.64865,     0.64865,     0.64865,     0.64865,     0.64865,     0.64865,     0.64865,     0.64865,     0.64865,     0.64865,     0.64865,     0.64865,     0.64865,     0.64865,     0.64865,     0.64865,\n",
       "            0.64865,     0.64865,     0.64865,     0.64865,     0.64865,     0.64865,     0.64865,     0.64865,     0.64865,     0.64865,     0.64865,     0.64865,     0.64865,     0.64865,     0.64865,     0.64865,     0.64865,     0.64865,     0.64865,     0.64865,     0.64865,     0.64865,     0.64865,\n",
       "            0.64865,     0.64865,     0.64865,     0.64865,     0.64865,     0.64865,     0.64865,     0.64865,     0.64865,     0.64865,      0.6414,     0.63514,     0.63514,     0.63514,     0.63514,     0.63514,     0.63514,     0.63514,     0.63514,     0.63514,     0.63514,     0.63514,     0.63514,\n",
       "            0.63514,     0.63514,     0.63514,     0.63514,     0.63514,     0.63514,     0.63514,     0.63514,     0.63514,     0.63514,     0.63514,     0.63514,     0.63514,     0.63514,     0.63514,     0.63514,     0.63514,     0.63514,     0.63514,     0.63514,     0.63514,     0.63514,     0.63514,\n",
       "            0.63514,     0.63514,     0.63514,     0.63514,     0.63368,     0.62802,     0.62237,     0.62162,     0.62162,     0.62162,     0.62162,     0.62162,     0.62162,     0.62162,     0.62162,     0.62162,     0.62162,     0.62162,     0.62162,     0.62162,     0.62162,     0.62162,     0.62162,\n",
       "            0.62162,     0.62162,     0.62162,     0.62162,     0.62162,     0.62162,     0.62162,     0.62162,     0.62162,     0.62162,     0.62162,     0.62162,     0.62162,     0.62162,     0.62162,     0.62162,     0.62162,     0.62162,     0.62162,     0.62162,     0.62162,     0.62162,     0.61711,\n",
       "             0.6099,     0.60811,     0.60811,     0.60811,     0.60811,     0.60811,     0.60811,     0.60811,     0.60811,     0.60811,     0.60811,     0.60811,     0.60811,     0.60811,     0.60811,     0.60811,     0.60811,     0.60811,     0.60811,     0.60811,     0.60811,     0.60811,     0.60811,\n",
       "            0.60811,     0.60811,     0.60811,     0.60811,     0.60811,     0.60811,     0.60811,     0.60811,     0.60811,     0.60811,     0.60811,     0.60811,     0.60811,     0.60811,     0.60811,     0.60811,     0.60811,     0.60811,     0.60811,     0.60811,     0.60811,     0.60811,     0.60811,\n",
       "            0.60811,     0.60811,     0.60811,     0.60811,     0.60811,     0.60811,     0.60811,     0.60811,     0.60811,     0.60811,     0.60811,     0.60811,     0.60811,     0.60811,     0.60811,     0.60811,     0.60811,     0.60811,     0.60811,     0.60811,     0.60811,     0.60811,     0.60811,\n",
       "            0.60811,     0.60615,     0.60381,     0.60147,     0.59913,     0.59678,     0.59459,     0.59454,     0.59425,     0.59397,     0.59369,      0.5934,     0.59312,     0.59283,     0.59255,     0.59227,     0.59198,      0.5917,     0.59142,     0.59113,     0.59085,     0.59057,     0.59028,\n",
       "               0.59,     0.58971,     0.58943,     0.58915,     0.58886,     0.58858,      0.5883,     0.58801,     0.58773,     0.58745,     0.58716,     0.58688,     0.58659,     0.58631,     0.58603,     0.58574,     0.58546,     0.58518,     0.58489,     0.58461,     0.58433,     0.58404,     0.58376,\n",
       "            0.58347,     0.58319,     0.58291,     0.58262,     0.58234,     0.58206,     0.58177,     0.58149,     0.58121,     0.58017,     0.57856,     0.57695,     0.57533,     0.57372,      0.5721,     0.57049,     0.56888,     0.56669,     0.56204,     0.55739,     0.55405,     0.55405,     0.55405,\n",
       "            0.55405,     0.55405,     0.55405,     0.55405,     0.55405,     0.55405,     0.55405,     0.55405,     0.55405,     0.55405,     0.55405,     0.55405,     0.55405,     0.55405,     0.55405,     0.55405,      0.5538,     0.55306,     0.55232,     0.55157,     0.55083,     0.55009,     0.54935,\n",
       "            0.54861,     0.54786,     0.54712,     0.54638,     0.54564,      0.5449,     0.54416,     0.54341,     0.54267,     0.54193,     0.54119,     0.54054,     0.54054,     0.54054,     0.54031,     0.53992,     0.53954,     0.53916,     0.53877,     0.53839,     0.53801,     0.53763,     0.53724,\n",
       "            0.53686,     0.53648,     0.53609,     0.53571,     0.53533,     0.53494,     0.53456,     0.53418,     0.53379,     0.53341,     0.53303,     0.53264,     0.53226,     0.53188,      0.5315,     0.53111,     0.53073,     0.53035,     0.52996,     0.52958,      0.5292,     0.52881,     0.52843,\n",
       "            0.52805,     0.52766,     0.52728,     0.52678,     0.52603,     0.52528,     0.52454,     0.52379,     0.52304,     0.52229,     0.52155,      0.5208,     0.52005,     0.51931,     0.51856,     0.51781,     0.51707,     0.51632,     0.51557,     0.51483,     0.51408,     0.51324,      0.5121,\n",
       "            0.51097,     0.50983,     0.50869,     0.50755,     0.50642,     0.50528,     0.50414,     0.50301,     0.50187,     0.50073,         0.5,         0.5,         0.5,         0.5,         0.5,         0.5,     0.49774,     0.48608,     0.48552,     0.48496,      0.4844,     0.48384,     0.48328,\n",
       "            0.48272,     0.48216,      0.4816,     0.48104,     0.48048,     0.47992,     0.47936,     0.47881,     0.47825,     0.47769,     0.47713,     0.47657,     0.47601,     0.47545,     0.47489,     0.47433,     0.47377,     0.47321,     0.47222,     0.47091,      0.4696,      0.4683,     0.46699,\n",
       "            0.46569,     0.46438,     0.46307,     0.46177,     0.46046,     0.45812,     0.45235,     0.44658,     0.44595,     0.44595,     0.44595,     0.44595,     0.44595,     0.44595,     0.44313,     0.43836,     0.43359,     0.43243,     0.43243,     0.43243,     0.43243,     0.43243,     0.43243,\n",
       "            0.43243,     0.43243,     0.43243,     0.43243,     0.43243,     0.43243,     0.43243,     0.43243,     0.43243,     0.43243,     0.43243,     0.43243,     0.43243,     0.43243,     0.43243,     0.43243,     0.43243,     0.43243,     0.43243,     0.43173,     0.43024,     0.42875,     0.42726,\n",
       "            0.42577,     0.42428,     0.42279,      0.4213,     0.41982,     0.41807,     0.41595,     0.41382,     0.41169,     0.40957,     0.40744,     0.40535,     0.40404,     0.40273,     0.40143,     0.40012,     0.39881,      0.3975,     0.39619,     0.39489,     0.39358,     0.39227,     0.39154,\n",
       "            0.39105,     0.39056,     0.39006,     0.38957,     0.38908,     0.38858,     0.38809,      0.3876,     0.38711,     0.38661,     0.38612,     0.38563,     0.38514,     0.38464,     0.38415,     0.38366,     0.38316,     0.38267,     0.38218,     0.38169,     0.38119,      0.3807,     0.38021,\n",
       "            0.37972,     0.37922,     0.37873,      0.3782,     0.37759,     0.37697,     0.37636,     0.37574,     0.37513,     0.37451,      0.3739,     0.37328,     0.37267,     0.37205,     0.37144,     0.37083,     0.37021,      0.3696,     0.36898,     0.36837,     0.36775,     0.36714,     0.36652,\n",
       "            0.36591,     0.36529,     0.36415,     0.36181,     0.35948,     0.35714,      0.3548,     0.35246,     0.35135,     0.35058,     0.34955,     0.34853,      0.3475,     0.34648,     0.34545,     0.34442,      0.3434,     0.34237,     0.34135,     0.34032,      0.3393,     0.33827,     0.33784,\n",
       "            0.33738,      0.3366,     0.33581,     0.33503,     0.33424,     0.33346,     0.33268,     0.33189,     0.33111,     0.33033,     0.32954,     0.32876,     0.32798,     0.32719,     0.32641,     0.32563,     0.32484,     0.31495,     0.30593,     0.30018,     0.28311,     0.28028,     0.27745,\n",
       "            0.27461,     0.27178,     0.27027,     0.27027,     0.27027,     0.27027,     0.27027,     0.27027,     0.27027,     0.27027,     0.27027,     0.27027,     0.27027,     0.27027,     0.27027,     0.27027,     0.27027,     0.27027,     0.26869,     0.26662,     0.26456,     0.26249,     0.26042,\n",
       "            0.25835,     0.25315,     0.23307,     0.22973,     0.22973,     0.22973,     0.22973,     0.22973,     0.22973,     0.22973,     0.22973,     0.22973,     0.22973,     0.22973,     0.22973,     0.22973,     0.22973,     0.22973,     0.22973,     0.22973,     0.22973,     0.22973,     0.22973,\n",
       "            0.22973,     0.22973,     0.22973,     0.22973,     0.22973,     0.21614,     0.21394,     0.21174,     0.20954,     0.20734,     0.20515,     0.20295,     0.18653,      0.1829,     0.17927,     0.17567,     0.17476,     0.17386,     0.17295,     0.17204,     0.17114,     0.17023,     0.16933,\n",
       "            0.16842,     0.16752,     0.16661,      0.1657,      0.1648,     0.16389,     0.16299,     0.16211,     0.16149,     0.16088,     0.16026,     0.15965,     0.15904,     0.15842,     0.15781,     0.15719,     0.15658,     0.15597,     0.15535,     0.15474,     0.15412,     0.15351,      0.1529,\n",
       "            0.15228,     0.15167,     0.15105,     0.15044,     0.14982,     0.14921,     0.14807,     0.14125,     0.13303,     0.12116,     0.12014,     0.11911,     0.11808,     0.11706,     0.11603,     0.11501,     0.11398,     0.11296,     0.11193,      0.1109,     0.10988,     0.10885,     0.10646,\n",
       "            0.10047,    0.094581,    0.093921,     0.09326,      0.0926,     0.09194,     0.09128,     0.09062,    0.089959,    0.089299,    0.088639,    0.087979,    0.087318,    0.086658,    0.085998,    0.085338,    0.084677,    0.084017,    0.083357,    0.082697,    0.082037,    0.081376,    0.079617,\n",
       "            0.07697,    0.074322,    0.071674,    0.069027,    0.064125,    0.056457,    0.053326,    0.052265,    0.051205,    0.050144,    0.049084,    0.048023,    0.046963,    0.045903,    0.044842,    0.043782,    0.042721,    0.041661,      0.0406,    0.040105,    0.039644,    0.039182,    0.038721,\n",
       "            0.03826,    0.037798,    0.037337,    0.036876,    0.036414,    0.035953,    0.035492,     0.03503,    0.034569,    0.034108,    0.033646,    0.033185,    0.032724,    0.032262,    0.031801,    0.031339,    0.030878,    0.030417,    0.029955,    0.029494,    0.029033,    0.028571,     0.02811,\n",
       "           0.027649,    0.027187,    0.026595,    0.025932,    0.025269,    0.024607,    0.023944,    0.023281,    0.022618,    0.021956,    0.021293,     0.02063,    0.019968,    0.019305,    0.018642,     0.01798,    0.017317,    0.016654,    0.015992,    0.015329,    0.014666,    0.014003,           0,\n",
       "                  0,           0,           0,           0,           0,           0,           0,           0,           0,           0,           0,           0,           0,           0,           0,           0,           0,           0,           0,           0,           0,           0,           0,\n",
       "                  0,           0,           0,           0,           0,           0,           0,           0,           0,           0,           0,           0,           0,           0,           0,           0,           0,           0,           0,           0,           0,           0,           0,\n",
       "                  0,           0,           0,           0,           0,           0,           0,           0,           0,           0,           0]]), 'Confidence', 'Recall'], [array([          0,    0.001001,    0.002002,    0.003003,    0.004004,    0.005005,    0.006006,    0.007007,    0.008008,    0.009009,     0.01001,    0.011011,    0.012012,    0.013013,    0.014014,    0.015015,    0.016016,    0.017017,    0.018018,    0.019019,     0.02002,    0.021021,    0.022022,    0.023023,\n",
       "          0.024024,    0.025025,    0.026026,    0.027027,    0.028028,    0.029029,     0.03003,    0.031031,    0.032032,    0.033033,    0.034034,    0.035035,    0.036036,    0.037037,    0.038038,    0.039039,     0.04004,    0.041041,    0.042042,    0.043043,    0.044044,    0.045045,    0.046046,    0.047047,\n",
       "          0.048048,    0.049049,     0.05005,    0.051051,    0.052052,    0.053053,    0.054054,    0.055055,    0.056056,    0.057057,    0.058058,    0.059059,     0.06006,    0.061061,    0.062062,    0.063063,    0.064064,    0.065065,    0.066066,    0.067067,    0.068068,    0.069069,     0.07007,    0.071071,\n",
       "          0.072072,    0.073073,    0.074074,    0.075075,    0.076076,    0.077077,    0.078078,    0.079079,     0.08008,    0.081081,    0.082082,    0.083083,    0.084084,    0.085085,    0.086086,    0.087087,    0.088088,    0.089089,     0.09009,    0.091091,    0.092092,    0.093093,    0.094094,    0.095095,\n",
       "          0.096096,    0.097097,    0.098098,    0.099099,      0.1001,      0.1011,      0.1021,      0.1031,      0.1041,     0.10511,     0.10611,     0.10711,     0.10811,     0.10911,     0.11011,     0.11111,     0.11211,     0.11311,     0.11411,     0.11512,     0.11612,     0.11712,     0.11812,     0.11912,\n",
       "           0.12012,     0.12112,     0.12212,     0.12312,     0.12412,     0.12513,     0.12613,     0.12713,     0.12813,     0.12913,     0.13013,     0.13113,     0.13213,     0.13313,     0.13413,     0.13514,     0.13614,     0.13714,     0.13814,     0.13914,     0.14014,     0.14114,     0.14214,     0.14314,\n",
       "           0.14414,     0.14515,     0.14615,     0.14715,     0.14815,     0.14915,     0.15015,     0.15115,     0.15215,     0.15315,     0.15415,     0.15516,     0.15616,     0.15716,     0.15816,     0.15916,     0.16016,     0.16116,     0.16216,     0.16316,     0.16416,     0.16517,     0.16617,     0.16717,\n",
       "           0.16817,     0.16917,     0.17017,     0.17117,     0.17217,     0.17317,     0.17417,     0.17518,     0.17618,     0.17718,     0.17818,     0.17918,     0.18018,     0.18118,     0.18218,     0.18318,     0.18418,     0.18519,     0.18619,     0.18719,     0.18819,     0.18919,     0.19019,     0.19119,\n",
       "           0.19219,     0.19319,     0.19419,      0.1952,      0.1962,      0.1972,      0.1982,      0.1992,      0.2002,      0.2012,      0.2022,      0.2032,      0.2042,     0.20521,     0.20621,     0.20721,     0.20821,     0.20921,     0.21021,     0.21121,     0.21221,     0.21321,     0.21421,     0.21522,\n",
       "           0.21622,     0.21722,     0.21822,     0.21922,     0.22022,     0.22122,     0.22222,     0.22322,     0.22422,     0.22523,     0.22623,     0.22723,     0.22823,     0.22923,     0.23023,     0.23123,     0.23223,     0.23323,     0.23423,     0.23524,     0.23624,     0.23724,     0.23824,     0.23924,\n",
       "           0.24024,     0.24124,     0.24224,     0.24324,     0.24424,     0.24525,     0.24625,     0.24725,     0.24825,     0.24925,     0.25025,     0.25125,     0.25225,     0.25325,     0.25425,     0.25526,     0.25626,     0.25726,     0.25826,     0.25926,     0.26026,     0.26126,     0.26226,     0.26326,\n",
       "           0.26426,     0.26527,     0.26627,     0.26727,     0.26827,     0.26927,     0.27027,     0.27127,     0.27227,     0.27327,     0.27427,     0.27528,     0.27628,     0.27728,     0.27828,     0.27928,     0.28028,     0.28128,     0.28228,     0.28328,     0.28428,     0.28529,     0.28629,     0.28729,\n",
       "           0.28829,     0.28929,     0.29029,     0.29129,     0.29229,     0.29329,     0.29429,      0.2953,      0.2963,      0.2973,      0.2983,      0.2993,      0.3003,      0.3013,      0.3023,      0.3033,      0.3043,     0.30531,     0.30631,     0.30731,     0.30831,     0.30931,     0.31031,     0.31131,\n",
       "           0.31231,     0.31331,     0.31431,     0.31532,     0.31632,     0.31732,     0.31832,     0.31932,     0.32032,     0.32132,     0.32232,     0.32332,     0.32432,     0.32533,     0.32633,     0.32733,     0.32833,     0.32933,     0.33033,     0.33133,     0.33233,     0.33333,     0.33433,     0.33534,\n",
       "           0.33634,     0.33734,     0.33834,     0.33934,     0.34034,     0.34134,     0.34234,     0.34334,     0.34434,     0.34535,     0.34635,     0.34735,     0.34835,     0.34935,     0.35035,     0.35135,     0.35235,     0.35335,     0.35435,     0.35536,     0.35636,     0.35736,     0.35836,     0.35936,\n",
       "           0.36036,     0.36136,     0.36236,     0.36336,     0.36436,     0.36537,     0.36637,     0.36737,     0.36837,     0.36937,     0.37037,     0.37137,     0.37237,     0.37337,     0.37437,     0.37538,     0.37638,     0.37738,     0.37838,     0.37938,     0.38038,     0.38138,     0.38238,     0.38338,\n",
       "           0.38438,     0.38539,     0.38639,     0.38739,     0.38839,     0.38939,     0.39039,     0.39139,     0.39239,     0.39339,     0.39439,      0.3954,      0.3964,      0.3974,      0.3984,      0.3994,      0.4004,      0.4014,      0.4024,      0.4034,      0.4044,     0.40541,     0.40641,     0.40741,\n",
       "           0.40841,     0.40941,     0.41041,     0.41141,     0.41241,     0.41341,     0.41441,     0.41542,     0.41642,     0.41742,     0.41842,     0.41942,     0.42042,     0.42142,     0.42242,     0.42342,     0.42442,     0.42543,     0.42643,     0.42743,     0.42843,     0.42943,     0.43043,     0.43143,\n",
       "           0.43243,     0.43343,     0.43443,     0.43544,     0.43644,     0.43744,     0.43844,     0.43944,     0.44044,     0.44144,     0.44244,     0.44344,     0.44444,     0.44545,     0.44645,     0.44745,     0.44845,     0.44945,     0.45045,     0.45145,     0.45245,     0.45345,     0.45445,     0.45546,\n",
       "           0.45646,     0.45746,     0.45846,     0.45946,     0.46046,     0.46146,     0.46246,     0.46346,     0.46446,     0.46547,     0.46647,     0.46747,     0.46847,     0.46947,     0.47047,     0.47147,     0.47247,     0.47347,     0.47447,     0.47548,     0.47648,     0.47748,     0.47848,     0.47948,\n",
       "           0.48048,     0.48148,     0.48248,     0.48348,     0.48448,     0.48549,     0.48649,     0.48749,     0.48849,     0.48949,     0.49049,     0.49149,     0.49249,     0.49349,     0.49449,      0.4955,      0.4965,      0.4975,      0.4985,      0.4995,      0.5005,      0.5015,      0.5025,      0.5035,\n",
       "            0.5045,     0.50551,     0.50651,     0.50751,     0.50851,     0.50951,     0.51051,     0.51151,     0.51251,     0.51351,     0.51451,     0.51552,     0.51652,     0.51752,     0.51852,     0.51952,     0.52052,     0.52152,     0.52252,     0.52352,     0.52452,     0.52553,     0.52653,     0.52753,\n",
       "           0.52853,     0.52953,     0.53053,     0.53153,     0.53253,     0.53353,     0.53453,     0.53554,     0.53654,     0.53754,     0.53854,     0.53954,     0.54054,     0.54154,     0.54254,     0.54354,     0.54454,     0.54555,     0.54655,     0.54755,     0.54855,     0.54955,     0.55055,     0.55155,\n",
       "           0.55255,     0.55355,     0.55455,     0.55556,     0.55656,     0.55756,     0.55856,     0.55956,     0.56056,     0.56156,     0.56256,     0.56356,     0.56456,     0.56557,     0.56657,     0.56757,     0.56857,     0.56957,     0.57057,     0.57157,     0.57257,     0.57357,     0.57457,     0.57558,\n",
       "           0.57658,     0.57758,     0.57858,     0.57958,     0.58058,     0.58158,     0.58258,     0.58358,     0.58458,     0.58559,     0.58659,     0.58759,     0.58859,     0.58959,     0.59059,     0.59159,     0.59259,     0.59359,     0.59459,      0.5956,      0.5966,      0.5976,      0.5986,      0.5996,\n",
       "            0.6006,      0.6016,      0.6026,      0.6036,      0.6046,     0.60561,     0.60661,     0.60761,     0.60861,     0.60961,     0.61061,     0.61161,     0.61261,     0.61361,     0.61461,     0.61562,     0.61662,     0.61762,     0.61862,     0.61962,     0.62062,     0.62162,     0.62262,     0.62362,\n",
       "           0.62462,     0.62563,     0.62663,     0.62763,     0.62863,     0.62963,     0.63063,     0.63163,     0.63263,     0.63363,     0.63463,     0.63564,     0.63664,     0.63764,     0.63864,     0.63964,     0.64064,     0.64164,     0.64264,     0.64364,     0.64464,     0.64565,     0.64665,     0.64765,\n",
       "           0.64865,     0.64965,     0.65065,     0.65165,     0.65265,     0.65365,     0.65465,     0.65566,     0.65666,     0.65766,     0.65866,     0.65966,     0.66066,     0.66166,     0.66266,     0.66366,     0.66466,     0.66567,     0.66667,     0.66767,     0.66867,     0.66967,     0.67067,     0.67167,\n",
       "           0.67267,     0.67367,     0.67467,     0.67568,     0.67668,     0.67768,     0.67868,     0.67968,     0.68068,     0.68168,     0.68268,     0.68368,     0.68468,     0.68569,     0.68669,     0.68769,     0.68869,     0.68969,     0.69069,     0.69169,     0.69269,     0.69369,     0.69469,      0.6957,\n",
       "            0.6967,      0.6977,      0.6987,      0.6997,      0.7007,      0.7017,      0.7027,      0.7037,      0.7047,     0.70571,     0.70671,     0.70771,     0.70871,     0.70971,     0.71071,     0.71171,     0.71271,     0.71371,     0.71471,     0.71572,     0.71672,     0.71772,     0.71872,     0.71972,\n",
       "           0.72072,     0.72172,     0.72272,     0.72372,     0.72472,     0.72573,     0.72673,     0.72773,     0.72873,     0.72973,     0.73073,     0.73173,     0.73273,     0.73373,     0.73473,     0.73574,     0.73674,     0.73774,     0.73874,     0.73974,     0.74074,     0.74174,     0.74274,     0.74374,\n",
       "           0.74474,     0.74575,     0.74675,     0.74775,     0.74875,     0.74975,     0.75075,     0.75175,     0.75275,     0.75375,     0.75475,     0.75576,     0.75676,     0.75776,     0.75876,     0.75976,     0.76076,     0.76176,     0.76276,     0.76376,     0.76476,     0.76577,     0.76677,     0.76777,\n",
       "           0.76877,     0.76977,     0.77077,     0.77177,     0.77277,     0.77377,     0.77477,     0.77578,     0.77678,     0.77778,     0.77878,     0.77978,     0.78078,     0.78178,     0.78278,     0.78378,     0.78478,     0.78579,     0.78679,     0.78779,     0.78879,     0.78979,     0.79079,     0.79179,\n",
       "           0.79279,     0.79379,     0.79479,      0.7958,      0.7968,      0.7978,      0.7988,      0.7998,      0.8008,      0.8018,      0.8028,      0.8038,      0.8048,     0.80581,     0.80681,     0.80781,     0.80881,     0.80981,     0.81081,     0.81181,     0.81281,     0.81381,     0.81481,     0.81582,\n",
       "           0.81682,     0.81782,     0.81882,     0.81982,     0.82082,     0.82182,     0.82282,     0.82382,     0.82482,     0.82583,     0.82683,     0.82783,     0.82883,     0.82983,     0.83083,     0.83183,     0.83283,     0.83383,     0.83483,     0.83584,     0.83684,     0.83784,     0.83884,     0.83984,\n",
       "           0.84084,     0.84184,     0.84284,     0.84384,     0.84484,     0.84585,     0.84685,     0.84785,     0.84885,     0.84985,     0.85085,     0.85185,     0.85285,     0.85385,     0.85485,     0.85586,     0.85686,     0.85786,     0.85886,     0.85986,     0.86086,     0.86186,     0.86286,     0.86386,\n",
       "           0.86486,     0.86587,     0.86687,     0.86787,     0.86887,     0.86987,     0.87087,     0.87187,     0.87287,     0.87387,     0.87487,     0.87588,     0.87688,     0.87788,     0.87888,     0.87988,     0.88088,     0.88188,     0.88288,     0.88388,     0.88488,     0.88589,     0.88689,     0.88789,\n",
       "           0.88889,     0.88989,     0.89089,     0.89189,     0.89289,     0.89389,     0.89489,      0.8959,      0.8969,      0.8979,      0.8989,      0.8999,      0.9009,      0.9019,      0.9029,      0.9039,      0.9049,     0.90591,     0.90691,     0.90791,     0.90891,     0.90991,     0.91091,     0.91191,\n",
       "           0.91291,     0.91391,     0.91491,     0.91592,     0.91692,     0.91792,     0.91892,     0.91992,     0.92092,     0.92192,     0.92292,     0.92392,     0.92492,     0.92593,     0.92693,     0.92793,     0.92893,     0.92993,     0.93093,     0.93193,     0.93293,     0.93393,     0.93493,     0.93594,\n",
       "           0.93694,     0.93794,     0.93894,     0.93994,     0.94094,     0.94194,     0.94294,     0.94394,     0.94494,     0.94595,     0.94695,     0.94795,     0.94895,     0.94995,     0.95095,     0.95195,     0.95295,     0.95395,     0.95495,     0.95596,     0.95696,     0.95796,     0.95896,     0.95996,\n",
       "           0.96096,     0.96196,     0.96296,     0.96396,     0.96496,     0.96597,     0.96697,     0.96797,     0.96897,     0.96997,     0.97097,     0.97197,     0.97297,     0.97397,     0.97497,     0.97598,     0.97698,     0.97798,     0.97898,     0.97998,     0.98098,     0.98198,     0.98298,     0.98398,\n",
       "           0.98498,     0.98599,     0.98699,     0.98799,     0.98899,     0.98999,     0.99099,     0.99199,     0.99299,     0.99399,     0.99499,       0.996,       0.997,       0.998,       0.999,           1]), array([[          1,           1,           1,           1,           1,           1,           1,           1,           1,           1,           1,           1,           1,           1,           1,           1,           1,           1,           1,           1,           1,           1,           1,\n",
       "                  1,           1,           1,           1,           1,           1,           1,           1,           1,           1,           1,           1,           1,           1,           1,           1,           1,           1,           1,           1,           1,           1,           1,\n",
       "                  1,           1,           1,           1,           1,           1,           1,           1,           1,           1,           1,           1,           1,           1,           1,           1,           1,           1,           1,           1,           1,           1,           1,\n",
       "                  1,           1,           1,           1,           1,           1,           1,           1,           1,           1,           1,           1,           1,           1,           1,           1,           1,           1,           1,           1,           1,           1,           1,\n",
       "                  1,           1,           1,           1,           1,           1,           1,           1,           1,           1,           1,           1,           1,           1,           1,           1,           1,           1,           1,           1,           1,           1,           1,\n",
       "                  1,           1,           1,           1,           1,           1,           1,           1,           1,           1,           1,           1,           1,           1,           1,           1,           1,           1,           1,           1,           1,           1,           1,\n",
       "                  1,           1,           1,           1,           1,           1,           1,           1,           1,           1,           1,     0.92857,     0.92857,     0.92857,     0.92857,     0.92857,     0.92857,     0.92857,     0.92857,     0.92857,     0.92857,     0.92857,     0.92857,\n",
       "            0.92857,     0.92857,     0.92857,     0.92857,     0.92857,     0.92857,     0.92857,     0.92857,     0.92857,     0.92857,     0.92857,     0.92857,     0.92857,     0.92857,     0.92857,     0.88235,     0.88235,     0.88235,     0.88235,     0.88235,     0.88235,     0.88235,     0.88235,\n",
       "            0.88235,     0.88235,     0.88235,     0.88235,     0.88235,     0.88235,     0.88235,     0.88235,     0.88235,     0.88235,     0.88235,     0.88235,     0.88235,     0.88235,     0.88235,     0.88235,     0.88235,     0.88235,     0.88235,     0.81481,     0.81481,     0.81481,     0.81481,\n",
       "            0.81481,     0.81481,     0.81481,     0.81481,     0.81481,     0.81481,     0.81481,     0.81481,     0.81481,     0.81481,     0.81481,     0.81481,     0.81481,     0.81481,     0.81481,     0.81481,     0.81481,     0.81481,     0.81481,     0.81481,     0.81481,     0.81481,     0.81481,\n",
       "            0.81481,     0.81481,     0.81481,     0.81481,     0.81481,     0.81481,     0.81481,     0.81481,     0.81481,     0.81481,     0.81481,     0.81481,     0.81481,     0.81481,     0.81481,     0.81481,     0.81481,     0.81481,     0.81481,     0.81481,     0.81481,     0.81481,     0.81481,\n",
       "            0.81481,     0.81481,     0.81481,     0.81481,     0.81481,     0.81481,     0.81481,     0.81481,     0.81481,     0.81481,     0.81481,     0.81481,     0.81481,     0.81481,     0.81481,     0.81481,     0.81481,     0.81481,     0.81481,     0.81481,     0.81481,     0.81481,     0.81481,\n",
       "            0.81481,     0.81481,     0.81481,     0.81481,     0.81481,     0.81481,     0.81481,     0.81481,     0.81481,     0.81481,     0.81481,     0.81481,     0.81481,     0.81481,     0.81481,     0.81481,     0.81481,     0.81481,     0.81481,     0.81481,     0.81481,     0.79412,     0.79412,\n",
       "            0.79412,     0.79412,     0.79412,     0.79412,     0.79412,     0.79412,     0.79412,     0.79412,     0.79412,     0.79412,     0.79412,     0.79412,     0.79412,     0.79412,     0.79412,     0.79412,     0.79412,     0.79412,     0.79412,     0.79412,     0.79412,     0.79412,     0.79412,\n",
       "            0.79412,     0.79412,     0.79412,     0.79412,     0.79412,     0.79412,     0.79412,     0.79412,     0.79412,     0.79412,     0.79412,     0.79412,     0.79412,     0.79412,     0.79412,     0.79412,     0.79412,     0.79412,     0.79412,     0.79412,     0.79412,     0.79412,     0.79412,\n",
       "            0.79412,     0.79412,     0.79412,     0.79412,     0.79412,     0.79412,     0.79412,     0.79412,     0.79412,     0.79412,     0.79412,     0.79412,     0.79412,     0.79412,     0.79412,     0.79412,     0.79412,     0.79412,     0.79412,     0.79412,     0.77778,     0.77778,     0.77778,\n",
       "            0.77778,     0.77778,     0.77778,     0.77778,     0.77778,     0.77778,     0.77778,     0.77778,     0.77778,     0.77778,         0.7,         0.7,         0.7,         0.7,         0.7,         0.7,         0.7,         0.7,         0.7,         0.7,         0.7,         0.7,         0.7,\n",
       "                0.7,         0.7,         0.7,         0.7,         0.7,         0.7,         0.7,         0.7,         0.7,         0.7,         0.7,         0.7,         0.7,         0.7,         0.7,         0.7,         0.7,         0.7,         0.7,         0.7,         0.7,         0.7,         0.7,\n",
       "                0.7,         0.7,         0.7,         0.7,         0.7,         0.7,         0.7,         0.7,         0.7,         0.7,         0.7,         0.7,         0.7,         0.7,         0.7,         0.7,         0.7,         0.7,         0.7,         0.7,         0.7,         0.7,         0.7,\n",
       "                0.7,         0.7,         0.7,         0.7,         0.7,         0.7,         0.7,         0.7,         0.7,         0.7,         0.7,         0.7,         0.7,         0.7,         0.7,         0.7,         0.7,         0.7,         0.7,         0.7,         0.7,         0.7,         0.7,\n",
       "                0.7,         0.7,         0.7,         0.7,         0.7,         0.7,         0.7,         0.7,         0.7,         0.7,         0.7,         0.7,         0.7,     0.69231,     0.69231,     0.69231,     0.69231,     0.69231,     0.69231,     0.69231,     0.69231,     0.69231,     0.69231,\n",
       "            0.69231,     0.69231,     0.69231,     0.69231,     0.68519,     0.68519,     0.68519,     0.68519,     0.68519,     0.68519,     0.68519,     0.68519,     0.68519,     0.68519,     0.68519,     0.68519,     0.68519,     0.65517,     0.65517,     0.65517,     0.65517,     0.65517,     0.65517,\n",
       "            0.65517,     0.65517,     0.65517,     0.65517,     0.65517,     0.65517,     0.65517,     0.58209,     0.58209,     0.58209,     0.58209,     0.58209,     0.58209,     0.58209,     0.58209,     0.58209,     0.58209,     0.58209,     0.58209,     0.58209,     0.58209,     0.54795,     0.54795,\n",
       "            0.54795,     0.54795,     0.54795,     0.54795,     0.54795,     0.54795,     0.54795,     0.54795,     0.54795,     0.54795,     0.54795,      0.5125,      0.5125,      0.5125,      0.5125,      0.5125,      0.5125,      0.5125,      0.5125,      0.5125,      0.5125,      0.5125,      0.5125,\n",
       "             0.5125,      0.5125,     0.39623,     0.39623,     0.39623,     0.39623,     0.39623,     0.39623,     0.39623,     0.39623,     0.39623,     0.39623,     0.39623,     0.39623,     0.39623,      0.3913,      0.3913,      0.3913,      0.3913,      0.3913,      0.3913,      0.3913,      0.3913,\n",
       "             0.3913,      0.3913,      0.3913,      0.3913,      0.3913,      0.3913,      0.3913,      0.3913,      0.3913,      0.3913,      0.3913,      0.3913,      0.3913,      0.3913,      0.3913,      0.3913,      0.3913,      0.3913,      0.3913,      0.3913,      0.3913,      0.3913,      0.3913,\n",
       "             0.3913,      0.3913,      0.3913,      0.3913,      0.3913,      0.3913,      0.3913,      0.3913,      0.3913,      0.3913,     0.37398,     0.37398,     0.37398,     0.37398,     0.37398,     0.37398,     0.37398,     0.37398,     0.37398,     0.37398,     0.37398,     0.37398,     0.37398,\n",
       "            0.33562,     0.33562,     0.33562,     0.33562,     0.33562,     0.33562,     0.33562,     0.33562,     0.33562,     0.33562,     0.33562,     0.33562,     0.33562,     0.33562,     0.33562,     0.33562,     0.33562,     0.33562,     0.33562,     0.33562,     0.33562,     0.33562,     0.33562,\n",
       "            0.33562,     0.33562,     0.33562,     0.33562,     0.33562,     0.33562,     0.33562,     0.33562,     0.33562,     0.33562,     0.33562,     0.33562,     0.33562,     0.33562,     0.33562,     0.33562,     0.33562,     0.33562,      0.3268,      0.3268,      0.3268,      0.3268,      0.3268,\n",
       "             0.3268,      0.3268,      0.3268,      0.3268,      0.3268,      0.3268,      0.3268,      0.3268,     0.32278,     0.32278,     0.32278,     0.32278,     0.32278,     0.32278,     0.32278,     0.32278,     0.32278,     0.32278,     0.32278,     0.32278,     0.32278,     0.32278,     0.30952,\n",
       "            0.30952,     0.30952,     0.30952,     0.30952,     0.30952,     0.30952,     0.30952,     0.30952,     0.30952,     0.30952,     0.30952,     0.30952,     0.29348,     0.29348,     0.29348,     0.29348,     0.29348,     0.29348,     0.29348,     0.29348,     0.29348,     0.29348,     0.29348,\n",
       "            0.29348,     0.29348,     0.29348,     0.29348,     0.29348,     0.29348,     0.29348,     0.29348,     0.29348,     0.29348,     0.29348,     0.29348,     0.29348,     0.29348,     0.29348,     0.29348,     0.23109,     0.23109,     0.23109,     0.23109,     0.23109,     0.23109,     0.23109,\n",
       "            0.23109,     0.23109,     0.23109,     0.23109,     0.23109,     0.23109,     0.23109,     0.20144,     0.20144,     0.20144,     0.20144,     0.20144,     0.20144,     0.20144,     0.20144,     0.20144,     0.20144,     0.20144,     0.20144,     0.20144,     0.18874,     0.18874,     0.18874,\n",
       "            0.18874,     0.18874,     0.18874,     0.18874,     0.18874,     0.18874,     0.18874,     0.18874,     0.18874,     0.18874,     0.18874,     0.17901,     0.17901,     0.17901,     0.17901,     0.17901,     0.17901,     0.17901,     0.17901,     0.17901,     0.17901,     0.17901,     0.17901,\n",
       "            0.17901,     0.14975,     0.14975,     0.14975,     0.14975,     0.14975,     0.14975,     0.14975,     0.14975,     0.14975,     0.14975,     0.14975,     0.14975,     0.14975,     0.14975,     0.14493,     0.14493,     0.14493,     0.14493,     0.14493,     0.14493,     0.14493,     0.14493,\n",
       "            0.14493,     0.14493,     0.14493,     0.14493,     0.14493,     0.13261,     0.13261,     0.13261,     0.13261,     0.13261,     0.13261,     0.13261,     0.13261,     0.13261,     0.13261,     0.13261,     0.13261,     0.13261,     0.13261,     0.10248,     0.10248,     0.10248,     0.10248,\n",
       "            0.10248,     0.10248,     0.10248,     0.10248,     0.10248,     0.10248,     0.10248,     0.10248,     0.10248,    0.060928,    0.060928,    0.060928,    0.060928,    0.060928,    0.060928,    0.060928,    0.060928,    0.060928,    0.060928,    0.060928,    0.060928,    0.060928,    0.060928,\n",
       "           0.036866,    0.036866,    0.036866,    0.036866,    0.036866,    0.036866,    0.036866,    0.036866,    0.036866,    0.036866,    0.036866,    0.036866,    0.036866,    0.036031,    0.036031,    0.036031,    0.036031,    0.036031,    0.036031,    0.036031,    0.036031,    0.036031,    0.036031,\n",
       "           0.036031,    0.036031,    0.036031,    0.036031,    0.035354,    0.035061,    0.034769,    0.034477,    0.034185,    0.033893,    0.033601,    0.033308,    0.033016,    0.032724,    0.032432,     0.03214,    0.031847,    0.031555,    0.031263,    0.030971,    0.030679,    0.030387,    0.030094,\n",
       "           0.029802,     0.02951,    0.029218,    0.028926,    0.028634,    0.028341,    0.028049,    0.027757,    0.027465,    0.027173,     0.02688,    0.026588,    0.026296,    0.026004,    0.025712,     0.02542,    0.025127,    0.024835,    0.024543,    0.024251,    0.023959,    0.023666,    0.023374,\n",
       "           0.023082,     0.02279,    0.022498,    0.022206,    0.021913,    0.021621,    0.021329,    0.021037,    0.020745,    0.020453,     0.02016,    0.019868,    0.019576,    0.019284,    0.018992,    0.018699,    0.018407,    0.018115,    0.017823,    0.017531,    0.017239,    0.016946,    0.016654,\n",
       "           0.016362,     0.01607,    0.015778,    0.015485,    0.015193,    0.014901,    0.014609,    0.014317,    0.014025,    0.013732,     0.01344,    0.013148,    0.012856,    0.012564,    0.012272,    0.011979,    0.011687,    0.011395,    0.011103,    0.010811,    0.010518,    0.010226,   0.0099341,\n",
       "          0.0096419,   0.0093497,   0.0090575,   0.0087654,   0.0084732,    0.008181,   0.0078888,   0.0075966,   0.0073045,   0.0070123,   0.0067201,   0.0064279,   0.0061358,   0.0058436,   0.0055514,   0.0052592,    0.004967,   0.0046749,   0.0043827,   0.0040905,   0.0037983,   0.0035061,    0.003214,\n",
       "          0.0029218,   0.0026296,   0.0023374,   0.0020453,   0.0017531,   0.0014609,   0.0011687,  0.00087654,  0.00058436,  0.00029218,           0]]), 'Recall', 'Precision'], [array([          0,    0.001001,    0.002002,    0.003003,    0.004004,    0.005005,    0.006006,    0.007007,    0.008008,    0.009009,     0.01001,    0.011011,    0.012012,    0.013013,    0.014014,    0.015015,    0.016016,    0.017017,    0.018018,    0.019019,     0.02002,    0.021021,    0.022022,    0.023023,\n",
       "          0.024024,    0.025025,    0.026026,    0.027027,    0.028028,    0.029029,     0.03003,    0.031031,    0.032032,    0.033033,    0.034034,    0.035035,    0.036036,    0.037037,    0.038038,    0.039039,     0.04004,    0.041041,    0.042042,    0.043043,    0.044044,    0.045045,    0.046046,    0.047047,\n",
       "          0.048048,    0.049049,     0.05005,    0.051051,    0.052052,    0.053053,    0.054054,    0.055055,    0.056056,    0.057057,    0.058058,    0.059059,     0.06006,    0.061061,    0.062062,    0.063063,    0.064064,    0.065065,    0.066066,    0.067067,    0.068068,    0.069069,     0.07007,    0.071071,\n",
       "          0.072072,    0.073073,    0.074074,    0.075075,    0.076076,    0.077077,    0.078078,    0.079079,     0.08008,    0.081081,    0.082082,    0.083083,    0.084084,    0.085085,    0.086086,    0.087087,    0.088088,    0.089089,     0.09009,    0.091091,    0.092092,    0.093093,    0.094094,    0.095095,\n",
       "          0.096096,    0.097097,    0.098098,    0.099099,      0.1001,      0.1011,      0.1021,      0.1031,      0.1041,     0.10511,     0.10611,     0.10711,     0.10811,     0.10911,     0.11011,     0.11111,     0.11211,     0.11311,     0.11411,     0.11512,     0.11612,     0.11712,     0.11812,     0.11912,\n",
       "           0.12012,     0.12112,     0.12212,     0.12312,     0.12412,     0.12513,     0.12613,     0.12713,     0.12813,     0.12913,     0.13013,     0.13113,     0.13213,     0.13313,     0.13413,     0.13514,     0.13614,     0.13714,     0.13814,     0.13914,     0.14014,     0.14114,     0.14214,     0.14314,\n",
       "           0.14414,     0.14515,     0.14615,     0.14715,     0.14815,     0.14915,     0.15015,     0.15115,     0.15215,     0.15315,     0.15415,     0.15516,     0.15616,     0.15716,     0.15816,     0.15916,     0.16016,     0.16116,     0.16216,     0.16316,     0.16416,     0.16517,     0.16617,     0.16717,\n",
       "           0.16817,     0.16917,     0.17017,     0.17117,     0.17217,     0.17317,     0.17417,     0.17518,     0.17618,     0.17718,     0.17818,     0.17918,     0.18018,     0.18118,     0.18218,     0.18318,     0.18418,     0.18519,     0.18619,     0.18719,     0.18819,     0.18919,     0.19019,     0.19119,\n",
       "           0.19219,     0.19319,     0.19419,      0.1952,      0.1962,      0.1972,      0.1982,      0.1992,      0.2002,      0.2012,      0.2022,      0.2032,      0.2042,     0.20521,     0.20621,     0.20721,     0.20821,     0.20921,     0.21021,     0.21121,     0.21221,     0.21321,     0.21421,     0.21522,\n",
       "           0.21622,     0.21722,     0.21822,     0.21922,     0.22022,     0.22122,     0.22222,     0.22322,     0.22422,     0.22523,     0.22623,     0.22723,     0.22823,     0.22923,     0.23023,     0.23123,     0.23223,     0.23323,     0.23423,     0.23524,     0.23624,     0.23724,     0.23824,     0.23924,\n",
       "           0.24024,     0.24124,     0.24224,     0.24324,     0.24424,     0.24525,     0.24625,     0.24725,     0.24825,     0.24925,     0.25025,     0.25125,     0.25225,     0.25325,     0.25425,     0.25526,     0.25626,     0.25726,     0.25826,     0.25926,     0.26026,     0.26126,     0.26226,     0.26326,\n",
       "           0.26426,     0.26527,     0.26627,     0.26727,     0.26827,     0.26927,     0.27027,     0.27127,     0.27227,     0.27327,     0.27427,     0.27528,     0.27628,     0.27728,     0.27828,     0.27928,     0.28028,     0.28128,     0.28228,     0.28328,     0.28428,     0.28529,     0.28629,     0.28729,\n",
       "           0.28829,     0.28929,     0.29029,     0.29129,     0.29229,     0.29329,     0.29429,      0.2953,      0.2963,      0.2973,      0.2983,      0.2993,      0.3003,      0.3013,      0.3023,      0.3033,      0.3043,     0.30531,     0.30631,     0.30731,     0.30831,     0.30931,     0.31031,     0.31131,\n",
       "           0.31231,     0.31331,     0.31431,     0.31532,     0.31632,     0.31732,     0.31832,     0.31932,     0.32032,     0.32132,     0.32232,     0.32332,     0.32432,     0.32533,     0.32633,     0.32733,     0.32833,     0.32933,     0.33033,     0.33133,     0.33233,     0.33333,     0.33433,     0.33534,\n",
       "           0.33634,     0.33734,     0.33834,     0.33934,     0.34034,     0.34134,     0.34234,     0.34334,     0.34434,     0.34535,     0.34635,     0.34735,     0.34835,     0.34935,     0.35035,     0.35135,     0.35235,     0.35335,     0.35435,     0.35536,     0.35636,     0.35736,     0.35836,     0.35936,\n",
       "           0.36036,     0.36136,     0.36236,     0.36336,     0.36436,     0.36537,     0.36637,     0.36737,     0.36837,     0.36937,     0.37037,     0.37137,     0.37237,     0.37337,     0.37437,     0.37538,     0.37638,     0.37738,     0.37838,     0.37938,     0.38038,     0.38138,     0.38238,     0.38338,\n",
       "           0.38438,     0.38539,     0.38639,     0.38739,     0.38839,     0.38939,     0.39039,     0.39139,     0.39239,     0.39339,     0.39439,      0.3954,      0.3964,      0.3974,      0.3984,      0.3994,      0.4004,      0.4014,      0.4024,      0.4034,      0.4044,     0.40541,     0.40641,     0.40741,\n",
       "           0.40841,     0.40941,     0.41041,     0.41141,     0.41241,     0.41341,     0.41441,     0.41542,     0.41642,     0.41742,     0.41842,     0.41942,     0.42042,     0.42142,     0.42242,     0.42342,     0.42442,     0.42543,     0.42643,     0.42743,     0.42843,     0.42943,     0.43043,     0.43143,\n",
       "           0.43243,     0.43343,     0.43443,     0.43544,     0.43644,     0.43744,     0.43844,     0.43944,     0.44044,     0.44144,     0.44244,     0.44344,     0.44444,     0.44545,     0.44645,     0.44745,     0.44845,     0.44945,     0.45045,     0.45145,     0.45245,     0.45345,     0.45445,     0.45546,\n",
       "           0.45646,     0.45746,     0.45846,     0.45946,     0.46046,     0.46146,     0.46246,     0.46346,     0.46446,     0.46547,     0.46647,     0.46747,     0.46847,     0.46947,     0.47047,     0.47147,     0.47247,     0.47347,     0.47447,     0.47548,     0.47648,     0.47748,     0.47848,     0.47948,\n",
       "           0.48048,     0.48148,     0.48248,     0.48348,     0.48448,     0.48549,     0.48649,     0.48749,     0.48849,     0.48949,     0.49049,     0.49149,     0.49249,     0.49349,     0.49449,      0.4955,      0.4965,      0.4975,      0.4985,      0.4995,      0.5005,      0.5015,      0.5025,      0.5035,\n",
       "            0.5045,     0.50551,     0.50651,     0.50751,     0.50851,     0.50951,     0.51051,     0.51151,     0.51251,     0.51351,     0.51451,     0.51552,     0.51652,     0.51752,     0.51852,     0.51952,     0.52052,     0.52152,     0.52252,     0.52352,     0.52452,     0.52553,     0.52653,     0.52753,\n",
       "           0.52853,     0.52953,     0.53053,     0.53153,     0.53253,     0.53353,     0.53453,     0.53554,     0.53654,     0.53754,     0.53854,     0.53954,     0.54054,     0.54154,     0.54254,     0.54354,     0.54454,     0.54555,     0.54655,     0.54755,     0.54855,     0.54955,     0.55055,     0.55155,\n",
       "           0.55255,     0.55355,     0.55455,     0.55556,     0.55656,     0.55756,     0.55856,     0.55956,     0.56056,     0.56156,     0.56256,     0.56356,     0.56456,     0.56557,     0.56657,     0.56757,     0.56857,     0.56957,     0.57057,     0.57157,     0.57257,     0.57357,     0.57457,     0.57558,\n",
       "           0.57658,     0.57758,     0.57858,     0.57958,     0.58058,     0.58158,     0.58258,     0.58358,     0.58458,     0.58559,     0.58659,     0.58759,     0.58859,     0.58959,     0.59059,     0.59159,     0.59259,     0.59359,     0.59459,      0.5956,      0.5966,      0.5976,      0.5986,      0.5996,\n",
       "            0.6006,      0.6016,      0.6026,      0.6036,      0.6046,     0.60561,     0.60661,     0.60761,     0.60861,     0.60961,     0.61061,     0.61161,     0.61261,     0.61361,     0.61461,     0.61562,     0.61662,     0.61762,     0.61862,     0.61962,     0.62062,     0.62162,     0.62262,     0.62362,\n",
       "           0.62462,     0.62563,     0.62663,     0.62763,     0.62863,     0.62963,     0.63063,     0.63163,     0.63263,     0.63363,     0.63463,     0.63564,     0.63664,     0.63764,     0.63864,     0.63964,     0.64064,     0.64164,     0.64264,     0.64364,     0.64464,     0.64565,     0.64665,     0.64765,\n",
       "           0.64865,     0.64965,     0.65065,     0.65165,     0.65265,     0.65365,     0.65465,     0.65566,     0.65666,     0.65766,     0.65866,     0.65966,     0.66066,     0.66166,     0.66266,     0.66366,     0.66466,     0.66567,     0.66667,     0.66767,     0.66867,     0.66967,     0.67067,     0.67167,\n",
       "           0.67267,     0.67367,     0.67467,     0.67568,     0.67668,     0.67768,     0.67868,     0.67968,     0.68068,     0.68168,     0.68268,     0.68368,     0.68468,     0.68569,     0.68669,     0.68769,     0.68869,     0.68969,     0.69069,     0.69169,     0.69269,     0.69369,     0.69469,      0.6957,\n",
       "            0.6967,      0.6977,      0.6987,      0.6997,      0.7007,      0.7017,      0.7027,      0.7037,      0.7047,     0.70571,     0.70671,     0.70771,     0.70871,     0.70971,     0.71071,     0.71171,     0.71271,     0.71371,     0.71471,     0.71572,     0.71672,     0.71772,     0.71872,     0.71972,\n",
       "           0.72072,     0.72172,     0.72272,     0.72372,     0.72472,     0.72573,     0.72673,     0.72773,     0.72873,     0.72973,     0.73073,     0.73173,     0.73273,     0.73373,     0.73473,     0.73574,     0.73674,     0.73774,     0.73874,     0.73974,     0.74074,     0.74174,     0.74274,     0.74374,\n",
       "           0.74474,     0.74575,     0.74675,     0.74775,     0.74875,     0.74975,     0.75075,     0.75175,     0.75275,     0.75375,     0.75475,     0.75576,     0.75676,     0.75776,     0.75876,     0.75976,     0.76076,     0.76176,     0.76276,     0.76376,     0.76476,     0.76577,     0.76677,     0.76777,\n",
       "           0.76877,     0.76977,     0.77077,     0.77177,     0.77277,     0.77377,     0.77477,     0.77578,     0.77678,     0.77778,     0.77878,     0.77978,     0.78078,     0.78178,     0.78278,     0.78378,     0.78478,     0.78579,     0.78679,     0.78779,     0.78879,     0.78979,     0.79079,     0.79179,\n",
       "           0.79279,     0.79379,     0.79479,      0.7958,      0.7968,      0.7978,      0.7988,      0.7998,      0.8008,      0.8018,      0.8028,      0.8038,      0.8048,     0.80581,     0.80681,     0.80781,     0.80881,     0.80981,     0.81081,     0.81181,     0.81281,     0.81381,     0.81481,     0.81582,\n",
       "           0.81682,     0.81782,     0.81882,     0.81982,     0.82082,     0.82182,     0.82282,     0.82382,     0.82482,     0.82583,     0.82683,     0.82783,     0.82883,     0.82983,     0.83083,     0.83183,     0.83283,     0.83383,     0.83483,     0.83584,     0.83684,     0.83784,     0.83884,     0.83984,\n",
       "           0.84084,     0.84184,     0.84284,     0.84384,     0.84484,     0.84585,     0.84685,     0.84785,     0.84885,     0.84985,     0.85085,     0.85185,     0.85285,     0.85385,     0.85485,     0.85586,     0.85686,     0.85786,     0.85886,     0.85986,     0.86086,     0.86186,     0.86286,     0.86386,\n",
       "           0.86486,     0.86587,     0.86687,     0.86787,     0.86887,     0.86987,     0.87087,     0.87187,     0.87287,     0.87387,     0.87487,     0.87588,     0.87688,     0.87788,     0.87888,     0.87988,     0.88088,     0.88188,     0.88288,     0.88388,     0.88488,     0.88589,     0.88689,     0.88789,\n",
       "           0.88889,     0.88989,     0.89089,     0.89189,     0.89289,     0.89389,     0.89489,      0.8959,      0.8969,      0.8979,      0.8989,      0.8999,      0.9009,      0.9019,      0.9029,      0.9039,      0.9049,     0.90591,     0.90691,     0.90791,     0.90891,     0.90991,     0.91091,     0.91191,\n",
       "           0.91291,     0.91391,     0.91491,     0.91592,     0.91692,     0.91792,     0.91892,     0.91992,     0.92092,     0.92192,     0.92292,     0.92392,     0.92492,     0.92593,     0.92693,     0.92793,     0.92893,     0.92993,     0.93093,     0.93193,     0.93293,     0.93393,     0.93493,     0.93594,\n",
       "           0.93694,     0.93794,     0.93894,     0.93994,     0.94094,     0.94194,     0.94294,     0.94394,     0.94494,     0.94595,     0.94695,     0.94795,     0.94895,     0.94995,     0.95095,     0.95195,     0.95295,     0.95395,     0.95495,     0.95596,     0.95696,     0.95796,     0.95896,     0.95996,\n",
       "           0.96096,     0.96196,     0.96296,     0.96396,     0.96496,     0.96597,     0.96697,     0.96797,     0.96897,     0.96997,     0.97097,     0.97197,     0.97297,     0.97397,     0.97497,     0.97598,     0.97698,     0.97798,     0.97898,     0.97998,     0.98098,     0.98198,     0.98298,     0.98398,\n",
       "           0.98498,     0.98599,     0.98699,     0.98799,     0.98899,     0.98999,     0.99099,     0.99199,     0.99299,     0.99399,     0.99499,       0.996,       0.997,       0.998,       0.999,           1]), array([[   0.068241,    0.068245,    0.083776,     0.09712,      0.1101,     0.11994,     0.12911,     0.13964,      0.1499,     0.16199,     0.17158,     0.18221,     0.18943,     0.19858,     0.20441,       0.209,     0.21581,     0.22101,     0.22652,     0.23281,     0.23671,     0.24453,     0.24786,\n",
       "            0.25042,     0.25299,     0.25949,     0.26654,     0.27192,     0.27677,     0.28074,     0.28362,     0.28585,     0.28743,      0.2894,     0.29182,     0.29615,     0.30152,     0.30055,     0.30294,     0.30482,     0.30917,     0.31393,     0.31566,     0.31796,     0.31664,     0.32188,\n",
       "            0.32376,     0.32429,     0.32542,     0.32793,     0.33085,     0.33309,      0.3365,     0.33793,     0.34254,     0.34949,      0.3478,     0.35112,     0.35624,     0.36054,     0.36496,     0.36763,     0.36957,     0.37566,     0.38192,     0.38487,     0.38973,     0.39406,     0.39619,\n",
       "            0.40208,     0.40473,     0.40532,     0.40591,     0.40861,     0.41525,     0.41784,     0.41299,     0.41052,     0.41269,     0.41366,     0.41551,     0.41851,     0.41987,     0.42181,     0.42498,      0.4283,     0.42393,     0.42651,     0.43192,     0.43426,     0.43518,     0.43637,\n",
       "            0.43868,     0.43796,     0.43922,     0.43989,     0.44033,      0.4342,     0.43613,     0.43918,     0.44132,     0.44157,     0.43175,     0.42911,     0.42726,     0.42865,     0.42982,     0.43125,     0.43292,     0.43498,     0.43737,     0.44246,     0.44518,     0.44802,     0.45158,\n",
       "            0.45249,     0.45341,      0.4544,     0.45538,      0.4582,     0.45913,      0.4601,      0.4617,      0.4631,     0.46438,     0.46461,     0.46073,     0.46231,     0.46495,      0.4673,     0.46861,     0.47167,     0.47221,     0.47276,      0.4733,     0.47402,     0.47515,     0.47388,\n",
       "            0.45998,     0.46114,      0.4623,     0.46264,     0.46061,     0.46486,     0.45848,     0.46069,     0.46132,     0.46194,     0.46256,     0.46319,     0.46428,     0.46544,     0.46749,     0.47019,     0.47246,     0.47445,     0.47659,     0.47738,     0.47807,     0.47876,     0.47944,\n",
       "            0.48032,     0.48122,     0.48211,     0.48328,     0.48455,     0.48584,     0.48714,      0.4903,     0.49184,     0.49275,     0.49365,     0.49438,     0.49502,     0.49566,      0.4963,     0.49693,     0.49757,     0.49821,     0.49884,     0.49948,     0.50042,     0.50286,     0.50407,\n",
       "            0.50517,     0.50638,     0.50878,     0.50955,     0.50985,     0.51016,     0.51046,     0.51076,     0.51106,     0.51136,     0.51166,     0.51196,     0.51226,     0.51626,     0.51955,     0.52245,     0.52319,     0.52393,     0.52467,     0.52541,     0.52798,     0.52922,      0.5295,\n",
       "            0.52977,     0.53005,     0.53032,     0.53059,     0.53087,     0.53114,     0.53142,     0.53169,     0.53196,     0.53223,     0.52733,     0.52362,     0.52447,     0.52531,     0.52616,     0.52655,     0.52683,     0.52712,     0.52741,     0.52769,     0.52798,     0.52826,     0.52854,\n",
       "            0.52883,     0.52911,      0.5294,     0.52968,     0.53026,     0.53106,     0.53185,     0.53265,     0.53337,     0.53365,     0.53393,     0.53421,     0.53448,     0.53476,     0.53504,     0.53532,     0.53559,     0.53587,     0.53614,     0.53642,      0.5367,      0.5376,      0.5406,\n",
       "            0.54136,     0.54213,     0.54289,     0.54365,     0.54315,     0.53898,      0.5348,     0.53575,     0.53746,     0.53912,     0.54075,     0.54188,     0.54239,     0.54289,     0.54339,      0.5439,      0.5444,      0.5449,     0.54539,     0.54564,     0.54586,     0.54608,      0.5463,\n",
       "            0.54651,     0.54673,     0.54694,     0.54716,     0.54738,     0.54759,     0.54781,     0.54802,     0.54824,     0.54845,     0.54867,     0.54888,     0.54909,     0.54932,     0.54979,     0.55025,     0.55072,     0.55118,     0.55164,      0.5521,     0.55256,     0.55302,     0.54975,\n",
       "            0.54423,     0.54321,     0.54369,     0.54416,     0.54464,     0.54511,     0.54558,     0.54605,     0.54652,     0.54691,     0.54721,      0.5475,      0.5478,      0.5481,      0.5484,     0.54869,     0.54899,     0.54929,     0.54958,     0.54988,     0.55017,     0.55047,     0.55078,\n",
       "            0.55123,     0.55168,     0.55213,     0.55257,     0.55302,     0.55346,     0.55391,     0.55435,      0.5548,     0.55528,     0.55577,     0.55625,     0.55673,     0.55721,     0.55769,     0.55817,     0.55864,     0.56305,     0.56323,      0.5634,     0.56357,     0.56375,     0.56392,\n",
       "            0.56409,     0.56426,     0.56444,     0.56461,     0.56478,     0.56495,     0.56513,      0.5653,     0.56547,     0.56564,     0.56581,     0.56598,     0.56616,     0.56633,      0.5665,     0.56667,     0.56684,     0.56701,     0.56753,     0.57126,     0.57244,     0.57349,     0.57454,\n",
       "            0.57559,     0.57419,     0.57231,     0.57043,     0.56854,     0.56665,     0.56522,     0.56925,     0.56934,     0.56944,     0.56953,     0.56962,     0.56972,     0.56981,      0.5699,        0.57,     0.57009,     0.57018,     0.57028,     0.57037,     0.57046,     0.57056,     0.57065,\n",
       "            0.57074,     0.57083,     0.57093,     0.57102,     0.57111,     0.57121,      0.5713,     0.57139,     0.57148,     0.57158,     0.57167,     0.57176,     0.57185,     0.57195,     0.57204,     0.57213,     0.57222,     0.57232,     0.57241,      0.5725,     0.57259,     0.57268,     0.57278,\n",
       "            0.57287,     0.57296,     0.57305,     0.57314,     0.57324,     0.57333,     0.57342,     0.57351,      0.5736,     0.57395,     0.57449,     0.57502,     0.57556,      0.5761,     0.57663,     0.57716,     0.57769,      0.5774,     0.57356,     0.56971,       0.567,     0.56724,     0.56748,\n",
       "            0.56772,     0.56796,     0.56819,     0.56843,     0.56867,     0.56891,     0.56915,     0.56938,     0.56962,     0.56986,      0.5701,     0.57033,     0.57057,      0.5708,     0.57104,     0.57127,     0.57121,     0.57059,     0.56996,     0.56934,     0.56871,     0.56809,     0.56746,\n",
       "            0.56683,     0.56621,     0.56558,     0.56495,     0.56432,      0.5637,     0.56307,     0.56244,     0.56181,     0.56118,     0.56055,     0.56023,     0.56203,     0.56382,     0.56432,     0.56399,     0.56366,     0.56333,       0.563,     0.56267,     0.56234,     0.56201,     0.56168,\n",
       "            0.56135,     0.56102,     0.56069,     0.56036,     0.56003,      0.5597,     0.55937,     0.55903,      0.5587,     0.55837,     0.55804,     0.55771,     0.55738,     0.55705,     0.55672,     0.55639,     0.55605,     0.55572,     0.55539,     0.55506,     0.55473,     0.55439,     0.55406,\n",
       "            0.55373,      0.5534,     0.55307,     0.55263,     0.55197,     0.55132,     0.55067,     0.55001,     0.54936,      0.5487,     0.54805,     0.54739,     0.54674,     0.54608,     0.54543,     0.54477,     0.54411,     0.54346,      0.5428,     0.54214,     0.54148,     0.54074,     0.53973,\n",
       "            0.53872,     0.53771,     0.53669,     0.53568,     0.53467,     0.53365,     0.53263,     0.53162,      0.5306,     0.52958,     0.52918,     0.52988,     0.53059,     0.53129,     0.53199,     0.53268,     0.53128,     0.52063,     0.52012,      0.5196,     0.51908,     0.51857,     0.51805,\n",
       "            0.51753,     0.51701,     0.51649,     0.51597,     0.51546,     0.51494,     0.51442,      0.5139,     0.51338,     0.51286,     0.51234,     0.51182,      0.5113,     0.51078,     0.51026,     0.50974,     0.50922,     0.50869,     0.50776,     0.50654,     0.50531,     0.50408,     0.50285,\n",
       "            0.50162,     0.50038,     0.49915,     0.49791,     0.49668,     0.49444,     0.48892,     0.48337,     0.48347,     0.48427,     0.48506,     0.48585,     0.48663,     0.48948,     0.49215,     0.49369,     0.49521,     0.49625,     0.49713,       0.498,     0.49887,     0.49974,     0.50175,\n",
       "            0.50424,     0.50473,     0.50498,     0.50524,     0.50549,     0.50574,     0.50599,     0.50624,     0.50649,     0.50674,     0.50699,     0.50724,     0.50749,     0.50773,     0.50798,     0.50823,     0.50847,     0.50872,     0.50896,     0.50838,     0.50688,     0.50538,     0.50388,\n",
       "            0.50237,     0.50086,     0.49935,     0.49784,     0.49633,     0.49571,     0.49644,     0.49716,     0.49789,     0.49861,     0.49932,     0.49994,     0.49859,     0.49724,     0.49589,     0.49454,     0.49318,     0.49182,     0.49046,      0.4891,     0.48774,     0.48638,     0.48561,\n",
       "             0.4851,     0.48458,     0.48406,     0.48354,     0.48302,      0.4825,     0.48198,     0.48147,     0.48095,     0.48043,     0.47991,     0.47938,     0.47886,     0.47834,     0.47782,      0.4773,     0.47678,     0.47626,     0.47574,     0.47521,     0.47469,     0.47417,     0.47364,\n",
       "            0.47312,      0.4726,     0.47207,     0.47151,     0.47085,     0.47019,     0.46953,     0.46888,     0.46822,     0.46756,      0.4669,     0.46623,     0.46557,     0.46491,     0.46425,     0.46359,     0.46292,     0.46226,      0.4616,     0.46093,     0.46027,      0.4596,     0.45894,\n",
       "            0.45827,     0.45761,     0.45636,     0.45381,     0.45125,     0.44868,     0.44611,     0.44353,     0.44526,     0.44573,     0.44459,     0.44344,     0.44228,     0.44113,     0.43998,     0.43882,     0.43767,     0.43651,     0.43535,     0.43419,     0.43303,     0.43187,     0.43388,\n",
       "            0.43512,     0.43421,     0.43331,     0.43241,     0.43151,      0.4306,      0.4297,     0.42879,     0.42789,     0.42698,     0.42607,     0.42516,     0.42425,     0.42334,     0.42243,     0.42152,      0.4206,     0.40896,     0.39818,     0.39125,      0.3703,     0.36676,     0.36321,\n",
       "            0.35965,     0.35608,     0.35428,     0.35453,     0.35477,     0.35501,     0.35525,      0.3555,     0.35573,     0.35597,     0.35621,     0.35645,     0.35668,     0.35691,     0.35715,     0.35738,     0.35761,     0.35784,     0.35587,     0.35321,     0.35054,     0.34787,     0.34519,\n",
       "             0.3425,     0.33569,     0.32525,     0.32622,     0.32637,     0.32651,     0.32666,     0.32681,     0.32695,      0.3271,     0.32724,     0.32739,     0.32753,     0.32768,     0.32782,     0.32796,      0.3281,     0.32824,     0.32838,     0.32853,     0.32866,      0.3288,     0.32894,\n",
       "            0.32908,     0.32922,     0.32936,     0.32949,     0.32963,       0.311,     0.30794,     0.30487,     0.30179,     0.29869,     0.29559,     0.29248,     0.29163,     0.28639,     0.28112,     0.27585,     0.27452,     0.27319,     0.27185,     0.27052,     0.26918,     0.26784,      0.2665,\n",
       "            0.26515,     0.26381,     0.26246,     0.26111,     0.25976,      0.2584,     0.25705,     0.25583,     0.25597,     0.25612,     0.25626,     0.25641,     0.25655,     0.25669,     0.25683,     0.25697,     0.25711,     0.25725,     0.25739,     0.25752,     0.25766,     0.25779,     0.25793,\n",
       "            0.25806,     0.25819,     0.25832,     0.25845,     0.25858,     0.25871,     0.25794,     0.24754,     0.23482,     0.21614,      0.2145,     0.21287,     0.21123,     0.20958,     0.20794,     0.20629,     0.20464,     0.20298,     0.20133,     0.19966,       0.198,     0.19633,     0.19244,\n",
       "            0.18259,     0.17282,     0.17171,     0.17061,      0.1695,      0.1684,     0.16729,     0.16618,     0.16507,     0.16396,     0.16284,     0.16173,     0.16061,     0.15949,     0.15838,     0.15726,     0.15613,     0.15501,     0.15389,     0.15276,     0.15163,     0.15051,     0.14749,\n",
       "            0.14294,     0.13836,     0.13376,     0.12914,     0.12052,     0.10688,     0.10125,    0.099339,    0.097421,      0.0955,    0.093575,    0.091646,    0.089713,    0.087776,    0.085835,     0.08389,    0.081942,    0.079989,    0.078032,    0.077117,    0.076264,     0.07541,    0.074555,\n",
       "             0.0737,    0.072843,    0.071986,    0.071128,     0.07027,     0.06941,     0.06855,    0.067689,    0.066828,    0.065965,    0.065102,    0.064238,    0.063373,    0.062508,    0.061641,    0.060774,    0.059906,    0.059038,    0.058168,    0.057298,    0.056427,    0.055555,    0.054683,\n",
       "            0.05381,    0.052936,    0.051811,    0.050553,    0.049293,    0.048031,    0.046768,    0.045503,    0.044236,    0.042968,    0.041698,    0.040427,    0.039154,    0.037879,    0.036602,    0.035324,    0.034044,    0.032763,     0.03148,    0.030195,    0.028908,     0.02762,           0,\n",
       "                  0,           0,           0,           0,           0,           0,           0,           0,           0,           0,           0,           0,           0,           0,           0,           0,           0,           0,           0,           0,           0,           0,           0,\n",
       "                  0,           0,           0,           0,           0,           0,           0,           0,           0,           0,           0,           0,           0,           0,           0,           0,           0,           0,           0,           0,           0,           0,           0,\n",
       "                  0,           0,           0,           0,           0,           0,           0,           0,           0,           0,           0]]), 'Confidence', 'F1'], [array([          0,    0.001001,    0.002002,    0.003003,    0.004004,    0.005005,    0.006006,    0.007007,    0.008008,    0.009009,     0.01001,    0.011011,    0.012012,    0.013013,    0.014014,    0.015015,    0.016016,    0.017017,    0.018018,    0.019019,     0.02002,    0.021021,    0.022022,    0.023023,\n",
       "          0.024024,    0.025025,    0.026026,    0.027027,    0.028028,    0.029029,     0.03003,    0.031031,    0.032032,    0.033033,    0.034034,    0.035035,    0.036036,    0.037037,    0.038038,    0.039039,     0.04004,    0.041041,    0.042042,    0.043043,    0.044044,    0.045045,    0.046046,    0.047047,\n",
       "          0.048048,    0.049049,     0.05005,    0.051051,    0.052052,    0.053053,    0.054054,    0.055055,    0.056056,    0.057057,    0.058058,    0.059059,     0.06006,    0.061061,    0.062062,    0.063063,    0.064064,    0.065065,    0.066066,    0.067067,    0.068068,    0.069069,     0.07007,    0.071071,\n",
       "          0.072072,    0.073073,    0.074074,    0.075075,    0.076076,    0.077077,    0.078078,    0.079079,     0.08008,    0.081081,    0.082082,    0.083083,    0.084084,    0.085085,    0.086086,    0.087087,    0.088088,    0.089089,     0.09009,    0.091091,    0.092092,    0.093093,    0.094094,    0.095095,\n",
       "          0.096096,    0.097097,    0.098098,    0.099099,      0.1001,      0.1011,      0.1021,      0.1031,      0.1041,     0.10511,     0.10611,     0.10711,     0.10811,     0.10911,     0.11011,     0.11111,     0.11211,     0.11311,     0.11411,     0.11512,     0.11612,     0.11712,     0.11812,     0.11912,\n",
       "           0.12012,     0.12112,     0.12212,     0.12312,     0.12412,     0.12513,     0.12613,     0.12713,     0.12813,     0.12913,     0.13013,     0.13113,     0.13213,     0.13313,     0.13413,     0.13514,     0.13614,     0.13714,     0.13814,     0.13914,     0.14014,     0.14114,     0.14214,     0.14314,\n",
       "           0.14414,     0.14515,     0.14615,     0.14715,     0.14815,     0.14915,     0.15015,     0.15115,     0.15215,     0.15315,     0.15415,     0.15516,     0.15616,     0.15716,     0.15816,     0.15916,     0.16016,     0.16116,     0.16216,     0.16316,     0.16416,     0.16517,     0.16617,     0.16717,\n",
       "           0.16817,     0.16917,     0.17017,     0.17117,     0.17217,     0.17317,     0.17417,     0.17518,     0.17618,     0.17718,     0.17818,     0.17918,     0.18018,     0.18118,     0.18218,     0.18318,     0.18418,     0.18519,     0.18619,     0.18719,     0.18819,     0.18919,     0.19019,     0.19119,\n",
       "           0.19219,     0.19319,     0.19419,      0.1952,      0.1962,      0.1972,      0.1982,      0.1992,      0.2002,      0.2012,      0.2022,      0.2032,      0.2042,     0.20521,     0.20621,     0.20721,     0.20821,     0.20921,     0.21021,     0.21121,     0.21221,     0.21321,     0.21421,     0.21522,\n",
       "           0.21622,     0.21722,     0.21822,     0.21922,     0.22022,     0.22122,     0.22222,     0.22322,     0.22422,     0.22523,     0.22623,     0.22723,     0.22823,     0.22923,     0.23023,     0.23123,     0.23223,     0.23323,     0.23423,     0.23524,     0.23624,     0.23724,     0.23824,     0.23924,\n",
       "           0.24024,     0.24124,     0.24224,     0.24324,     0.24424,     0.24525,     0.24625,     0.24725,     0.24825,     0.24925,     0.25025,     0.25125,     0.25225,     0.25325,     0.25425,     0.25526,     0.25626,     0.25726,     0.25826,     0.25926,     0.26026,     0.26126,     0.26226,     0.26326,\n",
       "           0.26426,     0.26527,     0.26627,     0.26727,     0.26827,     0.26927,     0.27027,     0.27127,     0.27227,     0.27327,     0.27427,     0.27528,     0.27628,     0.27728,     0.27828,     0.27928,     0.28028,     0.28128,     0.28228,     0.28328,     0.28428,     0.28529,     0.28629,     0.28729,\n",
       "           0.28829,     0.28929,     0.29029,     0.29129,     0.29229,     0.29329,     0.29429,      0.2953,      0.2963,      0.2973,      0.2983,      0.2993,      0.3003,      0.3013,      0.3023,      0.3033,      0.3043,     0.30531,     0.30631,     0.30731,     0.30831,     0.30931,     0.31031,     0.31131,\n",
       "           0.31231,     0.31331,     0.31431,     0.31532,     0.31632,     0.31732,     0.31832,     0.31932,     0.32032,     0.32132,     0.32232,     0.32332,     0.32432,     0.32533,     0.32633,     0.32733,     0.32833,     0.32933,     0.33033,     0.33133,     0.33233,     0.33333,     0.33433,     0.33534,\n",
       "           0.33634,     0.33734,     0.33834,     0.33934,     0.34034,     0.34134,     0.34234,     0.34334,     0.34434,     0.34535,     0.34635,     0.34735,     0.34835,     0.34935,     0.35035,     0.35135,     0.35235,     0.35335,     0.35435,     0.35536,     0.35636,     0.35736,     0.35836,     0.35936,\n",
       "           0.36036,     0.36136,     0.36236,     0.36336,     0.36436,     0.36537,     0.36637,     0.36737,     0.36837,     0.36937,     0.37037,     0.37137,     0.37237,     0.37337,     0.37437,     0.37538,     0.37638,     0.37738,     0.37838,     0.37938,     0.38038,     0.38138,     0.38238,     0.38338,\n",
       "           0.38438,     0.38539,     0.38639,     0.38739,     0.38839,     0.38939,     0.39039,     0.39139,     0.39239,     0.39339,     0.39439,      0.3954,      0.3964,      0.3974,      0.3984,      0.3994,      0.4004,      0.4014,      0.4024,      0.4034,      0.4044,     0.40541,     0.40641,     0.40741,\n",
       "           0.40841,     0.40941,     0.41041,     0.41141,     0.41241,     0.41341,     0.41441,     0.41542,     0.41642,     0.41742,     0.41842,     0.41942,     0.42042,     0.42142,     0.42242,     0.42342,     0.42442,     0.42543,     0.42643,     0.42743,     0.42843,     0.42943,     0.43043,     0.43143,\n",
       "           0.43243,     0.43343,     0.43443,     0.43544,     0.43644,     0.43744,     0.43844,     0.43944,     0.44044,     0.44144,     0.44244,     0.44344,     0.44444,     0.44545,     0.44645,     0.44745,     0.44845,     0.44945,     0.45045,     0.45145,     0.45245,     0.45345,     0.45445,     0.45546,\n",
       "           0.45646,     0.45746,     0.45846,     0.45946,     0.46046,     0.46146,     0.46246,     0.46346,     0.46446,     0.46547,     0.46647,     0.46747,     0.46847,     0.46947,     0.47047,     0.47147,     0.47247,     0.47347,     0.47447,     0.47548,     0.47648,     0.47748,     0.47848,     0.47948,\n",
       "           0.48048,     0.48148,     0.48248,     0.48348,     0.48448,     0.48549,     0.48649,     0.48749,     0.48849,     0.48949,     0.49049,     0.49149,     0.49249,     0.49349,     0.49449,      0.4955,      0.4965,      0.4975,      0.4985,      0.4995,      0.5005,      0.5015,      0.5025,      0.5035,\n",
       "            0.5045,     0.50551,     0.50651,     0.50751,     0.50851,     0.50951,     0.51051,     0.51151,     0.51251,     0.51351,     0.51451,     0.51552,     0.51652,     0.51752,     0.51852,     0.51952,     0.52052,     0.52152,     0.52252,     0.52352,     0.52452,     0.52553,     0.52653,     0.52753,\n",
       "           0.52853,     0.52953,     0.53053,     0.53153,     0.53253,     0.53353,     0.53453,     0.53554,     0.53654,     0.53754,     0.53854,     0.53954,     0.54054,     0.54154,     0.54254,     0.54354,     0.54454,     0.54555,     0.54655,     0.54755,     0.54855,     0.54955,     0.55055,     0.55155,\n",
       "           0.55255,     0.55355,     0.55455,     0.55556,     0.55656,     0.55756,     0.55856,     0.55956,     0.56056,     0.56156,     0.56256,     0.56356,     0.56456,     0.56557,     0.56657,     0.56757,     0.56857,     0.56957,     0.57057,     0.57157,     0.57257,     0.57357,     0.57457,     0.57558,\n",
       "           0.57658,     0.57758,     0.57858,     0.57958,     0.58058,     0.58158,     0.58258,     0.58358,     0.58458,     0.58559,     0.58659,     0.58759,     0.58859,     0.58959,     0.59059,     0.59159,     0.59259,     0.59359,     0.59459,      0.5956,      0.5966,      0.5976,      0.5986,      0.5996,\n",
       "            0.6006,      0.6016,      0.6026,      0.6036,      0.6046,     0.60561,     0.60661,     0.60761,     0.60861,     0.60961,     0.61061,     0.61161,     0.61261,     0.61361,     0.61461,     0.61562,     0.61662,     0.61762,     0.61862,     0.61962,     0.62062,     0.62162,     0.62262,     0.62362,\n",
       "           0.62462,     0.62563,     0.62663,     0.62763,     0.62863,     0.62963,     0.63063,     0.63163,     0.63263,     0.63363,     0.63463,     0.63564,     0.63664,     0.63764,     0.63864,     0.63964,     0.64064,     0.64164,     0.64264,     0.64364,     0.64464,     0.64565,     0.64665,     0.64765,\n",
       "           0.64865,     0.64965,     0.65065,     0.65165,     0.65265,     0.65365,     0.65465,     0.65566,     0.65666,     0.65766,     0.65866,     0.65966,     0.66066,     0.66166,     0.66266,     0.66366,     0.66466,     0.66567,     0.66667,     0.66767,     0.66867,     0.66967,     0.67067,     0.67167,\n",
       "           0.67267,     0.67367,     0.67467,     0.67568,     0.67668,     0.67768,     0.67868,     0.67968,     0.68068,     0.68168,     0.68268,     0.68368,     0.68468,     0.68569,     0.68669,     0.68769,     0.68869,     0.68969,     0.69069,     0.69169,     0.69269,     0.69369,     0.69469,      0.6957,\n",
       "            0.6967,      0.6977,      0.6987,      0.6997,      0.7007,      0.7017,      0.7027,      0.7037,      0.7047,     0.70571,     0.70671,     0.70771,     0.70871,     0.70971,     0.71071,     0.71171,     0.71271,     0.71371,     0.71471,     0.71572,     0.71672,     0.71772,     0.71872,     0.71972,\n",
       "           0.72072,     0.72172,     0.72272,     0.72372,     0.72472,     0.72573,     0.72673,     0.72773,     0.72873,     0.72973,     0.73073,     0.73173,     0.73273,     0.73373,     0.73473,     0.73574,     0.73674,     0.73774,     0.73874,     0.73974,     0.74074,     0.74174,     0.74274,     0.74374,\n",
       "           0.74474,     0.74575,     0.74675,     0.74775,     0.74875,     0.74975,     0.75075,     0.75175,     0.75275,     0.75375,     0.75475,     0.75576,     0.75676,     0.75776,     0.75876,     0.75976,     0.76076,     0.76176,     0.76276,     0.76376,     0.76476,     0.76577,     0.76677,     0.76777,\n",
       "           0.76877,     0.76977,     0.77077,     0.77177,     0.77277,     0.77377,     0.77477,     0.77578,     0.77678,     0.77778,     0.77878,     0.77978,     0.78078,     0.78178,     0.78278,     0.78378,     0.78478,     0.78579,     0.78679,     0.78779,     0.78879,     0.78979,     0.79079,     0.79179,\n",
       "           0.79279,     0.79379,     0.79479,      0.7958,      0.7968,      0.7978,      0.7988,      0.7998,      0.8008,      0.8018,      0.8028,      0.8038,      0.8048,     0.80581,     0.80681,     0.80781,     0.80881,     0.80981,     0.81081,     0.81181,     0.81281,     0.81381,     0.81481,     0.81582,\n",
       "           0.81682,     0.81782,     0.81882,     0.81982,     0.82082,     0.82182,     0.82282,     0.82382,     0.82482,     0.82583,     0.82683,     0.82783,     0.82883,     0.82983,     0.83083,     0.83183,     0.83283,     0.83383,     0.83483,     0.83584,     0.83684,     0.83784,     0.83884,     0.83984,\n",
       "           0.84084,     0.84184,     0.84284,     0.84384,     0.84484,     0.84585,     0.84685,     0.84785,     0.84885,     0.84985,     0.85085,     0.85185,     0.85285,     0.85385,     0.85485,     0.85586,     0.85686,     0.85786,     0.85886,     0.85986,     0.86086,     0.86186,     0.86286,     0.86386,\n",
       "           0.86486,     0.86587,     0.86687,     0.86787,     0.86887,     0.86987,     0.87087,     0.87187,     0.87287,     0.87387,     0.87487,     0.87588,     0.87688,     0.87788,     0.87888,     0.87988,     0.88088,     0.88188,     0.88288,     0.88388,     0.88488,     0.88589,     0.88689,     0.88789,\n",
       "           0.88889,     0.88989,     0.89089,     0.89189,     0.89289,     0.89389,     0.89489,      0.8959,      0.8969,      0.8979,      0.8989,      0.8999,      0.9009,      0.9019,      0.9029,      0.9039,      0.9049,     0.90591,     0.90691,     0.90791,     0.90891,     0.90991,     0.91091,     0.91191,\n",
       "           0.91291,     0.91391,     0.91491,     0.91592,     0.91692,     0.91792,     0.91892,     0.91992,     0.92092,     0.92192,     0.92292,     0.92392,     0.92492,     0.92593,     0.92693,     0.92793,     0.92893,     0.92993,     0.93093,     0.93193,     0.93293,     0.93393,     0.93493,     0.93594,\n",
       "           0.93694,     0.93794,     0.93894,     0.93994,     0.94094,     0.94194,     0.94294,     0.94394,     0.94494,     0.94595,     0.94695,     0.94795,     0.94895,     0.94995,     0.95095,     0.95195,     0.95295,     0.95395,     0.95495,     0.95596,     0.95696,     0.95796,     0.95896,     0.95996,\n",
       "           0.96096,     0.96196,     0.96296,     0.96396,     0.96496,     0.96597,     0.96697,     0.96797,     0.96897,     0.96997,     0.97097,     0.97197,     0.97297,     0.97397,     0.97497,     0.97598,     0.97698,     0.97798,     0.97898,     0.97998,     0.98098,     0.98198,     0.98298,     0.98398,\n",
       "           0.98498,     0.98599,     0.98699,     0.98799,     0.98899,     0.98999,     0.99099,     0.99199,     0.99299,     0.99399,     0.99499,       0.996,       0.997,       0.998,       0.999,           1]), array([[     0.0355,    0.035502,    0.044055,    0.051497,    0.058858,    0.064596,    0.069945,    0.076168,    0.082314,    0.089661,    0.095576,     0.10222,     0.10701,     0.11289,     0.11667,     0.11967,     0.12415,     0.12761,     0.13165,     0.13592,     0.13859,     0.14414,     0.14674,\n",
       "            0.14875,     0.15084,     0.15549,     0.16057,      0.1645,     0.16806,     0.17099,     0.17314,      0.1748,     0.17599,     0.17817,     0.18001,     0.18331,     0.18744,     0.18751,     0.18938,     0.19085,     0.19427,     0.19804,     0.19942,     0.20131,     0.20118,     0.20543,\n",
       "            0.20695,     0.20739,     0.20831,     0.21037,     0.21279,     0.21464,     0.21748,     0.21868,     0.22255,     0.22846,      0.2283,     0.23117,     0.23564,     0.23941,     0.24333,     0.24571,     0.24744,     0.25293,     0.25864,     0.26135,     0.26586,     0.26991,     0.27191,\n",
       "            0.27749,     0.28002,     0.28058,     0.28115,     0.28374,     0.29019,     0.29273,     0.29015,     0.28996,     0.29212,      0.2931,     0.29496,     0.29799,     0.29937,     0.30135,      0.3046,     0.30802,     0.30611,     0.30881,     0.31452,       0.317,     0.31798,     0.31926,\n",
       "            0.32173,     0.32398,     0.32536,     0.32609,     0.32667,     0.32274,     0.32515,     0.32854,     0.33094,     0.33311,     0.32675,     0.32602,     0.32549,      0.3271,     0.32847,     0.33015,     0.33211,     0.33454,     0.33738,     0.34347,     0.34675,     0.35021,     0.35459,\n",
       "            0.35571,     0.35685,     0.35807,     0.35929,     0.36282,     0.36399,     0.36521,     0.36723,       0.369,     0.37062,     0.37241,     0.36987,     0.37291,     0.37635,     0.37945,     0.38118,     0.38523,     0.38596,     0.38669,     0.38742,     0.38839,      0.3899,     0.38978,\n",
       "            0.38065,     0.38224,     0.38384,     0.38774,     0.38757,     0.39364,     0.39102,     0.39426,     0.39517,     0.39609,     0.39701,     0.39792,     0.39954,     0.40127,     0.40432,     0.40837,     0.41181,     0.41485,     0.41813,     0.41935,     0.42042,     0.42148,     0.42254,\n",
       "             0.4239,     0.42531,     0.42671,     0.42855,     0.43054,     0.43258,     0.43465,     0.43971,     0.44219,     0.44366,     0.44512,     0.44632,     0.44736,      0.4484,     0.44945,     0.45049,     0.45154,     0.45259,     0.45364,     0.45469,     0.45626,     0.46032,     0.46236,\n",
       "            0.46421,     0.46625,     0.47034,     0.47167,     0.47218,      0.4727,     0.47322,     0.47374,     0.47426,     0.47477,     0.47529,     0.47581,     0.47633,     0.48329,     0.48909,     0.49425,     0.49559,     0.49692,     0.49825,     0.49958,     0.50425,     0.50652,     0.50702,\n",
       "            0.50753,     0.50803,     0.50854,     0.50904,     0.50955,     0.51005,     0.51055,     0.51106,     0.51156,     0.51207,     0.50919,     0.50773,     0.50933,     0.51092,     0.51252,     0.51326,     0.51381,     0.51435,     0.51489,     0.51544,     0.51598,     0.51653,     0.51707,\n",
       "            0.51761,     0.51816,      0.5187,     0.51925,     0.52035,      0.5219,     0.52344,     0.52498,     0.52639,     0.52693,     0.52747,     0.52802,     0.52856,      0.5291,     0.52965,     0.53019,     0.53073,     0.53128,     0.53182,     0.53236,     0.53291,     0.53468,     0.54065,\n",
       "            0.54219,     0.54373,     0.54526,      0.5468,     0.54727,     0.54464,     0.54201,     0.54476,     0.54832,     0.55178,      0.5552,      0.5576,     0.55867,     0.55974,     0.56081,     0.56188,     0.56295,     0.56402,     0.56509,     0.56563,     0.56609,     0.56656,     0.56703,\n",
       "            0.56749,     0.56796,     0.56843,     0.56889,     0.56936,     0.56982,     0.57029,     0.57076,     0.57122,     0.57169,     0.57216,     0.57262,     0.57309,     0.57359,      0.5746,     0.57562,     0.57663,     0.57765,     0.57866,     0.57968,     0.58069,     0.58171,     0.57997,\n",
       "             0.5766,     0.57656,     0.57763,      0.5787,     0.57978,     0.58085,     0.58192,     0.58299,     0.58406,     0.58494,     0.58563,     0.58631,       0.587,     0.58768,     0.58836,     0.58905,     0.58973,     0.59041,      0.5911,     0.59178,     0.59246,     0.59315,     0.59387,\n",
       "            0.59492,     0.59597,     0.59702,     0.59806,     0.59911,     0.60016,      0.6012,     0.60225,     0.60331,     0.60445,      0.6056,     0.60674,     0.60789,     0.60903,     0.61018,     0.61132,     0.61247,     0.62317,      0.6236,     0.62402,     0.62445,     0.62487,      0.6253,\n",
       "            0.62572,     0.62615,     0.62657,       0.627,     0.62742,     0.62785,     0.62827,      0.6287,     0.62912,     0.62955,     0.62997,      0.6304,     0.63082,     0.63125,     0.63167,      0.6321,     0.63252,     0.63295,     0.63426,     0.64365,     0.64664,     0.64934,     0.65203,\n",
       "            0.65473,      0.6543,     0.65325,      0.6522,     0.65115,      0.6501,     0.65001,     0.66077,     0.66102,     0.66127,     0.66152,     0.66177,     0.66203,     0.66228,     0.66253,     0.66278,     0.66303,     0.66329,     0.66354,     0.66379,     0.66404,      0.6643,     0.66455,\n",
       "             0.6648,     0.66505,      0.6653,     0.66556,     0.66581,     0.66606,     0.66631,     0.66657,     0.66682,     0.66707,     0.66732,     0.66757,     0.66783,     0.66808,     0.66833,     0.66858,     0.66883,     0.66909,     0.66934,     0.66959,     0.66984,      0.6701,     0.67035,\n",
       "             0.6706,     0.67085,      0.6711,     0.67136,     0.67161,     0.67186,     0.67211,     0.67236,     0.67262,     0.67356,     0.67505,     0.67654,     0.67803,     0.67951,       0.681,     0.68249,     0.68398,      0.6848,     0.68276,     0.68071,     0.67944,     0.68013,     0.68082,\n",
       "            0.68151,      0.6822,     0.68289,     0.68358,     0.68427,     0.68496,     0.68565,     0.68634,     0.68703,     0.68772,     0.68841,      0.6891,     0.68979,     0.69048,     0.69117,     0.69186,     0.69219,     0.69186,     0.69153,      0.6912,     0.69087,     0.69054,     0.69021,\n",
       "            0.68988,     0.68954,     0.68921,     0.68888,     0.68855,     0.68822,     0.68789,     0.68756,     0.68723,     0.68689,     0.68656,     0.68696,     0.69242,     0.69787,     0.69989,     0.69972,     0.69955,     0.69937,      0.6992,     0.69903,     0.69885,     0.69868,     0.69851,\n",
       "            0.69833,     0.69816,     0.69798,     0.69781,     0.69764,     0.69746,     0.69729,     0.69712,     0.69694,     0.69677,      0.6966,     0.69642,     0.69625,     0.69608,      0.6959,     0.69573,     0.69555,     0.69538,     0.69521,     0.69503,     0.69486,     0.69469,     0.69451,\n",
       "            0.69434,     0.69417,     0.69399,     0.69376,     0.69341,     0.69305,      0.6927,     0.69235,       0.692,     0.69164,     0.69129,     0.69094,     0.69059,     0.69023,     0.68988,     0.68953,     0.68918,     0.68882,     0.68847,     0.68812,     0.68777,     0.68737,     0.68681,\n",
       "            0.68625,     0.68569,     0.68513,     0.68457,     0.68401,     0.68345,     0.68289,     0.68233,     0.68177,     0.68121,     0.68169,     0.68404,     0.68639,     0.68873,     0.69108,     0.69343,     0.69452,     0.68868,     0.68838,     0.68809,      0.6878,     0.68751,     0.68721,\n",
       "            0.68692,     0.68663,     0.68633,     0.68604,     0.68575,     0.68546,     0.68516,     0.68487,     0.68458,     0.68428,     0.68399,      0.6837,     0.68341,     0.68311,     0.68282,     0.68253,     0.68223,     0.68194,      0.6814,     0.68069,     0.67997,     0.67926,     0.67854,\n",
       "            0.67783,     0.67711,      0.6764,     0.67568,     0.67497,     0.67365,     0.67034,     0.66703,     0.66939,     0.67245,     0.67552,     0.67858,     0.68164,     0.69295,     0.70374,     0.71008,     0.71641,     0.72077,      0.7245,     0.72824,     0.73197,      0.7357,     0.74451,\n",
       "            0.75556,     0.75777,     0.75892,     0.76006,      0.7612,     0.76234,     0.76348,     0.76462,     0.76576,     0.76691,     0.76805,     0.76919,     0.77033,     0.77147,     0.77261,     0.77375,     0.77489,     0.77604,     0.77718,     0.77745,     0.77675,     0.77605,     0.77535,\n",
       "            0.77465,     0.77395,     0.77325,     0.77255,     0.77185,     0.77285,     0.77642,     0.77999,     0.78356,     0.78713,      0.7907,     0.79409,     0.79349,     0.79288,     0.79228,     0.79168,     0.79107,     0.79047,     0.78986,     0.78926,     0.78866,     0.78805,     0.78771,\n",
       "            0.78747,     0.78722,     0.78698,     0.78674,      0.7865,     0.78626,     0.78601,     0.78577,     0.78553,     0.78529,     0.78505,     0.78481,     0.78456,     0.78432,     0.78408,     0.78384,      0.7836,     0.78336,     0.78311,     0.78287,     0.78263,     0.78239,     0.78215,\n",
       "            0.78191,     0.78166,     0.78142,     0.78116,     0.78084,     0.78052,      0.7802,     0.77987,     0.77955,     0.77923,     0.77891,     0.77859,     0.77827,     0.77795,     0.77763,     0.77731,     0.77698,     0.77666,     0.77634,     0.77602,      0.7757,     0.77538,     0.77506,\n",
       "            0.77474,     0.77442,      0.7738,     0.77249,     0.77119,     0.76989,     0.76859,     0.76728,     0.78472,     0.79268,     0.79212,     0.79156,       0.791,     0.79044,     0.78988,     0.78932,     0.78876,     0.78819,     0.78763,     0.78707,     0.78651,     0.78595,     0.80263,\n",
       "            0.81457,     0.81416,     0.81375,     0.81333,     0.81292,     0.81251,     0.81209,     0.81168,     0.81127,     0.81086,     0.81044,     0.81003,     0.80962,      0.8092,     0.80879,     0.80838,     0.80797,     0.80236,     0.79699,     0.79345,     0.78212,     0.78005,     0.77798,\n",
       "             0.7759,     0.77383,     0.77382,     0.77616,     0.77851,     0.78085,     0.78319,     0.78554,     0.78788,     0.79022,     0.79256,     0.79491,     0.79725,     0.79959,     0.80194,     0.80428,     0.80662,     0.80897,     0.80841,     0.80695,      0.8055,     0.80404,     0.80258,\n",
       "            0.80112,     0.79719,     0.82249,     0.83505,     0.83699,     0.83894,     0.84089,     0.84283,     0.84478,     0.84672,     0.84867,     0.85062,     0.85256,     0.85451,     0.85646,      0.8584,     0.86035,      0.8623,     0.86424,     0.86619,     0.86814,     0.87008,     0.87203,\n",
       "            0.87397,     0.87592,     0.87787,     0.87981,     0.88176,     0.87495,      0.8736,     0.87224,     0.87088,     0.86953,     0.86817,     0.86682,     0.92749,     0.92602,     0.92454,     0.92307,     0.92264,     0.92221,     0.92178,     0.92135,     0.92092,      0.9205,     0.92007,\n",
       "            0.91964,     0.91921,     0.91878,     0.91835,     0.91792,     0.91749,     0.91706,     0.91701,      0.9208,     0.92458,     0.92837,     0.93216,     0.93594,     0.93973,     0.94352,     0.94731,     0.95109,     0.95488,     0.95867,     0.96245,     0.96624,     0.97003,     0.97381,\n",
       "             0.9776,     0.98139,     0.98517,     0.98896,     0.99275,     0.99654,           1,           1,           1,           1,           1,           1,           1,           1,           1,           1,           1,           1,           1,           1,           1,           1,           1,\n",
       "                  1,           1,           1,           1,           1,           1,           1,           1,           1,           1,           1,           1,           1,           1,           1,           1,           1,           1,           1,           1,           1,           1,           1,\n",
       "                  1,           1,           1,           1,           1,           1,           1,           1,           1,           1,           1,           1,           1,           1,           1,           1,           1,           1,           1,           1,           1,           1,           1,\n",
       "                  1,           1,           1,           1,           1,           1,           1,           1,           1,           1,           1,           1,           1,           1,           1,           1,           1,           1,           1,           1,           1,           1,           1,\n",
       "                  1,           1,           1,           1,           1,           1,           1,           1,           1,           1,           1,           1,           1,           1,           1,           1,           1,           1,           1,           1,           1,           1,           1,\n",
       "                  1,           1,           1,           1,           1,           1,           1,           1,           1,           1,           1,           1,           1,           1,           1,           1,           1,           1,           1,           1,           1,           1,           1,\n",
       "                  1,           1,           1,           1,           1,           1,           1,           1,           1,           1,           1,           1,           1,           1,           1,           1,           1,           1,           1,           1,           1,           1,           1,\n",
       "                  1,           1,           1,           1,           1,           1,           1,           1,           1,           1,           1]]), 'Confidence', 'Precision'], [array([          0,    0.001001,    0.002002,    0.003003,    0.004004,    0.005005,    0.006006,    0.007007,    0.008008,    0.009009,     0.01001,    0.011011,    0.012012,    0.013013,    0.014014,    0.015015,    0.016016,    0.017017,    0.018018,    0.019019,     0.02002,    0.021021,    0.022022,    0.023023,\n",
       "          0.024024,    0.025025,    0.026026,    0.027027,    0.028028,    0.029029,     0.03003,    0.031031,    0.032032,    0.033033,    0.034034,    0.035035,    0.036036,    0.037037,    0.038038,    0.039039,     0.04004,    0.041041,    0.042042,    0.043043,    0.044044,    0.045045,    0.046046,    0.047047,\n",
       "          0.048048,    0.049049,     0.05005,    0.051051,    0.052052,    0.053053,    0.054054,    0.055055,    0.056056,    0.057057,    0.058058,    0.059059,     0.06006,    0.061061,    0.062062,    0.063063,    0.064064,    0.065065,    0.066066,    0.067067,    0.068068,    0.069069,     0.07007,    0.071071,\n",
       "          0.072072,    0.073073,    0.074074,    0.075075,    0.076076,    0.077077,    0.078078,    0.079079,     0.08008,    0.081081,    0.082082,    0.083083,    0.084084,    0.085085,    0.086086,    0.087087,    0.088088,    0.089089,     0.09009,    0.091091,    0.092092,    0.093093,    0.094094,    0.095095,\n",
       "          0.096096,    0.097097,    0.098098,    0.099099,      0.1001,      0.1011,      0.1021,      0.1031,      0.1041,     0.10511,     0.10611,     0.10711,     0.10811,     0.10911,     0.11011,     0.11111,     0.11211,     0.11311,     0.11411,     0.11512,     0.11612,     0.11712,     0.11812,     0.11912,\n",
       "           0.12012,     0.12112,     0.12212,     0.12312,     0.12412,     0.12513,     0.12613,     0.12713,     0.12813,     0.12913,     0.13013,     0.13113,     0.13213,     0.13313,     0.13413,     0.13514,     0.13614,     0.13714,     0.13814,     0.13914,     0.14014,     0.14114,     0.14214,     0.14314,\n",
       "           0.14414,     0.14515,     0.14615,     0.14715,     0.14815,     0.14915,     0.15015,     0.15115,     0.15215,     0.15315,     0.15415,     0.15516,     0.15616,     0.15716,     0.15816,     0.15916,     0.16016,     0.16116,     0.16216,     0.16316,     0.16416,     0.16517,     0.16617,     0.16717,\n",
       "           0.16817,     0.16917,     0.17017,     0.17117,     0.17217,     0.17317,     0.17417,     0.17518,     0.17618,     0.17718,     0.17818,     0.17918,     0.18018,     0.18118,     0.18218,     0.18318,     0.18418,     0.18519,     0.18619,     0.18719,     0.18819,     0.18919,     0.19019,     0.19119,\n",
       "           0.19219,     0.19319,     0.19419,      0.1952,      0.1962,      0.1972,      0.1982,      0.1992,      0.2002,      0.2012,      0.2022,      0.2032,      0.2042,     0.20521,     0.20621,     0.20721,     0.20821,     0.20921,     0.21021,     0.21121,     0.21221,     0.21321,     0.21421,     0.21522,\n",
       "           0.21622,     0.21722,     0.21822,     0.21922,     0.22022,     0.22122,     0.22222,     0.22322,     0.22422,     0.22523,     0.22623,     0.22723,     0.22823,     0.22923,     0.23023,     0.23123,     0.23223,     0.23323,     0.23423,     0.23524,     0.23624,     0.23724,     0.23824,     0.23924,\n",
       "           0.24024,     0.24124,     0.24224,     0.24324,     0.24424,     0.24525,     0.24625,     0.24725,     0.24825,     0.24925,     0.25025,     0.25125,     0.25225,     0.25325,     0.25425,     0.25526,     0.25626,     0.25726,     0.25826,     0.25926,     0.26026,     0.26126,     0.26226,     0.26326,\n",
       "           0.26426,     0.26527,     0.26627,     0.26727,     0.26827,     0.26927,     0.27027,     0.27127,     0.27227,     0.27327,     0.27427,     0.27528,     0.27628,     0.27728,     0.27828,     0.27928,     0.28028,     0.28128,     0.28228,     0.28328,     0.28428,     0.28529,     0.28629,     0.28729,\n",
       "           0.28829,     0.28929,     0.29029,     0.29129,     0.29229,     0.29329,     0.29429,      0.2953,      0.2963,      0.2973,      0.2983,      0.2993,      0.3003,      0.3013,      0.3023,      0.3033,      0.3043,     0.30531,     0.30631,     0.30731,     0.30831,     0.30931,     0.31031,     0.31131,\n",
       "           0.31231,     0.31331,     0.31431,     0.31532,     0.31632,     0.31732,     0.31832,     0.31932,     0.32032,     0.32132,     0.32232,     0.32332,     0.32432,     0.32533,     0.32633,     0.32733,     0.32833,     0.32933,     0.33033,     0.33133,     0.33233,     0.33333,     0.33433,     0.33534,\n",
       "           0.33634,     0.33734,     0.33834,     0.33934,     0.34034,     0.34134,     0.34234,     0.34334,     0.34434,     0.34535,     0.34635,     0.34735,     0.34835,     0.34935,     0.35035,     0.35135,     0.35235,     0.35335,     0.35435,     0.35536,     0.35636,     0.35736,     0.35836,     0.35936,\n",
       "           0.36036,     0.36136,     0.36236,     0.36336,     0.36436,     0.36537,     0.36637,     0.36737,     0.36837,     0.36937,     0.37037,     0.37137,     0.37237,     0.37337,     0.37437,     0.37538,     0.37638,     0.37738,     0.37838,     0.37938,     0.38038,     0.38138,     0.38238,     0.38338,\n",
       "           0.38438,     0.38539,     0.38639,     0.38739,     0.38839,     0.38939,     0.39039,     0.39139,     0.39239,     0.39339,     0.39439,      0.3954,      0.3964,      0.3974,      0.3984,      0.3994,      0.4004,      0.4014,      0.4024,      0.4034,      0.4044,     0.40541,     0.40641,     0.40741,\n",
       "           0.40841,     0.40941,     0.41041,     0.41141,     0.41241,     0.41341,     0.41441,     0.41542,     0.41642,     0.41742,     0.41842,     0.41942,     0.42042,     0.42142,     0.42242,     0.42342,     0.42442,     0.42543,     0.42643,     0.42743,     0.42843,     0.42943,     0.43043,     0.43143,\n",
       "           0.43243,     0.43343,     0.43443,     0.43544,     0.43644,     0.43744,     0.43844,     0.43944,     0.44044,     0.44144,     0.44244,     0.44344,     0.44444,     0.44545,     0.44645,     0.44745,     0.44845,     0.44945,     0.45045,     0.45145,     0.45245,     0.45345,     0.45445,     0.45546,\n",
       "           0.45646,     0.45746,     0.45846,     0.45946,     0.46046,     0.46146,     0.46246,     0.46346,     0.46446,     0.46547,     0.46647,     0.46747,     0.46847,     0.46947,     0.47047,     0.47147,     0.47247,     0.47347,     0.47447,     0.47548,     0.47648,     0.47748,     0.47848,     0.47948,\n",
       "           0.48048,     0.48148,     0.48248,     0.48348,     0.48448,     0.48549,     0.48649,     0.48749,     0.48849,     0.48949,     0.49049,     0.49149,     0.49249,     0.49349,     0.49449,      0.4955,      0.4965,      0.4975,      0.4985,      0.4995,      0.5005,      0.5015,      0.5025,      0.5035,\n",
       "            0.5045,     0.50551,     0.50651,     0.50751,     0.50851,     0.50951,     0.51051,     0.51151,     0.51251,     0.51351,     0.51451,     0.51552,     0.51652,     0.51752,     0.51852,     0.51952,     0.52052,     0.52152,     0.52252,     0.52352,     0.52452,     0.52553,     0.52653,     0.52753,\n",
       "           0.52853,     0.52953,     0.53053,     0.53153,     0.53253,     0.53353,     0.53453,     0.53554,     0.53654,     0.53754,     0.53854,     0.53954,     0.54054,     0.54154,     0.54254,     0.54354,     0.54454,     0.54555,     0.54655,     0.54755,     0.54855,     0.54955,     0.55055,     0.55155,\n",
       "           0.55255,     0.55355,     0.55455,     0.55556,     0.55656,     0.55756,     0.55856,     0.55956,     0.56056,     0.56156,     0.56256,     0.56356,     0.56456,     0.56557,     0.56657,     0.56757,     0.56857,     0.56957,     0.57057,     0.57157,     0.57257,     0.57357,     0.57457,     0.57558,\n",
       "           0.57658,     0.57758,     0.57858,     0.57958,     0.58058,     0.58158,     0.58258,     0.58358,     0.58458,     0.58559,     0.58659,     0.58759,     0.58859,     0.58959,     0.59059,     0.59159,     0.59259,     0.59359,     0.59459,      0.5956,      0.5966,      0.5976,      0.5986,      0.5996,\n",
       "            0.6006,      0.6016,      0.6026,      0.6036,      0.6046,     0.60561,     0.60661,     0.60761,     0.60861,     0.60961,     0.61061,     0.61161,     0.61261,     0.61361,     0.61461,     0.61562,     0.61662,     0.61762,     0.61862,     0.61962,     0.62062,     0.62162,     0.62262,     0.62362,\n",
       "           0.62462,     0.62563,     0.62663,     0.62763,     0.62863,     0.62963,     0.63063,     0.63163,     0.63263,     0.63363,     0.63463,     0.63564,     0.63664,     0.63764,     0.63864,     0.63964,     0.64064,     0.64164,     0.64264,     0.64364,     0.64464,     0.64565,     0.64665,     0.64765,\n",
       "           0.64865,     0.64965,     0.65065,     0.65165,     0.65265,     0.65365,     0.65465,     0.65566,     0.65666,     0.65766,     0.65866,     0.65966,     0.66066,     0.66166,     0.66266,     0.66366,     0.66466,     0.66567,     0.66667,     0.66767,     0.66867,     0.66967,     0.67067,     0.67167,\n",
       "           0.67267,     0.67367,     0.67467,     0.67568,     0.67668,     0.67768,     0.67868,     0.67968,     0.68068,     0.68168,     0.68268,     0.68368,     0.68468,     0.68569,     0.68669,     0.68769,     0.68869,     0.68969,     0.69069,     0.69169,     0.69269,     0.69369,     0.69469,      0.6957,\n",
       "            0.6967,      0.6977,      0.6987,      0.6997,      0.7007,      0.7017,      0.7027,      0.7037,      0.7047,     0.70571,     0.70671,     0.70771,     0.70871,     0.70971,     0.71071,     0.71171,     0.71271,     0.71371,     0.71471,     0.71572,     0.71672,     0.71772,     0.71872,     0.71972,\n",
       "           0.72072,     0.72172,     0.72272,     0.72372,     0.72472,     0.72573,     0.72673,     0.72773,     0.72873,     0.72973,     0.73073,     0.73173,     0.73273,     0.73373,     0.73473,     0.73574,     0.73674,     0.73774,     0.73874,     0.73974,     0.74074,     0.74174,     0.74274,     0.74374,\n",
       "           0.74474,     0.74575,     0.74675,     0.74775,     0.74875,     0.74975,     0.75075,     0.75175,     0.75275,     0.75375,     0.75475,     0.75576,     0.75676,     0.75776,     0.75876,     0.75976,     0.76076,     0.76176,     0.76276,     0.76376,     0.76476,     0.76577,     0.76677,     0.76777,\n",
       "           0.76877,     0.76977,     0.77077,     0.77177,     0.77277,     0.77377,     0.77477,     0.77578,     0.77678,     0.77778,     0.77878,     0.77978,     0.78078,     0.78178,     0.78278,     0.78378,     0.78478,     0.78579,     0.78679,     0.78779,     0.78879,     0.78979,     0.79079,     0.79179,\n",
       "           0.79279,     0.79379,     0.79479,      0.7958,      0.7968,      0.7978,      0.7988,      0.7998,      0.8008,      0.8018,      0.8028,      0.8038,      0.8048,     0.80581,     0.80681,     0.80781,     0.80881,     0.80981,     0.81081,     0.81181,     0.81281,     0.81381,     0.81481,     0.81582,\n",
       "           0.81682,     0.81782,     0.81882,     0.81982,     0.82082,     0.82182,     0.82282,     0.82382,     0.82482,     0.82583,     0.82683,     0.82783,     0.82883,     0.82983,     0.83083,     0.83183,     0.83283,     0.83383,     0.83483,     0.83584,     0.83684,     0.83784,     0.83884,     0.83984,\n",
       "           0.84084,     0.84184,     0.84284,     0.84384,     0.84484,     0.84585,     0.84685,     0.84785,     0.84885,     0.84985,     0.85085,     0.85185,     0.85285,     0.85385,     0.85485,     0.85586,     0.85686,     0.85786,     0.85886,     0.85986,     0.86086,     0.86186,     0.86286,     0.86386,\n",
       "           0.86486,     0.86587,     0.86687,     0.86787,     0.86887,     0.86987,     0.87087,     0.87187,     0.87287,     0.87387,     0.87487,     0.87588,     0.87688,     0.87788,     0.87888,     0.87988,     0.88088,     0.88188,     0.88288,     0.88388,     0.88488,     0.88589,     0.88689,     0.88789,\n",
       "           0.88889,     0.88989,     0.89089,     0.89189,     0.89289,     0.89389,     0.89489,      0.8959,      0.8969,      0.8979,      0.8989,      0.8999,      0.9009,      0.9019,      0.9029,      0.9039,      0.9049,     0.90591,     0.90691,     0.90791,     0.90891,     0.90991,     0.91091,     0.91191,\n",
       "           0.91291,     0.91391,     0.91491,     0.91592,     0.91692,     0.91792,     0.91892,     0.91992,     0.92092,     0.92192,     0.92292,     0.92392,     0.92492,     0.92593,     0.92693,     0.92793,     0.92893,     0.92993,     0.93093,     0.93193,     0.93293,     0.93393,     0.93493,     0.93594,\n",
       "           0.93694,     0.93794,     0.93894,     0.93994,     0.94094,     0.94194,     0.94294,     0.94394,     0.94494,     0.94595,     0.94695,     0.94795,     0.94895,     0.94995,     0.95095,     0.95195,     0.95295,     0.95395,     0.95495,     0.95596,     0.95696,     0.95796,     0.95896,     0.95996,\n",
       "           0.96096,     0.96196,     0.96296,     0.96396,     0.96496,     0.96597,     0.96697,     0.96797,     0.96897,     0.96997,     0.97097,     0.97197,     0.97297,     0.97397,     0.97497,     0.97598,     0.97698,     0.97798,     0.97898,     0.97998,     0.98098,     0.98198,     0.98298,     0.98398,\n",
       "           0.98498,     0.98599,     0.98699,     0.98799,     0.98899,     0.98999,     0.99099,     0.99199,     0.99299,     0.99399,     0.99499,       0.996,       0.997,       0.998,       0.999,           1]), array([[    0.87838,     0.87838,     0.85135,     0.85135,     0.85135,     0.83784,     0.83784,     0.83784,     0.83784,     0.83784,     0.83784,     0.83784,     0.82432,     0.82432,     0.82432,     0.82432,     0.82432,     0.82432,     0.81081,     0.81081,     0.81081,     0.80566,      0.7973,\n",
       "            0.79108,     0.78378,     0.78378,     0.78378,     0.78378,     0.78378,     0.78378,     0.78378,     0.78378,     0.78378,     0.77027,     0.77027,     0.77027,     0.77027,     0.75676,     0.75676,     0.75676,     0.75676,     0.75676,     0.75676,     0.75613,     0.74324,     0.74324,\n",
       "            0.74324,     0.74324,     0.74324,     0.74324,     0.74324,     0.74324,     0.74324,     0.74324,     0.74324,     0.74324,     0.72973,     0.72973,     0.72973,     0.72973,     0.72973,     0.72973,     0.72973,     0.72973,     0.72973,     0.72973,     0.72973,     0.72973,     0.72973,\n",
       "            0.72973,     0.72973,     0.72973,     0.72973,     0.72973,     0.72973,     0.72973,     0.71622,      0.7027,      0.7027,      0.7027,      0.7027,      0.7027,      0.7027,      0.7027,      0.7027,      0.7027,     0.68919,     0.68919,     0.68919,     0.68919,     0.68919,     0.68919,\n",
       "            0.68919,     0.67568,     0.67568,     0.67568,     0.67529,     0.66328,     0.66216,     0.66216,     0.66216,     0.65476,     0.63618,     0.62755,     0.62162,     0.62162,     0.62162,     0.62162,     0.62162,     0.62162,     0.62162,     0.62162,     0.62162,     0.62162,     0.62162,\n",
       "            0.62162,     0.62162,     0.62162,     0.62162,     0.62162,     0.62162,     0.62162,     0.62162,     0.62162,     0.62162,     0.61749,     0.61077,     0.60811,     0.60811,     0.60811,     0.60811,     0.60811,     0.60811,     0.60811,     0.60811,     0.60811,     0.60811,     0.60426,\n",
       "            0.58108,     0.58108,     0.58108,     0.57342,     0.56757,     0.56757,     0.55405,     0.55405,     0.55405,     0.55405,     0.55405,     0.55405,     0.55405,     0.55405,     0.55405,     0.55405,     0.55405,     0.55405,     0.55405,     0.55405,     0.55405,     0.55405,     0.55405,\n",
       "            0.55405,     0.55405,     0.55405,     0.55405,     0.55405,     0.55405,     0.55405,     0.55405,     0.55405,     0.55405,     0.55405,     0.55405,     0.55405,     0.55405,     0.55405,     0.55405,     0.55405,     0.55405,     0.55405,     0.55405,     0.55405,     0.55405,     0.55405,\n",
       "            0.55405,     0.55405,     0.55405,     0.55405,     0.55405,     0.55405,     0.55405,     0.55405,     0.55405,     0.55405,     0.55405,     0.55405,     0.55405,     0.55405,     0.55405,     0.55405,     0.55405,     0.55405,     0.55405,     0.55405,     0.55405,     0.55405,     0.55405,\n",
       "            0.55405,     0.55405,     0.55405,     0.55405,     0.55405,     0.55405,     0.55405,     0.55405,     0.55405,     0.55405,      0.5468,     0.54054,     0.54054,     0.54054,     0.54054,     0.54054,     0.54054,     0.54054,     0.54054,     0.54054,     0.54054,     0.54054,     0.54054,\n",
       "            0.54054,     0.54054,     0.54054,     0.54054,     0.54054,     0.54054,     0.54054,     0.54054,     0.54054,     0.54054,     0.54054,     0.54054,     0.54054,     0.54054,     0.54054,     0.54054,     0.54054,     0.54054,     0.54054,     0.54054,     0.54054,     0.54054,     0.54054,\n",
       "            0.54054,     0.54054,     0.54054,     0.54054,     0.53909,     0.53343,     0.52777,     0.52703,     0.52703,     0.52703,     0.52703,     0.52703,     0.52703,     0.52703,     0.52703,     0.52703,     0.52703,     0.52703,     0.52703,     0.52703,     0.52703,     0.52703,     0.52703,\n",
       "            0.52703,     0.52703,     0.52703,     0.52703,     0.52703,     0.52703,     0.52703,     0.52703,     0.52703,     0.52703,     0.52703,     0.52703,     0.52703,     0.52703,     0.52703,     0.52703,     0.52703,     0.52703,     0.52703,     0.52703,     0.52703,     0.52703,     0.52251,\n",
       "            0.51531,     0.51351,     0.51351,     0.51351,     0.51351,     0.51351,     0.51351,     0.51351,     0.51351,     0.51351,     0.51351,     0.51351,     0.51351,     0.51351,     0.51351,     0.51351,     0.51351,     0.51351,     0.51351,     0.51351,     0.51351,     0.51351,     0.51351,\n",
       "            0.51351,     0.51351,     0.51351,     0.51351,     0.51351,     0.51351,     0.51351,     0.51351,     0.51351,     0.51351,     0.51351,     0.51351,     0.51351,     0.51351,     0.51351,     0.51351,     0.51351,     0.51351,     0.51351,     0.51351,     0.51351,     0.51351,     0.51351,\n",
       "            0.51351,     0.51351,     0.51351,     0.51351,     0.51351,     0.51351,     0.51351,     0.51351,     0.51351,     0.51351,     0.51351,     0.51351,     0.51351,     0.51351,     0.51351,     0.51351,     0.51351,     0.51351,     0.51351,     0.51351,     0.51351,     0.51351,     0.51351,\n",
       "            0.51351,     0.51156,     0.50922,     0.50687,     0.50453,     0.50219,         0.5,         0.5,         0.5,         0.5,         0.5,         0.5,         0.5,         0.5,         0.5,         0.5,         0.5,         0.5,         0.5,         0.5,         0.5,         0.5,         0.5,\n",
       "                0.5,         0.5,         0.5,         0.5,         0.5,         0.5,         0.5,         0.5,         0.5,         0.5,         0.5,         0.5,         0.5,         0.5,         0.5,         0.5,         0.5,         0.5,         0.5,         0.5,         0.5,         0.5,         0.5,\n",
       "                0.5,         0.5,         0.5,         0.5,         0.5,         0.5,         0.5,         0.5,         0.5,         0.5,         0.5,         0.5,         0.5,         0.5,         0.5,         0.5,         0.5,     0.49912,     0.49448,     0.48983,     0.48649,     0.48649,     0.48649,\n",
       "            0.48649,     0.48649,     0.48649,     0.48649,     0.48649,     0.48649,     0.48649,     0.48649,     0.48649,     0.48649,     0.48649,     0.48649,     0.48649,     0.48649,     0.48649,     0.48649,     0.48623,     0.48549,     0.48475,     0.48401,     0.48326,     0.48252,     0.48178,\n",
       "            0.48104,      0.4803,     0.47956,     0.47881,     0.47807,     0.47733,     0.47659,     0.47585,      0.4751,     0.47436,     0.47362,     0.47297,     0.47297,     0.47297,     0.47274,     0.47236,     0.47197,     0.47159,     0.47121,     0.47082,     0.47044,     0.47006,     0.46967,\n",
       "            0.46929,     0.46891,     0.46853,     0.46814,     0.46776,     0.46738,     0.46699,     0.46661,     0.46623,     0.46584,     0.46546,     0.46508,     0.46469,     0.46431,     0.46393,     0.46354,     0.46316,     0.46278,      0.4624,     0.46201,     0.46163,     0.46125,     0.46086,\n",
       "            0.46048,      0.4601,     0.45971,     0.45921,     0.45846,     0.45771,     0.45697,     0.45622,     0.45547,     0.45473,     0.45398,     0.45323,     0.45249,     0.45174,     0.45099,     0.45025,      0.4495,     0.44875,     0.44801,     0.44726,     0.44651,     0.44567,     0.44454,\n",
       "             0.4434,     0.44226,     0.44112,     0.43999,     0.43885,     0.43771,     0.43658,     0.43544,      0.4343,     0.43316,     0.43243,     0.43243,     0.43243,     0.43243,     0.43243,     0.43243,     0.43017,     0.41851,     0.41795,     0.41739,     0.41683,     0.41627,     0.41571,\n",
       "            0.41516,      0.4146,     0.41404,     0.41348,     0.41292,     0.41236,      0.4118,     0.41124,     0.41068,     0.41012,     0.40956,       0.409,     0.40844,     0.40788,     0.40732,     0.40676,      0.4062,     0.40564,     0.40465,     0.40334,     0.40204,     0.40073,     0.39942,\n",
       "            0.39812,     0.39681,     0.39551,      0.3942,     0.39289,     0.39055,     0.38478,     0.37902,     0.37838,     0.37838,     0.37838,     0.37838,     0.37838,     0.37838,     0.37838,     0.37838,     0.37838,     0.37838,     0.37838,     0.37838,     0.37838,     0.37838,     0.37838,\n",
       "            0.37838,     0.37838,     0.37838,     0.37838,     0.37838,     0.37838,     0.37838,     0.37838,     0.37838,     0.37838,     0.37838,     0.37838,     0.37838,     0.37838,     0.37838,     0.37838,     0.37838,     0.37838,     0.37838,     0.37767,     0.37618,     0.37469,     0.37321,\n",
       "            0.37172,     0.37023,     0.36874,     0.36725,     0.36576,     0.36486,     0.36486,     0.36486,     0.36486,     0.36486,     0.36486,     0.36481,      0.3635,     0.36219,     0.36088,     0.35958,     0.35827,     0.35696,     0.35565,     0.35434,     0.35304,     0.35173,       0.351,\n",
       "            0.35051,     0.35002,     0.34952,     0.34903,     0.34854,     0.34804,     0.34755,     0.34706,     0.34657,     0.34607,     0.34558,     0.34509,      0.3446,      0.3441,     0.34361,     0.34312,     0.34262,     0.34213,     0.34164,     0.34115,     0.34065,     0.34016,     0.33967,\n",
       "            0.33918,     0.33868,     0.33819,     0.33766,     0.33705,     0.33643,     0.33582,      0.3352,     0.33459,     0.33397,     0.33336,     0.33274,     0.33213,     0.33151,      0.3309,     0.33028,     0.32967,     0.32905,     0.32844,     0.32783,     0.32721,      0.3266,     0.32598,\n",
       "            0.32537,     0.32475,     0.32361,     0.32127,     0.31893,      0.3166,     0.31426,     0.31192,     0.31081,     0.31004,     0.30901,     0.30799,     0.30696,     0.30593,     0.30491,     0.30388,     0.30286,     0.30183,     0.30081,     0.29978,     0.29876,     0.29773,      0.2973,\n",
       "            0.29684,     0.29605,     0.29527,     0.29449,      0.2937,     0.29292,     0.29214,     0.29135,     0.29057,     0.28979,       0.289,     0.28822,     0.28744,     0.28665,     0.28587,     0.28509,      0.2843,     0.27441,     0.26539,     0.25964,     0.24257,     0.23974,     0.23691,\n",
       "            0.23407,     0.23124,     0.22973,     0.22973,     0.22973,     0.22973,     0.22973,     0.22973,     0.22973,     0.22973,     0.22973,     0.22973,     0.22973,     0.22973,     0.22973,     0.22973,     0.22973,     0.22973,     0.22815,     0.22608,     0.22401,     0.22195,     0.21988,\n",
       "            0.21781,     0.21261,      0.2027,      0.2027,      0.2027,      0.2027,      0.2027,      0.2027,      0.2027,      0.2027,      0.2027,      0.2027,      0.2027,      0.2027,      0.2027,      0.2027,      0.2027,      0.2027,      0.2027,      0.2027,      0.2027,      0.2027,      0.2027,\n",
       "             0.2027,      0.2027,      0.2027,      0.2027,      0.2027,     0.18911,     0.18691,     0.18471,     0.18252,     0.18032,     0.17812,     0.17592,     0.17302,     0.16939,     0.16576,     0.16215,     0.16125,     0.16034,     0.15944,     0.15853,     0.15763,     0.15672,     0.15581,\n",
       "            0.15491,       0.154,      0.1531,     0.15219,     0.15128,     0.15038,     0.14947,     0.14865,     0.14865,     0.14865,     0.14865,     0.14865,     0.14865,     0.14865,     0.14865,     0.14865,     0.14865,     0.14865,     0.14865,     0.14865,     0.14865,     0.14865,     0.14865,\n",
       "            0.14865,     0.14865,     0.14865,     0.14865,     0.14865,     0.14865,     0.14807,     0.14125,     0.13303,     0.12116,     0.12014,     0.11911,     0.11808,     0.11706,     0.11603,     0.11501,     0.11398,     0.11296,     0.11193,      0.1109,     0.10988,     0.10885,     0.10646,\n",
       "            0.10047,    0.094581,    0.093921,     0.09326,      0.0926,     0.09194,     0.09128,     0.09062,    0.089959,    0.089299,    0.088639,    0.087979,    0.087318,    0.086658,    0.085998,    0.085338,    0.084677,    0.084017,    0.083357,    0.082697,    0.082037,    0.081376,    0.079617,\n",
       "            0.07697,    0.074322,    0.071674,    0.069027,    0.064125,    0.056457,    0.053326,    0.052265,    0.051205,    0.050144,    0.049084,    0.048023,    0.046963,    0.045903,    0.044842,    0.043782,    0.042721,    0.041661,      0.0406,    0.040105,    0.039644,    0.039182,    0.038721,\n",
       "            0.03826,    0.037798,    0.037337,    0.036876,    0.036414,    0.035953,    0.035492,     0.03503,    0.034569,    0.034108,    0.033646,    0.033185,    0.032724,    0.032262,    0.031801,    0.031339,    0.030878,    0.030417,    0.029955,    0.029494,    0.029033,    0.028571,     0.02811,\n",
       "           0.027649,    0.027187,    0.026595,    0.025932,    0.025269,    0.024607,    0.023944,    0.023281,    0.022618,    0.021956,    0.021293,     0.02063,    0.019968,    0.019305,    0.018642,     0.01798,    0.017317,    0.016654,    0.015992,    0.015329,    0.014666,    0.014003,           0,\n",
       "                  0,           0,           0,           0,           0,           0,           0,           0,           0,           0,           0,           0,           0,           0,           0,           0,           0,           0,           0,           0,           0,           0,           0,\n",
       "                  0,           0,           0,           0,           0,           0,           0,           0,           0,           0,           0,           0,           0,           0,           0,           0,           0,           0,           0,           0,           0,           0,           0,\n",
       "                  0,           0,           0,           0,           0,           0,           0,           0,           0,           0,           0]]), 'Confidence', 'Recall']]\n",
       "fitness: 0.6683335405137696\n",
       "keys: ['metrics/precision(B)', 'metrics/recall(B)', 'metrics/mAP50(B)', 'metrics/mAP50-95(B)', 'metrics/precision(M)', 'metrics/recall(M)', 'metrics/mAP50(M)', 'metrics/mAP50-95(M)']\n",
       "maps: array([    0.60819])\n",
       "names: {0: 'defect'}\n",
       "nt_per_class: array([74], dtype=int64)\n",
       "nt_per_image: array([52], dtype=int64)\n",
       "results_dict: {'metrics/precision(B)': 0.7852887445147618, 'metrics/recall(B)': 0.5931186183620117, 'metrics/mAP50(B)': 0.6725271170467892, 'metrics/mAP50-95(B)': 0.36749114941386435, 'metrics/precision(M)': 0.6695910743749404, 'metrics/recall(M)': 0.5, 'metrics/mAP50(M)': 0.5370572345631293, 'metrics/mAP50-95(M)': 0.24070341208922202, 'fitness': 0.6683335405137696}\n",
       "seg: ultralytics.utils.metrics.Metric object\n",
       "speed: {'preprocess': 2.3307942314064487, 'inference': 378.1216692312647, 'loss': 6.923129638800255e-05, 'postprocess': 1.8052749991721402}\n",
       "stats: {'tp': [], 'conf': [], 'pred_cls': [], 'target_cls': [], 'target_img': [], 'tp_m': []}\n",
       "task: 'segment'"
      ]
     },
     "execution_count": 19,
     "metadata": {},
     "output_type": "execute_result"
    }
   ],
   "source": [
    "# 9. Treinar modelo YOLOv8 para defeitos\n",
    "# ========================\n",
    "model = YOLO('yolov8l-seg.pt')\n",
    "model.train(\n",
    "    data=os.path.join(output_dir, 'defect.yaml'),\n",
    "    epochs=85,\n",
    "    imgsz=640,\n",
    "    batch=8,\n",
    "    name='blade_defect_segmentation'\n",
    ")  # você pode trocar por yolov8s-seg.pt ou outro\n"
   ]
  },
  {
   "cell_type": "markdown",
   "id": "91f5a1b3",
   "metadata": {},
   "source": [
    "## 10. ✅ Avaliando o modelo com .val()\n"
   ]
  },
  {
   "cell_type": "code",
   "execution_count": 20,
   "id": "f97c0f88",
   "metadata": {},
   "outputs": [
    {
     "name": "stdout",
     "output_type": "stream",
     "text": [
      "Ultralytics 8.3.157  Python-3.12.0 torch-2.7.1+cpu CPU (13th Gen Intel Core(TM) i5-13450HX)\n",
      "YOLOv8l-seg summary (fused): 125 layers, 45,912,659 parameters, 0 gradients, 220.1 GFLOPs\n",
      "\u001b[34m\u001b[1mval: \u001b[0mFast image access  (ping: 0.10.0 ms, read: 539.654.4 MB/s, size: 4676.1 KB)\n"
     ]
    },
    {
     "name": "stderr",
     "output_type": "stream",
     "text": [
      "\u001b[34m\u001b[1mval: \u001b[0mScanning D:\\datasets\\blade_stage2_defects\\labels\\val.cache... 52 images, 0 backgrounds, 0 corrupt: 100%|██████████| 52/52 [00:00<?, ?it/s]\n",
      "c:\\Users\\steva\\AppData\\Local\\Programs\\Python\\Python312\\Lib\\site-packages\\torch\\utils\\data\\dataloader.py:665: UserWarning: 'pin_memory' argument is set as true but no accelerator is found, then device pinned memory won't be used.\n",
      "  warnings.warn(warn_msg)\n",
      "                 Class     Images  Instances      Box(P          R      mAP50  mAP50-95)     Mask(P          R      mAP50  mAP50-95):   0%|          | 0/7 [00:00<?, ?it/s]"
     ]
    },
    {
     "name": "stdout",
     "output_type": "stream",
     "text": [
      "WARNING Limiting validation plots to first 50 items per image for speed...\n",
      "WARNING Limiting validation plots to first 50 items per image for speed...\n",
      "WARNING Limiting validation plots to first 50 items per image for speed...\n"
     ]
    },
    {
     "name": "stderr",
     "output_type": "stream",
     "text": [
      "                 Class     Images  Instances      Box(P          R      mAP50  mAP50-95)     Mask(P          R      mAP50  mAP50-95):  29%|██▊       | 2/7 [00:07<00:19,  3.95s/it]"
     ]
    },
    {
     "name": "stdout",
     "output_type": "stream",
     "text": [
      "WARNING Limiting validation plots to first 50 items per image for speed...\n",
      "WARNING Limiting validation plots to first 50 items per image for speed...\n",
      "WARNING Limiting validation plots to first 50 items per image for speed...\n"
     ]
    },
    {
     "name": "stderr",
     "output_type": "stream",
     "text": [
      "                 Class     Images  Instances      Box(P          R      mAP50  mAP50-95)     Mask(P          R      mAP50  mAP50-95): 100%|██████████| 7/7 [00:25<00:00,  3.69s/it]\n"
     ]
    },
    {
     "name": "stdout",
     "output_type": "stream",
     "text": [
      "                   all         52         74      0.785      0.593      0.673      0.367       0.67        0.5      0.537      0.241\n",
      "Speed: 1.2ms preprocess, 358.1ms inference, 0.0ms loss, 1.6ms postprocess per image\n",
      "Results saved to \u001b[1mruns\\segment\\blade_defect_segmentation2\u001b[0m\n",
      "ultralytics.utils.metrics.SegmentMetrics object with attributes:\n",
      "\n",
      "ap_class_index: array([0])\n",
      "box: ultralytics.utils.metrics.Metric object\n",
      "confusion_matrix: <ultralytics.utils.metrics.ConfusionMatrix object at 0x00000284B4E8B500>\n",
      "curves: ['Precision-Recall(B)', 'F1-Confidence(B)', 'Precision-Confidence(B)', 'Recall-Confidence(B)', 'Precision-Recall(M)', 'F1-Confidence(M)', 'Precision-Confidence(M)', 'Recall-Confidence(M)']\n",
      "curves_results: [[array([          0,    0.001001,    0.002002,    0.003003,    0.004004,    0.005005,    0.006006,    0.007007,    0.008008,    0.009009,     0.01001,    0.011011,    0.012012,    0.013013,    0.014014,    0.015015,    0.016016,    0.017017,    0.018018,    0.019019,     0.02002,    0.021021,    0.022022,    0.023023,\n",
      "          0.024024,    0.025025,    0.026026,    0.027027,    0.028028,    0.029029,     0.03003,    0.031031,    0.032032,    0.033033,    0.034034,    0.035035,    0.036036,    0.037037,    0.038038,    0.039039,     0.04004,    0.041041,    0.042042,    0.043043,    0.044044,    0.045045,    0.046046,    0.047047,\n",
      "          0.048048,    0.049049,     0.05005,    0.051051,    0.052052,    0.053053,    0.054054,    0.055055,    0.056056,    0.057057,    0.058058,    0.059059,     0.06006,    0.061061,    0.062062,    0.063063,    0.064064,    0.065065,    0.066066,    0.067067,    0.068068,    0.069069,     0.07007,    0.071071,\n",
      "          0.072072,    0.073073,    0.074074,    0.075075,    0.076076,    0.077077,    0.078078,    0.079079,     0.08008,    0.081081,    0.082082,    0.083083,    0.084084,    0.085085,    0.086086,    0.087087,    0.088088,    0.089089,     0.09009,    0.091091,    0.092092,    0.093093,    0.094094,    0.095095,\n",
      "          0.096096,    0.097097,    0.098098,    0.099099,      0.1001,      0.1011,      0.1021,      0.1031,      0.1041,     0.10511,     0.10611,     0.10711,     0.10811,     0.10911,     0.11011,     0.11111,     0.11211,     0.11311,     0.11411,     0.11512,     0.11612,     0.11712,     0.11812,     0.11912,\n",
      "           0.12012,     0.12112,     0.12212,     0.12312,     0.12412,     0.12513,     0.12613,     0.12713,     0.12813,     0.12913,     0.13013,     0.13113,     0.13213,     0.13313,     0.13413,     0.13514,     0.13614,     0.13714,     0.13814,     0.13914,     0.14014,     0.14114,     0.14214,     0.14314,\n",
      "           0.14414,     0.14515,     0.14615,     0.14715,     0.14815,     0.14915,     0.15015,     0.15115,     0.15215,     0.15315,     0.15415,     0.15516,     0.15616,     0.15716,     0.15816,     0.15916,     0.16016,     0.16116,     0.16216,     0.16316,     0.16416,     0.16517,     0.16617,     0.16717,\n",
      "           0.16817,     0.16917,     0.17017,     0.17117,     0.17217,     0.17317,     0.17417,     0.17518,     0.17618,     0.17718,     0.17818,     0.17918,     0.18018,     0.18118,     0.18218,     0.18318,     0.18418,     0.18519,     0.18619,     0.18719,     0.18819,     0.18919,     0.19019,     0.19119,\n",
      "           0.19219,     0.19319,     0.19419,      0.1952,      0.1962,      0.1972,      0.1982,      0.1992,      0.2002,      0.2012,      0.2022,      0.2032,      0.2042,     0.20521,     0.20621,     0.20721,     0.20821,     0.20921,     0.21021,     0.21121,     0.21221,     0.21321,     0.21421,     0.21522,\n",
      "           0.21622,     0.21722,     0.21822,     0.21922,     0.22022,     0.22122,     0.22222,     0.22322,     0.22422,     0.22523,     0.22623,     0.22723,     0.22823,     0.22923,     0.23023,     0.23123,     0.23223,     0.23323,     0.23423,     0.23524,     0.23624,     0.23724,     0.23824,     0.23924,\n",
      "           0.24024,     0.24124,     0.24224,     0.24324,     0.24424,     0.24525,     0.24625,     0.24725,     0.24825,     0.24925,     0.25025,     0.25125,     0.25225,     0.25325,     0.25425,     0.25526,     0.25626,     0.25726,     0.25826,     0.25926,     0.26026,     0.26126,     0.26226,     0.26326,\n",
      "           0.26426,     0.26527,     0.26627,     0.26727,     0.26827,     0.26927,     0.27027,     0.27127,     0.27227,     0.27327,     0.27427,     0.27528,     0.27628,     0.27728,     0.27828,     0.27928,     0.28028,     0.28128,     0.28228,     0.28328,     0.28428,     0.28529,     0.28629,     0.28729,\n",
      "           0.28829,     0.28929,     0.29029,     0.29129,     0.29229,     0.29329,     0.29429,      0.2953,      0.2963,      0.2973,      0.2983,      0.2993,      0.3003,      0.3013,      0.3023,      0.3033,      0.3043,     0.30531,     0.30631,     0.30731,     0.30831,     0.30931,     0.31031,     0.31131,\n",
      "           0.31231,     0.31331,     0.31431,     0.31532,     0.31632,     0.31732,     0.31832,     0.31932,     0.32032,     0.32132,     0.32232,     0.32332,     0.32432,     0.32533,     0.32633,     0.32733,     0.32833,     0.32933,     0.33033,     0.33133,     0.33233,     0.33333,     0.33433,     0.33534,\n",
      "           0.33634,     0.33734,     0.33834,     0.33934,     0.34034,     0.34134,     0.34234,     0.34334,     0.34434,     0.34535,     0.34635,     0.34735,     0.34835,     0.34935,     0.35035,     0.35135,     0.35235,     0.35335,     0.35435,     0.35536,     0.35636,     0.35736,     0.35836,     0.35936,\n",
      "           0.36036,     0.36136,     0.36236,     0.36336,     0.36436,     0.36537,     0.36637,     0.36737,     0.36837,     0.36937,     0.37037,     0.37137,     0.37237,     0.37337,     0.37437,     0.37538,     0.37638,     0.37738,     0.37838,     0.37938,     0.38038,     0.38138,     0.38238,     0.38338,\n",
      "           0.38438,     0.38539,     0.38639,     0.38739,     0.38839,     0.38939,     0.39039,     0.39139,     0.39239,     0.39339,     0.39439,      0.3954,      0.3964,      0.3974,      0.3984,      0.3994,      0.4004,      0.4014,      0.4024,      0.4034,      0.4044,     0.40541,     0.40641,     0.40741,\n",
      "           0.40841,     0.40941,     0.41041,     0.41141,     0.41241,     0.41341,     0.41441,     0.41542,     0.41642,     0.41742,     0.41842,     0.41942,     0.42042,     0.42142,     0.42242,     0.42342,     0.42442,     0.42543,     0.42643,     0.42743,     0.42843,     0.42943,     0.43043,     0.43143,\n",
      "           0.43243,     0.43343,     0.43443,     0.43544,     0.43644,     0.43744,     0.43844,     0.43944,     0.44044,     0.44144,     0.44244,     0.44344,     0.44444,     0.44545,     0.44645,     0.44745,     0.44845,     0.44945,     0.45045,     0.45145,     0.45245,     0.45345,     0.45445,     0.45546,\n",
      "           0.45646,     0.45746,     0.45846,     0.45946,     0.46046,     0.46146,     0.46246,     0.46346,     0.46446,     0.46547,     0.46647,     0.46747,     0.46847,     0.46947,     0.47047,     0.47147,     0.47247,     0.47347,     0.47447,     0.47548,     0.47648,     0.47748,     0.47848,     0.47948,\n",
      "           0.48048,     0.48148,     0.48248,     0.48348,     0.48448,     0.48549,     0.48649,     0.48749,     0.48849,     0.48949,     0.49049,     0.49149,     0.49249,     0.49349,     0.49449,      0.4955,      0.4965,      0.4975,      0.4985,      0.4995,      0.5005,      0.5015,      0.5025,      0.5035,\n",
      "            0.5045,     0.50551,     0.50651,     0.50751,     0.50851,     0.50951,     0.51051,     0.51151,     0.51251,     0.51351,     0.51451,     0.51552,     0.51652,     0.51752,     0.51852,     0.51952,     0.52052,     0.52152,     0.52252,     0.52352,     0.52452,     0.52553,     0.52653,     0.52753,\n",
      "           0.52853,     0.52953,     0.53053,     0.53153,     0.53253,     0.53353,     0.53453,     0.53554,     0.53654,     0.53754,     0.53854,     0.53954,     0.54054,     0.54154,     0.54254,     0.54354,     0.54454,     0.54555,     0.54655,     0.54755,     0.54855,     0.54955,     0.55055,     0.55155,\n",
      "           0.55255,     0.55355,     0.55455,     0.55556,     0.55656,     0.55756,     0.55856,     0.55956,     0.56056,     0.56156,     0.56256,     0.56356,     0.56456,     0.56557,     0.56657,     0.56757,     0.56857,     0.56957,     0.57057,     0.57157,     0.57257,     0.57357,     0.57457,     0.57558,\n",
      "           0.57658,     0.57758,     0.57858,     0.57958,     0.58058,     0.58158,     0.58258,     0.58358,     0.58458,     0.58559,     0.58659,     0.58759,     0.58859,     0.58959,     0.59059,     0.59159,     0.59259,     0.59359,     0.59459,      0.5956,      0.5966,      0.5976,      0.5986,      0.5996,\n",
      "            0.6006,      0.6016,      0.6026,      0.6036,      0.6046,     0.60561,     0.60661,     0.60761,     0.60861,     0.60961,     0.61061,     0.61161,     0.61261,     0.61361,     0.61461,     0.61562,     0.61662,     0.61762,     0.61862,     0.61962,     0.62062,     0.62162,     0.62262,     0.62362,\n",
      "           0.62462,     0.62563,     0.62663,     0.62763,     0.62863,     0.62963,     0.63063,     0.63163,     0.63263,     0.63363,     0.63463,     0.63564,     0.63664,     0.63764,     0.63864,     0.63964,     0.64064,     0.64164,     0.64264,     0.64364,     0.64464,     0.64565,     0.64665,     0.64765,\n",
      "           0.64865,     0.64965,     0.65065,     0.65165,     0.65265,     0.65365,     0.65465,     0.65566,     0.65666,     0.65766,     0.65866,     0.65966,     0.66066,     0.66166,     0.66266,     0.66366,     0.66466,     0.66567,     0.66667,     0.66767,     0.66867,     0.66967,     0.67067,     0.67167,\n",
      "           0.67267,     0.67367,     0.67467,     0.67568,     0.67668,     0.67768,     0.67868,     0.67968,     0.68068,     0.68168,     0.68268,     0.68368,     0.68468,     0.68569,     0.68669,     0.68769,     0.68869,     0.68969,     0.69069,     0.69169,     0.69269,     0.69369,     0.69469,      0.6957,\n",
      "            0.6967,      0.6977,      0.6987,      0.6997,      0.7007,      0.7017,      0.7027,      0.7037,      0.7047,     0.70571,     0.70671,     0.70771,     0.70871,     0.70971,     0.71071,     0.71171,     0.71271,     0.71371,     0.71471,     0.71572,     0.71672,     0.71772,     0.71872,     0.71972,\n",
      "           0.72072,     0.72172,     0.72272,     0.72372,     0.72472,     0.72573,     0.72673,     0.72773,     0.72873,     0.72973,     0.73073,     0.73173,     0.73273,     0.73373,     0.73473,     0.73574,     0.73674,     0.73774,     0.73874,     0.73974,     0.74074,     0.74174,     0.74274,     0.74374,\n",
      "           0.74474,     0.74575,     0.74675,     0.74775,     0.74875,     0.74975,     0.75075,     0.75175,     0.75275,     0.75375,     0.75475,     0.75576,     0.75676,     0.75776,     0.75876,     0.75976,     0.76076,     0.76176,     0.76276,     0.76376,     0.76476,     0.76577,     0.76677,     0.76777,\n",
      "           0.76877,     0.76977,     0.77077,     0.77177,     0.77277,     0.77377,     0.77477,     0.77578,     0.77678,     0.77778,     0.77878,     0.77978,     0.78078,     0.78178,     0.78278,     0.78378,     0.78478,     0.78579,     0.78679,     0.78779,     0.78879,     0.78979,     0.79079,     0.79179,\n",
      "           0.79279,     0.79379,     0.79479,      0.7958,      0.7968,      0.7978,      0.7988,      0.7998,      0.8008,      0.8018,      0.8028,      0.8038,      0.8048,     0.80581,     0.80681,     0.80781,     0.80881,     0.80981,     0.81081,     0.81181,     0.81281,     0.81381,     0.81481,     0.81582,\n",
      "           0.81682,     0.81782,     0.81882,     0.81982,     0.82082,     0.82182,     0.82282,     0.82382,     0.82482,     0.82583,     0.82683,     0.82783,     0.82883,     0.82983,     0.83083,     0.83183,     0.83283,     0.83383,     0.83483,     0.83584,     0.83684,     0.83784,     0.83884,     0.83984,\n",
      "           0.84084,     0.84184,     0.84284,     0.84384,     0.84484,     0.84585,     0.84685,     0.84785,     0.84885,     0.84985,     0.85085,     0.85185,     0.85285,     0.85385,     0.85485,     0.85586,     0.85686,     0.85786,     0.85886,     0.85986,     0.86086,     0.86186,     0.86286,     0.86386,\n",
      "           0.86486,     0.86587,     0.86687,     0.86787,     0.86887,     0.86987,     0.87087,     0.87187,     0.87287,     0.87387,     0.87487,     0.87588,     0.87688,     0.87788,     0.87888,     0.87988,     0.88088,     0.88188,     0.88288,     0.88388,     0.88488,     0.88589,     0.88689,     0.88789,\n",
      "           0.88889,     0.88989,     0.89089,     0.89189,     0.89289,     0.89389,     0.89489,      0.8959,      0.8969,      0.8979,      0.8989,      0.8999,      0.9009,      0.9019,      0.9029,      0.9039,      0.9049,     0.90591,     0.90691,     0.90791,     0.90891,     0.90991,     0.91091,     0.91191,\n",
      "           0.91291,     0.91391,     0.91491,     0.91592,     0.91692,     0.91792,     0.91892,     0.91992,     0.92092,     0.92192,     0.92292,     0.92392,     0.92492,     0.92593,     0.92693,     0.92793,     0.92893,     0.92993,     0.93093,     0.93193,     0.93293,     0.93393,     0.93493,     0.93594,\n",
      "           0.93694,     0.93794,     0.93894,     0.93994,     0.94094,     0.94194,     0.94294,     0.94394,     0.94494,     0.94595,     0.94695,     0.94795,     0.94895,     0.94995,     0.95095,     0.95195,     0.95295,     0.95395,     0.95495,     0.95596,     0.95696,     0.95796,     0.95896,     0.95996,\n",
      "           0.96096,     0.96196,     0.96296,     0.96396,     0.96496,     0.96597,     0.96697,     0.96797,     0.96897,     0.96997,     0.97097,     0.97197,     0.97297,     0.97397,     0.97497,     0.97598,     0.97698,     0.97798,     0.97898,     0.97998,     0.98098,     0.98198,     0.98298,     0.98398,\n",
      "           0.98498,     0.98599,     0.98699,     0.98799,     0.98899,     0.98999,     0.99099,     0.99199,     0.99299,     0.99399,     0.99499,       0.996,       0.997,       0.998,       0.999,           1]), array([[          1,           1,           1,           1,           1,           1,           1,           1,           1,           1,           1,           1,           1,           1,           1,           1,           1,           1,           1,           1,           1,           1,           1,\n",
      "                  1,           1,           1,           1,           1,           1,           1,           1,           1,           1,           1,           1,           1,           1,           1,           1,           1,           1,           1,           1,           1,           1,           1,\n",
      "                  1,           1,           1,           1,           1,           1,           1,           1,           1,           1,           1,           1,           1,           1,           1,           1,           1,           1,           1,           1,           1,           1,           1,\n",
      "                  1,           1,           1,           1,           1,           1,           1,           1,           1,           1,           1,           1,           1,           1,           1,           1,           1,           1,           1,           1,           1,           1,           1,\n",
      "                  1,           1,           1,           1,           1,           1,           1,           1,           1,           1,           1,           1,           1,           1,           1,           1,           1,           1,           1,           1,           1,           1,           1,\n",
      "                  1,           1,           1,           1,           1,           1,           1,           1,           1,           1,           1,           1,           1,           1,           1,           1,           1,           1,           1,           1,           1,           1,           1,\n",
      "                  1,           1,           1,           1,           1,           1,           1,           1,           1,           1,           1,           1,           1,           1,           1,           1,           1,           1,           1,           1,           1,           1,           1,\n",
      "                  1,           1,           1,           1,           1,           1,           1,           1,           1,           1,           1,           1,           1,           1,           1,           1,           1,           1,           1,           1,           1,           1,           1,\n",
      "                  1,           1,           1,           1,           1,           1,           1,           1,           1,           1,           1,           1,           1,           1,           1,           1,           1,           1,           1,           1,           1,           1,           1,\n",
      "                  1,           1,           1,           1,           1,           1,           1,           1,           1,           1,           1,           1,           1,           1,           1,           1,           1,           1,           1,           1,           1,           1,           1,\n",
      "            0.95238,     0.95238,     0.95238,     0.95238,     0.95238,     0.95238,     0.95238,     0.95238,     0.95238,     0.95238,     0.95238,     0.95238,     0.95238,     0.95238,     0.95238,     0.95238,     0.95238,     0.95238,     0.95238,     0.95238,     0.95238,     0.95238,     0.95238,\n",
      "            0.95238,     0.95238,     0.95238,     0.95238,     0.95238,     0.95238,     0.95238,     0.95238,     0.95238,     0.95238,     0.95238,     0.95238,     0.95238,     0.95238,     0.95238,     0.95238,     0.95238,     0.92593,     0.92593,     0.92593,     0.92593,     0.92593,     0.92593,\n",
      "            0.92593,     0.92593,     0.92593,     0.92593,     0.92593,     0.92593,     0.92593,     0.92593,     0.92593,     0.92593,     0.92593,     0.92593,     0.92593,     0.92593,     0.92593,     0.92593,     0.92593,     0.92593,     0.92593,     0.92593,     0.92593,     0.92593,     0.92593,\n",
      "            0.92593,     0.92593,     0.92593,     0.92593,     0.92593,     0.92593,     0.92593,     0.92593,     0.92593,     0.92593,     0.92593,     0.92593,     0.92593,     0.92593,     0.92593,     0.92593,     0.92593,     0.92593,     0.92593,     0.92593,     0.92593,     0.92593,     0.92593,\n",
      "            0.92593,     0.92593,     0.92593,     0.92593,     0.92593,     0.92593,     0.92593,     0.92593,     0.92593,     0.92593,     0.92593,     0.92593,     0.92593,     0.92593,     0.92593,     0.92593,     0.89655,     0.89655,     0.89655,     0.89655,     0.89655,     0.89655,     0.89655,\n",
      "            0.89655,     0.89655,     0.89655,     0.89655,     0.89655,     0.89655,     0.88889,     0.88889,     0.88889,     0.88889,     0.88889,     0.88889,     0.88889,     0.88889,     0.88889,     0.88889,     0.88889,     0.88889,     0.88889,     0.88889,     0.88889,     0.88889,     0.88889,\n",
      "            0.88889,     0.88889,     0.88889,     0.88889,     0.88889,     0.88889,     0.88889,     0.88889,     0.88889,     0.88889,     0.88889,     0.88889,     0.88889,     0.88889,     0.88889,     0.88889,     0.88889,     0.88889,     0.88889,     0.88889,     0.88889,     0.88889,     0.88889,\n",
      "            0.88889,     0.88889,     0.88889,     0.88889,     0.88889,     0.88889,     0.88889,     0.88889,     0.88889,     0.88889,     0.88889,     0.88889,     0.88889,     0.88889,     0.88889,     0.88889,     0.88889,     0.88889,     0.88889,     0.88889,     0.88889,     0.88889,     0.88889,\n",
      "            0.88889,     0.88889,     0.88889,     0.88889,     0.88889,     0.88889,     0.88889,     0.88889,     0.88889,     0.88889,     0.88889,     0.88889,     0.88889,     0.88889,     0.88889,     0.88889,     0.88889,     0.88889,       0.825,       0.825,       0.825,       0.825,       0.825,\n",
      "              0.825,       0.825,       0.825,       0.825,       0.825,       0.825,       0.825,       0.825,       0.825,     0.80435,     0.80435,     0.80435,     0.80435,     0.80435,     0.80435,     0.80435,     0.80435,     0.80435,     0.80435,     0.80435,     0.80435,     0.80435,     0.80435,\n",
      "            0.80435,     0.80435,     0.80435,     0.80435,     0.80435,     0.80435,     0.80435,     0.80435,     0.80435,     0.80435,     0.80435,     0.80435,     0.80435,     0.80435,     0.80435,     0.80435,     0.80435,     0.80435,     0.80435,     0.80435,     0.80435,     0.80435,     0.80435,\n",
      "            0.80435,     0.80435,     0.80435,     0.80435,     0.80435,     0.80435,     0.80435,     0.80435,     0.80435,     0.80435,     0.80435,     0.80435,     0.80435,     0.80435,     0.80435,     0.80435,     0.80435,         0.8,         0.8,         0.8,         0.8,         0.8,         0.8,\n",
      "                0.8,         0.8,         0.8,         0.8,         0.8,         0.8,         0.8,         0.8,         0.8,         0.8,         0.8,         0.8,         0.8,         0.8,         0.8,         0.8,         0.8,         0.8,         0.8,         0.8,         0.8,         0.8,         0.8,\n",
      "                0.8,         0.8,         0.8,         0.8,         0.8,         0.8,         0.8,         0.8,         0.8,         0.8,         0.8,     0.78846,     0.78846,     0.78846,     0.78846,     0.78846,     0.78846,     0.78846,     0.78846,     0.78846,     0.78846,     0.78846,     0.78846,\n",
      "            0.78846,     0.78846,     0.78571,     0.78571,     0.78571,     0.78571,     0.78571,     0.78571,     0.78571,     0.78571,     0.78571,     0.78571,     0.78571,     0.78571,     0.78571,     0.78571,     0.78571,     0.78571,     0.78571,     0.78571,     0.78571,     0.78571,     0.78571,\n",
      "            0.78571,     0.78571,     0.78571,     0.78571,     0.78571,     0.78571,     0.78571,     0.78571,     0.78571,     0.78571,     0.78571,     0.78571,     0.78571,     0.78571,     0.78571,     0.78571,     0.78571,     0.78571,     0.78571,     0.77586,     0.77586,     0.77586,     0.77586,\n",
      "            0.77586,     0.77586,     0.77586,     0.77586,     0.77586,     0.77586,     0.77586,     0.77586,     0.77586,     0.77586,     0.68657,     0.68657,     0.68657,     0.68657,     0.68657,     0.68657,     0.68657,     0.68657,     0.68657,     0.68657,     0.68657,     0.68657,     0.68657,\n",
      "            0.64384,     0.64384,     0.64384,     0.64384,     0.64384,     0.64384,     0.64384,     0.64384,     0.64384,     0.64384,     0.64384,     0.64384,     0.64384,     0.64384,         0.6,         0.6,         0.6,         0.6,         0.6,         0.6,         0.6,         0.6,         0.6,\n",
      "                0.6,         0.6,         0.6,         0.6,     0.46226,     0.46226,     0.46226,     0.46226,     0.46226,     0.46226,     0.46226,     0.46226,     0.46226,     0.46226,     0.46226,     0.46226,     0.46226,     0.46226,     0.45455,     0.45455,     0.45455,     0.45455,     0.45455,\n",
      "            0.45455,     0.45455,     0.45455,     0.45455,     0.45455,     0.45455,     0.45455,     0.45455,     0.45217,     0.45217,     0.45217,     0.45217,     0.45217,     0.45217,     0.45217,     0.45217,     0.45217,     0.45217,     0.45217,     0.45217,     0.45217,     0.45217,     0.45217,\n",
      "            0.45217,     0.45217,     0.45217,     0.45217,     0.45217,     0.45217,     0.45217,     0.45217,     0.45217,     0.45217,     0.45217,     0.45217,     0.43089,     0.43089,     0.43089,     0.43089,     0.43089,     0.43089,     0.43089,     0.43089,     0.43089,     0.43089,     0.43089,\n",
      "            0.43089,     0.43089,     0.43089,     0.39041,     0.39041,     0.39041,     0.39041,     0.39041,     0.39041,     0.39041,     0.39041,     0.39041,     0.39041,     0.39041,     0.39041,     0.39041,     0.39041,     0.39041,     0.39041,     0.39041,     0.39041,     0.39041,     0.39041,\n",
      "            0.39041,     0.39041,     0.39041,     0.39041,     0.39041,     0.39041,     0.39041,     0.39041,     0.39041,     0.39041,     0.39041,     0.39041,     0.39041,     0.39041,     0.39041,     0.39041,     0.39041,     0.39041,     0.39041,     0.39041,     0.39041,     0.39041,     0.39041,\n",
      "            0.39041,     0.39041,     0.39041,     0.39041,     0.39041,     0.39041,     0.39041,     0.39041,     0.39041,     0.39041,     0.39041,     0.37908,     0.37908,     0.37908,     0.37908,     0.37908,     0.37908,     0.37908,     0.37908,     0.37908,     0.37908,     0.37908,     0.37908,\n",
      "            0.37908,     0.35119,     0.35119,     0.35119,     0.35119,     0.35119,     0.35119,     0.35119,     0.35119,     0.35119,     0.35119,     0.35119,     0.35119,     0.35119,     0.35119,     0.34884,     0.34884,     0.34884,     0.34884,     0.34884,     0.34884,     0.34884,     0.34884,\n",
      "            0.34884,     0.34884,     0.34884,     0.34884,     0.34884,     0.33152,     0.33152,     0.33152,     0.33152,     0.33152,     0.33152,     0.33152,     0.33152,     0.33152,     0.33152,     0.33152,     0.33152,     0.33152,     0.33152,     0.27803,     0.27803,     0.27803,     0.27803,\n",
      "            0.27803,     0.27803,     0.27803,     0.27803,     0.27803,     0.27803,     0.27803,     0.27803,     0.27803,     0.26471,     0.26471,     0.26471,     0.26471,     0.26471,     0.26471,     0.26471,     0.26471,     0.26471,     0.26471,     0.26471,     0.26471,     0.26471,     0.26471,\n",
      "            0.23022,     0.23022,     0.23022,     0.23022,     0.23022,     0.23022,     0.23022,     0.23022,     0.23022,     0.23022,     0.23022,     0.23022,     0.23022,     0.18732,     0.18732,     0.18732,     0.18732,     0.18732,     0.18732,     0.18732,     0.18732,     0.18732,     0.18732,\n",
      "            0.18732,     0.18732,     0.18732,     0.18732,     0.13636,     0.13636,     0.13636,     0.13636,     0.13636,     0.13636,     0.13636,     0.13636,     0.13636,     0.13636,     0.13636,     0.13636,     0.13636,     0.12835,     0.12835,     0.12835,     0.12835,     0.12835,     0.12835,\n",
      "            0.12835,     0.12835,     0.12835,     0.12835,     0.12835,     0.12835,     0.12835,     0.12835,      0.1124,      0.1124,      0.1124,      0.1124,      0.1124,      0.1124,      0.1124,      0.1124,      0.1124,      0.1124,      0.1124,      0.1124,      0.1124,      0.1124,     0.10088,\n",
      "            0.10088,     0.10088,     0.10088,     0.10088,     0.10088,     0.10088,     0.10088,     0.10088,     0.10088,     0.10088,     0.10088,     0.10088,    0.045425,    0.045425,    0.045425,    0.045425,    0.045425,    0.045425,    0.045425,    0.045425,    0.045425,    0.045425,    0.045425,\n",
      "           0.045425,    0.045425,     0.03823,    0.037523,    0.036815,    0.036107,    0.035399,    0.034691,    0.033983,    0.033275,    0.032567,    0.031859,    0.031151,    0.030443,    0.029735,    0.029027,    0.028319,    0.027611,    0.026903,    0.026195,    0.025487,    0.024779,    0.024071,\n",
      "           0.023363,    0.022655,    0.021947,    0.021239,    0.020531,    0.019823,    0.019115,    0.018407,    0.017699,    0.016991,    0.016283,    0.015575,    0.014867,    0.014159,    0.013451,    0.012743,    0.012036,    0.011328,     0.01062,   0.0099116,   0.0092036,   0.0084957,   0.0077877,\n",
      "          0.0070797,   0.0063717,   0.0056638,   0.0049558,   0.0042478,   0.0035399,   0.0028319,   0.0021239,   0.0014159,  0.00070797,           0]]), 'Recall', 'Precision'], [array([          0,    0.001001,    0.002002,    0.003003,    0.004004,    0.005005,    0.006006,    0.007007,    0.008008,    0.009009,     0.01001,    0.011011,    0.012012,    0.013013,    0.014014,    0.015015,    0.016016,    0.017017,    0.018018,    0.019019,     0.02002,    0.021021,    0.022022,    0.023023,\n",
      "          0.024024,    0.025025,    0.026026,    0.027027,    0.028028,    0.029029,     0.03003,    0.031031,    0.032032,    0.033033,    0.034034,    0.035035,    0.036036,    0.037037,    0.038038,    0.039039,     0.04004,    0.041041,    0.042042,    0.043043,    0.044044,    0.045045,    0.046046,    0.047047,\n",
      "          0.048048,    0.049049,     0.05005,    0.051051,    0.052052,    0.053053,    0.054054,    0.055055,    0.056056,    0.057057,    0.058058,    0.059059,     0.06006,    0.061061,    0.062062,    0.063063,    0.064064,    0.065065,    0.066066,    0.067067,    0.068068,    0.069069,     0.07007,    0.071071,\n",
      "          0.072072,    0.073073,    0.074074,    0.075075,    0.076076,    0.077077,    0.078078,    0.079079,     0.08008,    0.081081,    0.082082,    0.083083,    0.084084,    0.085085,    0.086086,    0.087087,    0.088088,    0.089089,     0.09009,    0.091091,    0.092092,    0.093093,    0.094094,    0.095095,\n",
      "          0.096096,    0.097097,    0.098098,    0.099099,      0.1001,      0.1011,      0.1021,      0.1031,      0.1041,     0.10511,     0.10611,     0.10711,     0.10811,     0.10911,     0.11011,     0.11111,     0.11211,     0.11311,     0.11411,     0.11512,     0.11612,     0.11712,     0.11812,     0.11912,\n",
      "           0.12012,     0.12112,     0.12212,     0.12312,     0.12412,     0.12513,     0.12613,     0.12713,     0.12813,     0.12913,     0.13013,     0.13113,     0.13213,     0.13313,     0.13413,     0.13514,     0.13614,     0.13714,     0.13814,     0.13914,     0.14014,     0.14114,     0.14214,     0.14314,\n",
      "           0.14414,     0.14515,     0.14615,     0.14715,     0.14815,     0.14915,     0.15015,     0.15115,     0.15215,     0.15315,     0.15415,     0.15516,     0.15616,     0.15716,     0.15816,     0.15916,     0.16016,     0.16116,     0.16216,     0.16316,     0.16416,     0.16517,     0.16617,     0.16717,\n",
      "           0.16817,     0.16917,     0.17017,     0.17117,     0.17217,     0.17317,     0.17417,     0.17518,     0.17618,     0.17718,     0.17818,     0.17918,     0.18018,     0.18118,     0.18218,     0.18318,     0.18418,     0.18519,     0.18619,     0.18719,     0.18819,     0.18919,     0.19019,     0.19119,\n",
      "           0.19219,     0.19319,     0.19419,      0.1952,      0.1962,      0.1972,      0.1982,      0.1992,      0.2002,      0.2012,      0.2022,      0.2032,      0.2042,     0.20521,     0.20621,     0.20721,     0.20821,     0.20921,     0.21021,     0.21121,     0.21221,     0.21321,     0.21421,     0.21522,\n",
      "           0.21622,     0.21722,     0.21822,     0.21922,     0.22022,     0.22122,     0.22222,     0.22322,     0.22422,     0.22523,     0.22623,     0.22723,     0.22823,     0.22923,     0.23023,     0.23123,     0.23223,     0.23323,     0.23423,     0.23524,     0.23624,     0.23724,     0.23824,     0.23924,\n",
      "           0.24024,     0.24124,     0.24224,     0.24324,     0.24424,     0.24525,     0.24625,     0.24725,     0.24825,     0.24925,     0.25025,     0.25125,     0.25225,     0.25325,     0.25425,     0.25526,     0.25626,     0.25726,     0.25826,     0.25926,     0.26026,     0.26126,     0.26226,     0.26326,\n",
      "           0.26426,     0.26527,     0.26627,     0.26727,     0.26827,     0.26927,     0.27027,     0.27127,     0.27227,     0.27327,     0.27427,     0.27528,     0.27628,     0.27728,     0.27828,     0.27928,     0.28028,     0.28128,     0.28228,     0.28328,     0.28428,     0.28529,     0.28629,     0.28729,\n",
      "           0.28829,     0.28929,     0.29029,     0.29129,     0.29229,     0.29329,     0.29429,      0.2953,      0.2963,      0.2973,      0.2983,      0.2993,      0.3003,      0.3013,      0.3023,      0.3033,      0.3043,     0.30531,     0.30631,     0.30731,     0.30831,     0.30931,     0.31031,     0.31131,\n",
      "           0.31231,     0.31331,     0.31431,     0.31532,     0.31632,     0.31732,     0.31832,     0.31932,     0.32032,     0.32132,     0.32232,     0.32332,     0.32432,     0.32533,     0.32633,     0.32733,     0.32833,     0.32933,     0.33033,     0.33133,     0.33233,     0.33333,     0.33433,     0.33534,\n",
      "           0.33634,     0.33734,     0.33834,     0.33934,     0.34034,     0.34134,     0.34234,     0.34334,     0.34434,     0.34535,     0.34635,     0.34735,     0.34835,     0.34935,     0.35035,     0.35135,     0.35235,     0.35335,     0.35435,     0.35536,     0.35636,     0.35736,     0.35836,     0.35936,\n",
      "           0.36036,     0.36136,     0.36236,     0.36336,     0.36436,     0.36537,     0.36637,     0.36737,     0.36837,     0.36937,     0.37037,     0.37137,     0.37237,     0.37337,     0.37437,     0.37538,     0.37638,     0.37738,     0.37838,     0.37938,     0.38038,     0.38138,     0.38238,     0.38338,\n",
      "           0.38438,     0.38539,     0.38639,     0.38739,     0.38839,     0.38939,     0.39039,     0.39139,     0.39239,     0.39339,     0.39439,      0.3954,      0.3964,      0.3974,      0.3984,      0.3994,      0.4004,      0.4014,      0.4024,      0.4034,      0.4044,     0.40541,     0.40641,     0.40741,\n",
      "           0.40841,     0.40941,     0.41041,     0.41141,     0.41241,     0.41341,     0.41441,     0.41542,     0.41642,     0.41742,     0.41842,     0.41942,     0.42042,     0.42142,     0.42242,     0.42342,     0.42442,     0.42543,     0.42643,     0.42743,     0.42843,     0.42943,     0.43043,     0.43143,\n",
      "           0.43243,     0.43343,     0.43443,     0.43544,     0.43644,     0.43744,     0.43844,     0.43944,     0.44044,     0.44144,     0.44244,     0.44344,     0.44444,     0.44545,     0.44645,     0.44745,     0.44845,     0.44945,     0.45045,     0.45145,     0.45245,     0.45345,     0.45445,     0.45546,\n",
      "           0.45646,     0.45746,     0.45846,     0.45946,     0.46046,     0.46146,     0.46246,     0.46346,     0.46446,     0.46547,     0.46647,     0.46747,     0.46847,     0.46947,     0.47047,     0.47147,     0.47247,     0.47347,     0.47447,     0.47548,     0.47648,     0.47748,     0.47848,     0.47948,\n",
      "           0.48048,     0.48148,     0.48248,     0.48348,     0.48448,     0.48549,     0.48649,     0.48749,     0.48849,     0.48949,     0.49049,     0.49149,     0.49249,     0.49349,     0.49449,      0.4955,      0.4965,      0.4975,      0.4985,      0.4995,      0.5005,      0.5015,      0.5025,      0.5035,\n",
      "            0.5045,     0.50551,     0.50651,     0.50751,     0.50851,     0.50951,     0.51051,     0.51151,     0.51251,     0.51351,     0.51451,     0.51552,     0.51652,     0.51752,     0.51852,     0.51952,     0.52052,     0.52152,     0.52252,     0.52352,     0.52452,     0.52553,     0.52653,     0.52753,\n",
      "           0.52853,     0.52953,     0.53053,     0.53153,     0.53253,     0.53353,     0.53453,     0.53554,     0.53654,     0.53754,     0.53854,     0.53954,     0.54054,     0.54154,     0.54254,     0.54354,     0.54454,     0.54555,     0.54655,     0.54755,     0.54855,     0.54955,     0.55055,     0.55155,\n",
      "           0.55255,     0.55355,     0.55455,     0.55556,     0.55656,     0.55756,     0.55856,     0.55956,     0.56056,     0.56156,     0.56256,     0.56356,     0.56456,     0.56557,     0.56657,     0.56757,     0.56857,     0.56957,     0.57057,     0.57157,     0.57257,     0.57357,     0.57457,     0.57558,\n",
      "           0.57658,     0.57758,     0.57858,     0.57958,     0.58058,     0.58158,     0.58258,     0.58358,     0.58458,     0.58559,     0.58659,     0.58759,     0.58859,     0.58959,     0.59059,     0.59159,     0.59259,     0.59359,     0.59459,      0.5956,      0.5966,      0.5976,      0.5986,      0.5996,\n",
      "            0.6006,      0.6016,      0.6026,      0.6036,      0.6046,     0.60561,     0.60661,     0.60761,     0.60861,     0.60961,     0.61061,     0.61161,     0.61261,     0.61361,     0.61461,     0.61562,     0.61662,     0.61762,     0.61862,     0.61962,     0.62062,     0.62162,     0.62262,     0.62362,\n",
      "           0.62462,     0.62563,     0.62663,     0.62763,     0.62863,     0.62963,     0.63063,     0.63163,     0.63263,     0.63363,     0.63463,     0.63564,     0.63664,     0.63764,     0.63864,     0.63964,     0.64064,     0.64164,     0.64264,     0.64364,     0.64464,     0.64565,     0.64665,     0.64765,\n",
      "           0.64865,     0.64965,     0.65065,     0.65165,     0.65265,     0.65365,     0.65465,     0.65566,     0.65666,     0.65766,     0.65866,     0.65966,     0.66066,     0.66166,     0.66266,     0.66366,     0.66466,     0.66567,     0.66667,     0.66767,     0.66867,     0.66967,     0.67067,     0.67167,\n",
      "           0.67267,     0.67367,     0.67467,     0.67568,     0.67668,     0.67768,     0.67868,     0.67968,     0.68068,     0.68168,     0.68268,     0.68368,     0.68468,     0.68569,     0.68669,     0.68769,     0.68869,     0.68969,     0.69069,     0.69169,     0.69269,     0.69369,     0.69469,      0.6957,\n",
      "            0.6967,      0.6977,      0.6987,      0.6997,      0.7007,      0.7017,      0.7027,      0.7037,      0.7047,     0.70571,     0.70671,     0.70771,     0.70871,     0.70971,     0.71071,     0.71171,     0.71271,     0.71371,     0.71471,     0.71572,     0.71672,     0.71772,     0.71872,     0.71972,\n",
      "           0.72072,     0.72172,     0.72272,     0.72372,     0.72472,     0.72573,     0.72673,     0.72773,     0.72873,     0.72973,     0.73073,     0.73173,     0.73273,     0.73373,     0.73473,     0.73574,     0.73674,     0.73774,     0.73874,     0.73974,     0.74074,     0.74174,     0.74274,     0.74374,\n",
      "           0.74474,     0.74575,     0.74675,     0.74775,     0.74875,     0.74975,     0.75075,     0.75175,     0.75275,     0.75375,     0.75475,     0.75576,     0.75676,     0.75776,     0.75876,     0.75976,     0.76076,     0.76176,     0.76276,     0.76376,     0.76476,     0.76577,     0.76677,     0.76777,\n",
      "           0.76877,     0.76977,     0.77077,     0.77177,     0.77277,     0.77377,     0.77477,     0.77578,     0.77678,     0.77778,     0.77878,     0.77978,     0.78078,     0.78178,     0.78278,     0.78378,     0.78478,     0.78579,     0.78679,     0.78779,     0.78879,     0.78979,     0.79079,     0.79179,\n",
      "           0.79279,     0.79379,     0.79479,      0.7958,      0.7968,      0.7978,      0.7988,      0.7998,      0.8008,      0.8018,      0.8028,      0.8038,      0.8048,     0.80581,     0.80681,     0.80781,     0.80881,     0.80981,     0.81081,     0.81181,     0.81281,     0.81381,     0.81481,     0.81582,\n",
      "           0.81682,     0.81782,     0.81882,     0.81982,     0.82082,     0.82182,     0.82282,     0.82382,     0.82482,     0.82583,     0.82683,     0.82783,     0.82883,     0.82983,     0.83083,     0.83183,     0.83283,     0.83383,     0.83483,     0.83584,     0.83684,     0.83784,     0.83884,     0.83984,\n",
      "           0.84084,     0.84184,     0.84284,     0.84384,     0.84484,     0.84585,     0.84685,     0.84785,     0.84885,     0.84985,     0.85085,     0.85185,     0.85285,     0.85385,     0.85485,     0.85586,     0.85686,     0.85786,     0.85886,     0.85986,     0.86086,     0.86186,     0.86286,     0.86386,\n",
      "           0.86486,     0.86587,     0.86687,     0.86787,     0.86887,     0.86987,     0.87087,     0.87187,     0.87287,     0.87387,     0.87487,     0.87588,     0.87688,     0.87788,     0.87888,     0.87988,     0.88088,     0.88188,     0.88288,     0.88388,     0.88488,     0.88589,     0.88689,     0.88789,\n",
      "           0.88889,     0.88989,     0.89089,     0.89189,     0.89289,     0.89389,     0.89489,      0.8959,      0.8969,      0.8979,      0.8989,      0.8999,      0.9009,      0.9019,      0.9029,      0.9039,      0.9049,     0.90591,     0.90691,     0.90791,     0.90891,     0.90991,     0.91091,     0.91191,\n",
      "           0.91291,     0.91391,     0.91491,     0.91592,     0.91692,     0.91792,     0.91892,     0.91992,     0.92092,     0.92192,     0.92292,     0.92392,     0.92492,     0.92593,     0.92693,     0.92793,     0.92893,     0.92993,     0.93093,     0.93193,     0.93293,     0.93393,     0.93493,     0.93594,\n",
      "           0.93694,     0.93794,     0.93894,     0.93994,     0.94094,     0.94194,     0.94294,     0.94394,     0.94494,     0.94595,     0.94695,     0.94795,     0.94895,     0.94995,     0.95095,     0.95195,     0.95295,     0.95395,     0.95495,     0.95596,     0.95696,     0.95796,     0.95896,     0.95996,\n",
      "           0.96096,     0.96196,     0.96296,     0.96396,     0.96496,     0.96597,     0.96697,     0.96797,     0.96897,     0.96997,     0.97097,     0.97197,     0.97297,     0.97397,     0.97497,     0.97598,     0.97698,     0.97798,     0.97898,     0.97998,     0.98098,     0.98198,     0.98298,     0.98398,\n",
      "           0.98498,     0.98599,     0.98699,     0.98799,     0.98899,     0.98999,     0.99099,     0.99199,     0.99299,     0.99399,     0.99499,       0.996,       0.997,       0.998,       0.999,           1]), array([[   0.073491,    0.073495,    0.091754,     0.10637,     0.12059,     0.13349,     0.14369,     0.15541,     0.16682,     0.18028,     0.18818,     0.19984,     0.20806,     0.21812,     0.22452,     0.22613,     0.23349,      0.2355,      0.2454,     0.25222,     0.25644,      0.2666,     0.27307,\n",
      "            0.27805,     0.28352,     0.29081,     0.29871,     0.30474,     0.30541,     0.30978,     0.31296,     0.31542,     0.31717,     0.32494,     0.32766,     0.33251,     0.33854,     0.34348,     0.34622,     0.34837,     0.35333,     0.35878,     0.36076,     0.36342,      0.3627,      0.3687,\n",
      "            0.37085,     0.37146,     0.37275,     0.37563,     0.37897,     0.38154,     0.38544,     0.38708,     0.39236,     0.40032,     0.39932,     0.40313,     0.40902,     0.41395,     0.41227,     0.41529,     0.41748,     0.42435,     0.43143,     0.43476,     0.44025,     0.44515,     0.44755,\n",
      "             0.4542,     0.45719,     0.45786,     0.45853,     0.46157,     0.46908,     0.47201,     0.46754,     0.47368,     0.47618,      0.4773,     0.47944,     0.48289,     0.48446,     0.48671,     0.48219,     0.48595,     0.48211,     0.48505,     0.49121,     0.49387,     0.49491,     0.49627,\n",
      "            0.49889,     0.50804,      0.5095,     0.51027,     0.51083,     0.50497,     0.50734,     0.51088,     0.51337,     0.51448,     0.50512,     0.50303,      0.4953,     0.49387,     0.49523,     0.49688,      0.4988,     0.50118,     0.50393,      0.5098,     0.51292,     0.51619,      0.5203,\n",
      "            0.52135,     0.52241,     0.52354,     0.52467,     0.52793,       0.529,     0.53012,     0.53196,     0.53357,     0.53504,     0.53579,     0.53209,     0.53423,     0.53728,        0.54,     0.54151,     0.54504,     0.54567,      0.5463,     0.54693,     0.54776,     0.54906,     0.54807,\n",
      "            0.53486,     0.53621,     0.53756,     0.53897,     0.53738,     0.54234,     0.53675,     0.53935,     0.54008,     0.54081,     0.54154,     0.54227,     0.54354,     0.54491,     0.54731,     0.55047,     0.55312,     0.55546,     0.55796,     0.55889,     0.55969,      0.5605,      0.5613,\n",
      "            0.56232,     0.56338,     0.56443,      0.5658,     0.56728,     0.56878,     0.57032,     0.57401,     0.57582,     0.57687,     0.57793,     0.57879,     0.57954,     0.58029,     0.58103,     0.58178,     0.58252,     0.58327,     0.58401,     0.58475,     0.58586,     0.58871,     0.59013,\n",
      "            0.59142,     0.59283,     0.59564,     0.59655,      0.5969,     0.59725,     0.59761,     0.59796,     0.59831,     0.59867,     0.59902,     0.59937,     0.59972,      0.6044,     0.60825,     0.61165,     0.61252,     0.61338,     0.61425,     0.61511,     0.61812,     0.61958,      0.6199,\n",
      "            0.62022,     0.62054,     0.62086,     0.62118,      0.6215,     0.62182,     0.62214,     0.62246,     0.62278,      0.6231,     0.61855,     0.61526,     0.61625,     0.61724,     0.61823,     0.61869,     0.61903,     0.61937,      0.6197,     0.62004,     0.62037,     0.62071,     0.62104,\n",
      "            0.62137,     0.62171,     0.62204,     0.62237,     0.62305,     0.62399,     0.62493,     0.62586,     0.62671,     0.62704,     0.62737,     0.62769,     0.62802,     0.62834,     0.62867,       0.629,     0.62932,     0.62965,     0.62997,     0.63029,     0.63062,     0.63167,      0.6352,\n",
      "             0.6361,       0.637,      0.6379,     0.63879,     0.63846,     0.63456,     0.63065,     0.63191,     0.63393,     0.63588,      0.6378,     0.63915,     0.63974,     0.64033,     0.64093,     0.64152,     0.64211,      0.6427,     0.64328,     0.64358,     0.64384,     0.64409,     0.64435,\n",
      "             0.6446,     0.64486,     0.64511,     0.64537,     0.64562,     0.64588,     0.64613,     0.64638,     0.64664,     0.64689,     0.64714,      0.6474,     0.64765,     0.64792,     0.64847,     0.64902,     0.64956,     0.65011,     0.65065,      0.6512,     0.65174,     0.65228,     0.64928,\n",
      "            0.64414,     0.64328,     0.64384,      0.6444,     0.64496,     0.64552,     0.64608,     0.64664,     0.64719,     0.64765,     0.64801,     0.64836,     0.64871,     0.64906,     0.64942,     0.64977,     0.65012,     0.65047,     0.65082,     0.65117,     0.65152,     0.65187,     0.65224,\n",
      "            0.65277,      0.6533,     0.65383,     0.65436,     0.65489,     0.65542,     0.65595,     0.65647,       0.657,     0.65757,     0.65815,     0.65872,     0.65928,     0.65985,     0.66042,     0.66099,     0.66155,     0.66677,     0.66698,     0.66718,     0.66739,     0.66759,      0.6678,\n",
      "              0.668,     0.66821,     0.66841,     0.66862,     0.66882,     0.66902,     0.66923,     0.66943,     0.66964,     0.66984,     0.67004,     0.67024,     0.67045,     0.67065,     0.67085,     0.67106,     0.67126,     0.67146,     0.67208,      0.6765,     0.67789,     0.67914,     0.68038,\n",
      "            0.68161,     0.68037,     0.67863,     0.67689,     0.67514,     0.67339,     0.67216,     0.67688,     0.67667,     0.67645,     0.67624,     0.67602,     0.67581,     0.67559,     0.67538,     0.67516,     0.67495,     0.67474,     0.67452,     0.67431,     0.67409,     0.67388,     0.67366,\n",
      "            0.67345,     0.67323,     0.67302,      0.6728,     0.67259,     0.67237,     0.67216,     0.67194,     0.67173,     0.67151,      0.6713,     0.67108,     0.67086,     0.67065,     0.67043,     0.67022,        0.67,     0.66979,     0.66957,     0.66935,     0.66914,     0.66892,     0.66871,\n",
      "            0.66849,     0.66827,     0.66806,     0.66784,     0.66763,     0.66741,     0.66719,     0.66698,     0.66676,     0.66597,     0.66473,     0.66349,     0.66225,       0.661,     0.65976,     0.65851,     0.65726,     0.65557,     0.65194,     0.64829,     0.64575,     0.64602,     0.64629,\n",
      "            0.64657,     0.64684,     0.64711,     0.64738,     0.64765,     0.64792,      0.6482,     0.64847,     0.64874,     0.64901,     0.64928,     0.64954,     0.64981,     0.65008,     0.65035,     0.65062,     0.65059,        0.65,     0.64941,     0.64882,     0.64823,     0.64764,     0.64705,\n",
      "            0.64646,     0.64586,     0.64527,     0.64468,     0.64409,     0.64349,      0.6429,      0.6423,     0.64171,     0.64112,     0.64052,     0.64026,     0.64232,     0.64437,     0.64497,     0.64466,     0.64435,     0.64404,     0.64373,     0.64342,     0.64311,      0.6428,     0.64248,\n",
      "            0.64217,     0.64186,     0.64155,     0.64124,     0.64093,     0.64061,      0.6403,     0.63999,     0.63968,     0.63937,     0.63905,     0.63874,     0.63843,     0.63812,      0.6378,     0.63749,     0.63718,     0.63686,     0.63655,     0.63624,     0.63592,     0.63561,      0.6353,\n",
      "            0.63498,     0.63467,     0.63435,     0.63394,     0.63332,     0.63271,     0.63209,     0.63147,     0.63086,     0.63024,     0.62962,       0.629,     0.62839,     0.62777,     0.62715,     0.62653,     0.62591,     0.62529,     0.62467,     0.62405,     0.62342,     0.62272,     0.62177,\n",
      "            0.62082,     0.61986,     0.61891,     0.61795,     0.61699,     0.61603,     0.61507,     0.61411,     0.61315,     0.61219,     0.61186,     0.61268,     0.61349,      0.6143,     0.61511,     0.61591,     0.61473,     0.60469,      0.6042,     0.60371,     0.60323,     0.60274,     0.60225,\n",
      "            0.60176,     0.60128,     0.60079,      0.6003,     0.59981,     0.59932,     0.59883,     0.59834,     0.59785,     0.59736,     0.59687,     0.59638,     0.59589,      0.5954,      0.5949,     0.59441,     0.59392,     0.59343,     0.59255,      0.5914,     0.59024,     0.58908,     0.58792,\n",
      "            0.58675,     0.58559,     0.58443,     0.58326,     0.58209,     0.57999,     0.57478,     0.56955,     0.56981,     0.57074,     0.57168,     0.57261,     0.57353,     0.57689,     0.57634,     0.57191,     0.56746,     0.56714,     0.56815,     0.56915,     0.57014,     0.57113,     0.57343,\n",
      "            0.57627,     0.57683,     0.57712,     0.57741,      0.5777,     0.57799,     0.57827,     0.57856,     0.57885,     0.57913,     0.57942,      0.5797,     0.57998,     0.58027,     0.58055,     0.58083,     0.58111,     0.58139,     0.58167,     0.58114,     0.57972,     0.57829,     0.57686,\n",
      "            0.57543,       0.574,     0.57256,     0.57112,     0.56968,     0.56798,     0.56591,     0.56383,     0.56175,     0.55966,     0.55756,      0.5555,      0.5542,      0.5529,      0.5516,      0.5503,     0.54899,     0.54769,     0.54638,     0.54506,     0.54375,     0.54244,      0.5417,\n",
      "             0.5412,     0.54071,     0.54021,     0.53971,     0.53921,     0.53871,     0.53821,     0.53771,     0.53721,     0.53671,     0.53621,     0.53571,     0.53521,      0.5347,      0.5342,      0.5337,      0.5332,      0.5327,     0.53219,     0.53169,     0.53119,     0.53068,     0.53018,\n",
      "            0.52967,     0.52917,     0.52866,     0.52812,     0.52749,     0.52685,     0.52622,     0.52559,     0.52495,     0.52432,     0.52368,     0.52304,     0.52241,     0.52177,     0.52113,     0.52049,     0.51986,     0.51922,     0.51858,     0.51794,      0.5173,     0.51666,     0.51602,\n",
      "            0.51537,     0.51473,     0.51354,     0.51108,     0.50862,     0.50614,     0.50367,     0.50118,     0.50334,     0.50402,     0.50292,     0.50181,      0.5007,     0.49959,     0.49848,     0.49737,     0.49626,     0.49514,     0.49403,     0.49291,     0.49179,     0.49067,     0.49305,\n",
      "            0.49454,     0.49368,     0.49281,     0.49194,     0.49107,      0.4902,     0.48933,     0.48846,     0.48759,     0.48672,     0.48584,     0.48497,     0.48409,     0.48322,     0.48234,     0.48146,     0.48058,     0.46938,     0.45902,     0.45235,     0.43219,     0.42879,     0.42537,\n",
      "            0.42195,     0.41851,      0.4168,     0.41709,     0.41738,     0.41766,     0.41795,     0.41823,     0.41851,     0.41879,     0.41907,     0.41935,     0.41962,      0.4199,     0.42017,     0.42045,     0.42072,     0.42099,     0.41911,     0.41655,     0.41399,     0.41142,     0.40884,\n",
      "            0.40625,     0.39971,     0.37393,     0.36971,     0.36988,     0.37005,     0.37022,     0.37038,     0.37055,     0.37071,     0.37088,     0.37104,      0.3712,     0.37137,     0.37153,     0.37169,     0.37185,     0.37201,     0.37217,     0.37233,     0.37249,     0.37264,      0.3728,\n",
      "            0.37296,     0.37311,     0.37327,     0.37343,     0.37358,     0.35545,     0.35247,     0.34948,     0.34648,     0.34347,     0.34045,     0.33742,     0.31442,     0.30924,     0.30404,     0.29884,     0.29753,     0.29621,      0.2949,     0.29358,     0.29226,     0.29094,     0.28961,\n",
      "            0.28829,     0.28696,     0.28563,      0.2843,     0.28296,     0.28163,     0.28029,     0.27899,     0.27808,     0.27717,     0.27625,     0.27534,     0.27443,     0.27351,      0.2726,     0.27168,     0.27076,     0.26984,     0.26892,       0.268,     0.26708,     0.26616,     0.26524,\n",
      "            0.26431,     0.26339,     0.26246,     0.26153,      0.2606,     0.25967,     0.25794,     0.24754,     0.23482,     0.21614,      0.2145,     0.21287,     0.21123,     0.20958,     0.20794,     0.20629,     0.20464,     0.20298,     0.20133,     0.19966,       0.198,     0.19633,     0.19244,\n",
      "            0.18259,     0.17282,     0.17171,     0.17061,      0.1695,      0.1684,     0.16729,     0.16618,     0.16507,     0.16396,     0.16284,     0.16173,     0.16061,     0.15949,     0.15838,     0.15726,     0.15613,     0.15501,     0.15389,     0.15276,     0.15163,     0.15051,     0.14749,\n",
      "            0.14294,     0.13836,     0.13376,     0.12914,     0.12052,     0.10688,     0.10125,    0.099339,    0.097421,      0.0955,    0.093575,    0.091646,    0.089713,    0.087776,    0.085835,     0.08389,    0.081942,    0.079989,    0.078032,    0.077117,    0.076264,     0.07541,    0.074555,\n",
      "             0.0737,    0.072843,    0.071986,    0.071128,     0.07027,     0.06941,     0.06855,    0.067689,    0.066828,    0.065965,    0.065102,    0.064238,    0.063373,    0.062508,    0.061641,    0.060774,    0.059906,    0.059038,    0.058168,    0.057298,    0.056427,    0.055555,    0.054683,\n",
      "            0.05381,    0.052936,    0.051811,    0.050553,    0.049293,    0.048031,    0.046768,    0.045503,    0.044236,    0.042968,    0.041698,    0.040427,    0.039154,    0.037879,    0.036602,    0.035324,    0.034044,    0.032763,     0.03148,    0.030195,    0.028908,     0.02762,           0,\n",
      "                  0,           0,           0,           0,           0,           0,           0,           0,           0,           0,           0,           0,           0,           0,           0,           0,           0,           0,           0,           0,           0,           0,           0,\n",
      "                  0,           0,           0,           0,           0,           0,           0,           0,           0,           0,           0,           0,           0,           0,           0,           0,           0,           0,           0,           0,           0,           0,           0,\n",
      "                  0,           0,           0,           0,           0,           0,           0,           0,           0,           0,           0]]), 'Confidence', 'F1'], [array([          0,    0.001001,    0.002002,    0.003003,    0.004004,    0.005005,    0.006006,    0.007007,    0.008008,    0.009009,     0.01001,    0.011011,    0.012012,    0.013013,    0.014014,    0.015015,    0.016016,    0.017017,    0.018018,    0.019019,     0.02002,    0.021021,    0.022022,    0.023023,\n",
      "          0.024024,    0.025025,    0.026026,    0.027027,    0.028028,    0.029029,     0.03003,    0.031031,    0.032032,    0.033033,    0.034034,    0.035035,    0.036036,    0.037037,    0.038038,    0.039039,     0.04004,    0.041041,    0.042042,    0.043043,    0.044044,    0.045045,    0.046046,    0.047047,\n",
      "          0.048048,    0.049049,     0.05005,    0.051051,    0.052052,    0.053053,    0.054054,    0.055055,    0.056056,    0.057057,    0.058058,    0.059059,     0.06006,    0.061061,    0.062062,    0.063063,    0.064064,    0.065065,    0.066066,    0.067067,    0.068068,    0.069069,     0.07007,    0.071071,\n",
      "          0.072072,    0.073073,    0.074074,    0.075075,    0.076076,    0.077077,    0.078078,    0.079079,     0.08008,    0.081081,    0.082082,    0.083083,    0.084084,    0.085085,    0.086086,    0.087087,    0.088088,    0.089089,     0.09009,    0.091091,    0.092092,    0.093093,    0.094094,    0.095095,\n",
      "          0.096096,    0.097097,    0.098098,    0.099099,      0.1001,      0.1011,      0.1021,      0.1031,      0.1041,     0.10511,     0.10611,     0.10711,     0.10811,     0.10911,     0.11011,     0.11111,     0.11211,     0.11311,     0.11411,     0.11512,     0.11612,     0.11712,     0.11812,     0.11912,\n",
      "           0.12012,     0.12112,     0.12212,     0.12312,     0.12412,     0.12513,     0.12613,     0.12713,     0.12813,     0.12913,     0.13013,     0.13113,     0.13213,     0.13313,     0.13413,     0.13514,     0.13614,     0.13714,     0.13814,     0.13914,     0.14014,     0.14114,     0.14214,     0.14314,\n",
      "           0.14414,     0.14515,     0.14615,     0.14715,     0.14815,     0.14915,     0.15015,     0.15115,     0.15215,     0.15315,     0.15415,     0.15516,     0.15616,     0.15716,     0.15816,     0.15916,     0.16016,     0.16116,     0.16216,     0.16316,     0.16416,     0.16517,     0.16617,     0.16717,\n",
      "           0.16817,     0.16917,     0.17017,     0.17117,     0.17217,     0.17317,     0.17417,     0.17518,     0.17618,     0.17718,     0.17818,     0.17918,     0.18018,     0.18118,     0.18218,     0.18318,     0.18418,     0.18519,     0.18619,     0.18719,     0.18819,     0.18919,     0.19019,     0.19119,\n",
      "           0.19219,     0.19319,     0.19419,      0.1952,      0.1962,      0.1972,      0.1982,      0.1992,      0.2002,      0.2012,      0.2022,      0.2032,      0.2042,     0.20521,     0.20621,     0.20721,     0.20821,     0.20921,     0.21021,     0.21121,     0.21221,     0.21321,     0.21421,     0.21522,\n",
      "           0.21622,     0.21722,     0.21822,     0.21922,     0.22022,     0.22122,     0.22222,     0.22322,     0.22422,     0.22523,     0.22623,     0.22723,     0.22823,     0.22923,     0.23023,     0.23123,     0.23223,     0.23323,     0.23423,     0.23524,     0.23624,     0.23724,     0.23824,     0.23924,\n",
      "           0.24024,     0.24124,     0.24224,     0.24324,     0.24424,     0.24525,     0.24625,     0.24725,     0.24825,     0.24925,     0.25025,     0.25125,     0.25225,     0.25325,     0.25425,     0.25526,     0.25626,     0.25726,     0.25826,     0.25926,     0.26026,     0.26126,     0.26226,     0.26326,\n",
      "           0.26426,     0.26527,     0.26627,     0.26727,     0.26827,     0.26927,     0.27027,     0.27127,     0.27227,     0.27327,     0.27427,     0.27528,     0.27628,     0.27728,     0.27828,     0.27928,     0.28028,     0.28128,     0.28228,     0.28328,     0.28428,     0.28529,     0.28629,     0.28729,\n",
      "           0.28829,     0.28929,     0.29029,     0.29129,     0.29229,     0.29329,     0.29429,      0.2953,      0.2963,      0.2973,      0.2983,      0.2993,      0.3003,      0.3013,      0.3023,      0.3033,      0.3043,     0.30531,     0.30631,     0.30731,     0.30831,     0.30931,     0.31031,     0.31131,\n",
      "           0.31231,     0.31331,     0.31431,     0.31532,     0.31632,     0.31732,     0.31832,     0.31932,     0.32032,     0.32132,     0.32232,     0.32332,     0.32432,     0.32533,     0.32633,     0.32733,     0.32833,     0.32933,     0.33033,     0.33133,     0.33233,     0.33333,     0.33433,     0.33534,\n",
      "           0.33634,     0.33734,     0.33834,     0.33934,     0.34034,     0.34134,     0.34234,     0.34334,     0.34434,     0.34535,     0.34635,     0.34735,     0.34835,     0.34935,     0.35035,     0.35135,     0.35235,     0.35335,     0.35435,     0.35536,     0.35636,     0.35736,     0.35836,     0.35936,\n",
      "           0.36036,     0.36136,     0.36236,     0.36336,     0.36436,     0.36537,     0.36637,     0.36737,     0.36837,     0.36937,     0.37037,     0.37137,     0.37237,     0.37337,     0.37437,     0.37538,     0.37638,     0.37738,     0.37838,     0.37938,     0.38038,     0.38138,     0.38238,     0.38338,\n",
      "           0.38438,     0.38539,     0.38639,     0.38739,     0.38839,     0.38939,     0.39039,     0.39139,     0.39239,     0.39339,     0.39439,      0.3954,      0.3964,      0.3974,      0.3984,      0.3994,      0.4004,      0.4014,      0.4024,      0.4034,      0.4044,     0.40541,     0.40641,     0.40741,\n",
      "           0.40841,     0.40941,     0.41041,     0.41141,     0.41241,     0.41341,     0.41441,     0.41542,     0.41642,     0.41742,     0.41842,     0.41942,     0.42042,     0.42142,     0.42242,     0.42342,     0.42442,     0.42543,     0.42643,     0.42743,     0.42843,     0.42943,     0.43043,     0.43143,\n",
      "           0.43243,     0.43343,     0.43443,     0.43544,     0.43644,     0.43744,     0.43844,     0.43944,     0.44044,     0.44144,     0.44244,     0.44344,     0.44444,     0.44545,     0.44645,     0.44745,     0.44845,     0.44945,     0.45045,     0.45145,     0.45245,     0.45345,     0.45445,     0.45546,\n",
      "           0.45646,     0.45746,     0.45846,     0.45946,     0.46046,     0.46146,     0.46246,     0.46346,     0.46446,     0.46547,     0.46647,     0.46747,     0.46847,     0.46947,     0.47047,     0.47147,     0.47247,     0.47347,     0.47447,     0.47548,     0.47648,     0.47748,     0.47848,     0.47948,\n",
      "           0.48048,     0.48148,     0.48248,     0.48348,     0.48448,     0.48549,     0.48649,     0.48749,     0.48849,     0.48949,     0.49049,     0.49149,     0.49249,     0.49349,     0.49449,      0.4955,      0.4965,      0.4975,      0.4985,      0.4995,      0.5005,      0.5015,      0.5025,      0.5035,\n",
      "            0.5045,     0.50551,     0.50651,     0.50751,     0.50851,     0.50951,     0.51051,     0.51151,     0.51251,     0.51351,     0.51451,     0.51552,     0.51652,     0.51752,     0.51852,     0.51952,     0.52052,     0.52152,     0.52252,     0.52352,     0.52452,     0.52553,     0.52653,     0.52753,\n",
      "           0.52853,     0.52953,     0.53053,     0.53153,     0.53253,     0.53353,     0.53453,     0.53554,     0.53654,     0.53754,     0.53854,     0.53954,     0.54054,     0.54154,     0.54254,     0.54354,     0.54454,     0.54555,     0.54655,     0.54755,     0.54855,     0.54955,     0.55055,     0.55155,\n",
      "           0.55255,     0.55355,     0.55455,     0.55556,     0.55656,     0.55756,     0.55856,     0.55956,     0.56056,     0.56156,     0.56256,     0.56356,     0.56456,     0.56557,     0.56657,     0.56757,     0.56857,     0.56957,     0.57057,     0.57157,     0.57257,     0.57357,     0.57457,     0.57558,\n",
      "           0.57658,     0.57758,     0.57858,     0.57958,     0.58058,     0.58158,     0.58258,     0.58358,     0.58458,     0.58559,     0.58659,     0.58759,     0.58859,     0.58959,     0.59059,     0.59159,     0.59259,     0.59359,     0.59459,      0.5956,      0.5966,      0.5976,      0.5986,      0.5996,\n",
      "            0.6006,      0.6016,      0.6026,      0.6036,      0.6046,     0.60561,     0.60661,     0.60761,     0.60861,     0.60961,     0.61061,     0.61161,     0.61261,     0.61361,     0.61461,     0.61562,     0.61662,     0.61762,     0.61862,     0.61962,     0.62062,     0.62162,     0.62262,     0.62362,\n",
      "           0.62462,     0.62563,     0.62663,     0.62763,     0.62863,     0.62963,     0.63063,     0.63163,     0.63263,     0.63363,     0.63463,     0.63564,     0.63664,     0.63764,     0.63864,     0.63964,     0.64064,     0.64164,     0.64264,     0.64364,     0.64464,     0.64565,     0.64665,     0.64765,\n",
      "           0.64865,     0.64965,     0.65065,     0.65165,     0.65265,     0.65365,     0.65465,     0.65566,     0.65666,     0.65766,     0.65866,     0.65966,     0.66066,     0.66166,     0.66266,     0.66366,     0.66466,     0.66567,     0.66667,     0.66767,     0.66867,     0.66967,     0.67067,     0.67167,\n",
      "           0.67267,     0.67367,     0.67467,     0.67568,     0.67668,     0.67768,     0.67868,     0.67968,     0.68068,     0.68168,     0.68268,     0.68368,     0.68468,     0.68569,     0.68669,     0.68769,     0.68869,     0.68969,     0.69069,     0.69169,     0.69269,     0.69369,     0.69469,      0.6957,\n",
      "            0.6967,      0.6977,      0.6987,      0.6997,      0.7007,      0.7017,      0.7027,      0.7037,      0.7047,     0.70571,     0.70671,     0.70771,     0.70871,     0.70971,     0.71071,     0.71171,     0.71271,     0.71371,     0.71471,     0.71572,     0.71672,     0.71772,     0.71872,     0.71972,\n",
      "           0.72072,     0.72172,     0.72272,     0.72372,     0.72472,     0.72573,     0.72673,     0.72773,     0.72873,     0.72973,     0.73073,     0.73173,     0.73273,     0.73373,     0.73473,     0.73574,     0.73674,     0.73774,     0.73874,     0.73974,     0.74074,     0.74174,     0.74274,     0.74374,\n",
      "           0.74474,     0.74575,     0.74675,     0.74775,     0.74875,     0.74975,     0.75075,     0.75175,     0.75275,     0.75375,     0.75475,     0.75576,     0.75676,     0.75776,     0.75876,     0.75976,     0.76076,     0.76176,     0.76276,     0.76376,     0.76476,     0.76577,     0.76677,     0.76777,\n",
      "           0.76877,     0.76977,     0.77077,     0.77177,     0.77277,     0.77377,     0.77477,     0.77578,     0.77678,     0.77778,     0.77878,     0.77978,     0.78078,     0.78178,     0.78278,     0.78378,     0.78478,     0.78579,     0.78679,     0.78779,     0.78879,     0.78979,     0.79079,     0.79179,\n",
      "           0.79279,     0.79379,     0.79479,      0.7958,      0.7968,      0.7978,      0.7988,      0.7998,      0.8008,      0.8018,      0.8028,      0.8038,      0.8048,     0.80581,     0.80681,     0.80781,     0.80881,     0.80981,     0.81081,     0.81181,     0.81281,     0.81381,     0.81481,     0.81582,\n",
      "           0.81682,     0.81782,     0.81882,     0.81982,     0.82082,     0.82182,     0.82282,     0.82382,     0.82482,     0.82583,     0.82683,     0.82783,     0.82883,     0.82983,     0.83083,     0.83183,     0.83283,     0.83383,     0.83483,     0.83584,     0.83684,     0.83784,     0.83884,     0.83984,\n",
      "           0.84084,     0.84184,     0.84284,     0.84384,     0.84484,     0.84585,     0.84685,     0.84785,     0.84885,     0.84985,     0.85085,     0.85185,     0.85285,     0.85385,     0.85485,     0.85586,     0.85686,     0.85786,     0.85886,     0.85986,     0.86086,     0.86186,     0.86286,     0.86386,\n",
      "           0.86486,     0.86587,     0.86687,     0.86787,     0.86887,     0.86987,     0.87087,     0.87187,     0.87287,     0.87387,     0.87487,     0.87588,     0.87688,     0.87788,     0.87888,     0.87988,     0.88088,     0.88188,     0.88288,     0.88388,     0.88488,     0.88589,     0.88689,     0.88789,\n",
      "           0.88889,     0.88989,     0.89089,     0.89189,     0.89289,     0.89389,     0.89489,      0.8959,      0.8969,      0.8979,      0.8989,      0.8999,      0.9009,      0.9019,      0.9029,      0.9039,      0.9049,     0.90591,     0.90691,     0.90791,     0.90891,     0.90991,     0.91091,     0.91191,\n",
      "           0.91291,     0.91391,     0.91491,     0.91592,     0.91692,     0.91792,     0.91892,     0.91992,     0.92092,     0.92192,     0.92292,     0.92392,     0.92492,     0.92593,     0.92693,     0.92793,     0.92893,     0.92993,     0.93093,     0.93193,     0.93293,     0.93393,     0.93493,     0.93594,\n",
      "           0.93694,     0.93794,     0.93894,     0.93994,     0.94094,     0.94194,     0.94294,     0.94394,     0.94494,     0.94595,     0.94695,     0.94795,     0.94895,     0.94995,     0.95095,     0.95195,     0.95295,     0.95395,     0.95495,     0.95596,     0.95696,     0.95796,     0.95896,     0.95996,\n",
      "           0.96096,     0.96196,     0.96296,     0.96396,     0.96496,     0.96597,     0.96697,     0.96797,     0.96897,     0.96997,     0.97097,     0.97197,     0.97297,     0.97397,     0.97497,     0.97598,     0.97698,     0.97798,     0.97898,     0.97998,     0.98098,     0.98198,     0.98298,     0.98398,\n",
      "           0.98498,     0.98599,     0.98699,     0.98799,     0.98899,     0.98999,     0.99099,     0.99199,     0.99299,     0.99399,     0.99499,       0.996,       0.997,       0.998,       0.999,           1]), array([[    0.03823,    0.038233,    0.048251,    0.056402,    0.064463,    0.071889,    0.077842,    0.084768,    0.091607,    0.099784,     0.10483,     0.11211,     0.11753,     0.12399,     0.12815,     0.12948,     0.13433,     0.13598,     0.14262,     0.14725,     0.15013,     0.15715,     0.16166,\n",
      "            0.16517,     0.16904,     0.17425,     0.17995,     0.18435,     0.18545,     0.18868,     0.19105,     0.19288,     0.19419,     0.20005,     0.20212,     0.20582,     0.21046,      0.2143,     0.21643,     0.21811,     0.22202,     0.22634,     0.22791,     0.23009,     0.23044,     0.23531,\n",
      "            0.23705,     0.23755,     0.23861,     0.24097,     0.24374,     0.24586,     0.24911,     0.25049,     0.25492,     0.26169,     0.26213,     0.26542,     0.27055,     0.27488,     0.27488,     0.27756,     0.27952,     0.28572,     0.29217,     0.29523,     0.30032,      0.3049,     0.30716,\n",
      "            0.31346,     0.31632,     0.31695,     0.31759,     0.32052,     0.32781,     0.33068,     0.32848,     0.33457,     0.33706,     0.33819,     0.34034,     0.34384,     0.34543,     0.34771,      0.3456,     0.34948,     0.34812,      0.3512,     0.35769,     0.36051,     0.36163,     0.36308,\n",
      "            0.36589,     0.37582,     0.37742,     0.37827,     0.37897,     0.37534,     0.37823,     0.38218,     0.38498,     0.38811,     0.38227,     0.38218,     0.37732,     0.37688,     0.37846,     0.38039,     0.38264,     0.38545,     0.38872,     0.39574,     0.39952,      0.4035,     0.40855,\n",
      "            0.40984,     0.41116,     0.41256,     0.41397,     0.41803,     0.41938,     0.42078,     0.42311,     0.42515,     0.42702,     0.42947,     0.42715,     0.43091,      0.4349,     0.43847,     0.44047,     0.44515,       0.446,     0.44684,     0.44769,      0.4488,     0.45055,      0.4508,\n",
      "            0.44262,     0.44447,     0.44632,     0.45171,     0.45217,     0.45924,     0.45778,     0.46157,     0.46264,     0.46372,     0.46479,     0.46586,     0.46775,     0.46978,     0.47335,      0.4781,     0.48212,     0.48568,     0.48952,     0.49095,     0.49219,     0.49344,     0.49468,\n",
      "            0.49627,     0.49792,     0.49956,     0.50171,     0.50405,     0.50643,     0.50886,     0.51478,     0.51769,      0.5194,     0.52111,     0.52252,     0.52374,     0.52496,     0.52618,      0.5274,     0.52863,     0.52986,     0.53109,     0.53232,     0.53416,     0.53891,      0.5413,\n",
      "            0.54347,     0.54586,     0.55064,     0.55219,      0.5528,     0.55341,     0.55401,     0.55462,     0.55523,     0.55583,     0.55644,     0.55705,     0.55765,     0.56581,     0.57259,     0.57864,      0.5802,     0.58176,     0.58331,     0.58487,     0.59034,       0.593,     0.59359,\n",
      "            0.59418,     0.59477,     0.59536,     0.59595,     0.59654,     0.59713,     0.59772,     0.59831,      0.5989,     0.59949,     0.59728,     0.59659,     0.59846,     0.60033,     0.60221,     0.60308,     0.60372,     0.60436,       0.605,     0.60564,     0.60628,     0.60692,     0.60756,\n",
      "             0.6082,     0.60883,     0.60947,     0.61011,     0.61142,     0.61323,     0.61504,     0.61685,     0.61851,     0.61914,     0.61978,     0.62042,     0.62106,      0.6217,     0.62234,     0.62297,     0.62361,     0.62425,     0.62489,     0.62553,     0.62616,     0.62825,     0.63527,\n",
      "            0.63707,     0.63888,     0.64069,     0.64249,      0.6433,     0.64123,     0.63916,     0.64253,     0.64673,     0.65081,     0.65485,     0.65769,     0.65895,     0.66021,     0.66147,     0.66273,     0.66399,     0.66525,     0.66651,     0.66715,      0.6677,     0.66825,      0.6688,\n",
      "            0.66935,      0.6699,     0.67045,       0.671,     0.67155,      0.6721,     0.67265,      0.6732,     0.67375,      0.6743,     0.67485,      0.6754,     0.67595,     0.67654,     0.67774,     0.67894,     0.68013,     0.68133,     0.68253,     0.68372,     0.68492,     0.68612,     0.68498,\n",
      "            0.68245,     0.68277,     0.68404,     0.68531,     0.68658,     0.68785,     0.68911,     0.69038,     0.69165,      0.6927,     0.69351,     0.69432,     0.69513,     0.69594,     0.69675,     0.69755,     0.69836,     0.69917,     0.69998,     0.70079,      0.7016,     0.70241,     0.70327,\n",
      "            0.70451,     0.70575,     0.70699,     0.70823,     0.70947,     0.71071,     0.71195,     0.71319,     0.71444,      0.7158,     0.71716,     0.71851,     0.71987,     0.72122,     0.72258,     0.72393,     0.72529,     0.73797,     0.73847,     0.73897,     0.73948,     0.73998,     0.74048,\n",
      "            0.74099,     0.74149,     0.74199,      0.7425,       0.743,      0.7435,     0.74401,     0.74451,     0.74501,     0.74552,     0.74602,     0.74653,     0.74703,     0.74753,     0.74804,     0.74854,     0.74904,     0.74955,     0.75109,     0.76221,     0.76576,     0.76895,     0.77214,\n",
      "            0.77533,     0.77529,     0.77461,     0.77393,     0.77325,     0.77257,     0.77299,      0.7857,     0.78562,     0.78553,     0.78545,     0.78537,     0.78529,     0.78521,     0.78513,     0.78504,     0.78496,     0.78488,      0.7848,     0.78472,     0.78463,     0.78455,     0.78447,\n",
      "            0.78439,     0.78431,     0.78423,     0.78414,     0.78406,     0.78398,      0.7839,     0.78382,     0.78373,     0.78365,     0.78357,     0.78349,     0.78341,     0.78333,     0.78324,     0.78316,     0.78308,       0.783,     0.78292,     0.78284,     0.78275,     0.78267,     0.78259,\n",
      "            0.78251,     0.78243,     0.78234,     0.78226,     0.78218,      0.7821,     0.78202,     0.78194,     0.78185,     0.78155,     0.78106,     0.78058,      0.7801,     0.77962,     0.77913,     0.77865,     0.77817,     0.77751,     0.77606,     0.77462,     0.77381,     0.77459,     0.77538,\n",
      "            0.77616,     0.77695,     0.77773,     0.77852,      0.7793,     0.78009,     0.78088,     0.78166,     0.78245,     0.78323,     0.78402,      0.7848,     0.78559,     0.78637,     0.78716,     0.78795,     0.78838,     0.78816,     0.78793,      0.7877,     0.78747,     0.78724,     0.78702,\n",
      "            0.78679,     0.78656,     0.78633,     0.78611,     0.78588,     0.78565,     0.78542,      0.7852,     0.78497,     0.78474,     0.78451,      0.7851,     0.79133,     0.79756,     0.79993,     0.79981,      0.7997,     0.79958,     0.79947,     0.79935,     0.79924,     0.79912,       0.799,\n",
      "            0.79889,     0.79877,     0.79866,     0.79854,     0.79843,     0.79831,     0.79819,     0.79808,     0.79796,     0.79785,     0.79773,     0.79762,      0.7975,     0.79738,     0.79727,     0.79715,     0.79704,     0.79692,     0.79681,     0.79669,     0.79657,     0.79646,     0.79634,\n",
      "            0.79623,     0.79611,       0.796,     0.79584,      0.7956,     0.79537,     0.79513,      0.7949,     0.79466,     0.79443,     0.79419,     0.79396,     0.79372,     0.79349,     0.79325,     0.79302,     0.79278,     0.79255,     0.79232,     0.79208,     0.79185,     0.79158,      0.7912,\n",
      "            0.79083,     0.79046,     0.79009,     0.78971,     0.78934,     0.78897,     0.78859,     0.78822,     0.78785,     0.78747,      0.7882,     0.79092,     0.79363,     0.79635,     0.79907,     0.80178,     0.80362,     0.79986,     0.79968,     0.79949,      0.7993,     0.79911,     0.79892,\n",
      "            0.79873,     0.79855,     0.79836,     0.79817,     0.79798,     0.79779,      0.7976,     0.79742,     0.79723,     0.79704,     0.79685,     0.79666,     0.79648,     0.79629,      0.7961,     0.79591,     0.79572,     0.79553,     0.79519,     0.79473,     0.79427,     0.79381,     0.79335,\n",
      "            0.79289,     0.79243,     0.79197,     0.79151,     0.79105,      0.7902,     0.78808,     0.78595,     0.78893,     0.79254,     0.79615,     0.79976,     0.80337,     0.81669,     0.82406,     0.82248,      0.8209,     0.82374,     0.82801,     0.83227,     0.83654,      0.8408,     0.85087,\n",
      "            0.86349,     0.86603,     0.86733,     0.86864,     0.86994,     0.87125,     0.87255,     0.87385,     0.87516,     0.87646,     0.87777,     0.87907,     0.88038,     0.88168,     0.88299,     0.88429,     0.88559,      0.8869,      0.8882,     0.88872,     0.88837,     0.88802,     0.88767,\n",
      "            0.88732,     0.88697,     0.88662,     0.88627,     0.88592,      0.8855,     0.88498,     0.88445,     0.88392,     0.88339,     0.88286,     0.88234,     0.88199,     0.88165,      0.8813,     0.88096,     0.88061,     0.88027,     0.87992,     0.87958,     0.87923,     0.87889,     0.87869,\n",
      "            0.87855,     0.87841,     0.87828,     0.87814,       0.878,     0.87786,     0.87772,     0.87758,     0.87745,     0.87731,     0.87717,     0.87703,     0.87689,     0.87676,     0.87662,     0.87648,     0.87634,      0.8762,     0.87607,     0.87593,     0.87579,     0.87565,     0.87551,\n",
      "            0.87537,     0.87524,      0.8751,     0.87495,     0.87476,     0.87458,      0.8744,     0.87421,     0.87403,     0.87385,     0.87366,     0.87348,      0.8733,     0.87311,     0.87293,     0.87275,     0.87256,     0.87238,      0.8722,     0.87201,     0.87183,     0.87165,     0.87146,\n",
      "            0.87128,      0.8711,     0.87074,        0.87,     0.86925,     0.86851,     0.86776,     0.86702,     0.88708,     0.89634,     0.89606,     0.89578,      0.8955,     0.89522,     0.89494,     0.89466,     0.89438,      0.8941,     0.89382,     0.89354,     0.89326,     0.89298,     0.91208,\n",
      "            0.92583,     0.92566,      0.9255,     0.92533,     0.92517,       0.925,     0.92484,     0.92467,     0.92451,     0.92434,     0.92418,     0.92401,     0.92385,     0.92368,     0.92352,     0.92335,     0.92319,     0.92094,      0.9188,     0.91738,     0.91285,     0.91202,     0.91119,\n",
      "            0.91036,     0.90953,     0.91038,     0.91313,     0.91589,     0.91865,      0.9214,     0.92416,     0.92692,     0.92967,     0.93243,     0.93519,     0.93794,      0.9407,     0.94345,     0.94621,     0.94897,     0.95172,      0.9521,     0.95174,     0.95137,     0.95101,     0.95064,\n",
      "            0.95028,      0.9493,     0.94517,     0.94639,     0.94859,      0.9508,       0.953,     0.95521,     0.95742,     0.95962,     0.96183,     0.96403,     0.96624,     0.96845,     0.97065,     0.97286,     0.97506,     0.97727,     0.97947,     0.98168,     0.98389,     0.98609,      0.9883,\n",
      "             0.9905,     0.99271,     0.99492,     0.99712,     0.99933,           1,           1,           1,           1,           1,           1,           1,           1,           1,           1,           1,           1,           1,           1,           1,           1,           1,           1,\n",
      "                  1,           1,           1,           1,           1,           1,           1,           1,           1,           1,           1,           1,           1,           1,           1,           1,           1,           1,           1,           1,           1,           1,           1,\n",
      "                  1,           1,           1,           1,           1,           1,           1,           1,           1,           1,           1,           1,           1,           1,           1,           1,           1,           1,           1,           1,           1,           1,           1,\n",
      "                  1,           1,           1,           1,           1,           1,           1,           1,           1,           1,           1,           1,           1,           1,           1,           1,           1,           1,           1,           1,           1,           1,           1,\n",
      "                  1,           1,           1,           1,           1,           1,           1,           1,           1,           1,           1,           1,           1,           1,           1,           1,           1,           1,           1,           1,           1,           1,           1,\n",
      "                  1,           1,           1,           1,           1,           1,           1,           1,           1,           1,           1,           1,           1,           1,           1,           1,           1,           1,           1,           1,           1,           1,           1,\n",
      "                  1,           1,           1,           1,           1,           1,           1,           1,           1,           1,           1,           1,           1,           1,           1,           1,           1,           1,           1,           1,           1,           1,           1,\n",
      "                  1,           1,           1,           1,           1,           1,           1,           1,           1,           1,           1,           1,           1,           1,           1,           1,           1,           1,           1,           1,           1,           1,           1,\n",
      "                  1,           1,           1,           1,           1,           1,           1,           1,           1,           1,           1,           1,           1,           1,           1,           1,           1,           1,           1,           1,           1,           1,           1,\n",
      "                  1,           1,           1,           1,           1,           1,           1,           1,           1,           1,           1]]), 'Confidence', 'Precision'], [array([          0,    0.001001,    0.002002,    0.003003,    0.004004,    0.005005,    0.006006,    0.007007,    0.008008,    0.009009,     0.01001,    0.011011,    0.012012,    0.013013,    0.014014,    0.015015,    0.016016,    0.017017,    0.018018,    0.019019,     0.02002,    0.021021,    0.022022,    0.023023,\n",
      "          0.024024,    0.025025,    0.026026,    0.027027,    0.028028,    0.029029,     0.03003,    0.031031,    0.032032,    0.033033,    0.034034,    0.035035,    0.036036,    0.037037,    0.038038,    0.039039,     0.04004,    0.041041,    0.042042,    0.043043,    0.044044,    0.045045,    0.046046,    0.047047,\n",
      "          0.048048,    0.049049,     0.05005,    0.051051,    0.052052,    0.053053,    0.054054,    0.055055,    0.056056,    0.057057,    0.058058,    0.059059,     0.06006,    0.061061,    0.062062,    0.063063,    0.064064,    0.065065,    0.066066,    0.067067,    0.068068,    0.069069,     0.07007,    0.071071,\n",
      "          0.072072,    0.073073,    0.074074,    0.075075,    0.076076,    0.077077,    0.078078,    0.079079,     0.08008,    0.081081,    0.082082,    0.083083,    0.084084,    0.085085,    0.086086,    0.087087,    0.088088,    0.089089,     0.09009,    0.091091,    0.092092,    0.093093,    0.094094,    0.095095,\n",
      "          0.096096,    0.097097,    0.098098,    0.099099,      0.1001,      0.1011,      0.1021,      0.1031,      0.1041,     0.10511,     0.10611,     0.10711,     0.10811,     0.10911,     0.11011,     0.11111,     0.11211,     0.11311,     0.11411,     0.11512,     0.11612,     0.11712,     0.11812,     0.11912,\n",
      "           0.12012,     0.12112,     0.12212,     0.12312,     0.12412,     0.12513,     0.12613,     0.12713,     0.12813,     0.12913,     0.13013,     0.13113,     0.13213,     0.13313,     0.13413,     0.13514,     0.13614,     0.13714,     0.13814,     0.13914,     0.14014,     0.14114,     0.14214,     0.14314,\n",
      "           0.14414,     0.14515,     0.14615,     0.14715,     0.14815,     0.14915,     0.15015,     0.15115,     0.15215,     0.15315,     0.15415,     0.15516,     0.15616,     0.15716,     0.15816,     0.15916,     0.16016,     0.16116,     0.16216,     0.16316,     0.16416,     0.16517,     0.16617,     0.16717,\n",
      "           0.16817,     0.16917,     0.17017,     0.17117,     0.17217,     0.17317,     0.17417,     0.17518,     0.17618,     0.17718,     0.17818,     0.17918,     0.18018,     0.18118,     0.18218,     0.18318,     0.18418,     0.18519,     0.18619,     0.18719,     0.18819,     0.18919,     0.19019,     0.19119,\n",
      "           0.19219,     0.19319,     0.19419,      0.1952,      0.1962,      0.1972,      0.1982,      0.1992,      0.2002,      0.2012,      0.2022,      0.2032,      0.2042,     0.20521,     0.20621,     0.20721,     0.20821,     0.20921,     0.21021,     0.21121,     0.21221,     0.21321,     0.21421,     0.21522,\n",
      "           0.21622,     0.21722,     0.21822,     0.21922,     0.22022,     0.22122,     0.22222,     0.22322,     0.22422,     0.22523,     0.22623,     0.22723,     0.22823,     0.22923,     0.23023,     0.23123,     0.23223,     0.23323,     0.23423,     0.23524,     0.23624,     0.23724,     0.23824,     0.23924,\n",
      "           0.24024,     0.24124,     0.24224,     0.24324,     0.24424,     0.24525,     0.24625,     0.24725,     0.24825,     0.24925,     0.25025,     0.25125,     0.25225,     0.25325,     0.25425,     0.25526,     0.25626,     0.25726,     0.25826,     0.25926,     0.26026,     0.26126,     0.26226,     0.26326,\n",
      "           0.26426,     0.26527,     0.26627,     0.26727,     0.26827,     0.26927,     0.27027,     0.27127,     0.27227,     0.27327,     0.27427,     0.27528,     0.27628,     0.27728,     0.27828,     0.27928,     0.28028,     0.28128,     0.28228,     0.28328,     0.28428,     0.28529,     0.28629,     0.28729,\n",
      "           0.28829,     0.28929,     0.29029,     0.29129,     0.29229,     0.29329,     0.29429,      0.2953,      0.2963,      0.2973,      0.2983,      0.2993,      0.3003,      0.3013,      0.3023,      0.3033,      0.3043,     0.30531,     0.30631,     0.30731,     0.30831,     0.30931,     0.31031,     0.31131,\n",
      "           0.31231,     0.31331,     0.31431,     0.31532,     0.31632,     0.31732,     0.31832,     0.31932,     0.32032,     0.32132,     0.32232,     0.32332,     0.32432,     0.32533,     0.32633,     0.32733,     0.32833,     0.32933,     0.33033,     0.33133,     0.33233,     0.33333,     0.33433,     0.33534,\n",
      "           0.33634,     0.33734,     0.33834,     0.33934,     0.34034,     0.34134,     0.34234,     0.34334,     0.34434,     0.34535,     0.34635,     0.34735,     0.34835,     0.34935,     0.35035,     0.35135,     0.35235,     0.35335,     0.35435,     0.35536,     0.35636,     0.35736,     0.35836,     0.35936,\n",
      "           0.36036,     0.36136,     0.36236,     0.36336,     0.36436,     0.36537,     0.36637,     0.36737,     0.36837,     0.36937,     0.37037,     0.37137,     0.37237,     0.37337,     0.37437,     0.37538,     0.37638,     0.37738,     0.37838,     0.37938,     0.38038,     0.38138,     0.38238,     0.38338,\n",
      "           0.38438,     0.38539,     0.38639,     0.38739,     0.38839,     0.38939,     0.39039,     0.39139,     0.39239,     0.39339,     0.39439,      0.3954,      0.3964,      0.3974,      0.3984,      0.3994,      0.4004,      0.4014,      0.4024,      0.4034,      0.4044,     0.40541,     0.40641,     0.40741,\n",
      "           0.40841,     0.40941,     0.41041,     0.41141,     0.41241,     0.41341,     0.41441,     0.41542,     0.41642,     0.41742,     0.41842,     0.41942,     0.42042,     0.42142,     0.42242,     0.42342,     0.42442,     0.42543,     0.42643,     0.42743,     0.42843,     0.42943,     0.43043,     0.43143,\n",
      "           0.43243,     0.43343,     0.43443,     0.43544,     0.43644,     0.43744,     0.43844,     0.43944,     0.44044,     0.44144,     0.44244,     0.44344,     0.44444,     0.44545,     0.44645,     0.44745,     0.44845,     0.44945,     0.45045,     0.45145,     0.45245,     0.45345,     0.45445,     0.45546,\n",
      "           0.45646,     0.45746,     0.45846,     0.45946,     0.46046,     0.46146,     0.46246,     0.46346,     0.46446,     0.46547,     0.46647,     0.46747,     0.46847,     0.46947,     0.47047,     0.47147,     0.47247,     0.47347,     0.47447,     0.47548,     0.47648,     0.47748,     0.47848,     0.47948,\n",
      "           0.48048,     0.48148,     0.48248,     0.48348,     0.48448,     0.48549,     0.48649,     0.48749,     0.48849,     0.48949,     0.49049,     0.49149,     0.49249,     0.49349,     0.49449,      0.4955,      0.4965,      0.4975,      0.4985,      0.4995,      0.5005,      0.5015,      0.5025,      0.5035,\n",
      "            0.5045,     0.50551,     0.50651,     0.50751,     0.50851,     0.50951,     0.51051,     0.51151,     0.51251,     0.51351,     0.51451,     0.51552,     0.51652,     0.51752,     0.51852,     0.51952,     0.52052,     0.52152,     0.52252,     0.52352,     0.52452,     0.52553,     0.52653,     0.52753,\n",
      "           0.52853,     0.52953,     0.53053,     0.53153,     0.53253,     0.53353,     0.53453,     0.53554,     0.53654,     0.53754,     0.53854,     0.53954,     0.54054,     0.54154,     0.54254,     0.54354,     0.54454,     0.54555,     0.54655,     0.54755,     0.54855,     0.54955,     0.55055,     0.55155,\n",
      "           0.55255,     0.55355,     0.55455,     0.55556,     0.55656,     0.55756,     0.55856,     0.55956,     0.56056,     0.56156,     0.56256,     0.56356,     0.56456,     0.56557,     0.56657,     0.56757,     0.56857,     0.56957,     0.57057,     0.57157,     0.57257,     0.57357,     0.57457,     0.57558,\n",
      "           0.57658,     0.57758,     0.57858,     0.57958,     0.58058,     0.58158,     0.58258,     0.58358,     0.58458,     0.58559,     0.58659,     0.58759,     0.58859,     0.58959,     0.59059,     0.59159,     0.59259,     0.59359,     0.59459,      0.5956,      0.5966,      0.5976,      0.5986,      0.5996,\n",
      "            0.6006,      0.6016,      0.6026,      0.6036,      0.6046,     0.60561,     0.60661,     0.60761,     0.60861,     0.60961,     0.61061,     0.61161,     0.61261,     0.61361,     0.61461,     0.61562,     0.61662,     0.61762,     0.61862,     0.61962,     0.62062,     0.62162,     0.62262,     0.62362,\n",
      "           0.62462,     0.62563,     0.62663,     0.62763,     0.62863,     0.62963,     0.63063,     0.63163,     0.63263,     0.63363,     0.63463,     0.63564,     0.63664,     0.63764,     0.63864,     0.63964,     0.64064,     0.64164,     0.64264,     0.64364,     0.64464,     0.64565,     0.64665,     0.64765,\n",
      "           0.64865,     0.64965,     0.65065,     0.65165,     0.65265,     0.65365,     0.65465,     0.65566,     0.65666,     0.65766,     0.65866,     0.65966,     0.66066,     0.66166,     0.66266,     0.66366,     0.66466,     0.66567,     0.66667,     0.66767,     0.66867,     0.66967,     0.67067,     0.67167,\n",
      "           0.67267,     0.67367,     0.67467,     0.67568,     0.67668,     0.67768,     0.67868,     0.67968,     0.68068,     0.68168,     0.68268,     0.68368,     0.68468,     0.68569,     0.68669,     0.68769,     0.68869,     0.68969,     0.69069,     0.69169,     0.69269,     0.69369,     0.69469,      0.6957,\n",
      "            0.6967,      0.6977,      0.6987,      0.6997,      0.7007,      0.7017,      0.7027,      0.7037,      0.7047,     0.70571,     0.70671,     0.70771,     0.70871,     0.70971,     0.71071,     0.71171,     0.71271,     0.71371,     0.71471,     0.71572,     0.71672,     0.71772,     0.71872,     0.71972,\n",
      "           0.72072,     0.72172,     0.72272,     0.72372,     0.72472,     0.72573,     0.72673,     0.72773,     0.72873,     0.72973,     0.73073,     0.73173,     0.73273,     0.73373,     0.73473,     0.73574,     0.73674,     0.73774,     0.73874,     0.73974,     0.74074,     0.74174,     0.74274,     0.74374,\n",
      "           0.74474,     0.74575,     0.74675,     0.74775,     0.74875,     0.74975,     0.75075,     0.75175,     0.75275,     0.75375,     0.75475,     0.75576,     0.75676,     0.75776,     0.75876,     0.75976,     0.76076,     0.76176,     0.76276,     0.76376,     0.76476,     0.76577,     0.76677,     0.76777,\n",
      "           0.76877,     0.76977,     0.77077,     0.77177,     0.77277,     0.77377,     0.77477,     0.77578,     0.77678,     0.77778,     0.77878,     0.77978,     0.78078,     0.78178,     0.78278,     0.78378,     0.78478,     0.78579,     0.78679,     0.78779,     0.78879,     0.78979,     0.79079,     0.79179,\n",
      "           0.79279,     0.79379,     0.79479,      0.7958,      0.7968,      0.7978,      0.7988,      0.7998,      0.8008,      0.8018,      0.8028,      0.8038,      0.8048,     0.80581,     0.80681,     0.80781,     0.80881,     0.80981,     0.81081,     0.81181,     0.81281,     0.81381,     0.81481,     0.81582,\n",
      "           0.81682,     0.81782,     0.81882,     0.81982,     0.82082,     0.82182,     0.82282,     0.82382,     0.82482,     0.82583,     0.82683,     0.82783,     0.82883,     0.82983,     0.83083,     0.83183,     0.83283,     0.83383,     0.83483,     0.83584,     0.83684,     0.83784,     0.83884,     0.83984,\n",
      "           0.84084,     0.84184,     0.84284,     0.84384,     0.84484,     0.84585,     0.84685,     0.84785,     0.84885,     0.84985,     0.85085,     0.85185,     0.85285,     0.85385,     0.85485,     0.85586,     0.85686,     0.85786,     0.85886,     0.85986,     0.86086,     0.86186,     0.86286,     0.86386,\n",
      "           0.86486,     0.86587,     0.86687,     0.86787,     0.86887,     0.86987,     0.87087,     0.87187,     0.87287,     0.87387,     0.87487,     0.87588,     0.87688,     0.87788,     0.87888,     0.87988,     0.88088,     0.88188,     0.88288,     0.88388,     0.88488,     0.88589,     0.88689,     0.88789,\n",
      "           0.88889,     0.88989,     0.89089,     0.89189,     0.89289,     0.89389,     0.89489,      0.8959,      0.8969,      0.8979,      0.8989,      0.8999,      0.9009,      0.9019,      0.9029,      0.9039,      0.9049,     0.90591,     0.90691,     0.90791,     0.90891,     0.90991,     0.91091,     0.91191,\n",
      "           0.91291,     0.91391,     0.91491,     0.91592,     0.91692,     0.91792,     0.91892,     0.91992,     0.92092,     0.92192,     0.92292,     0.92392,     0.92492,     0.92593,     0.92693,     0.92793,     0.92893,     0.92993,     0.93093,     0.93193,     0.93293,     0.93393,     0.93493,     0.93594,\n",
      "           0.93694,     0.93794,     0.93894,     0.93994,     0.94094,     0.94194,     0.94294,     0.94394,     0.94494,     0.94595,     0.94695,     0.94795,     0.94895,     0.94995,     0.95095,     0.95195,     0.95295,     0.95395,     0.95495,     0.95596,     0.95696,     0.95796,     0.95896,     0.95996,\n",
      "           0.96096,     0.96196,     0.96296,     0.96396,     0.96496,     0.96597,     0.96697,     0.96797,     0.96897,     0.96997,     0.97097,     0.97197,     0.97297,     0.97397,     0.97497,     0.97598,     0.97698,     0.97798,     0.97898,     0.97998,     0.98098,     0.98198,     0.98298,     0.98398,\n",
      "           0.98498,     0.98599,     0.98699,     0.98799,     0.98899,     0.98999,     0.99099,     0.99199,     0.99299,     0.99399,     0.99499,       0.996,       0.997,       0.998,       0.999,           1]), array([[    0.94595,     0.94595,     0.93243,     0.93243,     0.93243,     0.93243,     0.93243,     0.93243,     0.93243,     0.93243,     0.91892,     0.91892,     0.90541,     0.90541,     0.90541,     0.89189,     0.89189,     0.87838,     0.87838,     0.87838,     0.87838,     0.87838,     0.87838,\n",
      "            0.87838,     0.87838,     0.87838,     0.87838,     0.87838,     0.86486,     0.86486,     0.86486,     0.86486,     0.86486,     0.86486,     0.86486,     0.86486,     0.86486,     0.86486,     0.86486,     0.86486,     0.86486,     0.86486,     0.86486,     0.86424,     0.85135,     0.85135,\n",
      "            0.85135,     0.85135,     0.85135,     0.85135,     0.85135,     0.85135,     0.85135,     0.85135,     0.85135,     0.85135,     0.83784,     0.83784,     0.83784,     0.83784,     0.82432,     0.82432,     0.82432,     0.82432,     0.82432,     0.82432,     0.82432,     0.82432,     0.82432,\n",
      "            0.82432,     0.82432,     0.82432,     0.82432,     0.82432,     0.82432,     0.82432,     0.81081,     0.81081,     0.81081,     0.81081,     0.81081,     0.81081,     0.81081,     0.81081,      0.7973,      0.7973,     0.78378,     0.78378,     0.78378,     0.78378,     0.78378,     0.78378,\n",
      "            0.78378,     0.78378,     0.78378,     0.78378,      0.7834,     0.77139,     0.77027,     0.77027,     0.77027,     0.76287,     0.74429,     0.73566,     0.72062,     0.71622,     0.71622,     0.71622,     0.71622,     0.71622,     0.71622,     0.71622,     0.71622,     0.71622,     0.71622,\n",
      "            0.71622,     0.71622,     0.71622,     0.71622,     0.71622,     0.71622,     0.71622,     0.71622,     0.71622,     0.71622,     0.71208,     0.70537,      0.7027,      0.7027,      0.7027,      0.7027,      0.7027,      0.7027,      0.7027,      0.7027,      0.7027,      0.7027,     0.69885,\n",
      "            0.67568,     0.67568,     0.67568,     0.66801,     0.66216,     0.66216,     0.64865,     0.64865,     0.64865,     0.64865,     0.64865,     0.64865,     0.64865,     0.64865,     0.64865,     0.64865,     0.64865,     0.64865,     0.64865,     0.64865,     0.64865,     0.64865,     0.64865,\n",
      "            0.64865,     0.64865,     0.64865,     0.64865,     0.64865,     0.64865,     0.64865,     0.64865,     0.64865,     0.64865,     0.64865,     0.64865,     0.64865,     0.64865,     0.64865,     0.64865,     0.64865,     0.64865,     0.64865,     0.64865,     0.64865,     0.64865,     0.64865,\n",
      "            0.64865,     0.64865,     0.64865,     0.64865,     0.64865,     0.64865,     0.64865,     0.64865,     0.64865,     0.64865,     0.64865,     0.64865,     0.64865,     0.64865,     0.64865,     0.64865,     0.64865,     0.64865,     0.64865,     0.64865,     0.64865,     0.64865,     0.64865,\n",
      "            0.64865,     0.64865,     0.64865,     0.64865,     0.64865,     0.64865,     0.64865,     0.64865,     0.64865,     0.64865,      0.6414,     0.63514,     0.63514,     0.63514,     0.63514,     0.63514,     0.63514,     0.63514,     0.63514,     0.63514,     0.63514,     0.63514,     0.63514,\n",
      "            0.63514,     0.63514,     0.63514,     0.63514,     0.63514,     0.63514,     0.63514,     0.63514,     0.63514,     0.63514,     0.63514,     0.63514,     0.63514,     0.63514,     0.63514,     0.63514,     0.63514,     0.63514,     0.63514,     0.63514,     0.63514,     0.63514,     0.63514,\n",
      "            0.63514,     0.63514,     0.63514,     0.63514,     0.63368,     0.62802,     0.62237,     0.62162,     0.62162,     0.62162,     0.62162,     0.62162,     0.62162,     0.62162,     0.62162,     0.62162,     0.62162,     0.62162,     0.62162,     0.62162,     0.62162,     0.62162,     0.62162,\n",
      "            0.62162,     0.62162,     0.62162,     0.62162,     0.62162,     0.62162,     0.62162,     0.62162,     0.62162,     0.62162,     0.62162,     0.62162,     0.62162,     0.62162,     0.62162,     0.62162,     0.62162,     0.62162,     0.62162,     0.62162,     0.62162,     0.62162,     0.61711,\n",
      "             0.6099,     0.60811,     0.60811,     0.60811,     0.60811,     0.60811,     0.60811,     0.60811,     0.60811,     0.60811,     0.60811,     0.60811,     0.60811,     0.60811,     0.60811,     0.60811,     0.60811,     0.60811,     0.60811,     0.60811,     0.60811,     0.60811,     0.60811,\n",
      "            0.60811,     0.60811,     0.60811,     0.60811,     0.60811,     0.60811,     0.60811,     0.60811,     0.60811,     0.60811,     0.60811,     0.60811,     0.60811,     0.60811,     0.60811,     0.60811,     0.60811,     0.60811,     0.60811,     0.60811,     0.60811,     0.60811,     0.60811,\n",
      "            0.60811,     0.60811,     0.60811,     0.60811,     0.60811,     0.60811,     0.60811,     0.60811,     0.60811,     0.60811,     0.60811,     0.60811,     0.60811,     0.60811,     0.60811,     0.60811,     0.60811,     0.60811,     0.60811,     0.60811,     0.60811,     0.60811,     0.60811,\n",
      "            0.60811,     0.60615,     0.60381,     0.60147,     0.59913,     0.59678,     0.59459,     0.59454,     0.59425,     0.59397,     0.59369,      0.5934,     0.59312,     0.59283,     0.59255,     0.59227,     0.59198,      0.5917,     0.59142,     0.59113,     0.59085,     0.59057,     0.59028,\n",
      "               0.59,     0.58971,     0.58943,     0.58915,     0.58886,     0.58858,      0.5883,     0.58801,     0.58773,     0.58745,     0.58716,     0.58688,     0.58659,     0.58631,     0.58603,     0.58574,     0.58546,     0.58518,     0.58489,     0.58461,     0.58433,     0.58404,     0.58376,\n",
      "            0.58347,     0.58319,     0.58291,     0.58262,     0.58234,     0.58206,     0.58177,     0.58149,     0.58121,     0.58017,     0.57856,     0.57695,     0.57533,     0.57372,      0.5721,     0.57049,     0.56888,     0.56669,     0.56204,     0.55739,     0.55405,     0.55405,     0.55405,\n",
      "            0.55405,     0.55405,     0.55405,     0.55405,     0.55405,     0.55405,     0.55405,     0.55405,     0.55405,     0.55405,     0.55405,     0.55405,     0.55405,     0.55405,     0.55405,     0.55405,      0.5538,     0.55306,     0.55232,     0.55157,     0.55083,     0.55009,     0.54935,\n",
      "            0.54861,     0.54786,     0.54712,     0.54638,     0.54564,      0.5449,     0.54416,     0.54341,     0.54267,     0.54193,     0.54119,     0.54054,     0.54054,     0.54054,     0.54031,     0.53992,     0.53954,     0.53916,     0.53877,     0.53839,     0.53801,     0.53763,     0.53724,\n",
      "            0.53686,     0.53648,     0.53609,     0.53571,     0.53533,     0.53494,     0.53456,     0.53418,     0.53379,     0.53341,     0.53303,     0.53264,     0.53226,     0.53188,      0.5315,     0.53111,     0.53073,     0.53035,     0.52996,     0.52958,      0.5292,     0.52881,     0.52843,\n",
      "            0.52805,     0.52766,     0.52728,     0.52678,     0.52603,     0.52528,     0.52454,     0.52379,     0.52304,     0.52229,     0.52155,      0.5208,     0.52005,     0.51931,     0.51856,     0.51781,     0.51707,     0.51632,     0.51557,     0.51483,     0.51408,     0.51324,      0.5121,\n",
      "            0.51097,     0.50983,     0.50869,     0.50755,     0.50642,     0.50528,     0.50414,     0.50301,     0.50187,     0.50073,         0.5,         0.5,         0.5,         0.5,         0.5,         0.5,     0.49774,     0.48608,     0.48552,     0.48496,      0.4844,     0.48384,     0.48328,\n",
      "            0.48272,     0.48216,      0.4816,     0.48104,     0.48048,     0.47992,     0.47936,     0.47881,     0.47825,     0.47769,     0.47713,     0.47657,     0.47601,     0.47545,     0.47489,     0.47433,     0.47377,     0.47321,     0.47222,     0.47091,      0.4696,      0.4683,     0.46699,\n",
      "            0.46569,     0.46438,     0.46307,     0.46177,     0.46046,     0.45812,     0.45235,     0.44658,     0.44595,     0.44595,     0.44595,     0.44595,     0.44595,     0.44595,     0.44313,     0.43836,     0.43359,     0.43243,     0.43243,     0.43243,     0.43243,     0.43243,     0.43243,\n",
      "            0.43243,     0.43243,     0.43243,     0.43243,     0.43243,     0.43243,     0.43243,     0.43243,     0.43243,     0.43243,     0.43243,     0.43243,     0.43243,     0.43243,     0.43243,     0.43243,     0.43243,     0.43243,     0.43243,     0.43173,     0.43024,     0.42875,     0.42726,\n",
      "            0.42577,     0.42428,     0.42279,      0.4213,     0.41982,     0.41807,     0.41595,     0.41382,     0.41169,     0.40957,     0.40744,     0.40535,     0.40404,     0.40273,     0.40143,     0.40012,     0.39881,      0.3975,     0.39619,     0.39489,     0.39358,     0.39227,     0.39154,\n",
      "            0.39105,     0.39056,     0.39006,     0.38957,     0.38908,     0.38858,     0.38809,      0.3876,     0.38711,     0.38661,     0.38612,     0.38563,     0.38514,     0.38464,     0.38415,     0.38366,     0.38316,     0.38267,     0.38218,     0.38169,     0.38119,      0.3807,     0.38021,\n",
      "            0.37972,     0.37922,     0.37873,      0.3782,     0.37759,     0.37697,     0.37636,     0.37574,     0.37513,     0.37451,      0.3739,     0.37328,     0.37267,     0.37205,     0.37144,     0.37083,     0.37021,      0.3696,     0.36898,     0.36837,     0.36775,     0.36714,     0.36652,\n",
      "            0.36591,     0.36529,     0.36415,     0.36181,     0.35948,     0.35714,      0.3548,     0.35246,     0.35135,     0.35058,     0.34955,     0.34853,      0.3475,     0.34648,     0.34545,     0.34442,      0.3434,     0.34237,     0.34135,     0.34032,      0.3393,     0.33827,     0.33784,\n",
      "            0.33738,      0.3366,     0.33581,     0.33503,     0.33424,     0.33346,     0.33268,     0.33189,     0.33111,     0.33033,     0.32954,     0.32876,     0.32798,     0.32719,     0.32641,     0.32563,     0.32484,     0.31495,     0.30593,     0.30018,     0.28311,     0.28028,     0.27745,\n",
      "            0.27461,     0.27178,     0.27027,     0.27027,     0.27027,     0.27027,     0.27027,     0.27027,     0.27027,     0.27027,     0.27027,     0.27027,     0.27027,     0.27027,     0.27027,     0.27027,     0.27027,     0.27027,     0.26869,     0.26662,     0.26456,     0.26249,     0.26042,\n",
      "            0.25835,     0.25315,     0.23307,     0.22973,     0.22973,     0.22973,     0.22973,     0.22973,     0.22973,     0.22973,     0.22973,     0.22973,     0.22973,     0.22973,     0.22973,     0.22973,     0.22973,     0.22973,     0.22973,     0.22973,     0.22973,     0.22973,     0.22973,\n",
      "            0.22973,     0.22973,     0.22973,     0.22973,     0.22973,     0.21614,     0.21394,     0.21174,     0.20954,     0.20734,     0.20515,     0.20295,     0.18653,      0.1829,     0.17927,     0.17567,     0.17476,     0.17386,     0.17295,     0.17204,     0.17114,     0.17023,     0.16933,\n",
      "            0.16842,     0.16752,     0.16661,      0.1657,      0.1648,     0.16389,     0.16299,     0.16211,     0.16149,     0.16088,     0.16026,     0.15965,     0.15904,     0.15842,     0.15781,     0.15719,     0.15658,     0.15597,     0.15535,     0.15474,     0.15412,     0.15351,      0.1529,\n",
      "            0.15228,     0.15167,     0.15105,     0.15044,     0.14982,     0.14921,     0.14807,     0.14125,     0.13303,     0.12116,     0.12014,     0.11911,     0.11808,     0.11706,     0.11603,     0.11501,     0.11398,     0.11296,     0.11193,      0.1109,     0.10988,     0.10885,     0.10646,\n",
      "            0.10047,    0.094581,    0.093921,     0.09326,      0.0926,     0.09194,     0.09128,     0.09062,    0.089959,    0.089299,    0.088639,    0.087979,    0.087318,    0.086658,    0.085998,    0.085338,    0.084677,    0.084017,    0.083357,    0.082697,    0.082037,    0.081376,    0.079617,\n",
      "            0.07697,    0.074322,    0.071674,    0.069027,    0.064125,    0.056457,    0.053326,    0.052265,    0.051205,    0.050144,    0.049084,    0.048023,    0.046963,    0.045903,    0.044842,    0.043782,    0.042721,    0.041661,      0.0406,    0.040105,    0.039644,    0.039182,    0.038721,\n",
      "            0.03826,    0.037798,    0.037337,    0.036876,    0.036414,    0.035953,    0.035492,     0.03503,    0.034569,    0.034108,    0.033646,    0.033185,    0.032724,    0.032262,    0.031801,    0.031339,    0.030878,    0.030417,    0.029955,    0.029494,    0.029033,    0.028571,     0.02811,\n",
      "           0.027649,    0.027187,    0.026595,    0.025932,    0.025269,    0.024607,    0.023944,    0.023281,    0.022618,    0.021956,    0.021293,     0.02063,    0.019968,    0.019305,    0.018642,     0.01798,    0.017317,    0.016654,    0.015992,    0.015329,    0.014666,    0.014003,           0,\n",
      "                  0,           0,           0,           0,           0,           0,           0,           0,           0,           0,           0,           0,           0,           0,           0,           0,           0,           0,           0,           0,           0,           0,           0,\n",
      "                  0,           0,           0,           0,           0,           0,           0,           0,           0,           0,           0,           0,           0,           0,           0,           0,           0,           0,           0,           0,           0,           0,           0,\n",
      "                  0,           0,           0,           0,           0,           0,           0,           0,           0,           0,           0]]), 'Confidence', 'Recall'], [array([          0,    0.001001,    0.002002,    0.003003,    0.004004,    0.005005,    0.006006,    0.007007,    0.008008,    0.009009,     0.01001,    0.011011,    0.012012,    0.013013,    0.014014,    0.015015,    0.016016,    0.017017,    0.018018,    0.019019,     0.02002,    0.021021,    0.022022,    0.023023,\n",
      "          0.024024,    0.025025,    0.026026,    0.027027,    0.028028,    0.029029,     0.03003,    0.031031,    0.032032,    0.033033,    0.034034,    0.035035,    0.036036,    0.037037,    0.038038,    0.039039,     0.04004,    0.041041,    0.042042,    0.043043,    0.044044,    0.045045,    0.046046,    0.047047,\n",
      "          0.048048,    0.049049,     0.05005,    0.051051,    0.052052,    0.053053,    0.054054,    0.055055,    0.056056,    0.057057,    0.058058,    0.059059,     0.06006,    0.061061,    0.062062,    0.063063,    0.064064,    0.065065,    0.066066,    0.067067,    0.068068,    0.069069,     0.07007,    0.071071,\n",
      "          0.072072,    0.073073,    0.074074,    0.075075,    0.076076,    0.077077,    0.078078,    0.079079,     0.08008,    0.081081,    0.082082,    0.083083,    0.084084,    0.085085,    0.086086,    0.087087,    0.088088,    0.089089,     0.09009,    0.091091,    0.092092,    0.093093,    0.094094,    0.095095,\n",
      "          0.096096,    0.097097,    0.098098,    0.099099,      0.1001,      0.1011,      0.1021,      0.1031,      0.1041,     0.10511,     0.10611,     0.10711,     0.10811,     0.10911,     0.11011,     0.11111,     0.11211,     0.11311,     0.11411,     0.11512,     0.11612,     0.11712,     0.11812,     0.11912,\n",
      "           0.12012,     0.12112,     0.12212,     0.12312,     0.12412,     0.12513,     0.12613,     0.12713,     0.12813,     0.12913,     0.13013,     0.13113,     0.13213,     0.13313,     0.13413,     0.13514,     0.13614,     0.13714,     0.13814,     0.13914,     0.14014,     0.14114,     0.14214,     0.14314,\n",
      "           0.14414,     0.14515,     0.14615,     0.14715,     0.14815,     0.14915,     0.15015,     0.15115,     0.15215,     0.15315,     0.15415,     0.15516,     0.15616,     0.15716,     0.15816,     0.15916,     0.16016,     0.16116,     0.16216,     0.16316,     0.16416,     0.16517,     0.16617,     0.16717,\n",
      "           0.16817,     0.16917,     0.17017,     0.17117,     0.17217,     0.17317,     0.17417,     0.17518,     0.17618,     0.17718,     0.17818,     0.17918,     0.18018,     0.18118,     0.18218,     0.18318,     0.18418,     0.18519,     0.18619,     0.18719,     0.18819,     0.18919,     0.19019,     0.19119,\n",
      "           0.19219,     0.19319,     0.19419,      0.1952,      0.1962,      0.1972,      0.1982,      0.1992,      0.2002,      0.2012,      0.2022,      0.2032,      0.2042,     0.20521,     0.20621,     0.20721,     0.20821,     0.20921,     0.21021,     0.21121,     0.21221,     0.21321,     0.21421,     0.21522,\n",
      "           0.21622,     0.21722,     0.21822,     0.21922,     0.22022,     0.22122,     0.22222,     0.22322,     0.22422,     0.22523,     0.22623,     0.22723,     0.22823,     0.22923,     0.23023,     0.23123,     0.23223,     0.23323,     0.23423,     0.23524,     0.23624,     0.23724,     0.23824,     0.23924,\n",
      "           0.24024,     0.24124,     0.24224,     0.24324,     0.24424,     0.24525,     0.24625,     0.24725,     0.24825,     0.24925,     0.25025,     0.25125,     0.25225,     0.25325,     0.25425,     0.25526,     0.25626,     0.25726,     0.25826,     0.25926,     0.26026,     0.26126,     0.26226,     0.26326,\n",
      "           0.26426,     0.26527,     0.26627,     0.26727,     0.26827,     0.26927,     0.27027,     0.27127,     0.27227,     0.27327,     0.27427,     0.27528,     0.27628,     0.27728,     0.27828,     0.27928,     0.28028,     0.28128,     0.28228,     0.28328,     0.28428,     0.28529,     0.28629,     0.28729,\n",
      "           0.28829,     0.28929,     0.29029,     0.29129,     0.29229,     0.29329,     0.29429,      0.2953,      0.2963,      0.2973,      0.2983,      0.2993,      0.3003,      0.3013,      0.3023,      0.3033,      0.3043,     0.30531,     0.30631,     0.30731,     0.30831,     0.30931,     0.31031,     0.31131,\n",
      "           0.31231,     0.31331,     0.31431,     0.31532,     0.31632,     0.31732,     0.31832,     0.31932,     0.32032,     0.32132,     0.32232,     0.32332,     0.32432,     0.32533,     0.32633,     0.32733,     0.32833,     0.32933,     0.33033,     0.33133,     0.33233,     0.33333,     0.33433,     0.33534,\n",
      "           0.33634,     0.33734,     0.33834,     0.33934,     0.34034,     0.34134,     0.34234,     0.34334,     0.34434,     0.34535,     0.34635,     0.34735,     0.34835,     0.34935,     0.35035,     0.35135,     0.35235,     0.35335,     0.35435,     0.35536,     0.35636,     0.35736,     0.35836,     0.35936,\n",
      "           0.36036,     0.36136,     0.36236,     0.36336,     0.36436,     0.36537,     0.36637,     0.36737,     0.36837,     0.36937,     0.37037,     0.37137,     0.37237,     0.37337,     0.37437,     0.37538,     0.37638,     0.37738,     0.37838,     0.37938,     0.38038,     0.38138,     0.38238,     0.38338,\n",
      "           0.38438,     0.38539,     0.38639,     0.38739,     0.38839,     0.38939,     0.39039,     0.39139,     0.39239,     0.39339,     0.39439,      0.3954,      0.3964,      0.3974,      0.3984,      0.3994,      0.4004,      0.4014,      0.4024,      0.4034,      0.4044,     0.40541,     0.40641,     0.40741,\n",
      "           0.40841,     0.40941,     0.41041,     0.41141,     0.41241,     0.41341,     0.41441,     0.41542,     0.41642,     0.41742,     0.41842,     0.41942,     0.42042,     0.42142,     0.42242,     0.42342,     0.42442,     0.42543,     0.42643,     0.42743,     0.42843,     0.42943,     0.43043,     0.43143,\n",
      "           0.43243,     0.43343,     0.43443,     0.43544,     0.43644,     0.43744,     0.43844,     0.43944,     0.44044,     0.44144,     0.44244,     0.44344,     0.44444,     0.44545,     0.44645,     0.44745,     0.44845,     0.44945,     0.45045,     0.45145,     0.45245,     0.45345,     0.45445,     0.45546,\n",
      "           0.45646,     0.45746,     0.45846,     0.45946,     0.46046,     0.46146,     0.46246,     0.46346,     0.46446,     0.46547,     0.46647,     0.46747,     0.46847,     0.46947,     0.47047,     0.47147,     0.47247,     0.47347,     0.47447,     0.47548,     0.47648,     0.47748,     0.47848,     0.47948,\n",
      "           0.48048,     0.48148,     0.48248,     0.48348,     0.48448,     0.48549,     0.48649,     0.48749,     0.48849,     0.48949,     0.49049,     0.49149,     0.49249,     0.49349,     0.49449,      0.4955,      0.4965,      0.4975,      0.4985,      0.4995,      0.5005,      0.5015,      0.5025,      0.5035,\n",
      "            0.5045,     0.50551,     0.50651,     0.50751,     0.50851,     0.50951,     0.51051,     0.51151,     0.51251,     0.51351,     0.51451,     0.51552,     0.51652,     0.51752,     0.51852,     0.51952,     0.52052,     0.52152,     0.52252,     0.52352,     0.52452,     0.52553,     0.52653,     0.52753,\n",
      "           0.52853,     0.52953,     0.53053,     0.53153,     0.53253,     0.53353,     0.53453,     0.53554,     0.53654,     0.53754,     0.53854,     0.53954,     0.54054,     0.54154,     0.54254,     0.54354,     0.54454,     0.54555,     0.54655,     0.54755,     0.54855,     0.54955,     0.55055,     0.55155,\n",
      "           0.55255,     0.55355,     0.55455,     0.55556,     0.55656,     0.55756,     0.55856,     0.55956,     0.56056,     0.56156,     0.56256,     0.56356,     0.56456,     0.56557,     0.56657,     0.56757,     0.56857,     0.56957,     0.57057,     0.57157,     0.57257,     0.57357,     0.57457,     0.57558,\n",
      "           0.57658,     0.57758,     0.57858,     0.57958,     0.58058,     0.58158,     0.58258,     0.58358,     0.58458,     0.58559,     0.58659,     0.58759,     0.58859,     0.58959,     0.59059,     0.59159,     0.59259,     0.59359,     0.59459,      0.5956,      0.5966,      0.5976,      0.5986,      0.5996,\n",
      "            0.6006,      0.6016,      0.6026,      0.6036,      0.6046,     0.60561,     0.60661,     0.60761,     0.60861,     0.60961,     0.61061,     0.61161,     0.61261,     0.61361,     0.61461,     0.61562,     0.61662,     0.61762,     0.61862,     0.61962,     0.62062,     0.62162,     0.62262,     0.62362,\n",
      "           0.62462,     0.62563,     0.62663,     0.62763,     0.62863,     0.62963,     0.63063,     0.63163,     0.63263,     0.63363,     0.63463,     0.63564,     0.63664,     0.63764,     0.63864,     0.63964,     0.64064,     0.64164,     0.64264,     0.64364,     0.64464,     0.64565,     0.64665,     0.64765,\n",
      "           0.64865,     0.64965,     0.65065,     0.65165,     0.65265,     0.65365,     0.65465,     0.65566,     0.65666,     0.65766,     0.65866,     0.65966,     0.66066,     0.66166,     0.66266,     0.66366,     0.66466,     0.66567,     0.66667,     0.66767,     0.66867,     0.66967,     0.67067,     0.67167,\n",
      "           0.67267,     0.67367,     0.67467,     0.67568,     0.67668,     0.67768,     0.67868,     0.67968,     0.68068,     0.68168,     0.68268,     0.68368,     0.68468,     0.68569,     0.68669,     0.68769,     0.68869,     0.68969,     0.69069,     0.69169,     0.69269,     0.69369,     0.69469,      0.6957,\n",
      "            0.6967,      0.6977,      0.6987,      0.6997,      0.7007,      0.7017,      0.7027,      0.7037,      0.7047,     0.70571,     0.70671,     0.70771,     0.70871,     0.70971,     0.71071,     0.71171,     0.71271,     0.71371,     0.71471,     0.71572,     0.71672,     0.71772,     0.71872,     0.71972,\n",
      "           0.72072,     0.72172,     0.72272,     0.72372,     0.72472,     0.72573,     0.72673,     0.72773,     0.72873,     0.72973,     0.73073,     0.73173,     0.73273,     0.73373,     0.73473,     0.73574,     0.73674,     0.73774,     0.73874,     0.73974,     0.74074,     0.74174,     0.74274,     0.74374,\n",
      "           0.74474,     0.74575,     0.74675,     0.74775,     0.74875,     0.74975,     0.75075,     0.75175,     0.75275,     0.75375,     0.75475,     0.75576,     0.75676,     0.75776,     0.75876,     0.75976,     0.76076,     0.76176,     0.76276,     0.76376,     0.76476,     0.76577,     0.76677,     0.76777,\n",
      "           0.76877,     0.76977,     0.77077,     0.77177,     0.77277,     0.77377,     0.77477,     0.77578,     0.77678,     0.77778,     0.77878,     0.77978,     0.78078,     0.78178,     0.78278,     0.78378,     0.78478,     0.78579,     0.78679,     0.78779,     0.78879,     0.78979,     0.79079,     0.79179,\n",
      "           0.79279,     0.79379,     0.79479,      0.7958,      0.7968,      0.7978,      0.7988,      0.7998,      0.8008,      0.8018,      0.8028,      0.8038,      0.8048,     0.80581,     0.80681,     0.80781,     0.80881,     0.80981,     0.81081,     0.81181,     0.81281,     0.81381,     0.81481,     0.81582,\n",
      "           0.81682,     0.81782,     0.81882,     0.81982,     0.82082,     0.82182,     0.82282,     0.82382,     0.82482,     0.82583,     0.82683,     0.82783,     0.82883,     0.82983,     0.83083,     0.83183,     0.83283,     0.83383,     0.83483,     0.83584,     0.83684,     0.83784,     0.83884,     0.83984,\n",
      "           0.84084,     0.84184,     0.84284,     0.84384,     0.84484,     0.84585,     0.84685,     0.84785,     0.84885,     0.84985,     0.85085,     0.85185,     0.85285,     0.85385,     0.85485,     0.85586,     0.85686,     0.85786,     0.85886,     0.85986,     0.86086,     0.86186,     0.86286,     0.86386,\n",
      "           0.86486,     0.86587,     0.86687,     0.86787,     0.86887,     0.86987,     0.87087,     0.87187,     0.87287,     0.87387,     0.87487,     0.87588,     0.87688,     0.87788,     0.87888,     0.87988,     0.88088,     0.88188,     0.88288,     0.88388,     0.88488,     0.88589,     0.88689,     0.88789,\n",
      "           0.88889,     0.88989,     0.89089,     0.89189,     0.89289,     0.89389,     0.89489,      0.8959,      0.8969,      0.8979,      0.8989,      0.8999,      0.9009,      0.9019,      0.9029,      0.9039,      0.9049,     0.90591,     0.90691,     0.90791,     0.90891,     0.90991,     0.91091,     0.91191,\n",
      "           0.91291,     0.91391,     0.91491,     0.91592,     0.91692,     0.91792,     0.91892,     0.91992,     0.92092,     0.92192,     0.92292,     0.92392,     0.92492,     0.92593,     0.92693,     0.92793,     0.92893,     0.92993,     0.93093,     0.93193,     0.93293,     0.93393,     0.93493,     0.93594,\n",
      "           0.93694,     0.93794,     0.93894,     0.93994,     0.94094,     0.94194,     0.94294,     0.94394,     0.94494,     0.94595,     0.94695,     0.94795,     0.94895,     0.94995,     0.95095,     0.95195,     0.95295,     0.95395,     0.95495,     0.95596,     0.95696,     0.95796,     0.95896,     0.95996,\n",
      "           0.96096,     0.96196,     0.96296,     0.96396,     0.96496,     0.96597,     0.96697,     0.96797,     0.96897,     0.96997,     0.97097,     0.97197,     0.97297,     0.97397,     0.97497,     0.97598,     0.97698,     0.97798,     0.97898,     0.97998,     0.98098,     0.98198,     0.98298,     0.98398,\n",
      "           0.98498,     0.98599,     0.98699,     0.98799,     0.98899,     0.98999,     0.99099,     0.99199,     0.99299,     0.99399,     0.99499,       0.996,       0.997,       0.998,       0.999,           1]), array([[          1,           1,           1,           1,           1,           1,           1,           1,           1,           1,           1,           1,           1,           1,           1,           1,           1,           1,           1,           1,           1,           1,           1,\n",
      "                  1,           1,           1,           1,           1,           1,           1,           1,           1,           1,           1,           1,           1,           1,           1,           1,           1,           1,           1,           1,           1,           1,           1,\n",
      "                  1,           1,           1,           1,           1,           1,           1,           1,           1,           1,           1,           1,           1,           1,           1,           1,           1,           1,           1,           1,           1,           1,           1,\n",
      "                  1,           1,           1,           1,           1,           1,           1,           1,           1,           1,           1,           1,           1,           1,           1,           1,           1,           1,           1,           1,           1,           1,           1,\n",
      "                  1,           1,           1,           1,           1,           1,           1,           1,           1,           1,           1,           1,           1,           1,           1,           1,           1,           1,           1,           1,           1,           1,           1,\n",
      "                  1,           1,           1,           1,           1,           1,           1,           1,           1,           1,           1,           1,           1,           1,           1,           1,           1,           1,           1,           1,           1,           1,           1,\n",
      "                  1,           1,           1,           1,           1,           1,           1,           1,           1,           1,           1,     0.92857,     0.92857,     0.92857,     0.92857,     0.92857,     0.92857,     0.92857,     0.92857,     0.92857,     0.92857,     0.92857,     0.92857,\n",
      "            0.92857,     0.92857,     0.92857,     0.92857,     0.92857,     0.92857,     0.92857,     0.92857,     0.92857,     0.92857,     0.92857,     0.92857,     0.92857,     0.92857,     0.92857,     0.88235,     0.88235,     0.88235,     0.88235,     0.88235,     0.88235,     0.88235,     0.88235,\n",
      "            0.88235,     0.88235,     0.88235,     0.88235,     0.88235,     0.88235,     0.88235,     0.88235,     0.88235,     0.88235,     0.88235,     0.88235,     0.88235,     0.88235,     0.88235,     0.88235,     0.88235,     0.88235,     0.88235,     0.81481,     0.81481,     0.81481,     0.81481,\n",
      "            0.81481,     0.81481,     0.81481,     0.81481,     0.81481,     0.81481,     0.81481,     0.81481,     0.81481,     0.81481,     0.81481,     0.81481,     0.81481,     0.81481,     0.81481,     0.81481,     0.81481,     0.81481,     0.81481,     0.81481,     0.81481,     0.81481,     0.81481,\n",
      "            0.81481,     0.81481,     0.81481,     0.81481,     0.81481,     0.81481,     0.81481,     0.81481,     0.81481,     0.81481,     0.81481,     0.81481,     0.81481,     0.81481,     0.81481,     0.81481,     0.81481,     0.81481,     0.81481,     0.81481,     0.81481,     0.81481,     0.81481,\n",
      "            0.81481,     0.81481,     0.81481,     0.81481,     0.81481,     0.81481,     0.81481,     0.81481,     0.81481,     0.81481,     0.81481,     0.81481,     0.81481,     0.81481,     0.81481,     0.81481,     0.81481,     0.81481,     0.81481,     0.81481,     0.81481,     0.81481,     0.81481,\n",
      "            0.81481,     0.81481,     0.81481,     0.81481,     0.81481,     0.81481,     0.81481,     0.81481,     0.81481,     0.81481,     0.81481,     0.81481,     0.81481,     0.81481,     0.81481,     0.81481,     0.81481,     0.81481,     0.81481,     0.81481,     0.81481,     0.79412,     0.79412,\n",
      "            0.79412,     0.79412,     0.79412,     0.79412,     0.79412,     0.79412,     0.79412,     0.79412,     0.79412,     0.79412,     0.79412,     0.79412,     0.79412,     0.79412,     0.79412,     0.79412,     0.79412,     0.79412,     0.79412,     0.79412,     0.79412,     0.79412,     0.79412,\n",
      "            0.79412,     0.79412,     0.79412,     0.79412,     0.79412,     0.79412,     0.79412,     0.79412,     0.79412,     0.79412,     0.79412,     0.79412,     0.79412,     0.79412,     0.79412,     0.79412,     0.79412,     0.79412,     0.79412,     0.79412,     0.79412,     0.79412,     0.79412,\n",
      "            0.79412,     0.79412,     0.79412,     0.79412,     0.79412,     0.79412,     0.79412,     0.79412,     0.79412,     0.79412,     0.79412,     0.79412,     0.79412,     0.79412,     0.79412,     0.79412,     0.79412,     0.79412,     0.79412,     0.79412,     0.77778,     0.77778,     0.77778,\n",
      "            0.77778,     0.77778,     0.77778,     0.77778,     0.77778,     0.77778,     0.77778,     0.77778,     0.77778,     0.77778,         0.7,         0.7,         0.7,         0.7,         0.7,         0.7,         0.7,         0.7,         0.7,         0.7,         0.7,         0.7,         0.7,\n",
      "                0.7,         0.7,         0.7,         0.7,         0.7,         0.7,         0.7,         0.7,         0.7,         0.7,         0.7,         0.7,         0.7,         0.7,         0.7,         0.7,         0.7,         0.7,         0.7,         0.7,         0.7,         0.7,         0.7,\n",
      "                0.7,         0.7,         0.7,         0.7,         0.7,         0.7,         0.7,         0.7,         0.7,         0.7,         0.7,         0.7,         0.7,         0.7,         0.7,         0.7,         0.7,         0.7,         0.7,         0.7,         0.7,         0.7,         0.7,\n",
      "                0.7,         0.7,         0.7,         0.7,         0.7,         0.7,         0.7,         0.7,         0.7,         0.7,         0.7,         0.7,         0.7,         0.7,         0.7,         0.7,         0.7,         0.7,         0.7,         0.7,         0.7,         0.7,         0.7,\n",
      "                0.7,         0.7,         0.7,         0.7,         0.7,         0.7,         0.7,         0.7,         0.7,         0.7,         0.7,         0.7,         0.7,     0.69231,     0.69231,     0.69231,     0.69231,     0.69231,     0.69231,     0.69231,     0.69231,     0.69231,     0.69231,\n",
      "            0.69231,     0.69231,     0.69231,     0.69231,     0.68519,     0.68519,     0.68519,     0.68519,     0.68519,     0.68519,     0.68519,     0.68519,     0.68519,     0.68519,     0.68519,     0.68519,     0.68519,     0.65517,     0.65517,     0.65517,     0.65517,     0.65517,     0.65517,\n",
      "            0.65517,     0.65517,     0.65517,     0.65517,     0.65517,     0.65517,     0.65517,     0.58209,     0.58209,     0.58209,     0.58209,     0.58209,     0.58209,     0.58209,     0.58209,     0.58209,     0.58209,     0.58209,     0.58209,     0.58209,     0.58209,     0.54795,     0.54795,\n",
      "            0.54795,     0.54795,     0.54795,     0.54795,     0.54795,     0.54795,     0.54795,     0.54795,     0.54795,     0.54795,     0.54795,      0.5125,      0.5125,      0.5125,      0.5125,      0.5125,      0.5125,      0.5125,      0.5125,      0.5125,      0.5125,      0.5125,      0.5125,\n",
      "             0.5125,      0.5125,     0.39623,     0.39623,     0.39623,     0.39623,     0.39623,     0.39623,     0.39623,     0.39623,     0.39623,     0.39623,     0.39623,     0.39623,     0.39623,      0.3913,      0.3913,      0.3913,      0.3913,      0.3913,      0.3913,      0.3913,      0.3913,\n",
      "             0.3913,      0.3913,      0.3913,      0.3913,      0.3913,      0.3913,      0.3913,      0.3913,      0.3913,      0.3913,      0.3913,      0.3913,      0.3913,      0.3913,      0.3913,      0.3913,      0.3913,      0.3913,      0.3913,      0.3913,      0.3913,      0.3913,      0.3913,\n",
      "             0.3913,      0.3913,      0.3913,      0.3913,      0.3913,      0.3913,      0.3913,      0.3913,      0.3913,      0.3913,     0.37398,     0.37398,     0.37398,     0.37398,     0.37398,     0.37398,     0.37398,     0.37398,     0.37398,     0.37398,     0.37398,     0.37398,     0.37398,\n",
      "            0.33562,     0.33562,     0.33562,     0.33562,     0.33562,     0.33562,     0.33562,     0.33562,     0.33562,     0.33562,     0.33562,     0.33562,     0.33562,     0.33562,     0.33562,     0.33562,     0.33562,     0.33562,     0.33562,     0.33562,     0.33562,     0.33562,     0.33562,\n",
      "            0.33562,     0.33562,     0.33562,     0.33562,     0.33562,     0.33562,     0.33562,     0.33562,     0.33562,     0.33562,     0.33562,     0.33562,     0.33562,     0.33562,     0.33562,     0.33562,     0.33562,     0.33562,      0.3268,      0.3268,      0.3268,      0.3268,      0.3268,\n",
      "             0.3268,      0.3268,      0.3268,      0.3268,      0.3268,      0.3268,      0.3268,      0.3268,     0.32278,     0.32278,     0.32278,     0.32278,     0.32278,     0.32278,     0.32278,     0.32278,     0.32278,     0.32278,     0.32278,     0.32278,     0.32278,     0.32278,     0.30952,\n",
      "            0.30952,     0.30952,     0.30952,     0.30952,     0.30952,     0.30952,     0.30952,     0.30952,     0.30952,     0.30952,     0.30952,     0.30952,     0.29348,     0.29348,     0.29348,     0.29348,     0.29348,     0.29348,     0.29348,     0.29348,     0.29348,     0.29348,     0.29348,\n",
      "            0.29348,     0.29348,     0.29348,     0.29348,     0.29348,     0.29348,     0.29348,     0.29348,     0.29348,     0.29348,     0.29348,     0.29348,     0.29348,     0.29348,     0.29348,     0.29348,     0.23109,     0.23109,     0.23109,     0.23109,     0.23109,     0.23109,     0.23109,\n",
      "            0.23109,     0.23109,     0.23109,     0.23109,     0.23109,     0.23109,     0.23109,     0.20144,     0.20144,     0.20144,     0.20144,     0.20144,     0.20144,     0.20144,     0.20144,     0.20144,     0.20144,     0.20144,     0.20144,     0.20144,     0.18874,     0.18874,     0.18874,\n",
      "            0.18874,     0.18874,     0.18874,     0.18874,     0.18874,     0.18874,     0.18874,     0.18874,     0.18874,     0.18874,     0.18874,     0.17901,     0.17901,     0.17901,     0.17901,     0.17901,     0.17901,     0.17901,     0.17901,     0.17901,     0.17901,     0.17901,     0.17901,\n",
      "            0.17901,     0.14975,     0.14975,     0.14975,     0.14975,     0.14975,     0.14975,     0.14975,     0.14975,     0.14975,     0.14975,     0.14975,     0.14975,     0.14975,     0.14975,     0.14493,     0.14493,     0.14493,     0.14493,     0.14493,     0.14493,     0.14493,     0.14493,\n",
      "            0.14493,     0.14493,     0.14493,     0.14493,     0.14493,     0.13261,     0.13261,     0.13261,     0.13261,     0.13261,     0.13261,     0.13261,     0.13261,     0.13261,     0.13261,     0.13261,     0.13261,     0.13261,     0.13261,     0.10248,     0.10248,     0.10248,     0.10248,\n",
      "            0.10248,     0.10248,     0.10248,     0.10248,     0.10248,     0.10248,     0.10248,     0.10248,     0.10248,    0.060928,    0.060928,    0.060928,    0.060928,    0.060928,    0.060928,    0.060928,    0.060928,    0.060928,    0.060928,    0.060928,    0.060928,    0.060928,    0.060928,\n",
      "           0.036866,    0.036866,    0.036866,    0.036866,    0.036866,    0.036866,    0.036866,    0.036866,    0.036866,    0.036866,    0.036866,    0.036866,    0.036866,    0.036031,    0.036031,    0.036031,    0.036031,    0.036031,    0.036031,    0.036031,    0.036031,    0.036031,    0.036031,\n",
      "           0.036031,    0.036031,    0.036031,    0.036031,    0.035354,    0.035061,    0.034769,    0.034477,    0.034185,    0.033893,    0.033601,    0.033308,    0.033016,    0.032724,    0.032432,     0.03214,    0.031847,    0.031555,    0.031263,    0.030971,    0.030679,    0.030387,    0.030094,\n",
      "           0.029802,     0.02951,    0.029218,    0.028926,    0.028634,    0.028341,    0.028049,    0.027757,    0.027465,    0.027173,     0.02688,    0.026588,    0.026296,    0.026004,    0.025712,     0.02542,    0.025127,    0.024835,    0.024543,    0.024251,    0.023959,    0.023666,    0.023374,\n",
      "           0.023082,     0.02279,    0.022498,    0.022206,    0.021913,    0.021621,    0.021329,    0.021037,    0.020745,    0.020453,     0.02016,    0.019868,    0.019576,    0.019284,    0.018992,    0.018699,    0.018407,    0.018115,    0.017823,    0.017531,    0.017239,    0.016946,    0.016654,\n",
      "           0.016362,     0.01607,    0.015778,    0.015485,    0.015193,    0.014901,    0.014609,    0.014317,    0.014025,    0.013732,     0.01344,    0.013148,    0.012856,    0.012564,    0.012272,    0.011979,    0.011687,    0.011395,    0.011103,    0.010811,    0.010518,    0.010226,   0.0099341,\n",
      "          0.0096419,   0.0093497,   0.0090575,   0.0087654,   0.0084732,    0.008181,   0.0078888,   0.0075966,   0.0073045,   0.0070123,   0.0067201,   0.0064279,   0.0061358,   0.0058436,   0.0055514,   0.0052592,    0.004967,   0.0046749,   0.0043827,   0.0040905,   0.0037983,   0.0035061,    0.003214,\n",
      "          0.0029218,   0.0026296,   0.0023374,   0.0020453,   0.0017531,   0.0014609,   0.0011687,  0.00087654,  0.00058436,  0.00029218,           0]]), 'Recall', 'Precision'], [array([          0,    0.001001,    0.002002,    0.003003,    0.004004,    0.005005,    0.006006,    0.007007,    0.008008,    0.009009,     0.01001,    0.011011,    0.012012,    0.013013,    0.014014,    0.015015,    0.016016,    0.017017,    0.018018,    0.019019,     0.02002,    0.021021,    0.022022,    0.023023,\n",
      "          0.024024,    0.025025,    0.026026,    0.027027,    0.028028,    0.029029,     0.03003,    0.031031,    0.032032,    0.033033,    0.034034,    0.035035,    0.036036,    0.037037,    0.038038,    0.039039,     0.04004,    0.041041,    0.042042,    0.043043,    0.044044,    0.045045,    0.046046,    0.047047,\n",
      "          0.048048,    0.049049,     0.05005,    0.051051,    0.052052,    0.053053,    0.054054,    0.055055,    0.056056,    0.057057,    0.058058,    0.059059,     0.06006,    0.061061,    0.062062,    0.063063,    0.064064,    0.065065,    0.066066,    0.067067,    0.068068,    0.069069,     0.07007,    0.071071,\n",
      "          0.072072,    0.073073,    0.074074,    0.075075,    0.076076,    0.077077,    0.078078,    0.079079,     0.08008,    0.081081,    0.082082,    0.083083,    0.084084,    0.085085,    0.086086,    0.087087,    0.088088,    0.089089,     0.09009,    0.091091,    0.092092,    0.093093,    0.094094,    0.095095,\n",
      "          0.096096,    0.097097,    0.098098,    0.099099,      0.1001,      0.1011,      0.1021,      0.1031,      0.1041,     0.10511,     0.10611,     0.10711,     0.10811,     0.10911,     0.11011,     0.11111,     0.11211,     0.11311,     0.11411,     0.11512,     0.11612,     0.11712,     0.11812,     0.11912,\n",
      "           0.12012,     0.12112,     0.12212,     0.12312,     0.12412,     0.12513,     0.12613,     0.12713,     0.12813,     0.12913,     0.13013,     0.13113,     0.13213,     0.13313,     0.13413,     0.13514,     0.13614,     0.13714,     0.13814,     0.13914,     0.14014,     0.14114,     0.14214,     0.14314,\n",
      "           0.14414,     0.14515,     0.14615,     0.14715,     0.14815,     0.14915,     0.15015,     0.15115,     0.15215,     0.15315,     0.15415,     0.15516,     0.15616,     0.15716,     0.15816,     0.15916,     0.16016,     0.16116,     0.16216,     0.16316,     0.16416,     0.16517,     0.16617,     0.16717,\n",
      "           0.16817,     0.16917,     0.17017,     0.17117,     0.17217,     0.17317,     0.17417,     0.17518,     0.17618,     0.17718,     0.17818,     0.17918,     0.18018,     0.18118,     0.18218,     0.18318,     0.18418,     0.18519,     0.18619,     0.18719,     0.18819,     0.18919,     0.19019,     0.19119,\n",
      "           0.19219,     0.19319,     0.19419,      0.1952,      0.1962,      0.1972,      0.1982,      0.1992,      0.2002,      0.2012,      0.2022,      0.2032,      0.2042,     0.20521,     0.20621,     0.20721,     0.20821,     0.20921,     0.21021,     0.21121,     0.21221,     0.21321,     0.21421,     0.21522,\n",
      "           0.21622,     0.21722,     0.21822,     0.21922,     0.22022,     0.22122,     0.22222,     0.22322,     0.22422,     0.22523,     0.22623,     0.22723,     0.22823,     0.22923,     0.23023,     0.23123,     0.23223,     0.23323,     0.23423,     0.23524,     0.23624,     0.23724,     0.23824,     0.23924,\n",
      "           0.24024,     0.24124,     0.24224,     0.24324,     0.24424,     0.24525,     0.24625,     0.24725,     0.24825,     0.24925,     0.25025,     0.25125,     0.25225,     0.25325,     0.25425,     0.25526,     0.25626,     0.25726,     0.25826,     0.25926,     0.26026,     0.26126,     0.26226,     0.26326,\n",
      "           0.26426,     0.26527,     0.26627,     0.26727,     0.26827,     0.26927,     0.27027,     0.27127,     0.27227,     0.27327,     0.27427,     0.27528,     0.27628,     0.27728,     0.27828,     0.27928,     0.28028,     0.28128,     0.28228,     0.28328,     0.28428,     0.28529,     0.28629,     0.28729,\n",
      "           0.28829,     0.28929,     0.29029,     0.29129,     0.29229,     0.29329,     0.29429,      0.2953,      0.2963,      0.2973,      0.2983,      0.2993,      0.3003,      0.3013,      0.3023,      0.3033,      0.3043,     0.30531,     0.30631,     0.30731,     0.30831,     0.30931,     0.31031,     0.31131,\n",
      "           0.31231,     0.31331,     0.31431,     0.31532,     0.31632,     0.31732,     0.31832,     0.31932,     0.32032,     0.32132,     0.32232,     0.32332,     0.32432,     0.32533,     0.32633,     0.32733,     0.32833,     0.32933,     0.33033,     0.33133,     0.33233,     0.33333,     0.33433,     0.33534,\n",
      "           0.33634,     0.33734,     0.33834,     0.33934,     0.34034,     0.34134,     0.34234,     0.34334,     0.34434,     0.34535,     0.34635,     0.34735,     0.34835,     0.34935,     0.35035,     0.35135,     0.35235,     0.35335,     0.35435,     0.35536,     0.35636,     0.35736,     0.35836,     0.35936,\n",
      "           0.36036,     0.36136,     0.36236,     0.36336,     0.36436,     0.36537,     0.36637,     0.36737,     0.36837,     0.36937,     0.37037,     0.37137,     0.37237,     0.37337,     0.37437,     0.37538,     0.37638,     0.37738,     0.37838,     0.37938,     0.38038,     0.38138,     0.38238,     0.38338,\n",
      "           0.38438,     0.38539,     0.38639,     0.38739,     0.38839,     0.38939,     0.39039,     0.39139,     0.39239,     0.39339,     0.39439,      0.3954,      0.3964,      0.3974,      0.3984,      0.3994,      0.4004,      0.4014,      0.4024,      0.4034,      0.4044,     0.40541,     0.40641,     0.40741,\n",
      "           0.40841,     0.40941,     0.41041,     0.41141,     0.41241,     0.41341,     0.41441,     0.41542,     0.41642,     0.41742,     0.41842,     0.41942,     0.42042,     0.42142,     0.42242,     0.42342,     0.42442,     0.42543,     0.42643,     0.42743,     0.42843,     0.42943,     0.43043,     0.43143,\n",
      "           0.43243,     0.43343,     0.43443,     0.43544,     0.43644,     0.43744,     0.43844,     0.43944,     0.44044,     0.44144,     0.44244,     0.44344,     0.44444,     0.44545,     0.44645,     0.44745,     0.44845,     0.44945,     0.45045,     0.45145,     0.45245,     0.45345,     0.45445,     0.45546,\n",
      "           0.45646,     0.45746,     0.45846,     0.45946,     0.46046,     0.46146,     0.46246,     0.46346,     0.46446,     0.46547,     0.46647,     0.46747,     0.46847,     0.46947,     0.47047,     0.47147,     0.47247,     0.47347,     0.47447,     0.47548,     0.47648,     0.47748,     0.47848,     0.47948,\n",
      "           0.48048,     0.48148,     0.48248,     0.48348,     0.48448,     0.48549,     0.48649,     0.48749,     0.48849,     0.48949,     0.49049,     0.49149,     0.49249,     0.49349,     0.49449,      0.4955,      0.4965,      0.4975,      0.4985,      0.4995,      0.5005,      0.5015,      0.5025,      0.5035,\n",
      "            0.5045,     0.50551,     0.50651,     0.50751,     0.50851,     0.50951,     0.51051,     0.51151,     0.51251,     0.51351,     0.51451,     0.51552,     0.51652,     0.51752,     0.51852,     0.51952,     0.52052,     0.52152,     0.52252,     0.52352,     0.52452,     0.52553,     0.52653,     0.52753,\n",
      "           0.52853,     0.52953,     0.53053,     0.53153,     0.53253,     0.53353,     0.53453,     0.53554,     0.53654,     0.53754,     0.53854,     0.53954,     0.54054,     0.54154,     0.54254,     0.54354,     0.54454,     0.54555,     0.54655,     0.54755,     0.54855,     0.54955,     0.55055,     0.55155,\n",
      "           0.55255,     0.55355,     0.55455,     0.55556,     0.55656,     0.55756,     0.55856,     0.55956,     0.56056,     0.56156,     0.56256,     0.56356,     0.56456,     0.56557,     0.56657,     0.56757,     0.56857,     0.56957,     0.57057,     0.57157,     0.57257,     0.57357,     0.57457,     0.57558,\n",
      "           0.57658,     0.57758,     0.57858,     0.57958,     0.58058,     0.58158,     0.58258,     0.58358,     0.58458,     0.58559,     0.58659,     0.58759,     0.58859,     0.58959,     0.59059,     0.59159,     0.59259,     0.59359,     0.59459,      0.5956,      0.5966,      0.5976,      0.5986,      0.5996,\n",
      "            0.6006,      0.6016,      0.6026,      0.6036,      0.6046,     0.60561,     0.60661,     0.60761,     0.60861,     0.60961,     0.61061,     0.61161,     0.61261,     0.61361,     0.61461,     0.61562,     0.61662,     0.61762,     0.61862,     0.61962,     0.62062,     0.62162,     0.62262,     0.62362,\n",
      "           0.62462,     0.62563,     0.62663,     0.62763,     0.62863,     0.62963,     0.63063,     0.63163,     0.63263,     0.63363,     0.63463,     0.63564,     0.63664,     0.63764,     0.63864,     0.63964,     0.64064,     0.64164,     0.64264,     0.64364,     0.64464,     0.64565,     0.64665,     0.64765,\n",
      "           0.64865,     0.64965,     0.65065,     0.65165,     0.65265,     0.65365,     0.65465,     0.65566,     0.65666,     0.65766,     0.65866,     0.65966,     0.66066,     0.66166,     0.66266,     0.66366,     0.66466,     0.66567,     0.66667,     0.66767,     0.66867,     0.66967,     0.67067,     0.67167,\n",
      "           0.67267,     0.67367,     0.67467,     0.67568,     0.67668,     0.67768,     0.67868,     0.67968,     0.68068,     0.68168,     0.68268,     0.68368,     0.68468,     0.68569,     0.68669,     0.68769,     0.68869,     0.68969,     0.69069,     0.69169,     0.69269,     0.69369,     0.69469,      0.6957,\n",
      "            0.6967,      0.6977,      0.6987,      0.6997,      0.7007,      0.7017,      0.7027,      0.7037,      0.7047,     0.70571,     0.70671,     0.70771,     0.70871,     0.70971,     0.71071,     0.71171,     0.71271,     0.71371,     0.71471,     0.71572,     0.71672,     0.71772,     0.71872,     0.71972,\n",
      "           0.72072,     0.72172,     0.72272,     0.72372,     0.72472,     0.72573,     0.72673,     0.72773,     0.72873,     0.72973,     0.73073,     0.73173,     0.73273,     0.73373,     0.73473,     0.73574,     0.73674,     0.73774,     0.73874,     0.73974,     0.74074,     0.74174,     0.74274,     0.74374,\n",
      "           0.74474,     0.74575,     0.74675,     0.74775,     0.74875,     0.74975,     0.75075,     0.75175,     0.75275,     0.75375,     0.75475,     0.75576,     0.75676,     0.75776,     0.75876,     0.75976,     0.76076,     0.76176,     0.76276,     0.76376,     0.76476,     0.76577,     0.76677,     0.76777,\n",
      "           0.76877,     0.76977,     0.77077,     0.77177,     0.77277,     0.77377,     0.77477,     0.77578,     0.77678,     0.77778,     0.77878,     0.77978,     0.78078,     0.78178,     0.78278,     0.78378,     0.78478,     0.78579,     0.78679,     0.78779,     0.78879,     0.78979,     0.79079,     0.79179,\n",
      "           0.79279,     0.79379,     0.79479,      0.7958,      0.7968,      0.7978,      0.7988,      0.7998,      0.8008,      0.8018,      0.8028,      0.8038,      0.8048,     0.80581,     0.80681,     0.80781,     0.80881,     0.80981,     0.81081,     0.81181,     0.81281,     0.81381,     0.81481,     0.81582,\n",
      "           0.81682,     0.81782,     0.81882,     0.81982,     0.82082,     0.82182,     0.82282,     0.82382,     0.82482,     0.82583,     0.82683,     0.82783,     0.82883,     0.82983,     0.83083,     0.83183,     0.83283,     0.83383,     0.83483,     0.83584,     0.83684,     0.83784,     0.83884,     0.83984,\n",
      "           0.84084,     0.84184,     0.84284,     0.84384,     0.84484,     0.84585,     0.84685,     0.84785,     0.84885,     0.84985,     0.85085,     0.85185,     0.85285,     0.85385,     0.85485,     0.85586,     0.85686,     0.85786,     0.85886,     0.85986,     0.86086,     0.86186,     0.86286,     0.86386,\n",
      "           0.86486,     0.86587,     0.86687,     0.86787,     0.86887,     0.86987,     0.87087,     0.87187,     0.87287,     0.87387,     0.87487,     0.87588,     0.87688,     0.87788,     0.87888,     0.87988,     0.88088,     0.88188,     0.88288,     0.88388,     0.88488,     0.88589,     0.88689,     0.88789,\n",
      "           0.88889,     0.88989,     0.89089,     0.89189,     0.89289,     0.89389,     0.89489,      0.8959,      0.8969,      0.8979,      0.8989,      0.8999,      0.9009,      0.9019,      0.9029,      0.9039,      0.9049,     0.90591,     0.90691,     0.90791,     0.90891,     0.90991,     0.91091,     0.91191,\n",
      "           0.91291,     0.91391,     0.91491,     0.91592,     0.91692,     0.91792,     0.91892,     0.91992,     0.92092,     0.92192,     0.92292,     0.92392,     0.92492,     0.92593,     0.92693,     0.92793,     0.92893,     0.92993,     0.93093,     0.93193,     0.93293,     0.93393,     0.93493,     0.93594,\n",
      "           0.93694,     0.93794,     0.93894,     0.93994,     0.94094,     0.94194,     0.94294,     0.94394,     0.94494,     0.94595,     0.94695,     0.94795,     0.94895,     0.94995,     0.95095,     0.95195,     0.95295,     0.95395,     0.95495,     0.95596,     0.95696,     0.95796,     0.95896,     0.95996,\n",
      "           0.96096,     0.96196,     0.96296,     0.96396,     0.96496,     0.96597,     0.96697,     0.96797,     0.96897,     0.96997,     0.97097,     0.97197,     0.97297,     0.97397,     0.97497,     0.97598,     0.97698,     0.97798,     0.97898,     0.97998,     0.98098,     0.98198,     0.98298,     0.98398,\n",
      "           0.98498,     0.98599,     0.98699,     0.98799,     0.98899,     0.98999,     0.99099,     0.99199,     0.99299,     0.99399,     0.99499,       0.996,       0.997,       0.998,       0.999,           1]), array([[   0.068241,    0.068245,    0.083776,     0.09712,      0.1101,     0.11994,     0.12911,     0.13964,      0.1499,     0.16199,     0.17158,     0.18221,     0.18943,     0.19858,     0.20441,       0.209,     0.21581,     0.22101,     0.22652,     0.23281,     0.23671,     0.24453,     0.24786,\n",
      "            0.25042,     0.25299,     0.25949,     0.26654,     0.27192,     0.27677,     0.28074,     0.28362,     0.28585,     0.28743,      0.2894,     0.29182,     0.29615,     0.30152,     0.30055,     0.30294,     0.30482,     0.30917,     0.31393,     0.31566,     0.31796,     0.31664,     0.32188,\n",
      "            0.32376,     0.32429,     0.32542,     0.32793,     0.33085,     0.33309,      0.3365,     0.33793,     0.34254,     0.34949,      0.3478,     0.35112,     0.35624,     0.36054,     0.36496,     0.36763,     0.36957,     0.37566,     0.38192,     0.38487,     0.38973,     0.39406,     0.39619,\n",
      "            0.40208,     0.40473,     0.40532,     0.40591,     0.40861,     0.41525,     0.41784,     0.41299,     0.41052,     0.41269,     0.41366,     0.41551,     0.41851,     0.41987,     0.42181,     0.42498,      0.4283,     0.42393,     0.42651,     0.43192,     0.43426,     0.43518,     0.43637,\n",
      "            0.43868,     0.43796,     0.43922,     0.43989,     0.44033,      0.4342,     0.43613,     0.43918,     0.44132,     0.44157,     0.43175,     0.42911,     0.42726,     0.42865,     0.42982,     0.43125,     0.43292,     0.43498,     0.43737,     0.44246,     0.44518,     0.44802,     0.45158,\n",
      "            0.45249,     0.45341,      0.4544,     0.45538,      0.4582,     0.45913,      0.4601,      0.4617,      0.4631,     0.46438,     0.46461,     0.46073,     0.46231,     0.46495,      0.4673,     0.46861,     0.47167,     0.47221,     0.47276,      0.4733,     0.47402,     0.47515,     0.47388,\n",
      "            0.45998,     0.46114,      0.4623,     0.46264,     0.46061,     0.46486,     0.45848,     0.46069,     0.46132,     0.46194,     0.46256,     0.46319,     0.46428,     0.46544,     0.46749,     0.47019,     0.47246,     0.47445,     0.47659,     0.47738,     0.47807,     0.47876,     0.47944,\n",
      "            0.48032,     0.48122,     0.48211,     0.48328,     0.48455,     0.48584,     0.48714,      0.4903,     0.49184,     0.49275,     0.49365,     0.49438,     0.49502,     0.49566,      0.4963,     0.49693,     0.49757,     0.49821,     0.49884,     0.49948,     0.50042,     0.50286,     0.50407,\n",
      "            0.50517,     0.50638,     0.50878,     0.50955,     0.50985,     0.51016,     0.51046,     0.51076,     0.51106,     0.51136,     0.51166,     0.51196,     0.51226,     0.51626,     0.51955,     0.52245,     0.52319,     0.52393,     0.52467,     0.52541,     0.52798,     0.52922,      0.5295,\n",
      "            0.52977,     0.53005,     0.53032,     0.53059,     0.53087,     0.53114,     0.53142,     0.53169,     0.53196,     0.53223,     0.52733,     0.52362,     0.52447,     0.52531,     0.52616,     0.52655,     0.52683,     0.52712,     0.52741,     0.52769,     0.52798,     0.52826,     0.52854,\n",
      "            0.52883,     0.52911,      0.5294,     0.52968,     0.53026,     0.53106,     0.53185,     0.53265,     0.53337,     0.53365,     0.53393,     0.53421,     0.53448,     0.53476,     0.53504,     0.53532,     0.53559,     0.53587,     0.53614,     0.53642,      0.5367,      0.5376,      0.5406,\n",
      "            0.54136,     0.54213,     0.54289,     0.54365,     0.54315,     0.53898,      0.5348,     0.53575,     0.53746,     0.53912,     0.54075,     0.54188,     0.54239,     0.54289,     0.54339,      0.5439,      0.5444,      0.5449,     0.54539,     0.54564,     0.54586,     0.54608,      0.5463,\n",
      "            0.54651,     0.54673,     0.54694,     0.54716,     0.54738,     0.54759,     0.54781,     0.54802,     0.54824,     0.54845,     0.54867,     0.54888,     0.54909,     0.54932,     0.54979,     0.55025,     0.55072,     0.55118,     0.55164,      0.5521,     0.55256,     0.55302,     0.54975,\n",
      "            0.54423,     0.54321,     0.54369,     0.54416,     0.54464,     0.54511,     0.54558,     0.54605,     0.54652,     0.54691,     0.54721,      0.5475,      0.5478,      0.5481,      0.5484,     0.54869,     0.54899,     0.54929,     0.54958,     0.54988,     0.55017,     0.55047,     0.55078,\n",
      "            0.55123,     0.55168,     0.55213,     0.55257,     0.55302,     0.55346,     0.55391,     0.55435,      0.5548,     0.55528,     0.55577,     0.55625,     0.55673,     0.55721,     0.55769,     0.55817,     0.55864,     0.56305,     0.56323,      0.5634,     0.56357,     0.56375,     0.56392,\n",
      "            0.56409,     0.56426,     0.56444,     0.56461,     0.56478,     0.56495,     0.56513,      0.5653,     0.56547,     0.56564,     0.56581,     0.56598,     0.56616,     0.56633,      0.5665,     0.56667,     0.56684,     0.56701,     0.56753,     0.57126,     0.57244,     0.57349,     0.57454,\n",
      "            0.57559,     0.57419,     0.57231,     0.57043,     0.56854,     0.56665,     0.56522,     0.56925,     0.56934,     0.56944,     0.56953,     0.56962,     0.56972,     0.56981,      0.5699,        0.57,     0.57009,     0.57018,     0.57028,     0.57037,     0.57046,     0.57056,     0.57065,\n",
      "            0.57074,     0.57083,     0.57093,     0.57102,     0.57111,     0.57121,      0.5713,     0.57139,     0.57148,     0.57158,     0.57167,     0.57176,     0.57185,     0.57195,     0.57204,     0.57213,     0.57222,     0.57232,     0.57241,      0.5725,     0.57259,     0.57268,     0.57278,\n",
      "            0.57287,     0.57296,     0.57305,     0.57314,     0.57324,     0.57333,     0.57342,     0.57351,      0.5736,     0.57395,     0.57449,     0.57502,     0.57556,      0.5761,     0.57663,     0.57716,     0.57769,      0.5774,     0.57356,     0.56971,       0.567,     0.56724,     0.56748,\n",
      "            0.56772,     0.56796,     0.56819,     0.56843,     0.56867,     0.56891,     0.56915,     0.56938,     0.56962,     0.56986,      0.5701,     0.57033,     0.57057,      0.5708,     0.57104,     0.57127,     0.57121,     0.57059,     0.56996,     0.56934,     0.56871,     0.56809,     0.56746,\n",
      "            0.56683,     0.56621,     0.56558,     0.56495,     0.56432,      0.5637,     0.56307,     0.56244,     0.56181,     0.56118,     0.56055,     0.56023,     0.56203,     0.56382,     0.56432,     0.56399,     0.56366,     0.56333,       0.563,     0.56267,     0.56234,     0.56201,     0.56168,\n",
      "            0.56135,     0.56102,     0.56069,     0.56036,     0.56003,      0.5597,     0.55937,     0.55903,      0.5587,     0.55837,     0.55804,     0.55771,     0.55738,     0.55705,     0.55672,     0.55639,     0.55605,     0.55572,     0.55539,     0.55506,     0.55473,     0.55439,     0.55406,\n",
      "            0.55373,      0.5534,     0.55307,     0.55263,     0.55197,     0.55132,     0.55067,     0.55001,     0.54936,      0.5487,     0.54805,     0.54739,     0.54674,     0.54608,     0.54543,     0.54477,     0.54411,     0.54346,      0.5428,     0.54214,     0.54148,     0.54074,     0.53973,\n",
      "            0.53872,     0.53771,     0.53669,     0.53568,     0.53467,     0.53365,     0.53263,     0.53162,      0.5306,     0.52958,     0.52918,     0.52988,     0.53059,     0.53129,     0.53199,     0.53268,     0.53128,     0.52063,     0.52012,      0.5196,     0.51908,     0.51857,     0.51805,\n",
      "            0.51753,     0.51701,     0.51649,     0.51597,     0.51546,     0.51494,     0.51442,      0.5139,     0.51338,     0.51286,     0.51234,     0.51182,      0.5113,     0.51078,     0.51026,     0.50974,     0.50922,     0.50869,     0.50776,     0.50654,     0.50531,     0.50408,     0.50285,\n",
      "            0.50162,     0.50038,     0.49915,     0.49791,     0.49668,     0.49444,     0.48892,     0.48337,     0.48347,     0.48427,     0.48506,     0.48585,     0.48663,     0.48948,     0.49215,     0.49369,     0.49521,     0.49625,     0.49713,       0.498,     0.49887,     0.49974,     0.50175,\n",
      "            0.50424,     0.50473,     0.50498,     0.50524,     0.50549,     0.50574,     0.50599,     0.50624,     0.50649,     0.50674,     0.50699,     0.50724,     0.50749,     0.50773,     0.50798,     0.50823,     0.50847,     0.50872,     0.50896,     0.50838,     0.50688,     0.50538,     0.50388,\n",
      "            0.50237,     0.50086,     0.49935,     0.49784,     0.49633,     0.49571,     0.49644,     0.49716,     0.49789,     0.49861,     0.49932,     0.49994,     0.49859,     0.49724,     0.49589,     0.49454,     0.49318,     0.49182,     0.49046,      0.4891,     0.48774,     0.48638,     0.48561,\n",
      "             0.4851,     0.48458,     0.48406,     0.48354,     0.48302,      0.4825,     0.48198,     0.48147,     0.48095,     0.48043,     0.47991,     0.47938,     0.47886,     0.47834,     0.47782,      0.4773,     0.47678,     0.47626,     0.47574,     0.47521,     0.47469,     0.47417,     0.47364,\n",
      "            0.47312,      0.4726,     0.47207,     0.47151,     0.47085,     0.47019,     0.46953,     0.46888,     0.46822,     0.46756,      0.4669,     0.46623,     0.46557,     0.46491,     0.46425,     0.46359,     0.46292,     0.46226,      0.4616,     0.46093,     0.46027,      0.4596,     0.45894,\n",
      "            0.45827,     0.45761,     0.45636,     0.45381,     0.45125,     0.44868,     0.44611,     0.44353,     0.44526,     0.44573,     0.44459,     0.44344,     0.44228,     0.44113,     0.43998,     0.43882,     0.43767,     0.43651,     0.43535,     0.43419,     0.43303,     0.43187,     0.43388,\n",
      "            0.43512,     0.43421,     0.43331,     0.43241,     0.43151,      0.4306,      0.4297,     0.42879,     0.42789,     0.42698,     0.42607,     0.42516,     0.42425,     0.42334,     0.42243,     0.42152,      0.4206,     0.40896,     0.39818,     0.39125,      0.3703,     0.36676,     0.36321,\n",
      "            0.35965,     0.35608,     0.35428,     0.35453,     0.35477,     0.35501,     0.35525,      0.3555,     0.35573,     0.35597,     0.35621,     0.35645,     0.35668,     0.35691,     0.35715,     0.35738,     0.35761,     0.35784,     0.35587,     0.35321,     0.35054,     0.34787,     0.34519,\n",
      "             0.3425,     0.33569,     0.32525,     0.32622,     0.32637,     0.32651,     0.32666,     0.32681,     0.32695,      0.3271,     0.32724,     0.32739,     0.32753,     0.32768,     0.32782,     0.32796,      0.3281,     0.32824,     0.32838,     0.32853,     0.32866,      0.3288,     0.32894,\n",
      "            0.32908,     0.32922,     0.32936,     0.32949,     0.32963,       0.311,     0.30794,     0.30487,     0.30179,     0.29869,     0.29559,     0.29248,     0.29163,     0.28639,     0.28112,     0.27585,     0.27452,     0.27319,     0.27185,     0.27052,     0.26918,     0.26784,      0.2665,\n",
      "            0.26515,     0.26381,     0.26246,     0.26111,     0.25976,      0.2584,     0.25705,     0.25583,     0.25597,     0.25612,     0.25626,     0.25641,     0.25655,     0.25669,     0.25683,     0.25697,     0.25711,     0.25725,     0.25739,     0.25752,     0.25766,     0.25779,     0.25793,\n",
      "            0.25806,     0.25819,     0.25832,     0.25845,     0.25858,     0.25871,     0.25794,     0.24754,     0.23482,     0.21614,      0.2145,     0.21287,     0.21123,     0.20958,     0.20794,     0.20629,     0.20464,     0.20298,     0.20133,     0.19966,       0.198,     0.19633,     0.19244,\n",
      "            0.18259,     0.17282,     0.17171,     0.17061,      0.1695,      0.1684,     0.16729,     0.16618,     0.16507,     0.16396,     0.16284,     0.16173,     0.16061,     0.15949,     0.15838,     0.15726,     0.15613,     0.15501,     0.15389,     0.15276,     0.15163,     0.15051,     0.14749,\n",
      "            0.14294,     0.13836,     0.13376,     0.12914,     0.12052,     0.10688,     0.10125,    0.099339,    0.097421,      0.0955,    0.093575,    0.091646,    0.089713,    0.087776,    0.085835,     0.08389,    0.081942,    0.079989,    0.078032,    0.077117,    0.076264,     0.07541,    0.074555,\n",
      "             0.0737,    0.072843,    0.071986,    0.071128,     0.07027,     0.06941,     0.06855,    0.067689,    0.066828,    0.065965,    0.065102,    0.064238,    0.063373,    0.062508,    0.061641,    0.060774,    0.059906,    0.059038,    0.058168,    0.057298,    0.056427,    0.055555,    0.054683,\n",
      "            0.05381,    0.052936,    0.051811,    0.050553,    0.049293,    0.048031,    0.046768,    0.045503,    0.044236,    0.042968,    0.041698,    0.040427,    0.039154,    0.037879,    0.036602,    0.035324,    0.034044,    0.032763,     0.03148,    0.030195,    0.028908,     0.02762,           0,\n",
      "                  0,           0,           0,           0,           0,           0,           0,           0,           0,           0,           0,           0,           0,           0,           0,           0,           0,           0,           0,           0,           0,           0,           0,\n",
      "                  0,           0,           0,           0,           0,           0,           0,           0,           0,           0,           0,           0,           0,           0,           0,           0,           0,           0,           0,           0,           0,           0,           0,\n",
      "                  0,           0,           0,           0,           0,           0,           0,           0,           0,           0,           0]]), 'Confidence', 'F1'], [array([          0,    0.001001,    0.002002,    0.003003,    0.004004,    0.005005,    0.006006,    0.007007,    0.008008,    0.009009,     0.01001,    0.011011,    0.012012,    0.013013,    0.014014,    0.015015,    0.016016,    0.017017,    0.018018,    0.019019,     0.02002,    0.021021,    0.022022,    0.023023,\n",
      "          0.024024,    0.025025,    0.026026,    0.027027,    0.028028,    0.029029,     0.03003,    0.031031,    0.032032,    0.033033,    0.034034,    0.035035,    0.036036,    0.037037,    0.038038,    0.039039,     0.04004,    0.041041,    0.042042,    0.043043,    0.044044,    0.045045,    0.046046,    0.047047,\n",
      "          0.048048,    0.049049,     0.05005,    0.051051,    0.052052,    0.053053,    0.054054,    0.055055,    0.056056,    0.057057,    0.058058,    0.059059,     0.06006,    0.061061,    0.062062,    0.063063,    0.064064,    0.065065,    0.066066,    0.067067,    0.068068,    0.069069,     0.07007,    0.071071,\n",
      "          0.072072,    0.073073,    0.074074,    0.075075,    0.076076,    0.077077,    0.078078,    0.079079,     0.08008,    0.081081,    0.082082,    0.083083,    0.084084,    0.085085,    0.086086,    0.087087,    0.088088,    0.089089,     0.09009,    0.091091,    0.092092,    0.093093,    0.094094,    0.095095,\n",
      "          0.096096,    0.097097,    0.098098,    0.099099,      0.1001,      0.1011,      0.1021,      0.1031,      0.1041,     0.10511,     0.10611,     0.10711,     0.10811,     0.10911,     0.11011,     0.11111,     0.11211,     0.11311,     0.11411,     0.11512,     0.11612,     0.11712,     0.11812,     0.11912,\n",
      "           0.12012,     0.12112,     0.12212,     0.12312,     0.12412,     0.12513,     0.12613,     0.12713,     0.12813,     0.12913,     0.13013,     0.13113,     0.13213,     0.13313,     0.13413,     0.13514,     0.13614,     0.13714,     0.13814,     0.13914,     0.14014,     0.14114,     0.14214,     0.14314,\n",
      "           0.14414,     0.14515,     0.14615,     0.14715,     0.14815,     0.14915,     0.15015,     0.15115,     0.15215,     0.15315,     0.15415,     0.15516,     0.15616,     0.15716,     0.15816,     0.15916,     0.16016,     0.16116,     0.16216,     0.16316,     0.16416,     0.16517,     0.16617,     0.16717,\n",
      "           0.16817,     0.16917,     0.17017,     0.17117,     0.17217,     0.17317,     0.17417,     0.17518,     0.17618,     0.17718,     0.17818,     0.17918,     0.18018,     0.18118,     0.18218,     0.18318,     0.18418,     0.18519,     0.18619,     0.18719,     0.18819,     0.18919,     0.19019,     0.19119,\n",
      "           0.19219,     0.19319,     0.19419,      0.1952,      0.1962,      0.1972,      0.1982,      0.1992,      0.2002,      0.2012,      0.2022,      0.2032,      0.2042,     0.20521,     0.20621,     0.20721,     0.20821,     0.20921,     0.21021,     0.21121,     0.21221,     0.21321,     0.21421,     0.21522,\n",
      "           0.21622,     0.21722,     0.21822,     0.21922,     0.22022,     0.22122,     0.22222,     0.22322,     0.22422,     0.22523,     0.22623,     0.22723,     0.22823,     0.22923,     0.23023,     0.23123,     0.23223,     0.23323,     0.23423,     0.23524,     0.23624,     0.23724,     0.23824,     0.23924,\n",
      "           0.24024,     0.24124,     0.24224,     0.24324,     0.24424,     0.24525,     0.24625,     0.24725,     0.24825,     0.24925,     0.25025,     0.25125,     0.25225,     0.25325,     0.25425,     0.25526,     0.25626,     0.25726,     0.25826,     0.25926,     0.26026,     0.26126,     0.26226,     0.26326,\n",
      "           0.26426,     0.26527,     0.26627,     0.26727,     0.26827,     0.26927,     0.27027,     0.27127,     0.27227,     0.27327,     0.27427,     0.27528,     0.27628,     0.27728,     0.27828,     0.27928,     0.28028,     0.28128,     0.28228,     0.28328,     0.28428,     0.28529,     0.28629,     0.28729,\n",
      "           0.28829,     0.28929,     0.29029,     0.29129,     0.29229,     0.29329,     0.29429,      0.2953,      0.2963,      0.2973,      0.2983,      0.2993,      0.3003,      0.3013,      0.3023,      0.3033,      0.3043,     0.30531,     0.30631,     0.30731,     0.30831,     0.30931,     0.31031,     0.31131,\n",
      "           0.31231,     0.31331,     0.31431,     0.31532,     0.31632,     0.31732,     0.31832,     0.31932,     0.32032,     0.32132,     0.32232,     0.32332,     0.32432,     0.32533,     0.32633,     0.32733,     0.32833,     0.32933,     0.33033,     0.33133,     0.33233,     0.33333,     0.33433,     0.33534,\n",
      "           0.33634,     0.33734,     0.33834,     0.33934,     0.34034,     0.34134,     0.34234,     0.34334,     0.34434,     0.34535,     0.34635,     0.34735,     0.34835,     0.34935,     0.35035,     0.35135,     0.35235,     0.35335,     0.35435,     0.35536,     0.35636,     0.35736,     0.35836,     0.35936,\n",
      "           0.36036,     0.36136,     0.36236,     0.36336,     0.36436,     0.36537,     0.36637,     0.36737,     0.36837,     0.36937,     0.37037,     0.37137,     0.37237,     0.37337,     0.37437,     0.37538,     0.37638,     0.37738,     0.37838,     0.37938,     0.38038,     0.38138,     0.38238,     0.38338,\n",
      "           0.38438,     0.38539,     0.38639,     0.38739,     0.38839,     0.38939,     0.39039,     0.39139,     0.39239,     0.39339,     0.39439,      0.3954,      0.3964,      0.3974,      0.3984,      0.3994,      0.4004,      0.4014,      0.4024,      0.4034,      0.4044,     0.40541,     0.40641,     0.40741,\n",
      "           0.40841,     0.40941,     0.41041,     0.41141,     0.41241,     0.41341,     0.41441,     0.41542,     0.41642,     0.41742,     0.41842,     0.41942,     0.42042,     0.42142,     0.42242,     0.42342,     0.42442,     0.42543,     0.42643,     0.42743,     0.42843,     0.42943,     0.43043,     0.43143,\n",
      "           0.43243,     0.43343,     0.43443,     0.43544,     0.43644,     0.43744,     0.43844,     0.43944,     0.44044,     0.44144,     0.44244,     0.44344,     0.44444,     0.44545,     0.44645,     0.44745,     0.44845,     0.44945,     0.45045,     0.45145,     0.45245,     0.45345,     0.45445,     0.45546,\n",
      "           0.45646,     0.45746,     0.45846,     0.45946,     0.46046,     0.46146,     0.46246,     0.46346,     0.46446,     0.46547,     0.46647,     0.46747,     0.46847,     0.46947,     0.47047,     0.47147,     0.47247,     0.47347,     0.47447,     0.47548,     0.47648,     0.47748,     0.47848,     0.47948,\n",
      "           0.48048,     0.48148,     0.48248,     0.48348,     0.48448,     0.48549,     0.48649,     0.48749,     0.48849,     0.48949,     0.49049,     0.49149,     0.49249,     0.49349,     0.49449,      0.4955,      0.4965,      0.4975,      0.4985,      0.4995,      0.5005,      0.5015,      0.5025,      0.5035,\n",
      "            0.5045,     0.50551,     0.50651,     0.50751,     0.50851,     0.50951,     0.51051,     0.51151,     0.51251,     0.51351,     0.51451,     0.51552,     0.51652,     0.51752,     0.51852,     0.51952,     0.52052,     0.52152,     0.52252,     0.52352,     0.52452,     0.52553,     0.52653,     0.52753,\n",
      "           0.52853,     0.52953,     0.53053,     0.53153,     0.53253,     0.53353,     0.53453,     0.53554,     0.53654,     0.53754,     0.53854,     0.53954,     0.54054,     0.54154,     0.54254,     0.54354,     0.54454,     0.54555,     0.54655,     0.54755,     0.54855,     0.54955,     0.55055,     0.55155,\n",
      "           0.55255,     0.55355,     0.55455,     0.55556,     0.55656,     0.55756,     0.55856,     0.55956,     0.56056,     0.56156,     0.56256,     0.56356,     0.56456,     0.56557,     0.56657,     0.56757,     0.56857,     0.56957,     0.57057,     0.57157,     0.57257,     0.57357,     0.57457,     0.57558,\n",
      "           0.57658,     0.57758,     0.57858,     0.57958,     0.58058,     0.58158,     0.58258,     0.58358,     0.58458,     0.58559,     0.58659,     0.58759,     0.58859,     0.58959,     0.59059,     0.59159,     0.59259,     0.59359,     0.59459,      0.5956,      0.5966,      0.5976,      0.5986,      0.5996,\n",
      "            0.6006,      0.6016,      0.6026,      0.6036,      0.6046,     0.60561,     0.60661,     0.60761,     0.60861,     0.60961,     0.61061,     0.61161,     0.61261,     0.61361,     0.61461,     0.61562,     0.61662,     0.61762,     0.61862,     0.61962,     0.62062,     0.62162,     0.62262,     0.62362,\n",
      "           0.62462,     0.62563,     0.62663,     0.62763,     0.62863,     0.62963,     0.63063,     0.63163,     0.63263,     0.63363,     0.63463,     0.63564,     0.63664,     0.63764,     0.63864,     0.63964,     0.64064,     0.64164,     0.64264,     0.64364,     0.64464,     0.64565,     0.64665,     0.64765,\n",
      "           0.64865,     0.64965,     0.65065,     0.65165,     0.65265,     0.65365,     0.65465,     0.65566,     0.65666,     0.65766,     0.65866,     0.65966,     0.66066,     0.66166,     0.66266,     0.66366,     0.66466,     0.66567,     0.66667,     0.66767,     0.66867,     0.66967,     0.67067,     0.67167,\n",
      "           0.67267,     0.67367,     0.67467,     0.67568,     0.67668,     0.67768,     0.67868,     0.67968,     0.68068,     0.68168,     0.68268,     0.68368,     0.68468,     0.68569,     0.68669,     0.68769,     0.68869,     0.68969,     0.69069,     0.69169,     0.69269,     0.69369,     0.69469,      0.6957,\n",
      "            0.6967,      0.6977,      0.6987,      0.6997,      0.7007,      0.7017,      0.7027,      0.7037,      0.7047,     0.70571,     0.70671,     0.70771,     0.70871,     0.70971,     0.71071,     0.71171,     0.71271,     0.71371,     0.71471,     0.71572,     0.71672,     0.71772,     0.71872,     0.71972,\n",
      "           0.72072,     0.72172,     0.72272,     0.72372,     0.72472,     0.72573,     0.72673,     0.72773,     0.72873,     0.72973,     0.73073,     0.73173,     0.73273,     0.73373,     0.73473,     0.73574,     0.73674,     0.73774,     0.73874,     0.73974,     0.74074,     0.74174,     0.74274,     0.74374,\n",
      "           0.74474,     0.74575,     0.74675,     0.74775,     0.74875,     0.74975,     0.75075,     0.75175,     0.75275,     0.75375,     0.75475,     0.75576,     0.75676,     0.75776,     0.75876,     0.75976,     0.76076,     0.76176,     0.76276,     0.76376,     0.76476,     0.76577,     0.76677,     0.76777,\n",
      "           0.76877,     0.76977,     0.77077,     0.77177,     0.77277,     0.77377,     0.77477,     0.77578,     0.77678,     0.77778,     0.77878,     0.77978,     0.78078,     0.78178,     0.78278,     0.78378,     0.78478,     0.78579,     0.78679,     0.78779,     0.78879,     0.78979,     0.79079,     0.79179,\n",
      "           0.79279,     0.79379,     0.79479,      0.7958,      0.7968,      0.7978,      0.7988,      0.7998,      0.8008,      0.8018,      0.8028,      0.8038,      0.8048,     0.80581,     0.80681,     0.80781,     0.80881,     0.80981,     0.81081,     0.81181,     0.81281,     0.81381,     0.81481,     0.81582,\n",
      "           0.81682,     0.81782,     0.81882,     0.81982,     0.82082,     0.82182,     0.82282,     0.82382,     0.82482,     0.82583,     0.82683,     0.82783,     0.82883,     0.82983,     0.83083,     0.83183,     0.83283,     0.83383,     0.83483,     0.83584,     0.83684,     0.83784,     0.83884,     0.83984,\n",
      "           0.84084,     0.84184,     0.84284,     0.84384,     0.84484,     0.84585,     0.84685,     0.84785,     0.84885,     0.84985,     0.85085,     0.85185,     0.85285,     0.85385,     0.85485,     0.85586,     0.85686,     0.85786,     0.85886,     0.85986,     0.86086,     0.86186,     0.86286,     0.86386,\n",
      "           0.86486,     0.86587,     0.86687,     0.86787,     0.86887,     0.86987,     0.87087,     0.87187,     0.87287,     0.87387,     0.87487,     0.87588,     0.87688,     0.87788,     0.87888,     0.87988,     0.88088,     0.88188,     0.88288,     0.88388,     0.88488,     0.88589,     0.88689,     0.88789,\n",
      "           0.88889,     0.88989,     0.89089,     0.89189,     0.89289,     0.89389,     0.89489,      0.8959,      0.8969,      0.8979,      0.8989,      0.8999,      0.9009,      0.9019,      0.9029,      0.9039,      0.9049,     0.90591,     0.90691,     0.90791,     0.90891,     0.90991,     0.91091,     0.91191,\n",
      "           0.91291,     0.91391,     0.91491,     0.91592,     0.91692,     0.91792,     0.91892,     0.91992,     0.92092,     0.92192,     0.92292,     0.92392,     0.92492,     0.92593,     0.92693,     0.92793,     0.92893,     0.92993,     0.93093,     0.93193,     0.93293,     0.93393,     0.93493,     0.93594,\n",
      "           0.93694,     0.93794,     0.93894,     0.93994,     0.94094,     0.94194,     0.94294,     0.94394,     0.94494,     0.94595,     0.94695,     0.94795,     0.94895,     0.94995,     0.95095,     0.95195,     0.95295,     0.95395,     0.95495,     0.95596,     0.95696,     0.95796,     0.95896,     0.95996,\n",
      "           0.96096,     0.96196,     0.96296,     0.96396,     0.96496,     0.96597,     0.96697,     0.96797,     0.96897,     0.96997,     0.97097,     0.97197,     0.97297,     0.97397,     0.97497,     0.97598,     0.97698,     0.97798,     0.97898,     0.97998,     0.98098,     0.98198,     0.98298,     0.98398,\n",
      "           0.98498,     0.98599,     0.98699,     0.98799,     0.98899,     0.98999,     0.99099,     0.99199,     0.99299,     0.99399,     0.99499,       0.996,       0.997,       0.998,       0.999,           1]), array([[     0.0355,    0.035502,    0.044055,    0.051497,    0.058858,    0.064596,    0.069945,    0.076168,    0.082314,    0.089661,    0.095576,     0.10222,     0.10701,     0.11289,     0.11667,     0.11967,     0.12415,     0.12761,     0.13165,     0.13592,     0.13859,     0.14414,     0.14674,\n",
      "            0.14875,     0.15084,     0.15549,     0.16057,      0.1645,     0.16806,     0.17099,     0.17314,      0.1748,     0.17599,     0.17817,     0.18001,     0.18331,     0.18744,     0.18751,     0.18938,     0.19085,     0.19427,     0.19804,     0.19942,     0.20131,     0.20118,     0.20543,\n",
      "            0.20695,     0.20739,     0.20831,     0.21037,     0.21279,     0.21464,     0.21748,     0.21868,     0.22255,     0.22846,      0.2283,     0.23117,     0.23564,     0.23941,     0.24333,     0.24571,     0.24744,     0.25293,     0.25864,     0.26135,     0.26586,     0.26991,     0.27191,\n",
      "            0.27749,     0.28002,     0.28058,     0.28115,     0.28374,     0.29019,     0.29273,     0.29015,     0.28996,     0.29212,      0.2931,     0.29496,     0.29799,     0.29937,     0.30135,      0.3046,     0.30802,     0.30611,     0.30881,     0.31452,       0.317,     0.31798,     0.31926,\n",
      "            0.32173,     0.32398,     0.32536,     0.32609,     0.32667,     0.32274,     0.32515,     0.32854,     0.33094,     0.33311,     0.32675,     0.32602,     0.32549,      0.3271,     0.32847,     0.33015,     0.33211,     0.33454,     0.33738,     0.34347,     0.34675,     0.35021,     0.35459,\n",
      "            0.35571,     0.35685,     0.35807,     0.35929,     0.36282,     0.36399,     0.36521,     0.36723,       0.369,     0.37062,     0.37241,     0.36987,     0.37291,     0.37635,     0.37945,     0.38118,     0.38523,     0.38596,     0.38669,     0.38742,     0.38839,      0.3899,     0.38978,\n",
      "            0.38065,     0.38224,     0.38384,     0.38774,     0.38757,     0.39364,     0.39102,     0.39426,     0.39517,     0.39609,     0.39701,     0.39792,     0.39954,     0.40127,     0.40432,     0.40837,     0.41181,     0.41485,     0.41813,     0.41935,     0.42042,     0.42148,     0.42254,\n",
      "             0.4239,     0.42531,     0.42671,     0.42855,     0.43054,     0.43258,     0.43465,     0.43971,     0.44219,     0.44366,     0.44512,     0.44632,     0.44736,      0.4484,     0.44945,     0.45049,     0.45154,     0.45259,     0.45364,     0.45469,     0.45626,     0.46032,     0.46236,\n",
      "            0.46421,     0.46625,     0.47034,     0.47167,     0.47218,      0.4727,     0.47322,     0.47374,     0.47426,     0.47477,     0.47529,     0.47581,     0.47633,     0.48329,     0.48909,     0.49425,     0.49559,     0.49692,     0.49825,     0.49958,     0.50425,     0.50652,     0.50702,\n",
      "            0.50753,     0.50803,     0.50854,     0.50904,     0.50955,     0.51005,     0.51055,     0.51106,     0.51156,     0.51207,     0.50919,     0.50773,     0.50933,     0.51092,     0.51252,     0.51326,     0.51381,     0.51435,     0.51489,     0.51544,     0.51598,     0.51653,     0.51707,\n",
      "            0.51761,     0.51816,      0.5187,     0.51925,     0.52035,      0.5219,     0.52344,     0.52498,     0.52639,     0.52693,     0.52747,     0.52802,     0.52856,      0.5291,     0.52965,     0.53019,     0.53073,     0.53128,     0.53182,     0.53236,     0.53291,     0.53468,     0.54065,\n",
      "            0.54219,     0.54373,     0.54526,      0.5468,     0.54727,     0.54464,     0.54201,     0.54476,     0.54832,     0.55178,      0.5552,      0.5576,     0.55867,     0.55974,     0.56081,     0.56188,     0.56295,     0.56402,     0.56509,     0.56563,     0.56609,     0.56656,     0.56703,\n",
      "            0.56749,     0.56796,     0.56843,     0.56889,     0.56936,     0.56982,     0.57029,     0.57076,     0.57122,     0.57169,     0.57216,     0.57262,     0.57309,     0.57359,      0.5746,     0.57562,     0.57663,     0.57765,     0.57866,     0.57968,     0.58069,     0.58171,     0.57997,\n",
      "             0.5766,     0.57656,     0.57763,      0.5787,     0.57978,     0.58085,     0.58192,     0.58299,     0.58406,     0.58494,     0.58563,     0.58631,       0.587,     0.58768,     0.58836,     0.58905,     0.58973,     0.59041,      0.5911,     0.59178,     0.59246,     0.59315,     0.59387,\n",
      "            0.59492,     0.59597,     0.59702,     0.59806,     0.59911,     0.60016,      0.6012,     0.60225,     0.60331,     0.60445,      0.6056,     0.60674,     0.60789,     0.60903,     0.61018,     0.61132,     0.61247,     0.62317,      0.6236,     0.62402,     0.62445,     0.62487,      0.6253,\n",
      "            0.62572,     0.62615,     0.62657,       0.627,     0.62742,     0.62785,     0.62827,      0.6287,     0.62912,     0.62955,     0.62997,      0.6304,     0.63082,     0.63125,     0.63167,      0.6321,     0.63252,     0.63295,     0.63426,     0.64365,     0.64664,     0.64934,     0.65203,\n",
      "            0.65473,      0.6543,     0.65325,      0.6522,     0.65115,      0.6501,     0.65001,     0.66077,     0.66102,     0.66127,     0.66152,     0.66177,     0.66203,     0.66228,     0.66253,     0.66278,     0.66303,     0.66329,     0.66354,     0.66379,     0.66404,      0.6643,     0.66455,\n",
      "             0.6648,     0.66505,      0.6653,     0.66556,     0.66581,     0.66606,     0.66631,     0.66657,     0.66682,     0.66707,     0.66732,     0.66757,     0.66783,     0.66808,     0.66833,     0.66858,     0.66883,     0.66909,     0.66934,     0.66959,     0.66984,      0.6701,     0.67035,\n",
      "             0.6706,     0.67085,      0.6711,     0.67136,     0.67161,     0.67186,     0.67211,     0.67236,     0.67262,     0.67356,     0.67505,     0.67654,     0.67803,     0.67951,       0.681,     0.68249,     0.68398,      0.6848,     0.68276,     0.68071,     0.67944,     0.68013,     0.68082,\n",
      "            0.68151,      0.6822,     0.68289,     0.68358,     0.68427,     0.68496,     0.68565,     0.68634,     0.68703,     0.68772,     0.68841,      0.6891,     0.68979,     0.69048,     0.69117,     0.69186,     0.69219,     0.69186,     0.69153,      0.6912,     0.69087,     0.69054,     0.69021,\n",
      "            0.68988,     0.68954,     0.68921,     0.68888,     0.68855,     0.68822,     0.68789,     0.68756,     0.68723,     0.68689,     0.68656,     0.68696,     0.69242,     0.69787,     0.69989,     0.69972,     0.69955,     0.69937,      0.6992,     0.69903,     0.69885,     0.69868,     0.69851,\n",
      "            0.69833,     0.69816,     0.69798,     0.69781,     0.69764,     0.69746,     0.69729,     0.69712,     0.69694,     0.69677,      0.6966,     0.69642,     0.69625,     0.69608,      0.6959,     0.69573,     0.69555,     0.69538,     0.69521,     0.69503,     0.69486,     0.69469,     0.69451,\n",
      "            0.69434,     0.69417,     0.69399,     0.69376,     0.69341,     0.69305,      0.6927,     0.69235,       0.692,     0.69164,     0.69129,     0.69094,     0.69059,     0.69023,     0.68988,     0.68953,     0.68918,     0.68882,     0.68847,     0.68812,     0.68777,     0.68737,     0.68681,\n",
      "            0.68625,     0.68569,     0.68513,     0.68457,     0.68401,     0.68345,     0.68289,     0.68233,     0.68177,     0.68121,     0.68169,     0.68404,     0.68639,     0.68873,     0.69108,     0.69343,     0.69452,     0.68868,     0.68838,     0.68809,      0.6878,     0.68751,     0.68721,\n",
      "            0.68692,     0.68663,     0.68633,     0.68604,     0.68575,     0.68546,     0.68516,     0.68487,     0.68458,     0.68428,     0.68399,      0.6837,     0.68341,     0.68311,     0.68282,     0.68253,     0.68223,     0.68194,      0.6814,     0.68069,     0.67997,     0.67926,     0.67854,\n",
      "            0.67783,     0.67711,      0.6764,     0.67568,     0.67497,     0.67365,     0.67034,     0.66703,     0.66939,     0.67245,     0.67552,     0.67858,     0.68164,     0.69295,     0.70374,     0.71008,     0.71641,     0.72077,      0.7245,     0.72824,     0.73197,      0.7357,     0.74451,\n",
      "            0.75556,     0.75777,     0.75892,     0.76006,      0.7612,     0.76234,     0.76348,     0.76462,     0.76576,     0.76691,     0.76805,     0.76919,     0.77033,     0.77147,     0.77261,     0.77375,     0.77489,     0.77604,     0.77718,     0.77745,     0.77675,     0.77605,     0.77535,\n",
      "            0.77465,     0.77395,     0.77325,     0.77255,     0.77185,     0.77285,     0.77642,     0.77999,     0.78356,     0.78713,      0.7907,     0.79409,     0.79349,     0.79288,     0.79228,     0.79168,     0.79107,     0.79047,     0.78986,     0.78926,     0.78866,     0.78805,     0.78771,\n",
      "            0.78747,     0.78722,     0.78698,     0.78674,      0.7865,     0.78626,     0.78601,     0.78577,     0.78553,     0.78529,     0.78505,     0.78481,     0.78456,     0.78432,     0.78408,     0.78384,      0.7836,     0.78336,     0.78311,     0.78287,     0.78263,     0.78239,     0.78215,\n",
      "            0.78191,     0.78166,     0.78142,     0.78116,     0.78084,     0.78052,      0.7802,     0.77987,     0.77955,     0.77923,     0.77891,     0.77859,     0.77827,     0.77795,     0.77763,     0.77731,     0.77698,     0.77666,     0.77634,     0.77602,      0.7757,     0.77538,     0.77506,\n",
      "            0.77474,     0.77442,      0.7738,     0.77249,     0.77119,     0.76989,     0.76859,     0.76728,     0.78472,     0.79268,     0.79212,     0.79156,       0.791,     0.79044,     0.78988,     0.78932,     0.78876,     0.78819,     0.78763,     0.78707,     0.78651,     0.78595,     0.80263,\n",
      "            0.81457,     0.81416,     0.81375,     0.81333,     0.81292,     0.81251,     0.81209,     0.81168,     0.81127,     0.81086,     0.81044,     0.81003,     0.80962,      0.8092,     0.80879,     0.80838,     0.80797,     0.80236,     0.79699,     0.79345,     0.78212,     0.78005,     0.77798,\n",
      "             0.7759,     0.77383,     0.77382,     0.77616,     0.77851,     0.78085,     0.78319,     0.78554,     0.78788,     0.79022,     0.79256,     0.79491,     0.79725,     0.79959,     0.80194,     0.80428,     0.80662,     0.80897,     0.80841,     0.80695,      0.8055,     0.80404,     0.80258,\n",
      "            0.80112,     0.79719,     0.82249,     0.83505,     0.83699,     0.83894,     0.84089,     0.84283,     0.84478,     0.84672,     0.84867,     0.85062,     0.85256,     0.85451,     0.85646,      0.8584,     0.86035,      0.8623,     0.86424,     0.86619,     0.86814,     0.87008,     0.87203,\n",
      "            0.87397,     0.87592,     0.87787,     0.87981,     0.88176,     0.87495,      0.8736,     0.87224,     0.87088,     0.86953,     0.86817,     0.86682,     0.92749,     0.92602,     0.92454,     0.92307,     0.92264,     0.92221,     0.92178,     0.92135,     0.92092,      0.9205,     0.92007,\n",
      "            0.91964,     0.91921,     0.91878,     0.91835,     0.91792,     0.91749,     0.91706,     0.91701,      0.9208,     0.92458,     0.92837,     0.93216,     0.93594,     0.93973,     0.94352,     0.94731,     0.95109,     0.95488,     0.95867,     0.96245,     0.96624,     0.97003,     0.97381,\n",
      "             0.9776,     0.98139,     0.98517,     0.98896,     0.99275,     0.99654,           1,           1,           1,           1,           1,           1,           1,           1,           1,           1,           1,           1,           1,           1,           1,           1,           1,\n",
      "                  1,           1,           1,           1,           1,           1,           1,           1,           1,           1,           1,           1,           1,           1,           1,           1,           1,           1,           1,           1,           1,           1,           1,\n",
      "                  1,           1,           1,           1,           1,           1,           1,           1,           1,           1,           1,           1,           1,           1,           1,           1,           1,           1,           1,           1,           1,           1,           1,\n",
      "                  1,           1,           1,           1,           1,           1,           1,           1,           1,           1,           1,           1,           1,           1,           1,           1,           1,           1,           1,           1,           1,           1,           1,\n",
      "                  1,           1,           1,           1,           1,           1,           1,           1,           1,           1,           1,           1,           1,           1,           1,           1,           1,           1,           1,           1,           1,           1,           1,\n",
      "                  1,           1,           1,           1,           1,           1,           1,           1,           1,           1,           1,           1,           1,           1,           1,           1,           1,           1,           1,           1,           1,           1,           1,\n",
      "                  1,           1,           1,           1,           1,           1,           1,           1,           1,           1,           1,           1,           1,           1,           1,           1,           1,           1,           1,           1,           1,           1,           1,\n",
      "                  1,           1,           1,           1,           1,           1,           1,           1,           1,           1,           1]]), 'Confidence', 'Precision'], [array([          0,    0.001001,    0.002002,    0.003003,    0.004004,    0.005005,    0.006006,    0.007007,    0.008008,    0.009009,     0.01001,    0.011011,    0.012012,    0.013013,    0.014014,    0.015015,    0.016016,    0.017017,    0.018018,    0.019019,     0.02002,    0.021021,    0.022022,    0.023023,\n",
      "          0.024024,    0.025025,    0.026026,    0.027027,    0.028028,    0.029029,     0.03003,    0.031031,    0.032032,    0.033033,    0.034034,    0.035035,    0.036036,    0.037037,    0.038038,    0.039039,     0.04004,    0.041041,    0.042042,    0.043043,    0.044044,    0.045045,    0.046046,    0.047047,\n",
      "          0.048048,    0.049049,     0.05005,    0.051051,    0.052052,    0.053053,    0.054054,    0.055055,    0.056056,    0.057057,    0.058058,    0.059059,     0.06006,    0.061061,    0.062062,    0.063063,    0.064064,    0.065065,    0.066066,    0.067067,    0.068068,    0.069069,     0.07007,    0.071071,\n",
      "          0.072072,    0.073073,    0.074074,    0.075075,    0.076076,    0.077077,    0.078078,    0.079079,     0.08008,    0.081081,    0.082082,    0.083083,    0.084084,    0.085085,    0.086086,    0.087087,    0.088088,    0.089089,     0.09009,    0.091091,    0.092092,    0.093093,    0.094094,    0.095095,\n",
      "          0.096096,    0.097097,    0.098098,    0.099099,      0.1001,      0.1011,      0.1021,      0.1031,      0.1041,     0.10511,     0.10611,     0.10711,     0.10811,     0.10911,     0.11011,     0.11111,     0.11211,     0.11311,     0.11411,     0.11512,     0.11612,     0.11712,     0.11812,     0.11912,\n",
      "           0.12012,     0.12112,     0.12212,     0.12312,     0.12412,     0.12513,     0.12613,     0.12713,     0.12813,     0.12913,     0.13013,     0.13113,     0.13213,     0.13313,     0.13413,     0.13514,     0.13614,     0.13714,     0.13814,     0.13914,     0.14014,     0.14114,     0.14214,     0.14314,\n",
      "           0.14414,     0.14515,     0.14615,     0.14715,     0.14815,     0.14915,     0.15015,     0.15115,     0.15215,     0.15315,     0.15415,     0.15516,     0.15616,     0.15716,     0.15816,     0.15916,     0.16016,     0.16116,     0.16216,     0.16316,     0.16416,     0.16517,     0.16617,     0.16717,\n",
      "           0.16817,     0.16917,     0.17017,     0.17117,     0.17217,     0.17317,     0.17417,     0.17518,     0.17618,     0.17718,     0.17818,     0.17918,     0.18018,     0.18118,     0.18218,     0.18318,     0.18418,     0.18519,     0.18619,     0.18719,     0.18819,     0.18919,     0.19019,     0.19119,\n",
      "           0.19219,     0.19319,     0.19419,      0.1952,      0.1962,      0.1972,      0.1982,      0.1992,      0.2002,      0.2012,      0.2022,      0.2032,      0.2042,     0.20521,     0.20621,     0.20721,     0.20821,     0.20921,     0.21021,     0.21121,     0.21221,     0.21321,     0.21421,     0.21522,\n",
      "           0.21622,     0.21722,     0.21822,     0.21922,     0.22022,     0.22122,     0.22222,     0.22322,     0.22422,     0.22523,     0.22623,     0.22723,     0.22823,     0.22923,     0.23023,     0.23123,     0.23223,     0.23323,     0.23423,     0.23524,     0.23624,     0.23724,     0.23824,     0.23924,\n",
      "           0.24024,     0.24124,     0.24224,     0.24324,     0.24424,     0.24525,     0.24625,     0.24725,     0.24825,     0.24925,     0.25025,     0.25125,     0.25225,     0.25325,     0.25425,     0.25526,     0.25626,     0.25726,     0.25826,     0.25926,     0.26026,     0.26126,     0.26226,     0.26326,\n",
      "           0.26426,     0.26527,     0.26627,     0.26727,     0.26827,     0.26927,     0.27027,     0.27127,     0.27227,     0.27327,     0.27427,     0.27528,     0.27628,     0.27728,     0.27828,     0.27928,     0.28028,     0.28128,     0.28228,     0.28328,     0.28428,     0.28529,     0.28629,     0.28729,\n",
      "           0.28829,     0.28929,     0.29029,     0.29129,     0.29229,     0.29329,     0.29429,      0.2953,      0.2963,      0.2973,      0.2983,      0.2993,      0.3003,      0.3013,      0.3023,      0.3033,      0.3043,     0.30531,     0.30631,     0.30731,     0.30831,     0.30931,     0.31031,     0.31131,\n",
      "           0.31231,     0.31331,     0.31431,     0.31532,     0.31632,     0.31732,     0.31832,     0.31932,     0.32032,     0.32132,     0.32232,     0.32332,     0.32432,     0.32533,     0.32633,     0.32733,     0.32833,     0.32933,     0.33033,     0.33133,     0.33233,     0.33333,     0.33433,     0.33534,\n",
      "           0.33634,     0.33734,     0.33834,     0.33934,     0.34034,     0.34134,     0.34234,     0.34334,     0.34434,     0.34535,     0.34635,     0.34735,     0.34835,     0.34935,     0.35035,     0.35135,     0.35235,     0.35335,     0.35435,     0.35536,     0.35636,     0.35736,     0.35836,     0.35936,\n",
      "           0.36036,     0.36136,     0.36236,     0.36336,     0.36436,     0.36537,     0.36637,     0.36737,     0.36837,     0.36937,     0.37037,     0.37137,     0.37237,     0.37337,     0.37437,     0.37538,     0.37638,     0.37738,     0.37838,     0.37938,     0.38038,     0.38138,     0.38238,     0.38338,\n",
      "           0.38438,     0.38539,     0.38639,     0.38739,     0.38839,     0.38939,     0.39039,     0.39139,     0.39239,     0.39339,     0.39439,      0.3954,      0.3964,      0.3974,      0.3984,      0.3994,      0.4004,      0.4014,      0.4024,      0.4034,      0.4044,     0.40541,     0.40641,     0.40741,\n",
      "           0.40841,     0.40941,     0.41041,     0.41141,     0.41241,     0.41341,     0.41441,     0.41542,     0.41642,     0.41742,     0.41842,     0.41942,     0.42042,     0.42142,     0.42242,     0.42342,     0.42442,     0.42543,     0.42643,     0.42743,     0.42843,     0.42943,     0.43043,     0.43143,\n",
      "           0.43243,     0.43343,     0.43443,     0.43544,     0.43644,     0.43744,     0.43844,     0.43944,     0.44044,     0.44144,     0.44244,     0.44344,     0.44444,     0.44545,     0.44645,     0.44745,     0.44845,     0.44945,     0.45045,     0.45145,     0.45245,     0.45345,     0.45445,     0.45546,\n",
      "           0.45646,     0.45746,     0.45846,     0.45946,     0.46046,     0.46146,     0.46246,     0.46346,     0.46446,     0.46547,     0.46647,     0.46747,     0.46847,     0.46947,     0.47047,     0.47147,     0.47247,     0.47347,     0.47447,     0.47548,     0.47648,     0.47748,     0.47848,     0.47948,\n",
      "           0.48048,     0.48148,     0.48248,     0.48348,     0.48448,     0.48549,     0.48649,     0.48749,     0.48849,     0.48949,     0.49049,     0.49149,     0.49249,     0.49349,     0.49449,      0.4955,      0.4965,      0.4975,      0.4985,      0.4995,      0.5005,      0.5015,      0.5025,      0.5035,\n",
      "            0.5045,     0.50551,     0.50651,     0.50751,     0.50851,     0.50951,     0.51051,     0.51151,     0.51251,     0.51351,     0.51451,     0.51552,     0.51652,     0.51752,     0.51852,     0.51952,     0.52052,     0.52152,     0.52252,     0.52352,     0.52452,     0.52553,     0.52653,     0.52753,\n",
      "           0.52853,     0.52953,     0.53053,     0.53153,     0.53253,     0.53353,     0.53453,     0.53554,     0.53654,     0.53754,     0.53854,     0.53954,     0.54054,     0.54154,     0.54254,     0.54354,     0.54454,     0.54555,     0.54655,     0.54755,     0.54855,     0.54955,     0.55055,     0.55155,\n",
      "           0.55255,     0.55355,     0.55455,     0.55556,     0.55656,     0.55756,     0.55856,     0.55956,     0.56056,     0.56156,     0.56256,     0.56356,     0.56456,     0.56557,     0.56657,     0.56757,     0.56857,     0.56957,     0.57057,     0.57157,     0.57257,     0.57357,     0.57457,     0.57558,\n",
      "           0.57658,     0.57758,     0.57858,     0.57958,     0.58058,     0.58158,     0.58258,     0.58358,     0.58458,     0.58559,     0.58659,     0.58759,     0.58859,     0.58959,     0.59059,     0.59159,     0.59259,     0.59359,     0.59459,      0.5956,      0.5966,      0.5976,      0.5986,      0.5996,\n",
      "            0.6006,      0.6016,      0.6026,      0.6036,      0.6046,     0.60561,     0.60661,     0.60761,     0.60861,     0.60961,     0.61061,     0.61161,     0.61261,     0.61361,     0.61461,     0.61562,     0.61662,     0.61762,     0.61862,     0.61962,     0.62062,     0.62162,     0.62262,     0.62362,\n",
      "           0.62462,     0.62563,     0.62663,     0.62763,     0.62863,     0.62963,     0.63063,     0.63163,     0.63263,     0.63363,     0.63463,     0.63564,     0.63664,     0.63764,     0.63864,     0.63964,     0.64064,     0.64164,     0.64264,     0.64364,     0.64464,     0.64565,     0.64665,     0.64765,\n",
      "           0.64865,     0.64965,     0.65065,     0.65165,     0.65265,     0.65365,     0.65465,     0.65566,     0.65666,     0.65766,     0.65866,     0.65966,     0.66066,     0.66166,     0.66266,     0.66366,     0.66466,     0.66567,     0.66667,     0.66767,     0.66867,     0.66967,     0.67067,     0.67167,\n",
      "           0.67267,     0.67367,     0.67467,     0.67568,     0.67668,     0.67768,     0.67868,     0.67968,     0.68068,     0.68168,     0.68268,     0.68368,     0.68468,     0.68569,     0.68669,     0.68769,     0.68869,     0.68969,     0.69069,     0.69169,     0.69269,     0.69369,     0.69469,      0.6957,\n",
      "            0.6967,      0.6977,      0.6987,      0.6997,      0.7007,      0.7017,      0.7027,      0.7037,      0.7047,     0.70571,     0.70671,     0.70771,     0.70871,     0.70971,     0.71071,     0.71171,     0.71271,     0.71371,     0.71471,     0.71572,     0.71672,     0.71772,     0.71872,     0.71972,\n",
      "           0.72072,     0.72172,     0.72272,     0.72372,     0.72472,     0.72573,     0.72673,     0.72773,     0.72873,     0.72973,     0.73073,     0.73173,     0.73273,     0.73373,     0.73473,     0.73574,     0.73674,     0.73774,     0.73874,     0.73974,     0.74074,     0.74174,     0.74274,     0.74374,\n",
      "           0.74474,     0.74575,     0.74675,     0.74775,     0.74875,     0.74975,     0.75075,     0.75175,     0.75275,     0.75375,     0.75475,     0.75576,     0.75676,     0.75776,     0.75876,     0.75976,     0.76076,     0.76176,     0.76276,     0.76376,     0.76476,     0.76577,     0.76677,     0.76777,\n",
      "           0.76877,     0.76977,     0.77077,     0.77177,     0.77277,     0.77377,     0.77477,     0.77578,     0.77678,     0.77778,     0.77878,     0.77978,     0.78078,     0.78178,     0.78278,     0.78378,     0.78478,     0.78579,     0.78679,     0.78779,     0.78879,     0.78979,     0.79079,     0.79179,\n",
      "           0.79279,     0.79379,     0.79479,      0.7958,      0.7968,      0.7978,      0.7988,      0.7998,      0.8008,      0.8018,      0.8028,      0.8038,      0.8048,     0.80581,     0.80681,     0.80781,     0.80881,     0.80981,     0.81081,     0.81181,     0.81281,     0.81381,     0.81481,     0.81582,\n",
      "           0.81682,     0.81782,     0.81882,     0.81982,     0.82082,     0.82182,     0.82282,     0.82382,     0.82482,     0.82583,     0.82683,     0.82783,     0.82883,     0.82983,     0.83083,     0.83183,     0.83283,     0.83383,     0.83483,     0.83584,     0.83684,     0.83784,     0.83884,     0.83984,\n",
      "           0.84084,     0.84184,     0.84284,     0.84384,     0.84484,     0.84585,     0.84685,     0.84785,     0.84885,     0.84985,     0.85085,     0.85185,     0.85285,     0.85385,     0.85485,     0.85586,     0.85686,     0.85786,     0.85886,     0.85986,     0.86086,     0.86186,     0.86286,     0.86386,\n",
      "           0.86486,     0.86587,     0.86687,     0.86787,     0.86887,     0.86987,     0.87087,     0.87187,     0.87287,     0.87387,     0.87487,     0.87588,     0.87688,     0.87788,     0.87888,     0.87988,     0.88088,     0.88188,     0.88288,     0.88388,     0.88488,     0.88589,     0.88689,     0.88789,\n",
      "           0.88889,     0.88989,     0.89089,     0.89189,     0.89289,     0.89389,     0.89489,      0.8959,      0.8969,      0.8979,      0.8989,      0.8999,      0.9009,      0.9019,      0.9029,      0.9039,      0.9049,     0.90591,     0.90691,     0.90791,     0.90891,     0.90991,     0.91091,     0.91191,\n",
      "           0.91291,     0.91391,     0.91491,     0.91592,     0.91692,     0.91792,     0.91892,     0.91992,     0.92092,     0.92192,     0.92292,     0.92392,     0.92492,     0.92593,     0.92693,     0.92793,     0.92893,     0.92993,     0.93093,     0.93193,     0.93293,     0.93393,     0.93493,     0.93594,\n",
      "           0.93694,     0.93794,     0.93894,     0.93994,     0.94094,     0.94194,     0.94294,     0.94394,     0.94494,     0.94595,     0.94695,     0.94795,     0.94895,     0.94995,     0.95095,     0.95195,     0.95295,     0.95395,     0.95495,     0.95596,     0.95696,     0.95796,     0.95896,     0.95996,\n",
      "           0.96096,     0.96196,     0.96296,     0.96396,     0.96496,     0.96597,     0.96697,     0.96797,     0.96897,     0.96997,     0.97097,     0.97197,     0.97297,     0.97397,     0.97497,     0.97598,     0.97698,     0.97798,     0.97898,     0.97998,     0.98098,     0.98198,     0.98298,     0.98398,\n",
      "           0.98498,     0.98599,     0.98699,     0.98799,     0.98899,     0.98999,     0.99099,     0.99199,     0.99299,     0.99399,     0.99499,       0.996,       0.997,       0.998,       0.999,           1]), array([[    0.87838,     0.87838,     0.85135,     0.85135,     0.85135,     0.83784,     0.83784,     0.83784,     0.83784,     0.83784,     0.83784,     0.83784,     0.82432,     0.82432,     0.82432,     0.82432,     0.82432,     0.82432,     0.81081,     0.81081,     0.81081,     0.80566,      0.7973,\n",
      "            0.79108,     0.78378,     0.78378,     0.78378,     0.78378,     0.78378,     0.78378,     0.78378,     0.78378,     0.78378,     0.77027,     0.77027,     0.77027,     0.77027,     0.75676,     0.75676,     0.75676,     0.75676,     0.75676,     0.75676,     0.75613,     0.74324,     0.74324,\n",
      "            0.74324,     0.74324,     0.74324,     0.74324,     0.74324,     0.74324,     0.74324,     0.74324,     0.74324,     0.74324,     0.72973,     0.72973,     0.72973,     0.72973,     0.72973,     0.72973,     0.72973,     0.72973,     0.72973,     0.72973,     0.72973,     0.72973,     0.72973,\n",
      "            0.72973,     0.72973,     0.72973,     0.72973,     0.72973,     0.72973,     0.72973,     0.71622,      0.7027,      0.7027,      0.7027,      0.7027,      0.7027,      0.7027,      0.7027,      0.7027,      0.7027,     0.68919,     0.68919,     0.68919,     0.68919,     0.68919,     0.68919,\n",
      "            0.68919,     0.67568,     0.67568,     0.67568,     0.67529,     0.66328,     0.66216,     0.66216,     0.66216,     0.65476,     0.63618,     0.62755,     0.62162,     0.62162,     0.62162,     0.62162,     0.62162,     0.62162,     0.62162,     0.62162,     0.62162,     0.62162,     0.62162,\n",
      "            0.62162,     0.62162,     0.62162,     0.62162,     0.62162,     0.62162,     0.62162,     0.62162,     0.62162,     0.62162,     0.61749,     0.61077,     0.60811,     0.60811,     0.60811,     0.60811,     0.60811,     0.60811,     0.60811,     0.60811,     0.60811,     0.60811,     0.60426,\n",
      "            0.58108,     0.58108,     0.58108,     0.57342,     0.56757,     0.56757,     0.55405,     0.55405,     0.55405,     0.55405,     0.55405,     0.55405,     0.55405,     0.55405,     0.55405,     0.55405,     0.55405,     0.55405,     0.55405,     0.55405,     0.55405,     0.55405,     0.55405,\n",
      "            0.55405,     0.55405,     0.55405,     0.55405,     0.55405,     0.55405,     0.55405,     0.55405,     0.55405,     0.55405,     0.55405,     0.55405,     0.55405,     0.55405,     0.55405,     0.55405,     0.55405,     0.55405,     0.55405,     0.55405,     0.55405,     0.55405,     0.55405,\n",
      "            0.55405,     0.55405,     0.55405,     0.55405,     0.55405,     0.55405,     0.55405,     0.55405,     0.55405,     0.55405,     0.55405,     0.55405,     0.55405,     0.55405,     0.55405,     0.55405,     0.55405,     0.55405,     0.55405,     0.55405,     0.55405,     0.55405,     0.55405,\n",
      "            0.55405,     0.55405,     0.55405,     0.55405,     0.55405,     0.55405,     0.55405,     0.55405,     0.55405,     0.55405,      0.5468,     0.54054,     0.54054,     0.54054,     0.54054,     0.54054,     0.54054,     0.54054,     0.54054,     0.54054,     0.54054,     0.54054,     0.54054,\n",
      "            0.54054,     0.54054,     0.54054,     0.54054,     0.54054,     0.54054,     0.54054,     0.54054,     0.54054,     0.54054,     0.54054,     0.54054,     0.54054,     0.54054,     0.54054,     0.54054,     0.54054,     0.54054,     0.54054,     0.54054,     0.54054,     0.54054,     0.54054,\n",
      "            0.54054,     0.54054,     0.54054,     0.54054,     0.53909,     0.53343,     0.52777,     0.52703,     0.52703,     0.52703,     0.52703,     0.52703,     0.52703,     0.52703,     0.52703,     0.52703,     0.52703,     0.52703,     0.52703,     0.52703,     0.52703,     0.52703,     0.52703,\n",
      "            0.52703,     0.52703,     0.52703,     0.52703,     0.52703,     0.52703,     0.52703,     0.52703,     0.52703,     0.52703,     0.52703,     0.52703,     0.52703,     0.52703,     0.52703,     0.52703,     0.52703,     0.52703,     0.52703,     0.52703,     0.52703,     0.52703,     0.52251,\n",
      "            0.51531,     0.51351,     0.51351,     0.51351,     0.51351,     0.51351,     0.51351,     0.51351,     0.51351,     0.51351,     0.51351,     0.51351,     0.51351,     0.51351,     0.51351,     0.51351,     0.51351,     0.51351,     0.51351,     0.51351,     0.51351,     0.51351,     0.51351,\n",
      "            0.51351,     0.51351,     0.51351,     0.51351,     0.51351,     0.51351,     0.51351,     0.51351,     0.51351,     0.51351,     0.51351,     0.51351,     0.51351,     0.51351,     0.51351,     0.51351,     0.51351,     0.51351,     0.51351,     0.51351,     0.51351,     0.51351,     0.51351,\n",
      "            0.51351,     0.51351,     0.51351,     0.51351,     0.51351,     0.51351,     0.51351,     0.51351,     0.51351,     0.51351,     0.51351,     0.51351,     0.51351,     0.51351,     0.51351,     0.51351,     0.51351,     0.51351,     0.51351,     0.51351,     0.51351,     0.51351,     0.51351,\n",
      "            0.51351,     0.51156,     0.50922,     0.50687,     0.50453,     0.50219,         0.5,         0.5,         0.5,         0.5,         0.5,         0.5,         0.5,         0.5,         0.5,         0.5,         0.5,         0.5,         0.5,         0.5,         0.5,         0.5,         0.5,\n",
      "                0.5,         0.5,         0.5,         0.5,         0.5,         0.5,         0.5,         0.5,         0.5,         0.5,         0.5,         0.5,         0.5,         0.5,         0.5,         0.5,         0.5,         0.5,         0.5,         0.5,         0.5,         0.5,         0.5,\n",
      "                0.5,         0.5,         0.5,         0.5,         0.5,         0.5,         0.5,         0.5,         0.5,         0.5,         0.5,         0.5,         0.5,         0.5,         0.5,         0.5,         0.5,     0.49912,     0.49448,     0.48983,     0.48649,     0.48649,     0.48649,\n",
      "            0.48649,     0.48649,     0.48649,     0.48649,     0.48649,     0.48649,     0.48649,     0.48649,     0.48649,     0.48649,     0.48649,     0.48649,     0.48649,     0.48649,     0.48649,     0.48649,     0.48623,     0.48549,     0.48475,     0.48401,     0.48326,     0.48252,     0.48178,\n",
      "            0.48104,      0.4803,     0.47956,     0.47881,     0.47807,     0.47733,     0.47659,     0.47585,      0.4751,     0.47436,     0.47362,     0.47297,     0.47297,     0.47297,     0.47274,     0.47236,     0.47197,     0.47159,     0.47121,     0.47082,     0.47044,     0.47006,     0.46967,\n",
      "            0.46929,     0.46891,     0.46853,     0.46814,     0.46776,     0.46738,     0.46699,     0.46661,     0.46623,     0.46584,     0.46546,     0.46508,     0.46469,     0.46431,     0.46393,     0.46354,     0.46316,     0.46278,      0.4624,     0.46201,     0.46163,     0.46125,     0.46086,\n",
      "            0.46048,      0.4601,     0.45971,     0.45921,     0.45846,     0.45771,     0.45697,     0.45622,     0.45547,     0.45473,     0.45398,     0.45323,     0.45249,     0.45174,     0.45099,     0.45025,      0.4495,     0.44875,     0.44801,     0.44726,     0.44651,     0.44567,     0.44454,\n",
      "             0.4434,     0.44226,     0.44112,     0.43999,     0.43885,     0.43771,     0.43658,     0.43544,      0.4343,     0.43316,     0.43243,     0.43243,     0.43243,     0.43243,     0.43243,     0.43243,     0.43017,     0.41851,     0.41795,     0.41739,     0.41683,     0.41627,     0.41571,\n",
      "            0.41516,      0.4146,     0.41404,     0.41348,     0.41292,     0.41236,      0.4118,     0.41124,     0.41068,     0.41012,     0.40956,       0.409,     0.40844,     0.40788,     0.40732,     0.40676,      0.4062,     0.40564,     0.40465,     0.40334,     0.40204,     0.40073,     0.39942,\n",
      "            0.39812,     0.39681,     0.39551,      0.3942,     0.39289,     0.39055,     0.38478,     0.37902,     0.37838,     0.37838,     0.37838,     0.37838,     0.37838,     0.37838,     0.37838,     0.37838,     0.37838,     0.37838,     0.37838,     0.37838,     0.37838,     0.37838,     0.37838,\n",
      "            0.37838,     0.37838,     0.37838,     0.37838,     0.37838,     0.37838,     0.37838,     0.37838,     0.37838,     0.37838,     0.37838,     0.37838,     0.37838,     0.37838,     0.37838,     0.37838,     0.37838,     0.37838,     0.37838,     0.37767,     0.37618,     0.37469,     0.37321,\n",
      "            0.37172,     0.37023,     0.36874,     0.36725,     0.36576,     0.36486,     0.36486,     0.36486,     0.36486,     0.36486,     0.36486,     0.36481,      0.3635,     0.36219,     0.36088,     0.35958,     0.35827,     0.35696,     0.35565,     0.35434,     0.35304,     0.35173,       0.351,\n",
      "            0.35051,     0.35002,     0.34952,     0.34903,     0.34854,     0.34804,     0.34755,     0.34706,     0.34657,     0.34607,     0.34558,     0.34509,      0.3446,      0.3441,     0.34361,     0.34312,     0.34262,     0.34213,     0.34164,     0.34115,     0.34065,     0.34016,     0.33967,\n",
      "            0.33918,     0.33868,     0.33819,     0.33766,     0.33705,     0.33643,     0.33582,      0.3352,     0.33459,     0.33397,     0.33336,     0.33274,     0.33213,     0.33151,      0.3309,     0.33028,     0.32967,     0.32905,     0.32844,     0.32783,     0.32721,      0.3266,     0.32598,\n",
      "            0.32537,     0.32475,     0.32361,     0.32127,     0.31893,      0.3166,     0.31426,     0.31192,     0.31081,     0.31004,     0.30901,     0.30799,     0.30696,     0.30593,     0.30491,     0.30388,     0.30286,     0.30183,     0.30081,     0.29978,     0.29876,     0.29773,      0.2973,\n",
      "            0.29684,     0.29605,     0.29527,     0.29449,      0.2937,     0.29292,     0.29214,     0.29135,     0.29057,     0.28979,       0.289,     0.28822,     0.28744,     0.28665,     0.28587,     0.28509,      0.2843,     0.27441,     0.26539,     0.25964,     0.24257,     0.23974,     0.23691,\n",
      "            0.23407,     0.23124,     0.22973,     0.22973,     0.22973,     0.22973,     0.22973,     0.22973,     0.22973,     0.22973,     0.22973,     0.22973,     0.22973,     0.22973,     0.22973,     0.22973,     0.22973,     0.22973,     0.22815,     0.22608,     0.22401,     0.22195,     0.21988,\n",
      "            0.21781,     0.21261,      0.2027,      0.2027,      0.2027,      0.2027,      0.2027,      0.2027,      0.2027,      0.2027,      0.2027,      0.2027,      0.2027,      0.2027,      0.2027,      0.2027,      0.2027,      0.2027,      0.2027,      0.2027,      0.2027,      0.2027,      0.2027,\n",
      "             0.2027,      0.2027,      0.2027,      0.2027,      0.2027,     0.18911,     0.18691,     0.18471,     0.18252,     0.18032,     0.17812,     0.17592,     0.17302,     0.16939,     0.16576,     0.16215,     0.16125,     0.16034,     0.15944,     0.15853,     0.15763,     0.15672,     0.15581,\n",
      "            0.15491,       0.154,      0.1531,     0.15219,     0.15128,     0.15038,     0.14947,     0.14865,     0.14865,     0.14865,     0.14865,     0.14865,     0.14865,     0.14865,     0.14865,     0.14865,     0.14865,     0.14865,     0.14865,     0.14865,     0.14865,     0.14865,     0.14865,\n",
      "            0.14865,     0.14865,     0.14865,     0.14865,     0.14865,     0.14865,     0.14807,     0.14125,     0.13303,     0.12116,     0.12014,     0.11911,     0.11808,     0.11706,     0.11603,     0.11501,     0.11398,     0.11296,     0.11193,      0.1109,     0.10988,     0.10885,     0.10646,\n",
      "            0.10047,    0.094581,    0.093921,     0.09326,      0.0926,     0.09194,     0.09128,     0.09062,    0.089959,    0.089299,    0.088639,    0.087979,    0.087318,    0.086658,    0.085998,    0.085338,    0.084677,    0.084017,    0.083357,    0.082697,    0.082037,    0.081376,    0.079617,\n",
      "            0.07697,    0.074322,    0.071674,    0.069027,    0.064125,    0.056457,    0.053326,    0.052265,    0.051205,    0.050144,    0.049084,    0.048023,    0.046963,    0.045903,    0.044842,    0.043782,    0.042721,    0.041661,      0.0406,    0.040105,    0.039644,    0.039182,    0.038721,\n",
      "            0.03826,    0.037798,    0.037337,    0.036876,    0.036414,    0.035953,    0.035492,     0.03503,    0.034569,    0.034108,    0.033646,    0.033185,    0.032724,    0.032262,    0.031801,    0.031339,    0.030878,    0.030417,    0.029955,    0.029494,    0.029033,    0.028571,     0.02811,\n",
      "           0.027649,    0.027187,    0.026595,    0.025932,    0.025269,    0.024607,    0.023944,    0.023281,    0.022618,    0.021956,    0.021293,     0.02063,    0.019968,    0.019305,    0.018642,     0.01798,    0.017317,    0.016654,    0.015992,    0.015329,    0.014666,    0.014003,           0,\n",
      "                  0,           0,           0,           0,           0,           0,           0,           0,           0,           0,           0,           0,           0,           0,           0,           0,           0,           0,           0,           0,           0,           0,           0,\n",
      "                  0,           0,           0,           0,           0,           0,           0,           0,           0,           0,           0,           0,           0,           0,           0,           0,           0,           0,           0,           0,           0,           0,           0,\n",
      "                  0,           0,           0,           0,           0,           0,           0,           0,           0,           0,           0]]), 'Confidence', 'Recall']]\n",
      "fitness: 0.6683335405137696\n",
      "keys: ['metrics/precision(B)', 'metrics/recall(B)', 'metrics/mAP50(B)', 'metrics/mAP50-95(B)', 'metrics/precision(M)', 'metrics/recall(M)', 'metrics/mAP50(M)', 'metrics/mAP50-95(M)']\n",
      "maps: array([    0.60819])\n",
      "names: {0: 'defect'}\n",
      "nt_per_class: array([74], dtype=int64)\n",
      "nt_per_image: array([52], dtype=int64)\n",
      "results_dict: {'metrics/precision(B)': 0.7852887445147618, 'metrics/recall(B)': 0.5931186183620117, 'metrics/mAP50(B)': 0.6725271170467892, 'metrics/mAP50-95(B)': 0.36749114941386435, 'metrics/precision(M)': 0.6695910743749404, 'metrics/recall(M)': 0.5, 'metrics/mAP50(M)': 0.5370572345631293, 'metrics/mAP50-95(M)': 0.24070341208922202, 'fitness': 0.6683335405137696}\n",
      "seg: ultralytics.utils.metrics.Metric object\n",
      "speed: {'preprocess': 1.1715673077000806, 'inference': 358.1002019222629, 'loss': 0.0001269234836889574, 'postprocess': 1.5895076934472085}\n",
      "stats: {'tp': [], 'conf': [], 'pred_cls': [], 'target_cls': [], 'target_img': [], 'tp_m': []}\n",
      "task: 'segment'\n"
     ]
    }
   ],
   "source": [
    "# Avaliar com o conjunto de validação\n",
    "metrics = model.val()\n",
    "print(metrics)\n"
   ]
  },
  {
   "cell_type": "code",
   "execution_count": null,
   "id": "be624194",
   "metadata": {},
   "outputs": [
    {
     "ename": "NameError",
     "evalue": "name 'model' is not defined",
     "output_type": "error",
     "traceback": [
      "\u001b[1;31m---------------------------------------------------------------------------\u001b[0m",
      "\u001b[1;31mNameError\u001b[0m                                 Traceback (most recent call last)",
      "Cell \u001b[1;32mIn[1], line 2\u001b[0m\n\u001b[0;32m      1\u001b[0m \u001b[38;5;66;03m# Avaliação após o treinamento\u001b[39;00m\n\u001b[1;32m----> 2\u001b[0m metrics \u001b[38;5;241m=\u001b[39m \u001b[43mmodel\u001b[49m\u001b[38;5;241m.\u001b[39mval()\n\u001b[0;32m      3\u001b[0m \u001b[38;5;28mprint\u001b[39m(\u001b[38;5;124mf\u001b[39m\u001b[38;5;124m\"\u001b[39m\u001b[38;5;124m📊 mIoU: \u001b[39m\u001b[38;5;132;01m{\u001b[39;00mmetrics\u001b[38;5;241m.\u001b[39mmetrics\u001b[38;5;241m.\u001b[39msegmentation\u001b[38;5;241m.\u001b[39mmiou\u001b[38;5;132;01m:\u001b[39;00m\u001b[38;5;124m.4f\u001b[39m\u001b[38;5;132;01m}\u001b[39;00m\u001b[38;5;124m\"\u001b[39m)\n\u001b[0;32m      4\u001b[0m \u001b[38;5;28mprint\u001b[39m(\u001b[38;5;124mf\u001b[39m\u001b[38;5;124m\"\u001b[39m\u001b[38;5;124m📊 mAP50: \u001b[39m\u001b[38;5;132;01m{\u001b[39;00mmetrics\u001b[38;5;241m.\u001b[39mmetrics\u001b[38;5;241m.\u001b[39msegmentation\u001b[38;5;241m.\u001b[39mmap50\u001b[38;5;132;01m:\u001b[39;00m\u001b[38;5;124m.4f\u001b[39m\u001b[38;5;132;01m}\u001b[39;00m\u001b[38;5;124m\"\u001b[39m)\n",
      "\u001b[1;31mNameError\u001b[0m: name 'model' is not defined"
     ]
    }
   ],
   "source": [
    "# Avaliação após o treinamento\n",
    "metrics = model.val()\n",
    "print(f\" mIoU: {metrics.metrics.segmentation.miou:.4f}\")\n",
    "print(f\" mAP50: {metrics.metrics.segmentation.map50:.4f}\")\n",
    "print(f\" Precision: {metrics.metrics.segmentation.precision:.4f}\")\n",
    "print(f\" Recall: {metrics.metrics.segmentation.recall:.4f}\")\n"
   ]
  }
 ],
 "metadata": {
  "kernelspec": {
   "display_name": "Python 3",
   "language": "python",
   "name": "python3"
  },
  "language_info": {
   "codemirror_mode": {
    "name": "ipython",
    "version": 3
   },
   "file_extension": ".py",
   "mimetype": "text/x-python",
   "name": "python",
   "nbconvert_exporter": "python",
   "pygments_lexer": "ipython3",
   "version": "3.12.0"
  }
 },
 "nbformat": 4,
 "nbformat_minor": 5
}
